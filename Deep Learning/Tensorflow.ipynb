{
 "cells": [
  {
   "cell_type": "markdown",
   "id": "643baa4d-6ada-4c59-9786-5c60e381b729",
   "metadata": {},
   "source": [
    "# Tensorflow Basics"
   ]
  },
  {
   "cell_type": "code",
   "execution_count": 1,
   "id": "15a8d5ea-d44f-4cc7-8de1-8798e56253d9",
   "metadata": {},
   "outputs": [],
   "source": [
    "import tensorflow as tf"
   ]
  },
  {
   "cell_type": "code",
   "execution_count": 2,
   "id": "a53b0e3e-6555-4410-be75-624b7b12d427",
   "metadata": {},
   "outputs": [
    {
     "name": "stdout",
     "output_type": "stream",
     "text": [
      "Tensorflow Version: 2.16.1\n"
     ]
    }
   ],
   "source": [
    "print(f\"Tensorflow Version: {tf.__version__}\")"
   ]
  },
  {
   "cell_type": "code",
   "execution_count": 3,
   "id": "7b4b4e41-d4c5-4828-9556-bcf3601983ec",
   "metadata": {},
   "outputs": [
    {
     "name": "stdout",
     "output_type": "stream",
     "text": [
      "Keras Version: 3.3.3\n"
     ]
    }
   ],
   "source": [
    "print(f\"Keras Version: {tf.keras.__version__}\")"
   ]
  },
  {
   "cell_type": "code",
   "execution_count": 4,
   "id": "11092793-16db-4fca-9dd7-baf657f4bf0b",
   "metadata": {},
   "outputs": [
    {
     "data": {
      "text/plain": [
       "<tf.Tensor: shape=(), dtype=int32, numpy=30>"
      ]
     },
     "execution_count": 4,
     "metadata": {},
     "output_type": "execute_result"
    }
   ],
   "source": [
    "# Constant\n",
    "gaurav=tf.constant(30)\n",
    "gaurav"
   ]
  },
  {
   "cell_type": "code",
   "execution_count": 5,
   "id": "9da38791-f820-415f-8853-6a85e3a1c6a2",
   "metadata": {},
   "outputs": [
    {
     "data": {
      "text/plain": [
       "30"
      ]
     },
     "execution_count": 5,
     "metadata": {},
     "output_type": "execute_result"
    }
   ],
   "source": [
    "gaurav.numpy()"
   ]
  },
  {
   "cell_type": "code",
   "execution_count": 6,
   "id": "986e5202-51b4-4039-a3af-2bef81e6f9d6",
   "metadata": {},
   "outputs": [
    {
     "data": {
      "text/plain": [
       "<tf.Tensor: shape=(), dtype=int64, numpy=20>"
      ]
     },
     "execution_count": 6,
     "metadata": {},
     "output_type": "execute_result"
    }
   ],
   "source": [
    "integer=tf.constant(20,dtype=tf.int64)\n",
    "integer"
   ]
  },
  {
   "cell_type": "code",
   "execution_count": 7,
   "id": "3f8e0a4d-75bc-4bd4-b671-756644247205",
   "metadata": {},
   "outputs": [
    {
     "name": "stdout",
     "output_type": "stream",
     "text": [
      "tf.Tensor(\n",
      "[[4 2]\n",
      " [8 6]], shape=(2, 2), dtype=int32)\n"
     ]
    }
   ],
   "source": [
    "array=tf.constant([[4,2],[8,6]])\n",
    "print(array)"
   ]
  },
  {
   "cell_type": "code",
   "execution_count": 8,
   "id": "ff9242eb-7418-492d-9035-fad7806639ca",
   "metadata": {},
   "outputs": [
    {
     "data": {
      "text/plain": [
       "array([[4, 2],\n",
       "       [8, 6]])"
      ]
     },
     "execution_count": 8,
     "metadata": {},
     "output_type": "execute_result"
    }
   ],
   "source": [
    "array.numpy()"
   ]
  },
  {
   "cell_type": "markdown",
   "id": "e126b195-b07f-48f8-8934-b600310c62a2",
   "metadata": {},
   "source": [
    "- Commonly used method is to generate constant tf.ones and tf.zeros like of numpy np.ones and np.zeros."
   ]
  },
  {
   "cell_type": "code",
   "execution_count": 9,
   "id": "cea11458-b76b-485d-8ea0-a4a236369001",
   "metadata": {},
   "outputs": [
    {
     "name": "stdout",
     "output_type": "stream",
     "text": [
      "tf.Tensor(\n",
      "[[1. 1. 1.]\n",
      " [1. 1. 1.]], shape=(2, 3), dtype=float32)\n"
     ]
    }
   ],
   "source": [
    "print(tf.ones(shape=(2,3)))"
   ]
  },
  {
   "cell_type": "code",
   "execution_count": 10,
   "id": "4bc376c2-50bd-4530-8a8d-96b0b143ab0b",
   "metadata": {},
   "outputs": [
    {
     "name": "stdout",
     "output_type": "stream",
     "text": [
      "tf.Tensor(\n",
      "[[0. 0. 0.]\n",
      " [0. 0. 0.]], shape=(2, 3), dtype=float32)\n"
     ]
    }
   ],
   "source": [
    "print(tf.zeros(shape=(2,3)))"
   ]
  },
  {
   "cell_type": "code",
   "execution_count": 11,
   "id": "113acafd-4055-441e-b954-71196567f7da",
   "metadata": {},
   "outputs": [
    {
     "name": "stdout",
     "output_type": "stream",
     "text": [
      "tf.Tensor(\n",
      "[[4 6 8]\n",
      " [4 6 8]], shape=(2, 3), dtype=int32)\n"
     ]
    }
   ],
   "source": [
    "const1=tf.constant([[3,4,5],[3,4,5]])\n",
    "const2=tf.constant([[1,2,3],[1,2,3]])\n",
    "result=tf.add(const1,const2)\n",
    "print(result)"
   ]
  },
  {
   "cell_type": "markdown",
   "id": "f2e056c4-82d9-4dc2-be3f-0fd7754610b6",
   "metadata": {},
   "source": [
    "- Random Constant"
   ]
  },
  {
   "cell_type": "code",
   "execution_count": 12,
   "id": "61212528-9ca4-4d1c-b004-680eeb3e7397",
   "metadata": {},
   "outputs": [
    {
     "data": {
      "text/plain": [
       "<tf.Tensor: shape=(2, 2), dtype=float32, numpy=\n",
       "array([[-0.9305707 , -0.03446743],\n",
       "       [-0.20877956, -1.9359003 ]], dtype=float32)>"
      ]
     },
     "execution_count": 12,
     "metadata": {},
     "output_type": "execute_result"
    }
   ],
   "source": [
    "tf.random.normal(shape=(2,2),mean=0,stddev=1)"
   ]
  },
  {
   "cell_type": "code",
   "execution_count": 13,
   "id": "e410892b-bcfc-48f2-9bba-49ebb50ee91c",
   "metadata": {},
   "outputs": [
    {
     "data": {
      "text/plain": [
       "<tf.Tensor: shape=(2, 2), dtype=int64, numpy=\n",
       "array([[7, 4],\n",
       "       [2, 8]], dtype=int64)>"
      ]
     },
     "execution_count": 13,
     "metadata": {},
     "output_type": "execute_result"
    }
   ],
   "source": [
    "tf.random.uniform(shape=(2,2),minval=0,maxval=10,dtype=tf.int64)"
   ]
  },
  {
   "cell_type": "markdown",
   "id": "88a17057-001a-44c6-b862-f9554f2dd2a0",
   "metadata": {},
   "source": [
    "- Variables: A variable is a special tensor that is used to store variable values and needs to be initialized with some values"
   ]
  },
  {
   "cell_type": "code",
   "execution_count": 14,
   "id": "5caac857-a45a-4ffe-aa75-af3bb42da58b",
   "metadata": {},
   "outputs": [],
   "source": [
    "var1=tf.Variable(42)   # Rank 0 Tensor\n",
    "var2=tf.Variable([[[0,1,2],[3,4,5]],[[6,7,8],[9,10,11]]]) # Rank 3 Tensor"
   ]
  },
  {
   "cell_type": "code",
   "execution_count": 15,
   "id": "18c59982-5a7c-448d-89ff-42a285f44b95",
   "metadata": {},
   "outputs": [
    {
     "data": {
      "text/plain": [
       "<tf.Variable 'Variable:0' shape=() dtype=int32, numpy=42>"
      ]
     },
     "execution_count": 15,
     "metadata": {},
     "output_type": "execute_result"
    }
   ],
   "source": [
    "var1"
   ]
  },
  {
   "cell_type": "code",
   "execution_count": 16,
   "id": "1c94dd85-ce7a-48ee-a1ff-c4a7288da8a3",
   "metadata": {},
   "outputs": [
    {
     "data": {
      "text/plain": [
       "<tf.Variable 'Variable:0' shape=(2, 2, 3) dtype=int32, numpy=\n",
       "array([[[ 0,  1,  2],\n",
       "        [ 3,  4,  5]],\n",
       "\n",
       "       [[ 6,  7,  8],\n",
       "        [ 9, 10, 11]]])>"
      ]
     },
     "execution_count": 16,
     "metadata": {},
     "output_type": "execute_result"
    }
   ],
   "source": [
    "var2"
   ]
  },
  {
   "cell_type": "code",
   "execution_count": 17,
   "id": "0cd2b690-03ab-4f5a-ac81-a6ca0e47007f",
   "metadata": {},
   "outputs": [
    {
     "data": {
      "text/plain": [
       "<tf.Variable 'Variable:0' shape=() dtype=float32, numpy=89.0>"
      ]
     },
     "execution_count": 17,
     "metadata": {},
     "output_type": "execute_result"
    }
   ],
   "source": [
    "# Re-Assigning a Variable\n",
    "var=tf.Variable(89.)\n",
    "var"
   ]
  },
  {
   "cell_type": "code",
   "execution_count": 18,
   "id": "3296ffad-e23a-4f42-95ba-13425036d6ec",
   "metadata": {},
   "outputs": [
    {
     "data": {
      "text/plain": [
       "<tf.Variable 'UnreadVariable' shape=() dtype=float32, numpy=74.0>"
      ]
     },
     "execution_count": 18,
     "metadata": {},
     "output_type": "execute_result"
    }
   ],
   "source": [
    "var.assign(74)"
   ]
  },
  {
   "cell_type": "code",
   "execution_count": 19,
   "id": "0bdaeb84-230b-4268-adce-1384e10440c5",
   "metadata": {},
   "outputs": [
    {
     "data": {
      "text/plain": [
       "<tf.Variable 'Variable:0' shape=() dtype=float32, numpy=74.0>"
      ]
     },
     "execution_count": 19,
     "metadata": {},
     "output_type": "execute_result"
    }
   ],
   "source": [
    "var"
   ]
  },
  {
   "cell_type": "code",
   "execution_count": 20,
   "id": "4048d5f4-eb2a-4c14-aee4-0f63681e737c",
   "metadata": {},
   "outputs": [],
   "source": [
    "initial_val=tf.random.normal(shape=(2,2))\n",
    "a=tf.Variable(initial_val)"
   ]
  },
  {
   "cell_type": "code",
   "execution_count": 21,
   "id": "de5076b0-b0ff-49fd-a779-6c6f211ed985",
   "metadata": {},
   "outputs": [
    {
     "name": "stdout",
     "output_type": "stream",
     "text": [
      "<tf.Variable 'Variable:0' shape=(2, 2) dtype=float32, numpy=\n",
      "array([[-0.18312284,  1.1597252 ],\n",
      "       [-1.6461045 , -0.29995006]], dtype=float32)>\n"
     ]
    }
   ],
   "source": [
    "print(a)"
   ]
  },
  {
   "cell_type": "code",
   "execution_count": 22,
   "id": "8d986e12-1600-45e5-8a0d-cfd6ab6760e4",
   "metadata": {},
   "outputs": [],
   "source": [
    "new_value=tf.random.normal(shape=(2,2))\n",
    "a.assign(new_value)\n",
    "for i in range(2):\n",
    "    for j in range(2):\n",
    "        assert a[i,j]==new_value[i,j]"
   ]
  },
  {
   "cell_type": "code",
   "execution_count": 23,
   "id": "045d4e86-76a0-4ba3-a825-c90aa94b0fde",
   "metadata": {},
   "outputs": [
    {
     "data": {
      "text/plain": [
       "<tf.Variable 'Variable:0' shape=(2, 2) dtype=float32, numpy=\n",
       "array([[ 0.64115137, -0.8203098 ],\n",
       "       [ 0.30543268,  0.7546119 ]], dtype=float32)>"
      ]
     },
     "execution_count": 23,
     "metadata": {},
     "output_type": "execute_result"
    }
   ],
   "source": [
    "a"
   ]
  },
  {
   "cell_type": "code",
   "execution_count": 24,
   "id": "6cd13614-33c4-45ed-ade9-ed60bfe985ec",
   "metadata": {},
   "outputs": [
    {
     "data": {
      "text/plain": [
       "<tf.Tensor: shape=(2, 2), dtype=float32, numpy=\n",
       "array([[ 0.64115137, -0.8203098 ],\n",
       "       [ 0.30543268,  0.7546119 ]], dtype=float32)>"
      ]
     },
     "execution_count": 24,
     "metadata": {},
     "output_type": "execute_result"
    }
   ],
   "source": [
    "new_value"
   ]
  },
  {
   "cell_type": "code",
   "execution_count": 25,
   "id": "52fe6657-b3e2-4ced-b764-ef671b97132e",
   "metadata": {},
   "outputs": [],
   "source": [
    "added_value=tf.random.normal(shape=(2,2))\n",
    "a.assign_add(added_value)\n",
    "for i in range(2):\n",
    "    for j in range(2):\n",
    "        assert a[i,j]==new_value[i,j]+added_value[i,j]"
   ]
  },
  {
   "cell_type": "code",
   "execution_count": 26,
   "id": "1d6b8579-3a61-4c42-bfa3-e3850f5905cc",
   "metadata": {},
   "outputs": [
    {
     "data": {
      "text/plain": [
       "<tf.Variable 'Variable:0' shape=(2, 2) dtype=float32, numpy=\n",
       "array([[ 2.6738892 , -1.5791036 ],\n",
       "       [ 0.686519  , -0.38407522]], dtype=float32)>"
      ]
     },
     "execution_count": 26,
     "metadata": {},
     "output_type": "execute_result"
    }
   ],
   "source": [
    "a"
   ]
  },
  {
   "cell_type": "markdown",
   "id": "8f1b512c-77c3-4032-be43-7eadd195a54d",
   "metadata": {},
   "source": [
    "- Shaping a Tensor"
   ]
  },
  {
   "cell_type": "code",
   "execution_count": 27,
   "id": "2b11266e-66bb-4ac9-8052-3905189ca675",
   "metadata": {},
   "outputs": [
    {
     "name": "stdout",
     "output_type": "stream",
     "text": [
      "(2, 2, 3)\n"
     ]
    }
   ],
   "source": [
    "tensor=tf.Variable([[[0,1,2],[3,4,5]],[[6,7,8],[9,10,11]]])\n",
    "print(tensor.shape)"
   ]
  },
  {
   "cell_type": "markdown",
   "id": "be80b730-9dba-4ed9-b35d-78176a2d1f29",
   "metadata": {},
   "source": [
    "- Tensors can be reshaped and retain the same values, as is often required for constructing new values"
   ]
  },
  {
   "cell_type": "code",
   "execution_count": 28,
   "id": "a7fe50ed-9b1a-4f81-8fab-aa7df1db0aa9",
   "metadata": {},
   "outputs": [
    {
     "data": {
      "text/plain": [
       "<tf.Tensor: shape=(2, 6), dtype=int32, numpy=\n",
       "array([[ 0,  1,  2,  3,  4,  5],\n",
       "       [ 6,  7,  8,  9, 10, 11]])>"
      ]
     },
     "execution_count": 28,
     "metadata": {},
     "output_type": "execute_result"
    }
   ],
   "source": [
    "tensor1=tf.reshape(tensor,[2,6])\n",
    "tensor1"
   ]
  },
  {
   "cell_type": "code",
   "execution_count": 31,
   "id": "8951cf8c-b3a3-4c3b-9a63-4eb1d248a400",
   "metadata": {},
   "outputs": [
    {
     "data": {
      "text/plain": [
       "<tf.Tensor: shape=(1, 12), dtype=int32, numpy=array([[ 0,  1,  2,  3,  4,  5,  6,  7,  8,  9, 10, 11]])>"
      ]
     },
     "execution_count": 31,
     "metadata": {},
     "output_type": "execute_result"
    }
   ],
   "source": [
    "tensor2=tf.reshape(tensor,[1,12])\n",
    "tensor2"
   ]
  },
  {
   "cell_type": "markdown",
   "id": "495e79c3-4d4a-4e64-91d7-12d92947ede3",
   "metadata": {},
   "source": [
    "#### Ranking (Dimensions) of a Tensor\n",
    "- The rank of a tensor is the number of dimensions it has, that is the number of indices that are required to specify any particular element of that tensor."
   ]
  },
  {
   "cell_type": "code",
   "execution_count": 35,
   "id": "ab174b17-2d53-49fc-be8a-b5531f800181",
   "metadata": {},
   "outputs": [
    {
     "data": {
      "text/plain": [
       "3"
      ]
     },
     "execution_count": 35,
     "metadata": {},
     "output_type": "execute_result"
    }
   ],
   "source": [
    "tf.rank(tensor).numpy()"
   ]
  },
  {
   "cell_type": "code",
   "execution_count": 36,
   "id": "a91fa2f6-b70f-49c0-954e-c613473e8ca4",
   "metadata": {},
   "outputs": [
    {
     "data": {
      "text/plain": [
       "2"
      ]
     },
     "execution_count": 36,
     "metadata": {},
     "output_type": "execute_result"
    }
   ],
   "source": [
    "tf.rank(tensor1).numpy()"
   ]
  },
  {
   "cell_type": "code",
   "execution_count": 37,
   "id": "2f931f2d-1bbf-4d6f-b16f-4b429ee6024b",
   "metadata": {},
   "outputs": [
    {
     "data": {
      "text/plain": [
       "2"
      ]
     },
     "execution_count": 37,
     "metadata": {},
     "output_type": "execute_result"
    }
   ],
   "source": [
    "tf.rank(tensor2).numpy()"
   ]
  },
  {
   "cell_type": "markdown",
   "id": "3b67b3ce-eec2-40ad-9c76-2d93d8d8be30",
   "metadata": {},
   "source": [
    "- Specifying an element of a tensor"
   ]
  },
  {
   "cell_type": "code",
   "execution_count": 40,
   "id": "cebfd9e6-c5aa-4a1e-8cc6-c85f68b6b19a",
   "metadata": {},
   "outputs": [
    {
     "data": {
      "text/plain": [
       "<tf.Tensor: shape=(), dtype=int32, numpy=8>"
      ]
     },
     "execution_count": 40,
     "metadata": {},
     "output_type": "execute_result"
    }
   ],
   "source": [
    "tensor3=tensor[1,0,2]  # slice: 1, row:0, column: 2\n",
    "tensor3"
   ]
  },
  {
   "cell_type": "markdown",
   "id": "40d1a576-5d44-49c7-b233-73a28c1db6da",
   "metadata": {},
   "source": [
    "- Casting a Tensor to Numpy/Python Variable"
   ]
  },
  {
   "cell_type": "code",
   "execution_count": 42,
   "id": "3dd01d7c-2291-4c19-a4c4-37e3536d67b8",
   "metadata": {},
   "outputs": [
    {
     "name": "stdout",
     "output_type": "stream",
     "text": [
      "[[[ 0  1  2]\n",
      "  [ 3  4  5]]\n",
      "\n",
      " [[ 6  7  8]\n",
      "  [ 9 10 11]]]\n"
     ]
    }
   ],
   "source": [
    "print(tensor.numpy())"
   ]
  },
  {
   "cell_type": "code",
   "execution_count": 44,
   "id": "4f3d907f-bd6d-4867-843f-98130240c780",
   "metadata": {},
   "outputs": [
    {
     "name": "stdout",
     "output_type": "stream",
     "text": [
      "7\n"
     ]
    }
   ],
   "source": [
    "print(tensor[1,0,1].numpy())"
   ]
  },
  {
   "cell_type": "code",
   "execution_count": 46,
   "id": "5596601c-3ccd-48ab-8181-9bcb4d048409",
   "metadata": {},
   "outputs": [
    {
     "data": {
      "text/plain": [
       "12"
      ]
     },
     "execution_count": 46,
     "metadata": {},
     "output_type": "execute_result"
    }
   ],
   "source": [
    "# Finding the size of a Tensor\n",
    "tensor_size=tf.size(input=tensor).numpy()\n",
    "tensor_size"
   ]
  },
  {
   "cell_type": "code",
   "execution_count": 47,
   "id": "26edec2f-b957-4a31-a6f6-7e7ea38ac20d",
   "metadata": {},
   "outputs": [
    {
     "data": {
      "text/plain": [
       "tf.int32"
      ]
     },
     "execution_count": 47,
     "metadata": {},
     "output_type": "execute_result"
    }
   ],
   "source": [
    "tensor.dtype"
   ]
  },
  {
   "cell_type": "markdown",
   "id": "546bfdc1-ba9b-4c1d-ba8a-fd24a4057cf3",
   "metadata": {},
   "source": [
    "- Tensorflow Mathematical Operations"
   ]
  },
  {
   "cell_type": "code",
   "execution_count": 49,
   "id": "ceaef7ee-1c7f-476d-8410-eb052177760a",
   "metadata": {},
   "outputs": [],
   "source": [
    "a=tf.random.normal(shape=(2,2))\n",
    "b=tf.random.normal(shape=(2,2))\n",
    "c=a+b\n",
    "d=tf.square(c)\n",
    "e=tf.exp(c)"
   ]
  },
  {
   "cell_type": "code",
   "execution_count": 50,
   "id": "1fdfb0b2-a2a3-4b1a-9922-6a672494f0c8",
   "metadata": {},
   "outputs": [
    {
     "name": "stdout",
     "output_type": "stream",
     "text": [
      "tf.Tensor(\n",
      "[[ 1.185691   -0.81120604]\n",
      " [ 0.9649526  -0.15820879]], shape=(2, 2), dtype=float32)\n"
     ]
    }
   ],
   "source": [
    "print(a)"
   ]
  },
  {
   "cell_type": "code",
   "execution_count": 51,
   "id": "0f773bbc-9a78-460a-b0af-1f6bdf87fbb4",
   "metadata": {},
   "outputs": [
    {
     "name": "stdout",
     "output_type": "stream",
     "text": [
      "tf.Tensor(\n",
      "[[-0.21164237  0.64855134]\n",
      " [-0.19320673 -0.5046417 ]], shape=(2, 2), dtype=float32)\n"
     ]
    }
   ],
   "source": [
    "print(b)"
   ]
  },
  {
   "cell_type": "code",
   "execution_count": 52,
   "id": "5d4a2568-f1e5-47c0-ae61-36be679a1e63",
   "metadata": {},
   "outputs": [
    {
     "name": "stdout",
     "output_type": "stream",
     "text": [
      "tf.Tensor(\n",
      "[[ 0.9740486  -0.1626547 ]\n",
      " [ 0.77174586 -0.6628505 ]], shape=(2, 2), dtype=float32)\n"
     ]
    }
   ],
   "source": [
    "print(c)"
   ]
  },
  {
   "cell_type": "code",
   "execution_count": 53,
   "id": "95388a9b-d18d-48de-8cf4-529bbbb8776c",
   "metadata": {},
   "outputs": [
    {
     "name": "stdout",
     "output_type": "stream",
     "text": [
      "tf.Tensor(\n",
      "[[0.9487707  0.02645655]\n",
      " [0.59559166 0.43937078]], shape=(2, 2), dtype=float32)\n"
     ]
    }
   ],
   "source": [
    "print(d)"
   ]
  },
  {
   "cell_type": "code",
   "execution_count": 54,
   "id": "f2891776-7507-4f41-b720-9f746414b56f",
   "metadata": {},
   "outputs": [
    {
     "name": "stdout",
     "output_type": "stream",
     "text": [
      "tf.Tensor(\n",
      "[[2.648646   0.8498846 ]\n",
      " [2.1635401  0.51538014]], shape=(2, 2), dtype=float32)\n"
     ]
    }
   ],
   "source": [
    "print(e)"
   ]
  },
  {
   "cell_type": "markdown",
   "id": "5a6c2367-4402-47c9-b156-9827f2b8ccd8",
   "metadata": {},
   "source": [
    "- Perform element-wise Primitive tensor Operations"
   ]
  },
  {
   "cell_type": "code",
   "execution_count": 55,
   "id": "cdaa2a88-6730-4bdf-a47b-8f8469b56e21",
   "metadata": {},
   "outputs": [
    {
     "data": {
      "text/plain": [
       "<tf.Tensor: shape=(2, 2, 3), dtype=int32, numpy=\n",
       "array([[[  0,   1,   4],\n",
       "        [  9,  16,  25]],\n",
       "\n",
       "       [[ 36,  49,  64],\n",
       "        [ 81, 100, 121]]])>"
      ]
     },
     "execution_count": 55,
     "metadata": {},
     "output_type": "execute_result"
    }
   ],
   "source": [
    "tensor*tensor"
   ]
  },
  {
   "cell_type": "markdown",
   "id": "58033906-a410-4d2e-98d6-a813fdeafcfd",
   "metadata": {},
   "source": [
    "#### Broadcasting:\n",
    "    - Element-wise tensor operations support broadcasting in the same way that numpy arrays do.\n",
    "    - The simplest example is that of multiplying a tensor by a scaler"
   ]
  },
  {
   "cell_type": "code",
   "execution_count": 56,
   "id": "3a5f0c48-ce4b-4710-91c8-94b3a6bad7ae",
   "metadata": {},
   "outputs": [
    {
     "name": "stdout",
     "output_type": "stream",
     "text": [
      "tf.Tensor(\n",
      "[[[ 0  4  8]\n",
      "  [12 16 20]]\n",
      "\n",
      " [[24 28 32]\n",
      "  [36 40 44]]], shape=(2, 2, 3), dtype=int32)\n"
     ]
    }
   ],
   "source": [
    "tensor4=tensor*4\n",
    "print(tensor4)"
   ]
  },
  {
   "cell_type": "markdown",
   "id": "4891cabc-214d-4f09-8c2f-a4e54f37e33b",
   "metadata": {},
   "source": [
    "- Transpose matrix Multiplication"
   ]
  },
  {
   "cell_type": "code",
   "execution_count": 58,
   "id": "5cdd5ef9-ab78-4e0e-baad-5c313b3666e4",
   "metadata": {},
   "outputs": [
    {
     "data": {
      "text/plain": [
       "array([[14]])"
      ]
     },
     "execution_count": 58,
     "metadata": {},
     "output_type": "execute_result"
    }
   ],
   "source": [
    "matrix_u=tf.constant([[3,4,3]])\n",
    "matrix_v=tf.constant([[1,2,1]])\n",
    "tf.matmul(matrix_u,tf.transpose(matrix_v)).numpy()"
   ]
  },
  {
   "cell_type": "markdown",
   "id": "ba56f590-8ab0-403d-896c-05852652427e",
   "metadata": {},
   "source": [
    "- Casting a Tensor to another (tensor) Datatype"
   ]
  },
  {
   "cell_type": "code",
   "execution_count": 59,
   "id": "0d5ed607-254b-4886-8ac7-1a7ab385af27",
   "metadata": {},
   "outputs": [
    {
     "data": {
      "text/plain": [
       "<tf.Tensor: shape=(2, 6), dtype=int32, numpy=\n",
       "array([[ 0,  1,  2,  3,  4,  5],\n",
       "       [ 6,  7,  8,  9, 10, 11]])>"
      ]
     },
     "execution_count": 59,
     "metadata": {},
     "output_type": "execute_result"
    }
   ],
   "source": [
    "tensor1"
   ]
  },
  {
   "cell_type": "code",
   "execution_count": 60,
   "id": "38c1901c-59d8-495c-9994-61b6207634bc",
   "metadata": {},
   "outputs": [
    {
     "name": "stdout",
     "output_type": "stream",
     "text": [
      "tf.Tensor(\n",
      "[[ 0  1  2  3  4  5]\n",
      " [ 6  7  8  9 10 11]], shape=(2, 6), dtype=int64)\n"
     ]
    }
   ],
   "source": [
    "i=tf.cast(tensor1,dtype=tf.int64)\n",
    "print(i)"
   ]
  },
  {
   "cell_type": "markdown",
   "id": "130dcdf1-d9d6-441c-803e-b4e2bfc0ddd8",
   "metadata": {},
   "source": [
    "- Casting with Truncation"
   ]
  },
  {
   "cell_type": "code",
   "execution_count": 61,
   "id": "ae2eefa7-dc7e-49a1-bc9e-9fc647e5d692",
   "metadata": {},
   "outputs": [],
   "source": [
    "j=tf.cast(tf.constant(4.9),dtype=tf.int64)"
   ]
  },
  {
   "cell_type": "code",
   "execution_count": 62,
   "id": "f6175725-7b32-4db0-a4f3-f2000714fd2d",
   "metadata": {},
   "outputs": [
    {
     "data": {
      "text/plain": [
       "<tf.Tensor: shape=(), dtype=int64, numpy=4>"
      ]
     },
     "execution_count": 62,
     "metadata": {},
     "output_type": "execute_result"
    }
   ],
   "source": [
    "j"
   ]
  },
  {
   "cell_type": "markdown",
   "id": "cc95144b-381c-49fa-bd5b-fcf84dcc68e5",
   "metadata": {},
   "source": [
    "### Declaring Ragged Tensors\n",
    "    - A ragged tensor is a tensor with one or more ragged dimensions. Ragged dimensions are dimensions that have alices that may have different lengths. There are a variety of methods for declaring ragged arrays, the simplest being a constant ragged array."
   ]
  },
  {
   "cell_type": "code",
   "execution_count": 64,
   "id": "9417da96-398e-462f-be21-e83fa704bf54",
   "metadata": {},
   "outputs": [],
   "source": [
    "ragged=tf.ragged.constant([[5,2,6,1],[],[4,10,7],[8],[6,7]])"
   ]
  },
  {
   "cell_type": "code",
   "execution_count": 65,
   "id": "41195d10-2cee-40fd-9197-fb4651537f1d",
   "metadata": {},
   "outputs": [
    {
     "name": "stdout",
     "output_type": "stream",
     "text": [
      "<tf.RaggedTensor [[5, 2, 6, 1], [], [4, 10, 7], [8], [6, 7]]>\n"
     ]
    }
   ],
   "source": [
    "print(ragged)"
   ]
  },
  {
   "cell_type": "code",
   "execution_count": 66,
   "id": "884c12c0-ac38-4f28-9543-0ece2d968102",
   "metadata": {},
   "outputs": [
    {
     "name": "stdout",
     "output_type": "stream",
     "text": [
      "<tf.RaggedTensor [[5, 2, 6, 1], [], [4, 10, 7], [8], [6, 7]]>\n"
     ]
    }
   ],
   "source": [
    "print(ragged[0:])"
   ]
  },
  {
   "cell_type": "code",
   "execution_count": 67,
   "id": "f1385cd1-33c1-4132-b8bf-bdab84fadf64",
   "metadata": {},
   "outputs": [
    {
     "name": "stdout",
     "output_type": "stream",
     "text": [
      "<tf.RaggedTensor [[], [4, 10, 7], [8], [6, 7]]>\n"
     ]
    }
   ],
   "source": [
    "print(ragged[1:])"
   ]
  },
  {
   "cell_type": "code",
   "execution_count": 68,
   "id": "4f0df8c1-a7e6-4a75-9ed0-d860fac20d37",
   "metadata": {},
   "outputs": [
    {
     "name": "stdout",
     "output_type": "stream",
     "text": [
      "<tf.RaggedTensor [[4, 10, 7], [8], [6, 7]]>\n"
     ]
    }
   ],
   "source": [
    "print(ragged[2:])"
   ]
  },
  {
   "cell_type": "code",
   "execution_count": 69,
   "id": "b5f28822-b05a-4cff-b971-913402739b75",
   "metadata": {},
   "outputs": [
    {
     "name": "stdout",
     "output_type": "stream",
     "text": [
      "<tf.RaggedTensor [[8], [6, 7]]>\n"
     ]
    }
   ],
   "source": [
    "print(ragged[3:])"
   ]
  },
  {
   "cell_type": "code",
   "execution_count": 70,
   "id": "10952627-f6d3-4951-a912-cc56da45e0e1",
   "metadata": {},
   "outputs": [
    {
     "name": "stdout",
     "output_type": "stream",
     "text": [
      "<tf.RaggedTensor [[6, 7]]>\n"
     ]
    }
   ],
   "source": [
    "print(ragged[4:])"
   ]
  },
  {
   "cell_type": "markdown",
   "id": "680ad1d8-e188-4669-8269-f58e75c6ddb1",
   "metadata": {},
   "source": [
    "- Finding the Squared difference between 2 Sensors"
   ]
  },
  {
   "cell_type": "code",
   "execution_count": 71,
   "id": "54a81325-1867-40d1-b0be-5d931ac27afd",
   "metadata": {},
   "outputs": [
    {
     "data": {
      "text/plain": [
       "<tf.Tensor: shape=(5,), dtype=int32, numpy=array([16,  4,  0,  4, 36])>"
      ]
     },
     "execution_count": 71,
     "metadata": {},
     "output_type": "execute_result"
    }
   ],
   "source": [
    "varx = [1,3,5,7,11]\n",
    "vary = 5\n",
    "varz = tf.math.squared_difference(varx,vary)\n",
    "varz"
   ]
  },
  {
   "cell_type": "markdown",
   "id": "ffe1ac94-3703-4a11-996d-eb823b276547",
   "metadata": {},
   "source": [
    "- [(1-5)^2,(3-5)^2,(5-5)^2,(7-5)^2,(11-5)^2] ==>[16,4,0,4,36]"
   ]
  },
  {
   "cell_type": "code",
   "execution_count": 72,
   "id": "2493acb7-498f-4c8c-b930-ee95ddbf8ccc",
   "metadata": {},
   "outputs": [],
   "source": [
    "number=tf.constant([[4,5],[7,3]])"
   ]
  },
  {
   "cell_type": "code",
   "execution_count": 75,
   "id": "ca0b4cdf-07d2-4cf0-a813-2a7aefa87a31",
   "metadata": {},
   "outputs": [
    {
     "data": {
      "text/plain": [
       "4"
      ]
     },
     "execution_count": 75,
     "metadata": {},
     "output_type": "execute_result"
    }
   ],
   "source": [
    "tf.reduce_mean(input_tensor=number).numpy()"
   ]
  },
  {
   "cell_type": "code",
   "execution_count": 76,
   "id": "90bd40c5-f06a-4f3e-80b0-4a440e364628",
   "metadata": {},
   "outputs": [
    {
     "data": {
      "text/plain": [
       "array([5, 4])"
      ]
     },
     "execution_count": 76,
     "metadata": {},
     "output_type": "execute_result"
    }
   ],
   "source": [
    "tf.reduce_mean(input_tensor=number,axis=0).numpy()"
   ]
  },
  {
   "cell_type": "code",
   "execution_count": 77,
   "id": "61324e5a-48d7-490d-894c-4227b9adc515",
   "metadata": {},
   "outputs": [
    {
     "data": {
      "text/plain": [
       "<tf.Tensor: shape=(1, 2), dtype=int32, numpy=array([[5, 4]])>"
      ]
     },
     "execution_count": 77,
     "metadata": {},
     "output_type": "execute_result"
    }
   ],
   "source": [
    "tf.reduce_mean(input_tensor=number,axis=0,keepdims=True)"
   ]
  },
  {
   "cell_type": "code",
   "execution_count": 78,
   "id": "dde34b60-2313-4720-9dba-479d1c30b0af",
   "metadata": {},
   "outputs": [],
   "source": [
    "ran=tf.random.normal(shape=(3,2),mean=10,stddev=2,dtype=tf.float32,seed=None,name=None)"
   ]
  },
  {
   "cell_type": "code",
   "execution_count": 79,
   "id": "ea5bc099-5fb6-43e7-8e21-f17866668d44",
   "metadata": {},
   "outputs": [
    {
     "name": "stdout",
     "output_type": "stream",
     "text": [
      "tf.Tensor(\n",
      "[[11.618146 11.352605]\n",
      " [ 9.948454  8.310796]\n",
      " [ 9.577534  8.668596]], shape=(3, 2), dtype=float32)\n"
     ]
    }
   ],
   "source": [
    "print(ran)"
   ]
  },
  {
   "cell_type": "code",
   "execution_count": 81,
   "id": "1a54da1e-2ced-4fe6-a5ea-ece665521639",
   "metadata": {},
   "outputs": [],
   "source": [
    "ran2=tf.random.uniform(shape=(2,4),minval=0,maxval=None,dtype=tf.float32,seed=None,name=None)"
   ]
  },
  {
   "cell_type": "code",
   "execution_count": 82,
   "id": "9088c1e5-6ea7-4c56-bd58-b3e9b1492c3a",
   "metadata": {},
   "outputs": [
    {
     "name": "stdout",
     "output_type": "stream",
     "text": [
      "tf.Tensor(\n",
      "[[0.14453197 0.3103932  0.65346575 0.63053226]\n",
      " [0.877      0.83857715 0.0631721  0.85094273]], shape=(2, 4), dtype=float32)\n"
     ]
    }
   ],
   "source": [
    "print(ran2)"
   ]
  },
  {
   "cell_type": "markdown",
   "id": "102a9d3f-72c7-419d-8e46-3b746c4ba8b2",
   "metadata": {},
   "source": [
    "#### Setting the Seed"
   ]
  },
  {
   "cell_type": "code",
   "execution_count": 95,
   "id": "26d4af4c-a654-475d-a745-878bc8c1de64",
   "metadata": {},
   "outputs": [
    {
     "name": "stdout",
     "output_type": "stream",
     "text": [
      "tf.Tensor(\n",
      "[[0 7]\n",
      " [6 6]], shape=(2, 2), dtype=int64)\n",
      "tf.Tensor(\n",
      "[[1 3]\n",
      " [6 9]], shape=(2, 2), dtype=int64)\n"
     ]
    }
   ],
   "source": [
    "tf.random.set_seed(11)\n",
    "rand1=tf.random.uniform(shape=(2,2),maxval=10,dtype=tf.int64)\n",
    "rand2=tf.random.uniform(shape=(2,2),maxval=10,dtype=tf.int64)\n",
    "print(rand1)\n",
    "print(rand2)"
   ]
  },
  {
   "cell_type": "markdown",
   "id": "23616603-a4ab-43c4-bc8c-4750853982cc",
   "metadata": {},
   "source": [
    "### Practical Example of Random values using Dices"
   ]
  },
  {
   "cell_type": "code",
   "execution_count": 96,
   "id": "942d0057-0196-4ad8-8a4e-c1cec8f94147",
   "metadata": {},
   "outputs": [
    {
     "name": "stdout",
     "output_type": "stream",
     "text": [
      "tf.Tensor(\n",
      "[[5 1 6]\n",
      " [1 5 6]\n",
      " [1 4 5]\n",
      " [1 1 2]\n",
      " [1 5 6]\n",
      " [1 2 3]\n",
      " [6 3 9]\n",
      " [6 2 8]\n",
      " [1 3 4]\n",
      " [6 3 9]], shape=(10, 3), dtype=int64)\n"
     ]
    }
   ],
   "source": [
    "dice1=tf.Variable(tf.random.uniform([10,1],minval=1, maxval=7, dtype=tf.int64))\n",
    "dice2=tf.Variable(tf.random.uniform([10,1],minval=1, maxval=7, dtype=tf.int64))\n",
    "dice_sum=dice1+dice2\n",
    "resulting_matrix=tf.concat(values=[dice1,dice2,dice_sum],axis=1)\n",
    "print(resulting_matrix)"
   ]
  },
  {
   "cell_type": "code",
   "execution_count": 97,
   "id": "8c4cfa61-d821-44d5-a0de-6bd858dfb6eb",
   "metadata": {},
   "outputs": [
    {
     "name": "stdout",
     "output_type": "stream",
     "text": [
      "tf.Tensor([  2  11   5  42   7  19  -6 -11  29], shape=(9,), dtype=int32)\n"
     ]
    }
   ],
   "source": [
    "# 1D Tensor\n",
    "t5=tf.constant([2,11,5,42,7,19,-6,-11,29])\n",
    "print(t5)"
   ]
  },
  {
   "cell_type": "code",
   "execution_count": 98,
   "id": "66b2b642-35c7-4493-b631-67a1a4a49545",
   "metadata": {},
   "outputs": [
    {
     "name": "stdout",
     "output_type": "stream",
     "text": [
      "Index of max:  tf.Tensor(3, shape=(), dtype=int64)\n",
      "Max Element:  42\n"
     ]
    }
   ],
   "source": [
    "i=tf.argmax(input=t5)\n",
    "print(\"Index of max: \",i)\n",
    "print(\"Max Element: \",t5[i].numpy())"
   ]
  },
  {
   "cell_type": "code",
   "execution_count": 101,
   "id": "649b2777-eb8e-4e38-a23f-7b10302a9eb2",
   "metadata": {},
   "outputs": [
    {
     "name": "stdout",
     "output_type": "stream",
     "text": [
      "Index of max:  tf.Tensor(7, shape=(), dtype=int64)\n",
      "Max Element:  -11\n"
     ]
    }
   ],
   "source": [
    "j=tf.argmin(input=t5)\n",
    "print(\"Index of max: \",j)\n",
    "print(\"Max Element: \",t5[j].numpy())"
   ]
  },
  {
   "cell_type": "code",
   "execution_count": 102,
   "id": "1d37b642-2af5-4164-8cc2-e283b77b23e8",
   "metadata": {},
   "outputs": [
    {
     "name": "stdout",
     "output_type": "stream",
     "text": [
      "tf.Tensor(\n",
      "[[  2  11   5]\n",
      " [ 42   7  19]\n",
      " [ -6 -11  29]], shape=(3, 3), dtype=int32)\n"
     ]
    }
   ],
   "source": [
    "t6=tf.reshape(t5,[3,3])\n",
    "print(t6)"
   ]
  },
  {
   "cell_type": "code",
   "execution_count": 105,
   "id": "eec9929e-e83b-48eb-9f9e-ac8c15c38975",
   "metadata": {},
   "outputs": [
    {
     "name": "stdout",
     "output_type": "stream",
     "text": [
      "Index of max:  tf.Tensor([1 0 2], shape=(3,), dtype=int64)\n"
     ]
    }
   ],
   "source": [
    "i=tf.argmax(input=t6,axis=0)\n",
    "print(\"Index of max: \",i)"
   ]
  },
  {
   "cell_type": "code",
   "execution_count": 107,
   "id": "fe51bd98-8f62-4885-881d-bc81270a35b1",
   "metadata": {},
   "outputs": [
    {
     "name": "stdout",
     "output_type": "stream",
     "text": [
      "Index of max:  tf.Tensor([2 2 0], shape=(3,), dtype=int64)\n"
     ]
    }
   ],
   "source": [
    "i=tf.argmin(input=t6,axis=0)\n",
    "print(\"Index of max: \",i)"
   ]
  },
  {
   "cell_type": "code",
   "execution_count": 108,
   "id": "4d8f89b4-66c8-4d32-8cac-ab0cd80a82cc",
   "metadata": {},
   "outputs": [
    {
     "name": "stdout",
     "output_type": "stream",
     "text": [
      "Index of max:  tf.Tensor([1 0 2], shape=(3,), dtype=int64)\n"
     ]
    }
   ],
   "source": [
    "i=tf.argmax(input=t6,axis=1)\n",
    "print(\"Index of max: \",i)"
   ]
  },
  {
   "cell_type": "code",
   "execution_count": 109,
   "id": "efdeb2e9-7f48-4d41-9dbf-52c44b370c02",
   "metadata": {},
   "outputs": [
    {
     "name": "stdout",
     "output_type": "stream",
     "text": [
      "Index of max:  tf.Tensor([0 1 1], shape=(3,), dtype=int64)\n"
     ]
    }
   ],
   "source": [
    "i=tf.argmin(input=t6,axis=1)\n",
    "print(\"Index of max: \",i)"
   ]
  },
  {
   "cell_type": "markdown",
   "id": "4f22c308-d563-4833-852e-74836fdda2b5",
   "metadata": {},
   "source": [
    "- Saving and restoring Tensor values using Checkpoint"
   ]
  },
  {
   "cell_type": "code",
   "execution_count": 110,
   "id": "1ecc1190-c842-43fe-bb92-b8b6238fe4f3",
   "metadata": {},
   "outputs": [],
   "source": [
    "variable=tf.Variable([[1,3,5,7],[11,13,17,19]])\n",
    "checkpoint=tf.train.Checkpoint(var=variable)\n",
    "save_path=checkpoint.save('./vars')"
   ]
  },
  {
   "cell_type": "code",
   "execution_count": 111,
   "id": "0e2b4e88-532c-4502-b24e-7170584fc084",
   "metadata": {},
   "outputs": [
    {
     "name": "stdout",
     "output_type": "stream",
     "text": [
      "<tf.Variable 'Variable:0' shape=(2, 4) dtype=int32, numpy=\n",
      "array([[0, 0, 0, 0],\n",
      "       [0, 0, 0, 0]])>\n",
      "<tf.Variable 'Variable:0' shape=(2, 4) dtype=int32, numpy=\n",
      "array([[ 1,  3,  5,  7],\n",
      "       [11, 13, 17, 19]])>\n"
     ]
    }
   ],
   "source": [
    "variable.assign([[0,0,0,0],[0,0,0,0]])\n",
    "print(variable)\n",
    "checkpoint.restore(save_path)\n",
    "print(variable)"
   ]
  },
  {
   "cell_type": "markdown",
   "id": "5b8062bb-3237-4350-8146-0fc74eb6fa13",
   "metadata": {},
   "source": [
    "#### Using tf.function()\n",
    "\n",
    "    1. tf.function is a function that will take a Python function and return a Tensorflow graph.\n",
    "    2. The Advantage of this is that graphs can apply Optimization and exploit parallelism in the Python function.\n",
    "    3. tf.function is new to tensorflow 2"
   ]
  },
  {
   "cell_type": "code",
   "execution_count": 112,
   "id": "9cf45847-0656-49b2-a662-6c4bfcffc29b",
   "metadata": {},
   "outputs": [],
   "source": [
    "def f1(x,y):\n",
    "    return tf.reduce_mean(input_tensor=tf.multiply(x**2,5) + y**2)"
   ]
  },
  {
   "cell_type": "code",
   "execution_count": 113,
   "id": "8f850cdb-a538-4841-b72f-13b974139df0",
   "metadata": {},
   "outputs": [],
   "source": [
    "f2=tf.function(f1)\n",
    "x=tf.constant([4.,-5.])\n",
    "y=tf.constant([2.,3.])\n",
    "\n",
    "# f1 and f2 returns the same value but f2 executes as a Tensorflow graph\n",
    "assert f1(x,y).numpy() == f2(x,y).numpy()"
   ]
  },
  {
   "cell_type": "code",
   "execution_count": 115,
   "id": "b79a16c5-4e73-45d4-9195-5f05d4a6b484",
   "metadata": {},
   "outputs": [
    {
     "data": {
      "text/plain": [
       "109.0"
      ]
     },
     "execution_count": 115,
     "metadata": {},
     "output_type": "execute_result"
    }
   ],
   "source": [
    "f2(x,y).numpy()"
   ]
  },
  {
   "cell_type": "markdown",
   "id": "8ab412ea-c249-467c-9eff-ebb11cae6fae",
   "metadata": {},
   "source": [
    "### Calculate the Gradient\n",
    "\n",
    "1. Gradient tape:\n",
    "    - Another difference from numpy is that it can automatically track the gradient of any variable.\n",
    "    - Open one GradientTape and tape.watch() track varuables through"
   ]
  },
  {
   "cell_type": "code",
   "execution_count": 116,
   "id": "505e29f5-8738-4fbc-a7db-c976c838d166",
   "metadata": {},
   "outputs": [],
   "source": [
    "a=tf.random.normal(shape=(2,2))\n",
    "b=tf.random.normal(shape=(2,2))"
   ]
  },
  {
   "cell_type": "code",
   "execution_count": 118,
   "id": "41736266-881c-4047-91ad-32352a764e44",
   "metadata": {},
   "outputs": [
    {
     "name": "stdout",
     "output_type": "stream",
     "text": [
      "tf.Tensor(\n",
      "[[-0.469929    0.89920384]\n",
      " [-0.66446567 -0.79767007]], shape=(2, 2), dtype=float32)\n"
     ]
    }
   ],
   "source": [
    "with tf.GradientTape() as tape:\n",
    "    tape.watch(a)\n",
    "    c=tf.sqrt(tf.square(a)+tf.square(b))\n",
    "    dc_da=tape.gradient(c,a) # Differentiation of c wrt a\n",
    "    print(dc_da)"
   ]
  },
  {
   "cell_type": "code",
   "execution_count": 119,
   "id": "310acaeb-ed4f-45c5-bb52-240185194cd5",
   "metadata": {},
   "outputs": [
    {
     "name": "stdout",
     "output_type": "stream",
     "text": [
      "tf.Tensor(\n",
      "[[-0.469929    0.89920384]\n",
      " [-0.66446567 -0.79767007]], shape=(2, 2), dtype=float32)\n"
     ]
    }
   ],
   "source": [
    "a=tf.Variable(a)\n",
    "with tf.GradientTape() as tape:\n",
    "    c=tf.sqrt(tf.square(a)+tf.square(b))\n",
    "    dc_da=tape.gradient(c,a) # Differentiation of c wrt a\n",
    "    print(dc_da)"
   ]
  },
  {
   "cell_type": "markdown",
   "id": "3a18e66a-c11f-4e99-8669-4d485a860997",
   "metadata": {},
   "source": [
    "- Higher Order Derivative"
   ]
  },
  {
   "cell_type": "code",
   "execution_count": 121,
   "id": "771bd6af-5545-4f6c-85a4-8e04766c6a49",
   "metadata": {},
   "outputs": [
    {
     "name": "stdout",
     "output_type": "stream",
     "text": [
      "tf.Tensor(\n",
      "[[-0.469929    0.89920384]\n",
      " [-0.66446567 -0.79767007]], shape=(2, 2), dtype=float32)\n"
     ]
    }
   ],
   "source": [
    "with tf.GradientTape() as outer_tape:\n",
    "    with tf.GradientTape() as tape:\n",
    "        c=tf.sqrt(tf.square(a)+tf.square(b))\n",
    "        dc_da=tape.gradient(c,a)\n",
    "    d2c_d2a=outer_tape.gradient(c,a)\n",
    "    print(d2c_d2a)"
   ]
  }
 ],
 "metadata": {
  "kernelspec": {
   "display_name": "Python 3 (ipykernel)",
   "language": "python",
   "name": "python3"
  },
  "language_info": {
   "codemirror_mode": {
    "name": "ipython",
    "version": 3
   },
   "file_extension": ".py",
   "mimetype": "text/x-python",
   "name": "python",
   "nbconvert_exporter": "python",
   "pygments_lexer": "ipython3",
   "version": "3.11.5"
  }
 },
 "nbformat": 4,
 "nbformat_minor": 5
}
