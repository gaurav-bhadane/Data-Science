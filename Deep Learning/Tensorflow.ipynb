{
 "cells": [
  {
   "cell_type": "markdown",
   "id": "643baa4d-6ada-4c59-9786-5c60e381b729",
   "metadata": {},
   "source": [
    "# Tensorflow Basics"
   ]
  },
  {
   "cell_type": "code",
   "execution_count": 1,
   "id": "15a8d5ea-d44f-4cc7-8de1-8798e56253d9",
   "metadata": {},
   "outputs": [],
   "source": [
    "import tensorflow as tf"
   ]
  },
  {
   "cell_type": "code",
   "execution_count": 2,
   "id": "a53b0e3e-6555-4410-be75-624b7b12d427",
   "metadata": {},
   "outputs": [
    {
     "name": "stdout",
     "output_type": "stream",
     "text": [
      "Tensorflow Version: 2.16.1\n"
     ]
    }
   ],
   "source": [
    "print(f\"Tensorflow Version: {tf.__version__}\")"
   ]
  },
  {
   "cell_type": "code",
   "execution_count": 3,
   "id": "7b4b4e41-d4c5-4828-9556-bcf3601983ec",
   "metadata": {},
   "outputs": [
    {
     "name": "stdout",
     "output_type": "stream",
     "text": [
      "Keras Version: 3.3.3\n"
     ]
    }
   ],
   "source": [
    "print(f\"Keras Version: {tf.keras.__version__}\")"
   ]
  },
  {
   "cell_type": "code",
   "execution_count": 4,
   "id": "11092793-16db-4fca-9dd7-baf657f4bf0b",
   "metadata": {},
   "outputs": [
    {
     "data": {
      "text/plain": [
       "<tf.Tensor: shape=(), dtype=int32, numpy=30>"
      ]
     },
     "execution_count": 4,
     "metadata": {},
     "output_type": "execute_result"
    }
   ],
   "source": [
    "# Constant\n",
    "gaurav=tf.constant(30)\n",
    "gaurav"
   ]
  },
  {
   "cell_type": "code",
   "execution_count": 5,
   "id": "9da38791-f820-415f-8853-6a85e3a1c6a2",
   "metadata": {},
   "outputs": [
    {
     "data": {
      "text/plain": [
       "30"
      ]
     },
     "execution_count": 5,
     "metadata": {},
     "output_type": "execute_result"
    }
   ],
   "source": [
    "gaurav.numpy()"
   ]
  },
  {
   "cell_type": "code",
   "execution_count": 6,
   "id": "986e5202-51b4-4039-a3af-2bef81e6f9d6",
   "metadata": {},
   "outputs": [
    {
     "data": {
      "text/plain": [
       "<tf.Tensor: shape=(), dtype=int64, numpy=20>"
      ]
     },
     "execution_count": 6,
     "metadata": {},
     "output_type": "execute_result"
    }
   ],
   "source": [
    "integer=tf.constant(20,dtype=tf.int64)\n",
    "integer"
   ]
  },
  {
   "cell_type": "code",
   "execution_count": 7,
   "id": "3f8e0a4d-75bc-4bd4-b671-756644247205",
   "metadata": {},
   "outputs": [
    {
     "name": "stdout",
     "output_type": "stream",
     "text": [
      "tf.Tensor(\n",
      "[[4 2]\n",
      " [8 6]], shape=(2, 2), dtype=int32)\n"
     ]
    }
   ],
   "source": [
    "array=tf.constant([[4,2],[8,6]])\n",
    "print(array)"
   ]
  },
  {
   "cell_type": "code",
   "execution_count": 8,
   "id": "ff9242eb-7418-492d-9035-fad7806639ca",
   "metadata": {},
   "outputs": [
    {
     "data": {
      "text/plain": [
       "array([[4, 2],\n",
       "       [8, 6]])"
      ]
     },
     "execution_count": 8,
     "metadata": {},
     "output_type": "execute_result"
    }
   ],
   "source": [
    "array.numpy()"
   ]
  },
  {
   "cell_type": "markdown",
   "id": "e126b195-b07f-48f8-8934-b600310c62a2",
   "metadata": {},
   "source": [
    "- Commonly used method is to generate constant tf.ones and tf.zeros like of numpy np.ones and np.zeros."
   ]
  },
  {
   "cell_type": "code",
   "execution_count": 10,
   "id": "cea11458-b76b-485d-8ea0-a4a236369001",
   "metadata": {},
   "outputs": [
    {
     "name": "stdout",
     "output_type": "stream",
     "text": [
      "tf.Tensor(\n",
      "[[1. 1. 1.]\n",
      " [1. 1. 1.]], shape=(2, 3), dtype=float32)\n"
     ]
    }
   ],
   "source": [
    "print(tf.ones(shape=(2,3)))"
   ]
  },
  {
   "cell_type": "code",
   "execution_count": 11,
   "id": "4bc376c2-50bd-4530-8a8d-96b0b143ab0b",
   "metadata": {},
   "outputs": [
    {
     "name": "stdout",
     "output_type": "stream",
     "text": [
      "tf.Tensor(\n",
      "[[0. 0. 0.]\n",
      " [0. 0. 0.]], shape=(2, 3), dtype=float32)\n"
     ]
    }
   ],
   "source": [
    "print(tf.zeros(shape=(2,3)))"
   ]
  },
  {
   "cell_type": "code",
   "execution_count": 12,
   "id": "113acafd-4055-441e-b954-71196567f7da",
   "metadata": {},
   "outputs": [
    {
     "name": "stdout",
     "output_type": "stream",
     "text": [
      "tf.Tensor(\n",
      "[[4 6 8]\n",
      " [4 6 8]], shape=(2, 3), dtype=int32)\n"
     ]
    }
   ],
   "source": [
    "const1=tf.constant([[3,4,5],[3,4,5]])\n",
    "const2=tf.constant([[1,2,3],[1,2,3]])\n",
    "result=tf.add(const1,const2)\n",
    "print(result)"
   ]
  }
 ],
 "metadata": {
  "kernelspec": {
   "display_name": "Python 3 (ipykernel)",
   "language": "python",
   "name": "python3"
  },
  "language_info": {
   "codemirror_mode": {
    "name": "ipython",
    "version": 3
   },
   "file_extension": ".py",
   "mimetype": "text/x-python",
   "name": "python",
   "nbconvert_exporter": "python",
   "pygments_lexer": "ipython3",
   "version": "3.11.5"
  }
 },
 "nbformat": 4,
 "nbformat_minor": 5
}
