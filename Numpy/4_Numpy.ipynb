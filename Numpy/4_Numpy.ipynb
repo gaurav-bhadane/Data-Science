{
 "cells": [
  {
   "cell_type": "markdown",
   "id": "5e49a693-0a8f-4851-84e8-79919a36c91b",
   "metadata": {},
   "source": [
    "## Numpy: 4"
   ]
  },
  {
   "cell_type": "markdown",
   "id": "607a4c35-f170-41dd-ade4-dfb38dd1f232",
   "metadata": {},
   "source": [
    "#### Sort, Search & Counting functions"
   ]
  },
  {
   "cell_type": "code",
   "execution_count": 1,
   "id": "3b28f6ca-57b3-4323-b92d-bca49a85402c",
   "metadata": {},
   "outputs": [],
   "source": [
    "import numpy as np"
   ]
  },
  {
   "cell_type": "code",
   "execution_count": 2,
   "id": "b31af3d9-0ff6-4b4b-a50c-973557dd44c9",
   "metadata": {},
   "outputs": [],
   "source": [
    "arr=np.array([1,2,8,5,34,14,7,16,30])"
   ]
  },
  {
   "cell_type": "code",
   "execution_count": 3,
   "id": "9bba084c-bc52-4ef0-93e0-5c99da930d25",
   "metadata": {},
   "outputs": [
    {
     "data": {
      "text/plain": [
       "array([ 1,  2,  5,  7,  8, 14, 16, 30, 34])"
      ]
     },
     "execution_count": 3,
     "metadata": {},
     "output_type": "execute_result"
    }
   ],
   "source": [
    "np.sort(arr)"
   ]
  },
  {
   "cell_type": "code",
   "execution_count": 6,
   "id": "719954cb-f890-4e32-97b6-4f2a41e1e4e3",
   "metadata": {},
   "outputs": [
    {
     "data": {
      "text/plain": [
       "2"
      ]
     },
     "execution_count": 6,
     "metadata": {},
     "output_type": "execute_result"
    }
   ],
   "source": [
    "np.searchsorted(arr,7)"
   ]
  },
  {
   "cell_type": "code",
   "execution_count": 7,
   "id": "38a339a6-3d2e-4fec-8de9-ac247ca6e91d",
   "metadata": {},
   "outputs": [],
   "source": [
    "arr2=np.array([56,25,0,0,4,5,0,4,0,0,0,0,4,0,5,5,0,0,6,6,0,7,0])"
   ]
  },
  {
   "cell_type": "code",
   "execution_count": 8,
   "id": "3616fc4a-d3ea-4f36-b835-4862b39926ce",
   "metadata": {},
   "outputs": [
    {
     "data": {
      "text/plain": [
       "array([56, 25,  0,  0,  4,  5,  0,  4,  0,  0,  0,  0,  4,  0,  5,  5,  0,\n",
       "        0,  6,  6,  0,  7,  0])"
      ]
     },
     "execution_count": 8,
     "metadata": {},
     "output_type": "execute_result"
    }
   ],
   "source": [
    "arr2"
   ]
  },
  {
   "cell_type": "code",
   "execution_count": 9,
   "id": "dd1b794e-ed35-44b8-ba8b-f4787531c799",
   "metadata": {},
   "outputs": [
    {
     "data": {
      "text/plain": [
       "11"
      ]
     },
     "execution_count": 9,
     "metadata": {},
     "output_type": "execute_result"
    }
   ],
   "source": [
    "np.count_nonzero(arr2)"
   ]
  },
  {
   "cell_type": "code",
   "execution_count": 11,
   "id": "c4c837e5-4023-4594-9cb2-846aa6a41ae8",
   "metadata": {},
   "outputs": [
    {
     "data": {
      "text/plain": [
       "(array([2, 4, 5, 7, 8], dtype=int64),)"
      ]
     },
     "execution_count": 11,
     "metadata": {},
     "output_type": "execute_result"
    }
   ],
   "source": [
    "np.where(arr>7)"
   ]
  },
  {
   "cell_type": "code",
   "execution_count": 12,
   "id": "553a859a-0598-46d1-8eac-bffd390c7e2e",
   "metadata": {},
   "outputs": [
    {
     "data": {
      "text/plain": [
       "array([ 8,  5, 34, 14,  7, 16, 30])"
      ]
     },
     "execution_count": 12,
     "metadata": {},
     "output_type": "execute_result"
    }
   ],
   "source": [
    "np.extract(arr>2,arr)"
   ]
  },
  {
   "cell_type": "markdown",
   "id": "19333e68-4674-4b55-b52a-d8d37d66a649",
   "metadata": {},
   "source": [
    "#### Numpy: Byte Swapping"
   ]
  },
  {
   "cell_type": "code",
   "execution_count": 13,
   "id": "29e5c372-1cf0-4142-8d97-4e1c9f8d74b2",
   "metadata": {},
   "outputs": [
    {
     "data": {
      "text/plain": [
       "array([ 1,  2,  8,  5, 34, 14,  7, 16, 30])"
      ]
     },
     "execution_count": 13,
     "metadata": {},
     "output_type": "execute_result"
    }
   ],
   "source": [
    "arr"
   ]
  },
  {
   "cell_type": "code",
   "execution_count": 16,
   "id": "04bd8381-5d2a-4f2a-85dc-ba8f99f7cb2d",
   "metadata": {},
   "outputs": [
    {
     "data": {
      "text/plain": [
       "array([ 16777216,  33554432, 134217728,  83886080, 570425344, 234881024,\n",
       "       117440512, 268435456, 503316480])"
      ]
     },
     "execution_count": 16,
     "metadata": {},
     "output_type": "execute_result"
    }
   ],
   "source": [
    "arr.byteswap()  #Storage ids/locations"
   ]
  },
  {
   "cell_type": "code",
   "execution_count": 17,
   "id": "a46762b5-11f1-414d-babc-d5457e71787c",
   "metadata": {},
   "outputs": [
    {
     "data": {
      "text/plain": [
       "array([ 16777216,  33554432, 134217728,  83886080, 570425344, 234881024,\n",
       "       117440512, 268435456, 503316480])"
      ]
     },
     "execution_count": 17,
     "metadata": {},
     "output_type": "execute_result"
    }
   ],
   "source": [
    "arr.byteswap(True)"
   ]
  },
  {
   "cell_type": "code",
   "execution_count": 18,
   "id": "a9b34e5f-92fe-4a8d-b813-9a6d98e60ac8",
   "metadata": {},
   "outputs": [
    {
     "data": {
      "text/plain": [
       "array([ 16777216,  33554432, 134217728,  83886080, 570425344, 234881024,\n",
       "       117440512, 268435456, 503316480])"
      ]
     },
     "execution_count": 18,
     "metadata": {},
     "output_type": "execute_result"
    }
   ],
   "source": [
    "arr"
   ]
  },
  {
   "cell_type": "markdown",
   "id": "8edba9a6-dd08-4bf5-a485-47dba0012608",
   "metadata": {},
   "source": [
    "#### Numpy: Copies & Views"
   ]
  },
  {
   "cell_type": "code",
   "execution_count": 25,
   "id": "df715668-b951-409d-8fe5-58bf25dc3d2c",
   "metadata": {},
   "outputs": [],
   "source": [
    "arr2=np.array([2,5,66,5,4,5,2,48,2,5,8,0,5,45,2])"
   ]
  },
  {
   "cell_type": "code",
   "execution_count": 26,
   "id": "8701ba77-8866-4f44-912f-5ae41dff0e01",
   "metadata": {},
   "outputs": [
    {
     "data": {
      "text/plain": [
       "array([ 2,  5, 66,  5,  4,  5,  2, 48,  2,  5,  8,  0,  5, 45,  2])"
      ]
     },
     "execution_count": 26,
     "metadata": {},
     "output_type": "execute_result"
    }
   ],
   "source": [
    "arr2"
   ]
  },
  {
   "cell_type": "code",
   "execution_count": 27,
   "id": "2af2dba2-8e35-40b6-bec0-2de8dec54fdf",
   "metadata": {},
   "outputs": [],
   "source": [
    "a=np.copy(arr2)"
   ]
  },
  {
   "cell_type": "code",
   "execution_count": 28,
   "id": "3b27535b-b627-483c-88d1-18f1a98519ee",
   "metadata": {},
   "outputs": [
    {
     "data": {
      "text/plain": [
       "array([ 2,  5, 66,  5,  4,  5,  2, 48,  2,  5,  8,  0,  5, 45,  2])"
      ]
     },
     "execution_count": 28,
     "metadata": {},
     "output_type": "execute_result"
    }
   ],
   "source": [
    "a"
   ]
  },
  {
   "cell_type": "code",
   "execution_count": 29,
   "id": "bc529d0d-773e-4d81-be21-7e9fa0b2935c",
   "metadata": {},
   "outputs": [
    {
     "data": {
      "text/plain": [
       "array([12, 15, 76, 15, 14, 15, 12, 58, 12, 15, 18, 10, 15, 55, 12])"
      ]
     },
     "execution_count": 29,
     "metadata": {},
     "output_type": "execute_result"
    }
   ],
   "source": [
    "a+10"
   ]
  },
  {
   "cell_type": "code",
   "execution_count": 30,
   "id": "3d54a551-3c45-49ab-a74e-80085ab27157",
   "metadata": {},
   "outputs": [
    {
     "data": {
      "text/plain": [
       "array([ 2,  5, 66,  5,  4,  5,  2, 48,  2,  5,  8,  0,  5, 45,  2])"
      ]
     },
     "execution_count": 30,
     "metadata": {},
     "output_type": "execute_result"
    }
   ],
   "source": [
    "a"
   ]
  },
  {
   "cell_type": "code",
   "execution_count": 36,
   "id": "0064e5eb-d153-44f2-80a7-297a7917c2ee",
   "metadata": {},
   "outputs": [],
   "source": [
    "b=arr2.view()  #Swallow Copy"
   ]
  },
  {
   "cell_type": "code",
   "execution_count": 32,
   "id": "17e5b579-2c87-4531-9cbf-a839cdf6d895",
   "metadata": {},
   "outputs": [
    {
     "data": {
      "text/plain": [
       "array([ 2,  5, 66,  5,  4,  5,  2, 48,  2,  5,  8,  0,  5, 45,  2])"
      ]
     },
     "execution_count": 32,
     "metadata": {},
     "output_type": "execute_result"
    }
   ],
   "source": [
    "b"
   ]
  },
  {
   "cell_type": "code",
   "execution_count": 33,
   "id": "76317840-7cdd-43a9-a76e-e877ae7ace50",
   "metadata": {},
   "outputs": [],
   "source": [
    "b[0]=1000"
   ]
  },
  {
   "cell_type": "code",
   "execution_count": 34,
   "id": "90e46e36-21ee-4827-8494-52093d04127b",
   "metadata": {},
   "outputs": [
    {
     "data": {
      "text/plain": [
       "array([1000,    5,   66,    5,    4,    5,    2,   48,    2,    5,    8,\n",
       "          0,    5,   45,    2])"
      ]
     },
     "execution_count": 34,
     "metadata": {},
     "output_type": "execute_result"
    }
   ],
   "source": [
    "b"
   ]
  },
  {
   "cell_type": "code",
   "execution_count": 35,
   "id": "6eef7800-69ce-495a-9465-3ca7aa7f0f92",
   "metadata": {},
   "outputs": [
    {
     "data": {
      "text/plain": [
       "array([1000,    5,   66,    5,    4,    5,    2,   48,    2,    5,    8,\n",
       "          0,    5,   45,    2])"
      ]
     },
     "execution_count": 35,
     "metadata": {},
     "output_type": "execute_result"
    }
   ],
   "source": [
    "arr2"
   ]
  },
  {
   "cell_type": "markdown",
   "id": "df7b49ad-63bb-4147-a0d8-b4dcc4339453",
   "metadata": {},
   "source": [
    "#### Numpy: Matrix Library"
   ]
  },
  {
   "cell_type": "code",
   "execution_count": 37,
   "id": "cb684c0f-bf30-49a6-8431-5c39894ae724",
   "metadata": {},
   "outputs": [],
   "source": [
    "import numpy.matlib as nm"
   ]
  },
  {
   "cell_type": "code",
   "execution_count": 38,
   "id": "1fc14773-c3d1-4295-9572-c0f05db3f094",
   "metadata": {},
   "outputs": [
    {
     "data": {
      "text/plain": [
       "matrix([[0., 0., 0., 0., 0.]])"
      ]
     },
     "execution_count": 38,
     "metadata": {},
     "output_type": "execute_result"
    }
   ],
   "source": [
    "nm.zeros(5)"
   ]
  },
  {
   "cell_type": "code",
   "execution_count": 39,
   "id": "8bcddedb-194b-433f-8da7-e872b3d53e44",
   "metadata": {},
   "outputs": [
    {
     "data": {
      "text/plain": [
       "matrix([[1., 1., 1., 1.],\n",
       "        [1., 1., 1., 1.],\n",
       "        [1., 1., 1., 1.]])"
      ]
     },
     "execution_count": 39,
     "metadata": {},
     "output_type": "execute_result"
    }
   ],
   "source": [
    "nm.ones((3,4))"
   ]
  },
  {
   "cell_type": "code",
   "execution_count": 40,
   "id": "ccdfdadd-fa5d-4f2b-b89b-feeb65c9b1cf",
   "metadata": {},
   "outputs": [
    {
     "data": {
      "text/plain": [
       "matrix([[1., 0., 0., 0.],\n",
       "        [0., 1., 0., 0.],\n",
       "        [0., 0., 1., 0.],\n",
       "        [0., 0., 0., 1.]])"
      ]
     },
     "execution_count": 40,
     "metadata": {},
     "output_type": "execute_result"
    }
   ],
   "source": [
    "nm.eye(4)"
   ]
  },
  {
   "cell_type": "markdown",
   "id": "175515d8-9ac4-42f6-a641-67b49f285e2a",
   "metadata": {},
   "source": [
    "#### Numpy: Linear Algebra"
   ]
  },
  {
   "cell_type": "code",
   "execution_count": 41,
   "id": "4e593b42-c4dc-4bdf-9e63-e7acd65700ca",
   "metadata": {},
   "outputs": [
    {
     "data": {
      "text/plain": [
       "array([1000,    5,   66,    5,    4,    5,    2,   48,    2,    5,    8,\n",
       "          0,    5,   45,    2])"
      ]
     },
     "execution_count": 41,
     "metadata": {},
     "output_type": "execute_result"
    }
   ],
   "source": [
    "arr2"
   ]
  },
  {
   "cell_type": "code",
   "execution_count": 45,
   "id": "52e19fd1-fcd6-4ba8-829b-fe2976cd9032",
   "metadata": {},
   "outputs": [],
   "source": [
    "arr3=np.array([10,25,1,0,15,4,2,6,2,45,8,96,45,1,4])"
   ]
  },
  {
   "cell_type": "code",
   "execution_count": 46,
   "id": "6a1fdd5e-f6a1-4347-b493-629a9dfe80ce",
   "metadata": {},
   "outputs": [
    {
     "data": {
      "text/plain": [
       "array([10, 25,  1,  0, 15,  4,  2,  6,  2, 45,  8, 96, 45,  1,  4])"
      ]
     },
     "execution_count": 46,
     "metadata": {},
     "output_type": "execute_result"
    }
   ],
   "source": [
    "arr3"
   ]
  },
  {
   "cell_type": "code",
   "execution_count": 47,
   "id": "eae3bb8f-f518-443f-8d10-d1b43b2d0101",
   "metadata": {},
   "outputs": [
    {
     "data": {
      "text/plain": [
       "11134"
      ]
     },
     "execution_count": 47,
     "metadata": {},
     "output_type": "execute_result"
    }
   ],
   "source": [
    "np.dot(arr2,arr3)"
   ]
  }
 ],
 "metadata": {
  "kernelspec": {
   "display_name": "Python 3 (ipykernel)",
   "language": "python",
   "name": "python3"
  },
  "language_info": {
   "codemirror_mode": {
    "name": "ipython",
    "version": 3
   },
   "file_extension": ".py",
   "mimetype": "text/x-python",
   "name": "python",
   "nbconvert_exporter": "python",
   "pygments_lexer": "ipython3",
   "version": "3.11.5"
  }
 },
 "nbformat": 4,
 "nbformat_minor": 5
}
