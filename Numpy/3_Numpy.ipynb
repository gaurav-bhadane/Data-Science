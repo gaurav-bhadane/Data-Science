{
 "cells": [
  {
   "cell_type": "markdown",
   "id": "27e6c7ff-be36-4080-9804-0322d59ddeb3",
   "metadata": {},
   "source": [
    "## Numpy:3"
   ]
  },
  {
   "cell_type": "code",
   "execution_count": 1,
   "id": "5e57e306-5bad-4bae-975c-c071b03a8061",
   "metadata": {},
   "outputs": [],
   "source": [
    "import numpy as np"
   ]
  },
  {
   "cell_type": "markdown",
   "id": "d642b622-3457-4e1f-84c9-d7f941dc4fce",
   "metadata": {},
   "source": [
    "#### Numpy - Array Manipulation"
   ]
  },
  {
   "cell_type": "code",
   "execution_count": 4,
   "id": "1866a8a5-6d5f-4c37-9ea3-52e11e0553fb",
   "metadata": {},
   "outputs": [],
   "source": [
    "arr=np.random.randint(1,10,(4,4))"
   ]
  },
  {
   "cell_type": "code",
   "execution_count": 5,
   "id": "f624ac5f-3938-4519-9405-6b7cb0285de1",
   "metadata": {},
   "outputs": [
    {
     "data": {
      "text/plain": [
       "array([[8, 4, 5, 3],\n",
       "       [7, 3, 1, 4],\n",
       "       [3, 2, 4, 8],\n",
       "       [3, 1, 3, 7]])"
      ]
     },
     "execution_count": 5,
     "metadata": {},
     "output_type": "execute_result"
    }
   ],
   "source": [
    "arr"
   ]
  },
  {
   "cell_type": "code",
   "execution_count": 6,
   "id": "988f6d6b-7cce-4389-ac06-57ccfb53fa19",
   "metadata": {},
   "outputs": [
    {
     "data": {
      "text/plain": [
       "array([[8, 4],\n",
       "       [5, 3],\n",
       "       [7, 3],\n",
       "       [1, 4],\n",
       "       [3, 2],\n",
       "       [4, 8],\n",
       "       [3, 1],\n",
       "       [3, 7]])"
      ]
     },
     "execution_count": 6,
     "metadata": {},
     "output_type": "execute_result"
    }
   ],
   "source": [
    "arr.reshape(8,2)"
   ]
  },
  {
   "cell_type": "code",
   "execution_count": 7,
   "id": "c93ef499-bb7f-4031-ae85-ce0db720a032",
   "metadata": {},
   "outputs": [
    {
     "data": {
      "text/plain": [
       "array([[8, 4, 5, 3],\n",
       "       [7, 3, 1, 4],\n",
       "       [3, 2, 4, 8],\n",
       "       [3, 1, 3, 7]])"
      ]
     },
     "execution_count": 7,
     "metadata": {},
     "output_type": "execute_result"
    }
   ],
   "source": [
    "arr"
   ]
  },
  {
   "cell_type": "code",
   "execution_count": 9,
   "id": "81a9e04a-96a2-4109-bb14-2b133c42d638",
   "metadata": {},
   "outputs": [
    {
     "data": {
      "text/plain": [
       "array([[8, 7, 3, 3],\n",
       "       [4, 3, 2, 1],\n",
       "       [5, 1, 4, 3],\n",
       "       [3, 4, 8, 7]])"
      ]
     },
     "execution_count": 9,
     "metadata": {},
     "output_type": "execute_result"
    }
   ],
   "source": [
    "#Transpose\n",
    "arr.T"
   ]
  },
  {
   "cell_type": "code",
   "execution_count": 10,
   "id": "0182fb02-6515-4b0c-95e7-8e05d09db304",
   "metadata": {},
   "outputs": [
    {
     "data": {
      "text/plain": [
       "array([8, 4, 5, 3, 7, 3, 1, 4, 3, 2, 4, 8, 3, 1, 3, 7])"
      ]
     },
     "execution_count": 10,
     "metadata": {},
     "output_type": "execute_result"
    }
   ],
   "source": [
    "arr.flatten()"
   ]
  },
  {
   "cell_type": "code",
   "execution_count": 11,
   "id": "7de4caa9-8a96-457e-8735-d47aa78fd4e7",
   "metadata": {},
   "outputs": [
    {
     "data": {
      "text/plain": [
       "array([[[8, 4, 5, 3]],\n",
       "\n",
       "       [[7, 3, 1, 4]],\n",
       "\n",
       "       [[3, 2, 4, 8]],\n",
       "\n",
       "       [[3, 1, 3, 7]]])"
      ]
     },
     "execution_count": 11,
     "metadata": {},
     "output_type": "execute_result"
    }
   ],
   "source": [
    "np.expand_dims(arr,axis=1)"
   ]
  },
  {
   "cell_type": "code",
   "execution_count": 13,
   "id": "9e533d53-a7ce-48e7-93ca-b64646e4db0e",
   "metadata": {},
   "outputs": [
    {
     "data": {
      "text/plain": [
       "array([[[8, 4, 5, 3],\n",
       "        [7, 3, 1, 4],\n",
       "        [3, 2, 4, 8],\n",
       "        [3, 1, 3, 7]]])"
      ]
     },
     "execution_count": 13,
     "metadata": {},
     "output_type": "execute_result"
    }
   ],
   "source": [
    "np.expand_dims(arr,axis=0)"
   ]
  },
  {
   "cell_type": "code",
   "execution_count": 15,
   "id": "a5901d93-d046-4018-bce8-2cfc2b2c4ef2",
   "metadata": {},
   "outputs": [],
   "source": [
    "data = np.array([[1],[2],[3]])"
   ]
  },
  {
   "cell_type": "code",
   "execution_count": 19,
   "id": "907353d9-fd5d-4b2a-aa1d-8061038493d7",
   "metadata": {},
   "outputs": [
    {
     "data": {
      "text/plain": [
       "array([1, 2, 3])"
      ]
     },
     "execution_count": 19,
     "metadata": {},
     "output_type": "execute_result"
    }
   ],
   "source": [
    "np.squeeze(data)"
   ]
  },
  {
   "cell_type": "code",
   "execution_count": 20,
   "id": "1eb7afde-5c48-4669-a5d4-20342eaf643e",
   "metadata": {},
   "outputs": [
    {
     "data": {
      "text/plain": [
       "array([1, 1, 2, 2, 3, 3])"
      ]
     },
     "execution_count": 20,
     "metadata": {},
     "output_type": "execute_result"
    }
   ],
   "source": [
    "np.repeat(data,2)"
   ]
  },
  {
   "cell_type": "code",
   "execution_count": 28,
   "id": "775dffac-9f48-4fc3-a2d9-6216ab5e52df",
   "metadata": {},
   "outputs": [
    {
     "data": {
      "text/plain": [
       "array([[1],\n",
       "       [2],\n",
       "       [3]])"
      ]
     },
     "execution_count": 28,
     "metadata": {},
     "output_type": "execute_result"
    }
   ],
   "source": [
    "np.roll(data,3)"
   ]
  },
  {
   "cell_type": "code",
   "execution_count": 30,
   "id": "25662a71-3420-4004-878b-e845761c5017",
   "metadata": {},
   "outputs": [
    {
     "data": {
      "text/plain": [
       "array([[1, 0, 0, 0],\n",
       "       [0, 2, 0, 0],\n",
       "       [0, 0, 3, 0],\n",
       "       [0, 0, 0, 4]])"
      ]
     },
     "execution_count": 30,
     "metadata": {},
     "output_type": "execute_result"
    }
   ],
   "source": [
    "np.diag([1,2,3,4])"
   ]
  },
  {
   "cell_type": "markdown",
   "id": "2d0923ef-6804-478a-8bed-a9d3a620a855",
   "metadata": {},
   "source": [
    "#### Numpy: Binary Operators"
   ]
  },
  {
   "cell_type": "code",
   "execution_count": 31,
   "id": "958fc1f0-ad74-4901-b5a5-da722d688b6d",
   "metadata": {},
   "outputs": [],
   "source": [
    "arr2=np.random.randint(1,10,(3,4))"
   ]
  },
  {
   "cell_type": "code",
   "execution_count": 32,
   "id": "6cd19569-8ee0-4b95-a44f-8abd8f39c179",
   "metadata": {},
   "outputs": [
    {
     "data": {
      "text/plain": [
       "array([[5, 7, 7, 9],\n",
       "       [5, 1, 2, 2],\n",
       "       [1, 6, 3, 3]])"
      ]
     },
     "execution_count": 32,
     "metadata": {},
     "output_type": "execute_result"
    }
   ],
   "source": [
    "arr2"
   ]
  },
  {
   "cell_type": "code",
   "execution_count": 33,
   "id": "4e0c6c76-84cc-4c2a-b806-e71a61775eb7",
   "metadata": {},
   "outputs": [],
   "source": [
    "arr3=np.random.randint(1,10,(3,4))"
   ]
  },
  {
   "cell_type": "code",
   "execution_count": 34,
   "id": "7d5de65c-91f9-44e9-97f2-417607836eaf",
   "metadata": {},
   "outputs": [
    {
     "data": {
      "text/plain": [
       "array([[1, 1, 4, 4],\n",
       "       [2, 3, 4, 8],\n",
       "       [5, 8, 5, 2]])"
      ]
     },
     "execution_count": 34,
     "metadata": {},
     "output_type": "execute_result"
    }
   ],
   "source": [
    "arr3"
   ]
  },
  {
   "cell_type": "code",
   "execution_count": 36,
   "id": "768e3c7c-25d8-41f5-85b9-d58d7d4c5962",
   "metadata": {},
   "outputs": [
    {
     "data": {
      "text/plain": [
       "array([[ 6,  8, 11, 13],\n",
       "       [ 7,  4,  6, 10],\n",
       "       [ 6, 14,  8,  5]])"
      ]
     },
     "execution_count": 36,
     "metadata": {},
     "output_type": "execute_result"
    }
   ],
   "source": [
    "arr2+arr3"
   ]
  },
  {
   "cell_type": "code",
   "execution_count": 37,
   "id": "253d9ad1-102e-4bad-8388-cfab4717f773",
   "metadata": {},
   "outputs": [
    {
     "data": {
      "text/plain": [
       "array([[ 4,  6,  3,  5],\n",
       "       [ 3, -2, -2, -6],\n",
       "       [-4, -2, -2,  1]])"
      ]
     },
     "execution_count": 37,
     "metadata": {},
     "output_type": "execute_result"
    }
   ],
   "source": [
    "arr2-arr3"
   ]
  },
  {
   "cell_type": "code",
   "execution_count": 40,
   "id": "4f36bef7-ae34-4093-8c58-d269f6c771c4",
   "metadata": {},
   "outputs": [
    {
     "data": {
      "text/plain": [
       "array([[1, 1, 4, 4],\n",
       "       [2, 3, 4, 8],\n",
       "       [5, 8, 5, 2]])"
      ]
     },
     "execution_count": 40,
     "metadata": {},
     "output_type": "execute_result"
    }
   ],
   "source": [
    "arr3"
   ]
  },
  {
   "cell_type": "code",
   "execution_count": 41,
   "id": "610819c7-d916-4055-8628-ba43706de005",
   "metadata": {},
   "outputs": [
    {
     "data": {
      "text/plain": [
       "array([[5, 7, 7, 9],\n",
       "       [5, 1, 2, 2],\n",
       "       [1, 6, 3, 3]])"
      ]
     },
     "execution_count": 41,
     "metadata": {},
     "output_type": "execute_result"
    }
   ],
   "source": [
    "arr2"
   ]
  },
  {
   "cell_type": "code",
   "execution_count": 43,
   "id": "f5384fad-facb-4b6c-a0c4-f8acf2d6c7d5",
   "metadata": {},
   "outputs": [
    {
     "data": {
      "text/plain": [
       "array([[ True,  True,  True,  True],\n",
       "       [ True, False, False, False],\n",
       "       [False, False, False,  True]])"
      ]
     },
     "execution_count": 43,
     "metadata": {},
     "output_type": "execute_result"
    }
   ],
   "source": [
    "arr2>arr3"
   ]
  },
  {
   "cell_type": "code",
   "execution_count": 44,
   "id": "57075231-6600-44fe-b4ab-f2ecbb0b565f",
   "metadata": {},
   "outputs": [
    {
     "data": {
      "text/plain": [
       "array([[ -6,  -8,  -8, -10],\n",
       "       [ -6,  -2,  -3,  -3],\n",
       "       [ -2,  -7,  -4,  -4]])"
      ]
     },
     "execution_count": 44,
     "metadata": {},
     "output_type": "execute_result"
    }
   ],
   "source": [
    "~arr2"
   ]
  },
  {
   "cell_type": "markdown",
   "id": "dc74e7e6-4217-4130-bf33-4e0b3329a0e5",
   "metadata": {},
   "source": [
    "#### Numpy: String Functions"
   ]
  },
  {
   "cell_type": "code",
   "execution_count": 45,
   "id": "2873ded2-daed-41e8-b7bd-4af56b1c9cd5",
   "metadata": {},
   "outputs": [],
   "source": [
    "arr4=np.array([\"Gaurav\",\"Bhadane\"])"
   ]
  },
  {
   "cell_type": "code",
   "execution_count": 46,
   "id": "4a0c8c43-1f46-4345-968b-22ed88fc7bdb",
   "metadata": {},
   "outputs": [
    {
     "data": {
      "text/plain": [
       "array(['Gaurav', 'Bhadane'], dtype='<U7')"
      ]
     },
     "execution_count": 46,
     "metadata": {},
     "output_type": "execute_result"
    }
   ],
   "source": [
    "arr4"
   ]
  },
  {
   "cell_type": "code",
   "execution_count": 47,
   "id": "734002ef-54bd-45ff-9288-d74fb3942bfa",
   "metadata": {},
   "outputs": [
    {
     "data": {
      "text/plain": [
       "array(['GAURAV', 'BHADANE'], dtype='<U7')"
      ]
     },
     "execution_count": 47,
     "metadata": {},
     "output_type": "execute_result"
    }
   ],
   "source": [
    "np.char.upper(arr4)"
   ]
  },
  {
   "cell_type": "code",
   "execution_count": 48,
   "id": "66305a40-4639-4123-9bf9-e3ed30e3d462",
   "metadata": {},
   "outputs": [
    {
     "data": {
      "text/plain": [
       "array(['Gaurav', 'Bhadane'], dtype='<U7')"
      ]
     },
     "execution_count": 48,
     "metadata": {},
     "output_type": "execute_result"
    }
   ],
   "source": [
    "np.char.capitalize(arr4)"
   ]
  },
  {
   "cell_type": "code",
   "execution_count": 49,
   "id": "3e5519dd-bbf3-45a7-8139-57c1f6b70e19",
   "metadata": {},
   "outputs": [
    {
     "data": {
      "text/plain": [
       "array(['Gaurav', 'Bhadane'], dtype='<U7')"
      ]
     },
     "execution_count": 49,
     "metadata": {},
     "output_type": "execute_result"
    }
   ],
   "source": [
    "np.char.title(arr4)"
   ]
  },
  {
   "cell_type": "markdown",
   "id": "600ea352-0e35-459d-8c34-8b1517f2bdfd",
   "metadata": {},
   "source": [
    "#### Numpy: Mathematical Functions"
   ]
  },
  {
   "cell_type": "code",
   "execution_count": 50,
   "id": "e8d6bde9-4d14-4bb3-88b9-c61e13155a7a",
   "metadata": {},
   "outputs": [
    {
     "data": {
      "text/plain": [
       "array([[8, 4, 5, 3],\n",
       "       [7, 3, 1, 4],\n",
       "       [3, 2, 4, 8],\n",
       "       [3, 1, 3, 7]])"
      ]
     },
     "execution_count": 50,
     "metadata": {},
     "output_type": "execute_result"
    }
   ],
   "source": [
    "arr"
   ]
  },
  {
   "cell_type": "code",
   "execution_count": 51,
   "id": "24d62cb0-32f9-41e7-af7f-b2166a9dbb6f",
   "metadata": {},
   "outputs": [
    {
     "data": {
      "text/plain": [
       "array([[ 0.98935825, -0.7568025 , -0.95892427,  0.14112001],\n",
       "       [ 0.6569866 ,  0.14112001,  0.84147098, -0.7568025 ],\n",
       "       [ 0.14112001,  0.90929743, -0.7568025 ,  0.98935825],\n",
       "       [ 0.14112001,  0.84147098,  0.14112001,  0.6569866 ]])"
      ]
     },
     "execution_count": 51,
     "metadata": {},
     "output_type": "execute_result"
    }
   ],
   "source": [
    "np.sin(arr)"
   ]
  },
  {
   "cell_type": "code",
   "execution_count": 52,
   "id": "404e51e7-8ee1-4794-8bc8-3edc63f07586",
   "metadata": {},
   "outputs": [
    {
     "data": {
      "text/plain": [
       "array([[-0.14550003, -0.65364362,  0.28366219, -0.9899925 ],\n",
       "       [ 0.75390225, -0.9899925 ,  0.54030231, -0.65364362],\n",
       "       [-0.9899925 , -0.41614684, -0.65364362, -0.14550003],\n",
       "       [-0.9899925 ,  0.54030231, -0.9899925 ,  0.75390225]])"
      ]
     },
     "execution_count": 52,
     "metadata": {},
     "output_type": "execute_result"
    }
   ],
   "source": [
    "np.cos(arr)"
   ]
  },
  {
   "cell_type": "code",
   "execution_count": 53,
   "id": "5065b3bc-1fa1-4daa-a5dd-f32d93c97cdd",
   "metadata": {},
   "outputs": [
    {
     "data": {
      "text/plain": [
       "array([[-6.79971146,  1.15782128, -3.38051501, -0.14254654],\n",
       "       [ 0.87144798, -0.14254654,  1.55740772,  1.15782128],\n",
       "       [-0.14254654, -2.18503986,  1.15782128, -6.79971146],\n",
       "       [-0.14254654,  1.55740772, -0.14254654,  0.87144798]])"
      ]
     },
     "execution_count": 53,
     "metadata": {},
     "output_type": "execute_result"
    }
   ],
   "source": [
    "np.tan(arr)"
   ]
  },
  {
   "cell_type": "code",
   "execution_count": 55,
   "id": "755d88d6-a017-410a-98e8-e599c215a064",
   "metadata": {},
   "outputs": [
    {
     "data": {
      "text/plain": [
       "array([[0.90308999, 0.60205999, 0.69897   , 0.47712125],\n",
       "       [0.84509804, 0.47712125, 0.        , 0.60205999],\n",
       "       [0.47712125, 0.30103   , 0.60205999, 0.90308999],\n",
       "       [0.47712125, 0.        , 0.47712125, 0.84509804]])"
      ]
     },
     "execution_count": 55,
     "metadata": {},
     "output_type": "execute_result"
    }
   ],
   "source": [
    "np.log10(arr)"
   ]
  },
  {
   "cell_type": "code",
   "execution_count": 56,
   "id": "abb35872-3b55-4fcb-a854-71d64a00b380",
   "metadata": {},
   "outputs": [
    {
     "data": {
      "text/plain": [
       "array([[2.98095799e+03, 5.45981500e+01, 1.48413159e+02, 2.00855369e+01],\n",
       "       [1.09663316e+03, 2.00855369e+01, 2.71828183e+00, 5.45981500e+01],\n",
       "       [2.00855369e+01, 7.38905610e+00, 5.45981500e+01, 2.98095799e+03],\n",
       "       [2.00855369e+01, 2.71828183e+00, 2.00855369e+01, 1.09663316e+03]])"
      ]
     },
     "execution_count": 56,
     "metadata": {},
     "output_type": "execute_result"
    }
   ],
   "source": [
    "np.exp(arr)"
   ]
  },
  {
   "cell_type": "code",
   "execution_count": 58,
   "id": "71b2ac29-b3de-4e76-ae86-5ec56f92897b",
   "metadata": {},
   "outputs": [
    {
     "data": {
      "text/plain": [
       "array([[64, 16, 25,  9],\n",
       "       [49,  9,  1, 16],\n",
       "       [ 9,  4, 16, 64],\n",
       "       [ 9,  1,  9, 49]], dtype=int32)"
      ]
     },
     "execution_count": 58,
     "metadata": {},
     "output_type": "execute_result"
    }
   ],
   "source": [
    "np.power(arr,2)"
   ]
  },
  {
   "cell_type": "code",
   "execution_count": 59,
   "id": "4c6cd566-55a0-4b81-9de3-44913cffbbcf",
   "metadata": {},
   "outputs": [
    {
     "data": {
      "text/plain": [
       "4.125"
      ]
     },
     "execution_count": 59,
     "metadata": {},
     "output_type": "execute_result"
    }
   ],
   "source": [
    "np.mean(arr)"
   ]
  },
  {
   "cell_type": "code",
   "execution_count": 60,
   "id": "0eaca984-f3a4-43ea-94f6-c87cfcf46880",
   "metadata": {},
   "outputs": [
    {
     "data": {
      "text/plain": [
       "3.5"
      ]
     },
     "execution_count": 60,
     "metadata": {},
     "output_type": "execute_result"
    }
   ],
   "source": [
    "np.median(arr)"
   ]
  },
  {
   "cell_type": "code",
   "execution_count": 62,
   "id": "237de8f8-c626-4c76-9d6c-e51b57ab5c82",
   "metadata": {},
   "outputs": [
    {
     "data": {
      "text/plain": [
       "2.2043990110685496"
      ]
     },
     "execution_count": 62,
     "metadata": {},
     "output_type": "execute_result"
    }
   ],
   "source": [
    "np.std(arr)"
   ]
  },
  {
   "cell_type": "code",
   "execution_count": 63,
   "id": "e493d9a5-15e7-4094-9926-7bae1a68cd99",
   "metadata": {},
   "outputs": [
    {
     "data": {
      "text/plain": [
       "4.859375"
      ]
     },
     "execution_count": 63,
     "metadata": {},
     "output_type": "execute_result"
    }
   ],
   "source": [
    "np.var(arr)"
   ]
  },
  {
   "cell_type": "code",
   "execution_count": 64,
   "id": "b27cb30e-d08c-4c5c-ad8a-4c8ea9211a87",
   "metadata": {},
   "outputs": [
    {
     "data": {
      "text/plain": [
       "1"
      ]
     },
     "execution_count": 64,
     "metadata": {},
     "output_type": "execute_result"
    }
   ],
   "source": [
    "np.min(arr)"
   ]
  },
  {
   "cell_type": "code",
   "execution_count": 65,
   "id": "f24c4bc8-a9f3-46ee-a10b-f1721838436e",
   "metadata": {},
   "outputs": [
    {
     "data": {
      "text/plain": [
       "8"
      ]
     },
     "execution_count": 65,
     "metadata": {},
     "output_type": "execute_result"
    }
   ],
   "source": [
    "np.max(arr)"
   ]
  },
  {
   "cell_type": "markdown",
   "id": "ed43cf63-d59e-41ef-99b5-e85c3ecd4f88",
   "metadata": {},
   "source": [
    "#### Numpy: Aithmetic Operations"
   ]
  },
  {
   "cell_type": "code",
   "execution_count": 66,
   "id": "5b25d30a-0e49-4297-81fd-8cf40304f491",
   "metadata": {},
   "outputs": [
    {
     "data": {
      "text/plain": [
       "array([[5, 7, 7, 9],\n",
       "       [5, 1, 2, 2],\n",
       "       [1, 6, 3, 3]])"
      ]
     },
     "execution_count": 66,
     "metadata": {},
     "output_type": "execute_result"
    }
   ],
   "source": [
    "arr2"
   ]
  },
  {
   "cell_type": "code",
   "execution_count": 67,
   "id": "5120056b-ad12-4ec9-8063-7b0bb99b8265",
   "metadata": {},
   "outputs": [
    {
     "data": {
      "text/plain": [
       "array([[1, 1, 4, 4],\n",
       "       [2, 3, 4, 8],\n",
       "       [5, 8, 5, 2]])"
      ]
     },
     "execution_count": 67,
     "metadata": {},
     "output_type": "execute_result"
    }
   ],
   "source": [
    "arr3"
   ]
  },
  {
   "cell_type": "code",
   "execution_count": 68,
   "id": "93ec0e62-5296-43f4-a2f2-a571f0452f80",
   "metadata": {},
   "outputs": [
    {
     "data": {
      "text/plain": [
       "array([[ 4,  6,  3,  5],\n",
       "       [ 3, -2, -2, -6],\n",
       "       [-4, -2, -2,  1]])"
      ]
     },
     "execution_count": 68,
     "metadata": {},
     "output_type": "execute_result"
    }
   ],
   "source": [
    "arr2-arr3"
   ]
  },
  {
   "cell_type": "code",
   "execution_count": 69,
   "id": "8fcf6da2-a909-4005-8cec-3ac40fcdb26d",
   "metadata": {},
   "outputs": [
    {
     "data": {
      "text/plain": [
       "array([[ 4,  6,  3,  5],\n",
       "       [ 3, -2, -2, -6],\n",
       "       [-4, -2, -2,  1]])"
      ]
     },
     "execution_count": 69,
     "metadata": {},
     "output_type": "execute_result"
    }
   ],
   "source": [
    "np.subtract(arr2,arr3)"
   ]
  },
  {
   "cell_type": "code",
   "execution_count": 70,
   "id": "1ae6eefe-4b49-4644-b9b0-07e6ac83fe9a",
   "metadata": {},
   "outputs": [
    {
     "data": {
      "text/plain": [
       "array([[ 6,  8, 11, 13],\n",
       "       [ 7,  4,  6, 10],\n",
       "       [ 6, 14,  8,  5]])"
      ]
     },
     "execution_count": 70,
     "metadata": {},
     "output_type": "execute_result"
    }
   ],
   "source": [
    "np.add(arr2,arr3)"
   ]
  },
  {
   "cell_type": "code",
   "execution_count": 71,
   "id": "5dd4c3c3-fbee-4fbe-b665-c90cdd4e94ae",
   "metadata": {},
   "outputs": [
    {
     "data": {
      "text/plain": [
       "array([[ 5,  7, 28, 36],\n",
       "       [10,  3,  8, 16],\n",
       "       [ 5, 48, 15,  6]])"
      ]
     },
     "execution_count": 71,
     "metadata": {},
     "output_type": "execute_result"
    }
   ],
   "source": [
    "np.multiply(arr2,arr3)"
   ]
  },
  {
   "cell_type": "code",
   "execution_count": 72,
   "id": "dc4762c3-ff8d-43aa-b2d9-3ea1821afd24",
   "metadata": {},
   "outputs": [
    {
     "data": {
      "text/plain": [
       "array([[0, 0, 3, 1],\n",
       "       [1, 1, 2, 2],\n",
       "       [1, 6, 3, 1]])"
      ]
     },
     "execution_count": 72,
     "metadata": {},
     "output_type": "execute_result"
    }
   ],
   "source": [
    "np.mod(arr2,arr3)"
   ]
  },
  {
   "cell_type": "code",
   "execution_count": 73,
   "id": "7b709b29-8028-48fd-b420-7b0c1f720ca1",
   "metadata": {},
   "outputs": [
    {
     "data": {
      "text/plain": [
       "array([[      5,       7,    2401,    6561],\n",
       "       [     25,       1,      16,     256],\n",
       "       [      1, 1679616,     243,       9]])"
      ]
     },
     "execution_count": 73,
     "metadata": {},
     "output_type": "execute_result"
    }
   ],
   "source": [
    "np.power(arr2,arr3)"
   ]
  },
  {
   "cell_type": "code",
   "execution_count": 74,
   "id": "77630f40-308f-4af7-869b-935ede9ceb2c",
   "metadata": {},
   "outputs": [
    {
     "data": {
      "text/plain": [
       "array([[2.23606798, 2.64575131, 2.64575131, 3.        ],\n",
       "       [2.23606798, 1.        , 1.41421356, 1.41421356],\n",
       "       [1.        , 2.44948974, 1.73205081, 1.73205081]])"
      ]
     },
     "execution_count": 74,
     "metadata": {},
     "output_type": "execute_result"
    }
   ],
   "source": [
    "np.sqrt(arr2)"
   ]
  },
  {
   "cell_type": "markdown",
   "id": "00d12f53-560f-4afd-a67a-272b34e43bac",
   "metadata": {},
   "source": [
    "#### Numpy: Statistical Functions"
   ]
  },
  {
   "cell_type": "code",
   "execution_count": 76,
   "id": "67179c3d-00cf-42d1-a323-adcd59de2d5b",
   "metadata": {},
   "outputs": [
    {
     "data": {
      "text/plain": [
       "4.25"
      ]
     },
     "execution_count": 76,
     "metadata": {},
     "output_type": "execute_result"
    }
   ],
   "source": [
    "np.mean(arr2)"
   ]
  },
  {
   "cell_type": "code",
   "execution_count": 77,
   "id": "998c3c0e-d178-439a-9c4b-d696558abab4",
   "metadata": {},
   "outputs": [
    {
     "data": {
      "text/plain": [
       "4.0"
      ]
     },
     "execution_count": 77,
     "metadata": {},
     "output_type": "execute_result"
    }
   ],
   "source": [
    "np.median(arr2)"
   ]
  },
  {
   "cell_type": "code",
   "execution_count": 78,
   "id": "520388e8-c0bb-4a9b-9a75-ed2baa0a98e3",
   "metadata": {},
   "outputs": [
    {
     "data": {
      "text/plain": [
       "6.354166666666667"
      ]
     },
     "execution_count": 78,
     "metadata": {},
     "output_type": "execute_result"
    }
   ],
   "source": [
    "np.var(arr2)"
   ]
  },
  {
   "cell_type": "code",
   "execution_count": 79,
   "id": "0cfd17d3-c66a-4090-a4ea-fe1e78924e27",
   "metadata": {},
   "outputs": [
    {
     "data": {
      "text/plain": [
       "2.520747243709029"
      ]
     },
     "execution_count": 79,
     "metadata": {},
     "output_type": "execute_result"
    }
   ],
   "source": [
    "np.std(arr2)"
   ]
  }
 ],
 "metadata": {
  "kernelspec": {
   "display_name": "Python 3 (ipykernel)",
   "language": "python",
   "name": "python3"
  },
  "language_info": {
   "codemirror_mode": {
    "name": "ipython",
    "version": 3
   },
   "file_extension": ".py",
   "mimetype": "text/x-python",
   "name": "python",
   "nbconvert_exporter": "python",
   "pygments_lexer": "ipython3",
   "version": "3.11.5"
  }
 },
 "nbformat": 4,
 "nbformat_minor": 5
}
