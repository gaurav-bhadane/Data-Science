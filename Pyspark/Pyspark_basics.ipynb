{
  "nbformat": 4,
  "nbformat_minor": 0,
  "metadata": {
    "colab": {
      "provenance": []
    },
    "kernelspec": {
      "name": "python3",
      "display_name": "Python 3"
    },
    "language_info": {
      "name": "python"
    }
  },
  "cells": [
    {
      "cell_type": "code",
      "execution_count": 1,
      "metadata": {
        "colab": {
          "base_uri": "https://localhost:8080/"
        },
        "id": "tjhHiHBPvbxk",
        "outputId": "90667c16-e34f-4e75-a7aa-fa9a52f906fd"
      },
      "outputs": [
        {
          "output_type": "stream",
          "name": "stdout",
          "text": [
            "Requirement already satisfied: pyspark in /usr/local/lib/python3.11/dist-packages (3.5.1)\n",
            "Requirement already satisfied: py4j==0.10.9.7 in /usr/local/lib/python3.11/dist-packages (from pyspark) (0.10.9.7)\n"
          ]
        }
      ],
      "source": [
        "!pip install pyspark"
      ]
    },
    {
      "cell_type": "code",
      "source": [
        "import pyspark"
      ],
      "metadata": {
        "id": "aeo0YLBoveo2"
      },
      "execution_count": 2,
      "outputs": []
    },
    {
      "cell_type": "code",
      "source": [
        "from pyspark.sql import SparkSession"
      ],
      "metadata": {
        "id": "vUtMa7a0vj2c"
      },
      "execution_count": 3,
      "outputs": []
    },
    {
      "cell_type": "code",
      "source": [
        "spark=SparkSession.builder.appName(\"cardata\").getOrCreate()"
      ],
      "metadata": {
        "id": "N1omsPXfvoKd"
      },
      "execution_count": 4,
      "outputs": []
    },
    {
      "cell_type": "code",
      "source": [
        "spark"
      ],
      "metadata": {
        "colab": {
          "base_uri": "https://localhost:8080/",
          "height": 219
        },
        "id": "VHc7aJE8vrDN",
        "outputId": "229652a0-e5c0-4820-a202-1b4c610cbd42"
      },
      "execution_count": 5,
      "outputs": [
        {
          "output_type": "execute_result",
          "data": {
            "text/plain": [
              "<pyspark.sql.session.SparkSession at 0x7ea6e6aae3d0>"
            ],
            "text/html": [
              "\n",
              "            <div>\n",
              "                <p><b>SparkSession - in-memory</b></p>\n",
              "                \n",
              "        <div>\n",
              "            <p><b>SparkContext</b></p>\n",
              "\n",
              "            <p><a href=\"http://2a0f0bab286e:4040\">Spark UI</a></p>\n",
              "\n",
              "            <dl>\n",
              "              <dt>Version</dt>\n",
              "                <dd><code>v3.5.1</code></dd>\n",
              "              <dt>Master</dt>\n",
              "                <dd><code>local[*]</code></dd>\n",
              "              <dt>AppName</dt>\n",
              "                <dd><code>cardata</code></dd>\n",
              "            </dl>\n",
              "        </div>\n",
              "        \n",
              "            </div>\n",
              "        "
            ]
          },
          "metadata": {},
          "execution_count": 5
        }
      ]
    },
    {
      "cell_type": "code",
      "source": [
        "df_pyspark=spark.read.csv(\"/content/cardekho_dataset.csv\",inferSchema=True)"
      ],
      "metadata": {
        "id": "CMtp_UOKvwce"
      },
      "execution_count": 8,
      "outputs": []
    },
    {
      "cell_type": "code",
      "source": [
        "df_pyspark.printSchema()"
      ],
      "metadata": {
        "colab": {
          "base_uri": "https://localhost:8080/"
        },
        "id": "-ub1NHKTwfo8",
        "outputId": "48261822-9068-48cb-9401-13b400b97b2a"
      },
      "execution_count": 9,
      "outputs": [
        {
          "output_type": "stream",
          "name": "stdout",
          "text": [
            "root\n",
            " |-- _c0: integer (nullable = true)\n",
            " |-- _c1: string (nullable = true)\n",
            " |-- _c2: string (nullable = true)\n",
            " |-- _c3: string (nullable = true)\n",
            " |-- _c4: string (nullable = true)\n",
            " |-- _c5: string (nullable = true)\n",
            " |-- _c6: string (nullable = true)\n",
            " |-- _c7: string (nullable = true)\n",
            " |-- _c8: string (nullable = true)\n",
            " |-- _c9: string (nullable = true)\n",
            " |-- _c10: string (nullable = true)\n",
            " |-- _c11: string (nullable = true)\n",
            " |-- _c12: string (nullable = true)\n",
            " |-- _c13: string (nullable = true)\n",
            "\n"
          ]
        }
      ]
    },
    {
      "cell_type": "code",
      "source": [
        "df_pyspark=spark.read.csv(\"/content/cardekho_dataset.csv\",header=True,inferSchema=True)"
      ],
      "metadata": {
        "id": "D3U-XFrfwiJC"
      },
      "execution_count": 10,
      "outputs": []
    },
    {
      "cell_type": "code",
      "source": [
        "df_pyspark.printSchema()"
      ],
      "metadata": {
        "colab": {
          "base_uri": "https://localhost:8080/"
        },
        "id": "diY4P_H1wxGQ",
        "outputId": "b6920e24-faf9-442c-a012-1b97af065b99"
      },
      "execution_count": 11,
      "outputs": [
        {
          "output_type": "stream",
          "name": "stdout",
          "text": [
            "root\n",
            " |-- _c0: integer (nullable = true)\n",
            " |-- car_name: string (nullable = true)\n",
            " |-- brand: string (nullable = true)\n",
            " |-- model: string (nullable = true)\n",
            " |-- vehicle_age: integer (nullable = true)\n",
            " |-- km_driven: integer (nullable = true)\n",
            " |-- seller_type: string (nullable = true)\n",
            " |-- fuel_type: string (nullable = true)\n",
            " |-- transmission_type: string (nullable = true)\n",
            " |-- mileage: double (nullable = true)\n",
            " |-- engine: integer (nullable = true)\n",
            " |-- max_power: double (nullable = true)\n",
            " |-- seats: integer (nullable = true)\n",
            " |-- selling_price: integer (nullable = true)\n",
            "\n"
          ]
        }
      ]
    },
    {
      "cell_type": "code",
      "source": [
        "df_pyspark.show()"
      ],
      "metadata": {
        "colab": {
          "base_uri": "https://localhost:8080/"
        },
        "id": "AgerR49lwyo6",
        "outputId": "c375b29d-1f51-4b2b-d4c7-e85f06708d79"
      },
      "execution_count": 12,
      "outputs": [
        {
          "output_type": "stream",
          "name": "stdout",
          "text": [
            "+---+--------------------+-------------+-----------+-----------+---------+-----------+---------+-----------------+-------+------+---------+-----+-------------+\n",
            "|_c0|            car_name|        brand|      model|vehicle_age|km_driven|seller_type|fuel_type|transmission_type|mileage|engine|max_power|seats|selling_price|\n",
            "+---+--------------------+-------------+-----------+-----------+---------+-----------+---------+-----------------+-------+------+---------+-----+-------------+\n",
            "|  0|         Maruti Alto|       Maruti|       Alto|          9|   120000| Individual|   Petrol|           Manual|   19.7|   796|     46.3|    5|       120000|\n",
            "|  1|       Hyundai Grand|      Hyundai|      Grand|          5|    20000| Individual|   Petrol|           Manual|   18.9|  1197|     82.0|    5|       550000|\n",
            "|  2|         Hyundai i20|      Hyundai|        i20|         11|    60000| Individual|   Petrol|           Manual|   17.0|  1197|     80.0|    5|       215000|\n",
            "|  3|         Maruti Alto|       Maruti|       Alto|          9|    37000| Individual|   Petrol|           Manual|  20.92|   998|     67.1|    5|       226000|\n",
            "|  4|       Ford Ecosport|         Ford|   Ecosport|          6|    30000|     Dealer|   Diesel|           Manual|  22.77|  1498|    98.59|    5|       570000|\n",
            "|  5|      Maruti Wagon R|       Maruti|    Wagon R|          8|    35000| Individual|   Petrol|           Manual|   18.9|   998|     67.1|    5|       350000|\n",
            "|  6|         Hyundai i10|      Hyundai|        i10|          8|    40000|     Dealer|   Petrol|           Manual|  20.36|  1197|     78.9|    5|       315000|\n",
            "|  7|      Maruti Wagon R|       Maruti|    Wagon R|          3|    17512|     Dealer|   Petrol|           Manual|  20.51|   998|    67.04|    5|       410000|\n",
            "|  8|       Hyundai Venue|      Hyundai|      Venue|          2|    20000| Individual|   Petrol|        Automatic|  18.15|   998|   118.35|    5|      1050000|\n",
            "| 12|        Maruti Swift|       Maruti|      Swift|          4|    28321|     Dealer|   Petrol|           Manual|   16.6|  1197|     85.0|    5|       511000|\n",
            "| 14|       Hyundai Verna|      Hyundai|      Verna|          8|    65278|     Dealer|   Diesel|           Manual|  22.32|  1582|   126.32|    5|       425000|\n",
            "| 15|      Renault Duster|      Renault|     Duster|          5|    50000| Individual|   Diesel|           Manual|  19.64|  1461|   108.45|    5|       750000|\n",
            "| 16|         Mini Cooper|         Mini|     Cooper|          4|     6000|     Dealer|   Petrol|        Automatic|  14.41|  1998|   189.08|    5|      3250000|\n",
            "| 17|         Maruti Ciaz|       Maruti|       Ciaz|          5|    76000|     Dealer|   Diesel|           Manual|  28.09|  1248|     88.5|    5|       650000|\n",
            "| 18|        Maruti Swift|       Maruti|      Swift|          5|    20000| Individual|   Diesel|           Manual|   25.2|  1248|     74.0|    5|       627000|\n",
            "| 19|Mercedes-Benz C-C...|Mercedes-Benz|    C-Class|          7|    65000|     Dealer|   Diesel|        Automatic|  19.27|  2143|    170.0|    5|      1425000|\n",
            "| 20|        Maruti Swift|       Maruti|      Swift|          7|    62200|     Dealer|   Diesel|           Manual|   28.4|  1248|     74.0|    5|       425000|\n",
            "| 21|       Toyota Innova|       Toyota|     Innova|          8|   110000| Individual|   Diesel|           Manual|  12.99|  2494|    100.6|    8|       605000|\n",
            "| 22|       Maruti Baleno|       Maruti|     Baleno|          6|    20000| Individual|   Petrol|           Manual|   21.4|  1197|     83.1|    5|       600000|\n",
            "| 23|  Maruti Swift Dzire|       Maruti|Swift Dzire|          5|    40000| Individual|   Petrol|           Manual|  20.85|  1197|    83.14|    5|       575000|\n",
            "+---+--------------------+-------------+-----------+-----------+---------+-----------+---------+-----------------+-------+------+---------+-----+-------------+\n",
            "only showing top 20 rows\n",
            "\n"
          ]
        }
      ]
    },
    {
      "cell_type": "code",
      "source": [
        "type(df_pyspark)"
      ],
      "metadata": {
        "colab": {
          "base_uri": "https://localhost:8080/",
          "height": 186
        },
        "id": "2MrMPjZRxFJO",
        "outputId": "5efd740f-1fc6-4d17-dc7d-6524ca1f9a80"
      },
      "execution_count": 13,
      "outputs": [
        {
          "output_type": "execute_result",
          "data": {
            "text/plain": [
              "pyspark.sql.dataframe.DataFrame"
            ],
            "text/html": [
              "<div style=\"max-width:800px; border: 1px solid var(--colab-border-color);\"><style>\n",
              "      pre.function-repr-contents {\n",
              "        overflow-x: auto;\n",
              "        padding: 8px 12px;\n",
              "        max-height: 500px;\n",
              "      }\n",
              "\n",
              "      pre.function-repr-contents.function-repr-contents-collapsed {\n",
              "        cursor: pointer;\n",
              "        max-height: 100px;\n",
              "      }\n",
              "    </style>\n",
              "    <pre style=\"white-space: initial; background:\n",
              "         var(--colab-secondary-surface-color); padding: 8px 12px;\n",
              "         border-bottom: 1px solid var(--colab-border-color);\"><b>pyspark.sql.dataframe.DataFrame</b><br/>def __init__(jdf: JavaObject, sql_ctx: Union[&#x27;SQLContext&#x27;, &#x27;SparkSession&#x27;])</pre><pre class=\"function-repr-contents function-repr-contents-collapsed\" style=\"\"><a class=\"filepath\" style=\"display:none\" href=\"#\">/usr/local/lib/python3.11/dist-packages/pyspark/sql/dataframe.py</a>A distributed collection of data grouped into named columns.\n",
              "\n",
              ".. versionadded:: 1.3.0\n",
              "\n",
              ".. versionchanged:: 3.4.0\n",
              "    Supports Spark Connect.\n",
              "\n",
              "Examples\n",
              "--------\n",
              "A :class:`DataFrame` is equivalent to a relational table in Spark SQL,\n",
              "and can be created using various functions in :class:`SparkSession`:\n",
              "\n",
              "&gt;&gt;&gt; people = spark.createDataFrame([\n",
              "...     {&quot;deptId&quot;: 1, &quot;age&quot;: 40, &quot;name&quot;: &quot;Hyukjin Kwon&quot;, &quot;gender&quot;: &quot;M&quot;, &quot;salary&quot;: 50},\n",
              "...     {&quot;deptId&quot;: 1, &quot;age&quot;: 50, &quot;name&quot;: &quot;Takuya Ueshin&quot;, &quot;gender&quot;: &quot;M&quot;, &quot;salary&quot;: 100},\n",
              "...     {&quot;deptId&quot;: 2, &quot;age&quot;: 60, &quot;name&quot;: &quot;Xinrong Meng&quot;, &quot;gender&quot;: &quot;F&quot;, &quot;salary&quot;: 150},\n",
              "...     {&quot;deptId&quot;: 3, &quot;age&quot;: 20, &quot;name&quot;: &quot;Haejoon Lee&quot;, &quot;gender&quot;: &quot;M&quot;, &quot;salary&quot;: 200}\n",
              "... ])\n",
              "\n",
              "Once created, it can be manipulated using the various domain-specific-language\n",
              "(DSL) functions defined in: :class:`DataFrame`, :class:`Column`.\n",
              "\n",
              "To select a column from the :class:`DataFrame`, use the apply method:\n",
              "\n",
              "&gt;&gt;&gt; age_col = people.age\n",
              "\n",
              "A more concrete example:\n",
              "\n",
              "&gt;&gt;&gt; # To create DataFrame using SparkSession\n",
              "... department = spark.createDataFrame([\n",
              "...     {&quot;id&quot;: 1, &quot;name&quot;: &quot;PySpark&quot;},\n",
              "...     {&quot;id&quot;: 2, &quot;name&quot;: &quot;ML&quot;},\n",
              "...     {&quot;id&quot;: 3, &quot;name&quot;: &quot;Spark SQL&quot;}\n",
              "... ])\n",
              "\n",
              "&gt;&gt;&gt; people.filter(people.age &gt; 30).join(\n",
              "...     department, people.deptId == department.id).groupBy(\n",
              "...     department.name, &quot;gender&quot;).agg({&quot;salary&quot;: &quot;avg&quot;, &quot;age&quot;: &quot;max&quot;}).show()\n",
              "+-------+------+-----------+--------+\n",
              "|   name|gender|avg(salary)|max(age)|\n",
              "+-------+------+-----------+--------+\n",
              "|     ML|     F|      150.0|      60|\n",
              "|PySpark|     M|       75.0|      50|\n",
              "+-------+------+-----------+--------+\n",
              "\n",
              "Notes\n",
              "-----\n",
              "A DataFrame should only be created as described above. It should not be directly\n",
              "created via using the constructor.</pre>\n",
              "      <script>\n",
              "      if (google.colab.kernel.accessAllowed && google.colab.files && google.colab.files.view) {\n",
              "        for (const element of document.querySelectorAll('.filepath')) {\n",
              "          element.style.display = 'block'\n",
              "          element.onclick = (event) => {\n",
              "            event.preventDefault();\n",
              "            event.stopPropagation();\n",
              "            google.colab.files.view(element.textContent, 80);\n",
              "          };\n",
              "        }\n",
              "      }\n",
              "      for (const element of document.querySelectorAll('.function-repr-contents')) {\n",
              "        element.onclick = (event) => {\n",
              "          event.preventDefault();\n",
              "          event.stopPropagation();\n",
              "          element.classList.toggle('function-repr-contents-collapsed');\n",
              "        };\n",
              "      }\n",
              "      </script>\n",
              "      </div>"
            ]
          },
          "metadata": {},
          "execution_count": 13
        }
      ]
    },
    {
      "cell_type": "code",
      "source": [
        "df_pyspark.select(['car_name','brand']).show()"
      ],
      "metadata": {
        "colab": {
          "base_uri": "https://localhost:8080/"
        },
        "id": "uCCfMjwgxnxV",
        "outputId": "dab15897-5fa7-4422-91c4-af2314ee500a"
      },
      "execution_count": 15,
      "outputs": [
        {
          "output_type": "stream",
          "name": "stdout",
          "text": [
            "+--------------------+-------------+\n",
            "|            car_name|        brand|\n",
            "+--------------------+-------------+\n",
            "|         Maruti Alto|       Maruti|\n",
            "|       Hyundai Grand|      Hyundai|\n",
            "|         Hyundai i20|      Hyundai|\n",
            "|         Maruti Alto|       Maruti|\n",
            "|       Ford Ecosport|         Ford|\n",
            "|      Maruti Wagon R|       Maruti|\n",
            "|         Hyundai i10|      Hyundai|\n",
            "|      Maruti Wagon R|       Maruti|\n",
            "|       Hyundai Venue|      Hyundai|\n",
            "|        Maruti Swift|       Maruti|\n",
            "|       Hyundai Verna|      Hyundai|\n",
            "|      Renault Duster|      Renault|\n",
            "|         Mini Cooper|         Mini|\n",
            "|         Maruti Ciaz|       Maruti|\n",
            "|        Maruti Swift|       Maruti|\n",
            "|Mercedes-Benz C-C...|Mercedes-Benz|\n",
            "|        Maruti Swift|       Maruti|\n",
            "|       Toyota Innova|       Toyota|\n",
            "|       Maruti Baleno|       Maruti|\n",
            "|  Maruti Swift Dzire|       Maruti|\n",
            "+--------------------+-------------+\n",
            "only showing top 20 rows\n",
            "\n"
          ]
        }
      ]
    },
    {
      "cell_type": "code",
      "source": [
        "df_pyspark.dtypes"
      ],
      "metadata": {
        "colab": {
          "base_uri": "https://localhost:8080/"
        },
        "id": "yoSQsI8LxviH",
        "outputId": "610d8c52-dd10-4f7d-d4e8-452dc5661ce1"
      },
      "execution_count": 17,
      "outputs": [
        {
          "output_type": "execute_result",
          "data": {
            "text/plain": [
              "[('_c0', 'int'),\n",
              " ('car_name', 'string'),\n",
              " ('brand', 'string'),\n",
              " ('model', 'string'),\n",
              " ('vehicle_age', 'int'),\n",
              " ('km_driven', 'int'),\n",
              " ('seller_type', 'string'),\n",
              " ('fuel_type', 'string'),\n",
              " ('transmission_type', 'string'),\n",
              " ('mileage', 'double'),\n",
              " ('engine', 'int'),\n",
              " ('max_power', 'double'),\n",
              " ('seats', 'int'),\n",
              " ('selling_price', 'int')]"
            ]
          },
          "metadata": {},
          "execution_count": 17
        }
      ]
    },
    {
      "cell_type": "code",
      "source": [
        "df_pyspark.describe().show()"
      ],
      "metadata": {
        "colab": {
          "base_uri": "https://localhost:8080/"
        },
        "id": "Sl31A04Hx3Ky",
        "outputId": "b0d5c951-d6e4-42c0-eb4b-287c05b8b477"
      },
      "execution_count": 18,
      "outputs": [
        {
          "output_type": "stream",
          "name": "stdout",
          "text": [
            "+-------+-----------------+----------+-----+------------------+------------------+-----------------+----------------+---------+-----------------+------------------+------------------+-----------------+-----------------+-----------------+\n",
            "|summary|              _c0|  car_name|brand|             model|       vehicle_age|        km_driven|     seller_type|fuel_type|transmission_type|           mileage|            engine|        max_power|            seats|    selling_price|\n",
            "+-------+-----------------+----------+-----+------------------+------------------+-----------------+----------------+---------+-----------------+------------------+------------------+-----------------+-----------------+-----------------+\n",
            "|  count|            15411|     15411|15411|             15411|             15411|            15411|           15411|    15411|            15411|             15411|             15411|            15411|            15411|            15411|\n",
            "|   mean|9811.857699046135|      NULL| NULL|4.3476923076923075|6.0363376808772955|55616.48063071832|            NULL|     NULL|             NULL|19.701151125819095|1486.0577509571085|100.5882538446622|5.325481798715203|774971.1164103562|\n",
            "| stddev|5643.418541882794|      NULL| NULL|1.4007391889297625| 3.013291461417931|51618.54842178997|            NULL|     NULL|             NULL| 4.171264603904163| 521.1066956281886|42.97297907656083|0.807628428967241|894128.3632627012|\n",
            "|    min|                0|   Audi A4| Audi|                 3|                 0|              100|          Dealer|      CNG|        Automatic|               4.0|               793|             38.4|                0|            40000|\n",
            "|    max|            19543|Volvo XC90|Volvo|           redi-GO|                29|          3800000|Trustmark Dealer|   Petrol|           Manual|             33.54|              6592|            626.0|                9|         39500000|\n",
            "+-------+-----------------+----------+-----+------------------+------------------+-----------------+----------------+---------+-----------------+------------------+------------------+-----------------+-----------------+-----------------+\n",
            "\n"
          ]
        }
      ]
    }
  ]
}