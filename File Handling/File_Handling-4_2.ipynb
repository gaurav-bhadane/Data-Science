{
 "cells": [
  {
   "cell_type": "markdown",
   "id": "94b6c5d5-6953-4906-8c2e-11b8f6c444d2",
   "metadata": {},
   "source": [
    "### File Handling- 4.2 (Logging)"
   ]
  },
  {
   "cell_type": "code",
   "execution_count": 1,
   "id": "0a361e31-2b96-4f1b-b74f-1ab5cb1997ce",
   "metadata": {},
   "outputs": [],
   "source": [
    "import logging"
   ]
  },
  {
   "cell_type": "code",
   "execution_count": 2,
   "id": "7a9cbad9-8cc3-4f21-8e75-1f989005c6a0",
   "metadata": {},
   "outputs": [],
   "source": [
    "logging.basicConfig(filename=\"test44.log\",level=logging.DEBUG,format='%(asctime)s %(message)s')"
   ]
  },
  {
   "cell_type": "code",
   "execution_count": 3,
   "id": "1a29486c-f723-4e8f-bdb8-bae0c361aa42",
   "metadata": {},
   "outputs": [],
   "source": [
    "logging.info('This is an info message')"
   ]
  },
  {
   "cell_type": "code",
   "execution_count": 4,
   "id": "24f196a0-ca74-4664-9c3f-819f7980a353",
   "metadata": {},
   "outputs": [],
   "source": [
    "logging.debug('This is a debug message')"
   ]
  },
  {
   "cell_type": "code",
   "execution_count": 5,
   "id": "e5612589-ed01-4546-ada7-2638acd7eb93",
   "metadata": {},
   "outputs": [],
   "source": [
    "logging.warning('This is a warning message')"
   ]
  },
  {
   "cell_type": "code",
   "execution_count": 6,
   "id": "3c04d626-b4d7-4eba-ac11-018cf4109677",
   "metadata": {},
   "outputs": [],
   "source": [
    "logging.shutdown()"
   ]
  },
  {
   "cell_type": "code",
   "execution_count": 2,
   "id": "c4ffe074-6811-4c59-992e-9d0f151d6e8e",
   "metadata": {},
   "outputs": [],
   "source": [
    "logging.basicConfig(filename=\"test444.log\",level=logging.DEBUG, format='%(asctime)s %(name)s %(levelname)s %(message)s')"
   ]
  },
  {
   "cell_type": "code",
   "execution_count": 3,
   "id": "1135b944-ad93-44d9-bcd3-6708a7790d8f",
   "metadata": {},
   "outputs": [],
   "source": [
    "logging.info(\"This is my info log\")"
   ]
  },
  {
   "cell_type": "code",
   "execution_count": 4,
   "id": "7879ed9c-5855-49c2-9498-e302583fc5e2",
   "metadata": {},
   "outputs": [],
   "source": [
    "#Implementation"
   ]
  },
  {
   "cell_type": "code",
   "execution_count": 5,
   "id": "f2695a02-51c1-44cb-9427-fb3afd70a76e",
   "metadata": {},
   "outputs": [],
   "source": [
    "l=[1,2,3,4,[5,6,7],\"gaurav\",\"bhadane\"]"
   ]
  },
  {
   "cell_type": "code",
   "execution_count": 14,
   "id": "74dd6917-b014-4aa9-81ca-3688f60d9780",
   "metadata": {},
   "outputs": [],
   "source": [
    "l1_int=[]\n",
    "l2_str=[]"
   ]
  },
  {
   "cell_type": "code",
   "execution_count": 17,
   "id": "6e48a2dc-08e1-4874-8bb6-39aee9c28555",
   "metadata": {},
   "outputs": [],
   "source": [
    "for i in l:\n",
    "    logging.info(\"this is Start of my First For Loop {}\".format(l))\n",
    "    logging.info(\"this is the value of i am logging {}\".format(i))\n",
    "    if type(i)==list:\n",
    "        for j in i:\n",
    "            logging.info(\"logging my j {j} and i {i}\".format(i=i,j=j))\n",
    "            if type(j)==int:\n",
    "                l1_int.append(j)\n",
    "    elif type(i)==int:\n",
    "        l1_int.append(i)\n",
    "    else:\n",
    "        l2_str.append(i)\n",
    "logging.info(\"This is My final result with all int{l1} and all str {l2}\".format(l1=l1_int,l2=l2_str))"
   ]
  },
  {
   "cell_type": "code",
   "execution_count": 18,
   "id": "0468b924-985f-4a1a-a0e8-598072996ce2",
   "metadata": {},
   "outputs": [
    {
     "data": {
      "text/plain": [
       "[1, 2, 3, 4, 5, 6, 7, 1, 2, 3, 4, 5, 6, 7, 1, 2, 3, 4, 5, 6, 7]"
      ]
     },
     "execution_count": 18,
     "metadata": {},
     "output_type": "execute_result"
    }
   ],
   "source": [
    "l1_int"
   ]
  },
  {
   "cell_type": "code",
   "execution_count": 19,
   "id": "3c66b2f3-6aeb-4f0e-bb2c-bc83233a3f64",
   "metadata": {},
   "outputs": [
    {
     "data": {
      "text/plain": [
       "['gaurav', 'bhadane', 'gaurav', 'bhadane', 'gaurav', 'bhadane']"
      ]
     },
     "execution_count": 19,
     "metadata": {},
     "output_type": "execute_result"
    }
   ],
   "source": [
    "l2_str"
   ]
  }
 ],
 "metadata": {
  "kernelspec": {
   "display_name": "Python 3 (ipykernel)",
   "language": "python",
   "name": "python3"
  },
  "language_info": {
   "codemirror_mode": {
    "name": "ipython",
    "version": 3
   },
   "file_extension": ".py",
   "mimetype": "text/x-python",
   "name": "python",
   "nbconvert_exporter": "python",
   "pygments_lexer": "ipython3",
   "version": "3.11.5"
  }
 },
 "nbformat": 4,
 "nbformat_minor": 5
}
