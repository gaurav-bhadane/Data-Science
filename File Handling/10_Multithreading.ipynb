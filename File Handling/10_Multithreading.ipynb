{
 "cells": [
  {
   "cell_type": "markdown",
   "id": "44e92519-4906-45f3-8eb7-cc146ec94334",
   "metadata": {},
   "source": [
    "### Multithreading"
   ]
  },
  {
   "cell_type": "code",
   "execution_count": 2,
   "id": "8782a789-e442-4cc6-aa21-2a0c57b13900",
   "metadata": {},
   "outputs": [],
   "source": [
    "import threading"
   ]
  },
  {
   "cell_type": "code",
   "execution_count": 4,
   "id": "a7bcd616-6bec-4b35-8e20-dd07765f6523",
   "metadata": {},
   "outputs": [],
   "source": [
    "def test(id):\n",
    "    print(\"this is my test id %d \" %id)"
   ]
  },
  {
   "cell_type": "code",
   "execution_count": 5,
   "id": "319e3220-ee4a-40c9-84f4-8083ba14c19e",
   "metadata": {},
   "outputs": [
    {
     "name": "stdout",
     "output_type": "stream",
     "text": [
      "this is my test id 10 \n"
     ]
    }
   ],
   "source": [
    "test(10)"
   ]
  },
  {
   "cell_type": "code",
   "execution_count": 6,
   "id": "642e9b2c-b715-4376-95ee-ae48e0995173",
   "metadata": {},
   "outputs": [
    {
     "name": "stdout",
     "output_type": "stream",
     "text": [
      "this is my test id 1 \n"
     ]
    }
   ],
   "source": [
    "test(1)"
   ]
  },
  {
   "cell_type": "code",
   "execution_count": 7,
   "id": "8a5426da-4eb5-478a-890d-dc693cd19d29",
   "metadata": {},
   "outputs": [
    {
     "name": "stdout",
     "output_type": "stream",
     "text": [
      "this is my test id 5 \n"
     ]
    }
   ],
   "source": [
    "test(5)"
   ]
  },
  {
   "cell_type": "code",
   "execution_count": 8,
   "id": "bd7d10a0-738c-45c1-9519-e57e72555ab2",
   "metadata": {},
   "outputs": [],
   "source": [
    "## above all inputs simultaneously will be given as follows\n",
    "thread = [threading.Thread(target=test,args=(i,)) for i in [10,1,5]]"
   ]
  },
  {
   "cell_type": "code",
   "execution_count": 9,
   "id": "bcd9cff3-e430-435a-aa32-bacd62f1aed7",
   "metadata": {},
   "outputs": [
    {
     "data": {
      "text/plain": [
       "[<Thread(Thread-5 (test), initial)>,\n",
       " <Thread(Thread-6 (test), initial)>,\n",
       " <Thread(Thread-7 (test), initial)>]"
      ]
     },
     "execution_count": 9,
     "metadata": {},
     "output_type": "execute_result"
    }
   ],
   "source": [
    "thread"
   ]
  },
  {
   "cell_type": "code",
   "execution_count": 10,
   "id": "83b80f14-d768-4803-b0e7-1f305c5da52a",
   "metadata": {},
   "outputs": [
    {
     "name": "stdout",
     "output_type": "stream",
     "text": [
      "this is my test id 10 \n",
      "this is my test id 1 \n",
      "this is my test id 5 \n"
     ]
    }
   ],
   "source": [
    "for t in thread:\n",
    "    t.start()"
   ]
  },
  {
   "cell_type": "code",
   "execution_count": 12,
   "id": "43c89cc9-7659-4078-b780-f7bd4c803052",
   "metadata": {},
   "outputs": [],
   "source": [
    "# Above ThreadThey are by default performed in Single Core"
   ]
  },
  {
   "cell_type": "code",
   "execution_count": 3,
   "id": "63d54ff5-6e22-43f9-8e3d-319c0676cb98",
   "metadata": {},
   "outputs": [],
   "source": [
    "import urllib.request\n",
    "\n",
    "def file_download(url,filename):\n",
    "    urllib.request.urlretrieve(url,filename)"
   ]
  },
  {
   "cell_type": "code",
   "execution_count": 4,
   "id": "3bda4927-497e-416b-b5d8-e48fcfcbf2ed",
   "metadata": {},
   "outputs": [],
   "source": [
    "file_download('https://raw.githubusercontent.com/itsfoss/text-files/master/agatha.txt',\"test10.txt\")"
   ]
  },
  {
   "cell_type": "code",
   "execution_count": 5,
   "id": "622c0e78-5dbc-41eb-967b-ca16935fdc20",
   "metadata": {},
   "outputs": [],
   "source": [
    "url_list = ['https://raw.githubusercontent.com/itsfoss/text-files/master/agatha.txt','https://raw.githubusercontent.com/itsfoss/text-files/master/sherlock.txt','https://raw.githubusercontent.com/itsfoss/text-files/master/sample_log_file.txt']"
   ]
  },
  {
   "cell_type": "code",
   "execution_count": 6,
   "id": "9b4cd50d-8e57-4e1d-9737-3adcd13019bd",
   "metadata": {},
   "outputs": [
    {
     "data": {
      "text/plain": [
       "['https://raw.githubusercontent.com/itsfoss/text-files/master/agatha.txt',\n",
       " 'https://raw.githubusercontent.com/itsfoss/text-files/master/sherlock.txt',\n",
       " 'https://raw.githubusercontent.com/itsfoss/text-files/master/sample_log_file.txt']"
      ]
     },
     "execution_count": 6,
     "metadata": {},
     "output_type": "execute_result"
    }
   ],
   "source": [
    "url_list"
   ]
  },
  {
   "cell_type": "code",
   "execution_count": 7,
   "id": "77a4494d-f7e0-4432-bce8-f3407c010037",
   "metadata": {},
   "outputs": [],
   "source": [
    "data_file_list = ['10_data1.txt','10_data2.txt','10_data3.txt']"
   ]
  },
  {
   "cell_type": "code",
   "execution_count": 8,
   "id": "e8ab96e2-362a-469f-b889-a53d9c5f4f0d",
   "metadata": {},
   "outputs": [
    {
     "data": {
      "text/plain": [
       "['10_data1.txt', '10_data2.txt', '10_data3.txt']"
      ]
     },
     "execution_count": 8,
     "metadata": {},
     "output_type": "execute_result"
    }
   ],
   "source": [
    "data_file_list"
   ]
  },
  {
   "cell_type": "code",
   "execution_count": 9,
   "id": "87e17001-9c17-4e17-a0f6-2d1f19308fd6",
   "metadata": {},
   "outputs": [],
   "source": [
    "import threading"
   ]
  },
  {
   "cell_type": "code",
   "execution_count": 17,
   "id": "2911d40a-dde7-464d-92f3-116e34c97818",
   "metadata": {},
   "outputs": [],
   "source": [
    "# thread = [threading.Thread(target=test,args=(i,)) for i in [10,1,5]]\n",
    "thread1=[threading.Thread(target=file_download , args=(url_list[i],data_file_list[i])) for i in range(len(url_list))]"
   ]
  },
  {
   "cell_type": "code",
   "execution_count": 18,
   "id": "f57ce710-10f7-4d99-9aa6-a30527fbfc2a",
   "metadata": {},
   "outputs": [
    {
     "data": {
      "text/plain": [
       "[<Thread(Thread-5 (file_download), initial)>,\n",
       " <Thread(Thread-6 (file_download), initial)>,\n",
       " <Thread(Thread-7 (file_download), initial)>]"
      ]
     },
     "execution_count": 18,
     "metadata": {},
     "output_type": "execute_result"
    }
   ],
   "source": [
    "thread1"
   ]
  },
  {
   "cell_type": "code",
   "execution_count": 19,
   "id": "c1a137cb-df76-427a-8b60-43ec75109b34",
   "metadata": {},
   "outputs": [],
   "source": [
    "for i in thread1:\n",
    "    i.start()"
   ]
  },
  {
   "cell_type": "code",
   "execution_count": 20,
   "id": "363aa780-169c-4b78-a72d-b14953889999",
   "metadata": {},
   "outputs": [],
   "source": [
    "import time"
   ]
  },
  {
   "cell_type": "code",
   "execution_count": 37,
   "id": "f3d2850e-f6a3-44d6-8c0d-44d4ca453df1",
   "metadata": {},
   "outputs": [],
   "source": [
    "def test(x):\n",
    "    for i in range(10):\n",
    "        print(\"test1 print the value of x %d and print thr value of i %d\" %(x,i))\n",
    "        time.sleep(1)"
   ]
  },
  {
   "cell_type": "code",
   "execution_count": 26,
   "id": "873ada7d-7e7c-49b8-a63a-48382af274c6",
   "metadata": {},
   "outputs": [
    {
     "name": "stdout",
     "output_type": "stream",
     "text": [
      "test1 print the value of x 10 and print thr value of i 0\n",
      "test1 print the value of x 10 and print thr value of i 1\n",
      "test1 print the value of x 10 and print thr value of i 2\n",
      "test1 print the value of x 10 and print thr value of i 3\n",
      "test1 print the value of x 10 and print thr value of i 4\n",
      "test1 print the value of x 10 and print thr value of i 5\n",
      "test1 print the value of x 10 and print thr value of i 6\n",
      "test1 print the value of x 10 and print thr value of i 7\n",
      "test1 print the value of x 10 and print thr value of i 8\n",
      "test1 print the value of x 10 and print thr value of i 9\n"
     ]
    }
   ],
   "source": [
    "test(10)"
   ]
  },
  {
   "cell_type": "code",
   "execution_count": 27,
   "id": "e3007dac-4a80-41cc-8e94-bfc49317dda0",
   "metadata": {},
   "outputs": [
    {
     "name": "stdout",
     "output_type": "stream",
     "text": [
      "test1 print the value of x 2 and print thr value of i 0\n",
      "test1 print the value of x 2 and print thr value of i 1\n",
      "test1 print the value of x 2 and print thr value of i 2\n",
      "test1 print the value of x 2 and print thr value of i 3\n",
      "test1 print the value of x 2 and print thr value of i 4\n",
      "test1 print the value of x 2 and print thr value of i 5\n",
      "test1 print the value of x 2 and print thr value of i 6\n",
      "test1 print the value of x 2 and print thr value of i 7\n",
      "test1 print the value of x 2 and print thr value of i 8\n",
      "test1 print the value of x 2 and print thr value of i 9\n"
     ]
    }
   ],
   "source": [
    "test(2)"
   ]
  },
  {
   "cell_type": "code",
   "execution_count": 38,
   "id": "ccd1112e-6fe8-4b2f-91c9-3c59ac266352",
   "metadata": {},
   "outputs": [],
   "source": [
    "thread2=[threading.Thread(target=test,args=(i,)) for i in [10,2,6,8]]"
   ]
  },
  {
   "cell_type": "code",
   "execution_count": 35,
   "id": "2f7bb901-8b04-471e-b064-af17de56804a",
   "metadata": {},
   "outputs": [
    {
     "data": {
      "text/plain": [
       "[<Thread(Thread-16 (test), initial)>,\n",
       " <Thread(Thread-17 (test), initial)>,\n",
       " <Thread(Thread-18 (test), initial)>,\n",
       " <Thread(Thread-19 (test), initial)>]"
      ]
     },
     "execution_count": 35,
     "metadata": {},
     "output_type": "execute_result"
    }
   ],
   "source": [
    "thread2"
   ]
  },
  {
   "cell_type": "code",
   "execution_count": 39,
   "id": "ac614e87-b186-417a-907e-03ca95cfd7cd",
   "metadata": {},
   "outputs": [
    {
     "name": "stdout",
     "output_type": "stream",
     "text": [
      "test1 print the value of x 10 and print thr value of i 0\n",
      "test1 print the value of x 2 and print thr value of i 0\n",
      "test1 print the value of x 6 and print thr value of i 0\n",
      "test1 print the value of x 8 and print thr value of i 0\n",
      "test1 print the value of x 10 and print thr value of i 1test1 print the value of x 2 and print thr value of i 1\n",
      "\n",
      "test1 print the value of x 8 and print thr value of i 1\n",
      "test1 print the value of x 6 and print thr value of i 1\n",
      "test1 print the value of x 2 and print thr value of i 2test1 print the value of x 10 and print thr value of i 2\n",
      "test1 print the value of x 8 and print thr value of i 2\n",
      "test1 print the value of x 6 and print thr value of i 2\n",
      "\n",
      "test1 print the value of x 8 and print thr value of i 3test1 print the value of x 10 and print thr value of i 3\n",
      "test1 print the value of x 6 and print thr value of i 3\n",
      "test1 print the value of x 2 and print thr value of i 3\n",
      "\n",
      "test1 print the value of x 10 and print thr value of i 4test1 print the value of x 6 and print thr value of i 4\n",
      "test1 print the value of x 2 and print thr value of i 4\n",
      "\n",
      "test1 print the value of x 8 and print thr value of i 4\n",
      "test1 print the value of x 6 and print thr value of i 5test1 print the value of x 2 and print thr value of i 5\n",
      "test1 print the value of x 8 and print thr value of i 5\n",
      "test1 print the value of x 10 and print thr value of i 5\n",
      "\n",
      "test1 print the value of x 2 and print thr value of i 6\n",
      "test1 print the value of x 6 and print thr value of i 6\n",
      "test1 print the value of x 10 and print thr value of i 6\n",
      "test1 print the value of x 8 and print thr value of i 6\n",
      "test1 print the value of x 10 and print thr value of i 7test1 print the value of x 6 and print thr value of i 7\n",
      "test1 print the value of x 8 and print thr value of i 7\n",
      "test1 print the value of x 2 and print thr value of i 7\n",
      "\n",
      "test1 print the value of x 2 and print thr value of i 8test1 print the value of x 8 and print thr value of i 8\n",
      "test1 print the value of x 6 and print thr value of i 8\n",
      "\n",
      "test1 print the value of x 10 and print thr value of i 8\n",
      "test1 print the value of x 2 and print thr value of i 9test1 print the value of x 6 and print thr value of i 9\n",
      "test1 print the value of x 8 and print thr value of i 9\n",
      "\n",
      "test1 print the value of x 10 and print thr value of i 9\n"
     ]
    }
   ],
   "source": [
    "for t in thread2:\n",
    "    t.start()"
   ]
  },
  {
   "cell_type": "code",
   "execution_count": 50,
   "id": "326785b6-adbe-4a78-8dc2-0e6f383d16db",
   "metadata": {},
   "outputs": [],
   "source": [
    "shared_var=0\n",
    "lock_var=threading.Lock()\n",
    "def test2(x):\n",
    "    global shared_var\n",
    "    with lock_var:\n",
    "        shared_var=shared_var + 1\n",
    "        print(\"value of x %d and Value of Shared_var %d\" %(x,shared_var))\n",
    "        time.sleep(1)\n",
    "thread3=[threading.Thread(target=test2,args=(i,)) for i in [1,2,3,4,5,6,7,8]]"
   ]
  },
  {
   "cell_type": "code",
   "execution_count": 47,
   "id": "137b3347-135d-4c03-9a1f-a56d022aabf8",
   "metadata": {},
   "outputs": [
    {
     "data": {
      "text/plain": [
       "[<Thread(Thread-24 (test2), stopped 21552)>,\n",
       " <Thread(Thread-25 (test2), stopped 18400)>,\n",
       " <Thread(Thread-26 (test2), stopped 10364)>,\n",
       " <Thread(Thread-27 (test2), stopped 13780)>,\n",
       " <Thread(Thread-28 (test2), stopped 20396)>,\n",
       " <Thread(Thread-29 (test2), stopped 16720)>,\n",
       " <Thread(Thread-30 (test2), stopped 30104)>,\n",
       " <Thread(Thread-31 (test2), stopped 2280)>]"
      ]
     },
     "execution_count": 47,
     "metadata": {},
     "output_type": "execute_result"
    }
   ],
   "source": [
    "thread3"
   ]
  },
  {
   "cell_type": "code",
   "execution_count": 51,
   "id": "6f6d12e5-eab9-4321-92ff-35a4b1edacbd",
   "metadata": {},
   "outputs": [
    {
     "name": "stdout",
     "output_type": "stream",
     "text": [
      "value of x 1 and Value of Shared_var 1\n",
      "value of x 2 and Value of Shared_var 2\n",
      "value of x 3 and Value of Shared_var 3\n",
      "value of x 4 and Value of Shared_var 4\n",
      "value of x 5 and Value of Shared_var 5\n",
      "value of x 6 and Value of Shared_var 6\n",
      "value of x 7 and Value of Shared_var 7\n",
      "value of x 8 and Value of Shared_var 8\n"
     ]
    }
   ],
   "source": [
    "for t in thread3:\n",
    "    t.start()"
   ]
  }
 ],
 "metadata": {
  "kernelspec": {
   "display_name": "Python 3 (ipykernel)",
   "language": "python",
   "name": "python3"
  },
  "language_info": {
   "codemirror_mode": {
    "name": "ipython",
    "version": 3
   },
   "file_extension": ".py",
   "mimetype": "text/x-python",
   "name": "python",
   "nbconvert_exporter": "python",
   "pygments_lexer": "ipython3",
   "version": "3.11.5"
  }
 },
 "nbformat": 4,
 "nbformat_minor": 5
}
