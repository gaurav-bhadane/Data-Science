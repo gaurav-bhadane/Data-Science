{
 "cells": [
  {
   "cell_type": "markdown",
   "id": "16d5478b-e7ef-4170-b97e-bb1d847a732c",
   "metadata": {},
   "source": [
    "### File Handling-4.1 (Logging & Debugger)"
   ]
  },
  {
   "cell_type": "code",
   "execution_count": 1,
   "id": "29964b90-6117-4df8-ad64-170d020d7940",
   "metadata": {},
   "outputs": [],
   "source": [
    "import logging"
   ]
  },
  {
   "cell_type": "code",
   "execution_count": 2,
   "id": "ef605749-a34f-4553-87a2-a107637da389",
   "metadata": {},
   "outputs": [],
   "source": [
    "logging.basicConfig(filename=\"test4.log\",level=logging.INFO)"
   ]
  },
  {
   "cell_type": "code",
   "execution_count": 3,
   "id": "80269034-a529-4c0e-b768-75f20b7e07e6",
   "metadata": {},
   "outputs": [],
   "source": [
    "logging.info(\"This is my Line of Execution\")"
   ]
  },
  {
   "cell_type": "code",
   "execution_count": 4,
   "id": "8b2c38b9-8c2c-456d-924d-44b2a3c58884",
   "metadata": {},
   "outputs": [],
   "source": [
    "logging.error(\"This is my Error\")"
   ]
  },
  {
   "cell_type": "code",
   "execution_count": 5,
   "id": "02511c5e-a3b6-41d3-ba11-fa865664a3cb",
   "metadata": {},
   "outputs": [],
   "source": [
    "logging.critical(\"This is my Critical\")"
   ]
  },
  {
   "cell_type": "code",
   "execution_count": 6,
   "id": "cda56fd8-88a7-49d6-a60b-ff6c9f726458",
   "metadata": {},
   "outputs": [],
   "source": [
    "logging.warning(\"This is my Warning\")"
   ]
  },
  {
   "cell_type": "markdown",
   "id": "12c69d7d-7a9e-4e74-94c1-667d752663b0",
   "metadata": {},
   "source": [
    "#### Heirarchy in logging\n",
    "    1. NOSET\n",
    "    2. DEBUG\n",
    "    3. INFO\n",
    "    4. WARNING\n",
    "    5. ERROR\n",
    "    6. CRITICAL"
   ]
  },
  {
   "cell_type": "code",
   "execution_count": 7,
   "id": "20554edb-a070-4665-9c4b-242e47ad7268",
   "metadata": {},
   "outputs": [],
   "source": [
    "logging.debug(\"This is my info related to DEBUG\")  # It wont come as heirarchy started from info"
   ]
  },
  {
   "cell_type": "code",
   "execution_count": 8,
   "id": "e92d8653-4a49-45e0-9a0c-2d5a31065773",
   "metadata": {},
   "outputs": [],
   "source": [
    "logging.shutdown()"
   ]
  }
 ],
 "metadata": {
  "kernelspec": {
   "display_name": "Python 3 (ipykernel)",
   "language": "python",
   "name": "python3"
  },
  "language_info": {
   "codemirror_mode": {
    "name": "ipython",
    "version": 3
   },
   "file_extension": ".py",
   "mimetype": "text/x-python",
   "name": "python",
   "nbconvert_exporter": "python",
   "pygments_lexer": "ipython3",
   "version": "3.11.5"
  }
 },
 "nbformat": 4,
 "nbformat_minor": 5
}
