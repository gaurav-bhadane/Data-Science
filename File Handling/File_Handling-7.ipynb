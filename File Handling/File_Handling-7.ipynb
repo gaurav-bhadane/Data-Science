{
 "cells": [
  {
   "cell_type": "markdown",
   "id": "1ed1b7c3-b8f7-4e6b-a2f6-72f388f9c7b9",
   "metadata": {},
   "source": [
    "### File Handling-7 (Custom Exception Handling)"
   ]
  },
  {
   "cell_type": "code",
   "execution_count": 1,
   "id": "b737ff1f-f28c-42e5-86dd-d06d86c927d9",
   "metadata": {},
   "outputs": [
    {
     "name": "stdin",
     "output_type": "stream",
     "text": [
      "Enter your age:  21\n"
     ]
    }
   ],
   "source": [
    "age=int(input(\"Enter your age: \"))"
   ]
  },
  {
   "cell_type": "code",
   "execution_count": 2,
   "id": "1e3c8ce5-4bf8-43f2-9642-51699c3ae375",
   "metadata": {},
   "outputs": [
    {
     "data": {
      "text/plain": [
       "21"
      ]
     },
     "execution_count": 2,
     "metadata": {},
     "output_type": "execute_result"
    }
   ],
   "source": [
    "age"
   ]
  },
  {
   "cell_type": "code",
   "execution_count": 3,
   "id": "fe6af075-babb-4699-ae46-4d62b8fa2599",
   "metadata": {},
   "outputs": [],
   "source": [
    "class validateage(Exception):\n",
    "    def __init__(self,msg):\n",
    "        self.msg=msg"
   ]
  },
  {
   "cell_type": "code",
   "execution_count": 4,
   "id": "1c7bd7db-6ca4-429d-90ad-e6cd04690af2",
   "metadata": {},
   "outputs": [],
   "source": [
    "def validate_age(age):\n",
    "    if age<0:\n",
    "        raise validateage(\"Your age cannot be Negative\")\n",
    "    elif age>200:\n",
    "        raise validateage (\"Age is too High\")\n",
    "    else:\n",
    "         print(f\"Your age {age} is valid\")"
   ]
  },
  {
   "cell_type": "code",
   "execution_count": 10,
   "id": "48001512-bd19-4810-b53d-ce0bed94664a",
   "metadata": {},
   "outputs": [
    {
     "name": "stdin",
     "output_type": "stream",
     "text": [
      "Enter your age:  2001\n"
     ]
    },
    {
     "name": "stdout",
     "output_type": "stream",
     "text": [
      "Age is too High\n"
     ]
    }
   ],
   "source": [
    "try: \n",
    "    age=int(input(\"Enter your age: \"))\n",
    "    validate_age(age)\n",
    "except validateage as e:\n",
    "    print(e)"
   ]
  }
 ],
 "metadata": {
  "kernelspec": {
   "display_name": "Python 3 (ipykernel)",
   "language": "python",
   "name": "python3"
  },
  "language_info": {
   "codemirror_mode": {
    "name": "ipython",
    "version": 3
   },
   "file_extension": ".py",
   "mimetype": "text/x-python",
   "name": "python",
   "nbconvert_exporter": "python",
   "pygments_lexer": "ipython3",
   "version": "3.11.5"
  }
 },
 "nbformat": 4,
 "nbformat_minor": 5
}
