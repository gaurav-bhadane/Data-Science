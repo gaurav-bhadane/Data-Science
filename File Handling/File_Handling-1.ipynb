{
 "cells": [
  {
   "cell_type": "markdown",
   "id": "263a70ab-8508-49f4-9646-c306268600fe",
   "metadata": {},
   "source": [
    "### File Handling-1"
   ]
  },
  {
   "cell_type": "code",
   "execution_count": null,
   "id": "2bebf9ce-57cd-4797-b03e-cec02ac89a57",
   "metadata": {},
   "outputs": [],
   "source": [
    "f=open(\"test1.txt\",\"w\")"
   ]
  },
  {
   "cell_type": "code",
   "execution_count": 2,
   "id": "7f4093f5-7589-4f90-8005-5c1a79abbe21",
   "metadata": {},
   "outputs": [
    {
     "data": {
      "text/plain": [
       "'D:\\\\DS_PW\\\\File Handling'"
      ]
     },
     "execution_count": 2,
     "metadata": {},
     "output_type": "execute_result"
    }
   ],
   "source": [
    "pwd"
   ]
  },
  {
   "cell_type": "code",
   "execution_count": 3,
   "id": "7ad4ebb1-8219-4828-9e1f-4764ee28c974",
   "metadata": {},
   "outputs": [
    {
     "name": "stdout",
     "output_type": "stream",
     "text": [
      " Volume in drive D is New Volume\n",
      " Volume Serial Number is 2405-1864\n",
      "\n",
      " Directory of D:\\DS_PW\\File Handling\n",
      "\n",
      "29-03-2024  18:48    <DIR>          .\n",
      "29-03-2024  18:41    <DIR>          ..\n",
      "29-03-2024  18:48    <DIR>          .ipynb_checkpoints\n",
      "29-03-2024  18:48             1,183 File_Handling-1.ipynb\n",
      "29-03-2024  18:47                 0 test1.txt\n",
      "               2 File(s)          1,183 bytes\n",
      "               3 Dir(s)  25,587,478,528 bytes free\n"
     ]
    }
   ],
   "source": [
    "ls"
   ]
  },
  {
   "cell_type": "code",
   "execution_count": 4,
   "id": "d1067ab8-abc5-4a6f-b109-abc8d8c6443f",
   "metadata": {},
   "outputs": [
    {
     "data": {
      "text/plain": [
       "44"
      ]
     },
     "execution_count": 4,
     "metadata": {},
     "output_type": "execute_result"
    }
   ],
   "source": [
    "f.write(\"This is my First Write Operation in the File\")"
   ]
  },
  {
   "cell_type": "code",
   "execution_count": 6,
   "id": "df97216f-2357-4eef-8efd-f9600b8bf45f",
   "metadata": {},
   "outputs": [],
   "source": [
    "f.close()  #File Should be Close then & then it will make the entry"
   ]
  },
  {
   "cell_type": "code",
   "execution_count": 7,
   "id": "d5356525-3ae7-44d6-95cd-0b82054a9ceb",
   "metadata": {},
   "outputs": [],
   "source": [
    "f=open(\"test1.txt\",'a')"
   ]
  },
  {
   "cell_type": "code",
   "execution_count": 8,
   "id": "ed8061a0-7d3c-446d-ba95-e08631e6edc2",
   "metadata": {},
   "outputs": [
    {
     "data": {
      "text/plain": [
       "48"
      ]
     },
     "execution_count": 8,
     "metadata": {},
     "output_type": "execute_result"
    }
   ],
   "source": [
    "f.write(\". Now I have added text through Append Operation\")"
   ]
  },
  {
   "cell_type": "code",
   "execution_count": 9,
   "id": "d17280aa-0864-48c9-8203-3bce44a2d8e7",
   "metadata": {},
   "outputs": [],
   "source": [
    "f.close()"
   ]
  },
  {
   "cell_type": "code",
   "execution_count": 10,
   "id": "d0b09d16-357e-4206-a879-dd98c4b32cc8",
   "metadata": {},
   "outputs": [],
   "source": [
    "data=open(\"test1.txt\",\"r\")"
   ]
  },
  {
   "cell_type": "code",
   "execution_count": 11,
   "id": "6ea0cdaf-5f4d-422a-b404-50ad1cc33c04",
   "metadata": {},
   "outputs": [
    {
     "data": {
      "text/plain": [
       "'This is my First Write Operation in the File. Now I have added text through Append Operation'"
      ]
     },
     "execution_count": 11,
     "metadata": {},
     "output_type": "execute_result"
    }
   ],
   "source": [
    "data.read()"
   ]
  },
  {
   "cell_type": "code",
   "execution_count": 12,
   "id": "85efe9e8-761f-49d3-8ff6-cdd0bf1f327c",
   "metadata": {},
   "outputs": [
    {
     "data": {
      "text/plain": [
       "''"
      ]
     },
     "execution_count": 12,
     "metadata": {},
     "output_type": "execute_result"
    }
   ],
   "source": [
    "data.read()"
   ]
  },
  {
   "cell_type": "code",
   "execution_count": 13,
   "id": "e75d630a-996b-40aa-b412-01642e359680",
   "metadata": {},
   "outputs": [
    {
     "data": {
      "text/plain": [
       "0"
      ]
     },
     "execution_count": 13,
     "metadata": {},
     "output_type": "execute_result"
    }
   ],
   "source": [
    "data.seek(0)"
   ]
  },
  {
   "cell_type": "code",
   "execution_count": 14,
   "id": "5fb5e5b0-e71d-4586-8b9e-beecca2c403a",
   "metadata": {},
   "outputs": [
    {
     "data": {
      "text/plain": [
       "'This is my First Write Operation in the File. Now I have added text through Append Operation'"
      ]
     },
     "execution_count": 14,
     "metadata": {},
     "output_type": "execute_result"
    }
   ],
   "source": [
    "data.read()"
   ]
  },
  {
   "cell_type": "code",
   "execution_count": 16,
   "id": "3e511d4a-4e4d-407b-a0b6-11cf51ce94ff",
   "metadata": {},
   "outputs": [
    {
     "data": {
      "text/plain": [
       "0"
      ]
     },
     "execution_count": 16,
     "metadata": {},
     "output_type": "execute_result"
    }
   ],
   "source": [
    "data.seek(0)"
   ]
  },
  {
   "cell_type": "code",
   "execution_count": 17,
   "id": "f313f8e8-a0cd-453b-93ab-66491b510a7c",
   "metadata": {},
   "outputs": [
    {
     "name": "stdout",
     "output_type": "stream",
     "text": [
      "This is my First Write Operation in the File. Now I have added text through Append Operation\n"
     ]
    }
   ],
   "source": [
    "for i in data:\n",
    "    print(i)"
   ]
  },
  {
   "cell_type": "code",
   "execution_count": 18,
   "id": "e7792035-f29a-43e1-8ebf-89efa8e2d387",
   "metadata": {},
   "outputs": [],
   "source": [
    "import os"
   ]
  },
  {
   "cell_type": "code",
   "execution_count": 19,
   "id": "38b73ce2-85a7-4def-b5e6-acaf54c4445e",
   "metadata": {},
   "outputs": [
    {
     "data": {
      "text/plain": [
       "92"
      ]
     },
     "execution_count": 19,
     "metadata": {},
     "output_type": "execute_result"
    }
   ],
   "source": [
    "os.path.getsize(\"test1.txt\")"
   ]
  },
  {
   "cell_type": "code",
   "execution_count": 20,
   "id": "fbc9f984-c49e-464e-ad82-8df5dde67b72",
   "metadata": {},
   "outputs": [],
   "source": [
    "import shutil"
   ]
  },
  {
   "cell_type": "code",
   "execution_count": 21,
   "id": "856bc03a-3723-4576-9646-c1417a8c51df",
   "metadata": {},
   "outputs": [
    {
     "data": {
      "text/plain": [
       "'test1_copy.txt'"
      ]
     },
     "execution_count": 21,
     "metadata": {},
     "output_type": "execute_result"
    }
   ],
   "source": [
    "shutil.copy(\"test1.txt\",\"test1_copy.txt\")"
   ]
  },
  {
   "cell_type": "code",
   "execution_count": 23,
   "id": "f6f2c47c-e0db-448e-b04c-6920ccda9be3",
   "metadata": {},
   "outputs": [],
   "source": [
    "f=open(\"test12.txt\",\"w\")  # Created for performing delete operation"
   ]
  },
  {
   "cell_type": "code",
   "execution_count": 25,
   "id": "5246617b-08d3-457d-86ee-e7fbd0d1b0fe",
   "metadata": {},
   "outputs": [],
   "source": [
    "f.close()"
   ]
  },
  {
   "cell_type": "code",
   "execution_count": 26,
   "id": "c7f6ca74-591d-48ed-9220-1d3b8709db6b",
   "metadata": {},
   "outputs": [],
   "source": [
    "os.remove(\"test12.txt\")"
   ]
  },
  {
   "cell_type": "code",
   "execution_count": 30,
   "id": "b666be4a-7542-4568-9dfc-79b78c5a8b47",
   "metadata": {},
   "outputs": [
    {
     "name": "stdout",
     "output_type": "stream",
     "text": [
      "This is my First Write Operation in the File. Now I have added text through Append Operation\n"
     ]
    }
   ],
   "source": [
    "with open(\"test1_copy.txt\",\"r\") as f:\n",
    "    print(f.read())"
   ]
  },
  {
   "cell_type": "code",
   "execution_count": 31,
   "id": "96b28b45-03a5-417f-afac-e22ba40cb165",
   "metadata": {},
   "outputs": [],
   "source": [
    "#Rename File\n",
    "os.rename(\"test1_copy.txt\",\"test1_Copy.txt\")"
   ]
  }
 ],
 "metadata": {
  "kernelspec": {
   "display_name": "Python 3 (ipykernel)",
   "language": "python",
   "name": "python3"
  },
  "language_info": {
   "codemirror_mode": {
    "name": "ipython",
    "version": 3
   },
   "file_extension": ".py",
   "mimetype": "text/x-python",
   "name": "python",
   "nbconvert_exporter": "python",
   "pygments_lexer": "ipython3",
   "version": "3.11.5"
  }
 },
 "nbformat": 4,
 "nbformat_minor": 5
}
