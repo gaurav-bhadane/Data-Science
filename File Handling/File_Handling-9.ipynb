{
 "cells": [
  {
   "cell_type": "markdown",
   "id": "864468a5-167b-477d-8a58-713621fe9446",
   "metadata": {},
   "source": [
    "### File Handling-9 (Best Practice Exception)"
   ]
  },
  {
   "cell_type": "code",
   "execution_count": 1,
   "id": "efc17a1f-4585-42f7-84e9-169d44b26fce",
   "metadata": {},
   "outputs": [
    {
     "name": "stdout",
     "output_type": "stream",
     "text": [
      "division by zero\n"
     ]
    }
   ],
   "source": [
    "try:\n",
    "    10/0\n",
    "except Exception as e:\n",
    "    print(e)"
   ]
  },
  {
   "cell_type": "code",
   "execution_count": 2,
   "id": "cd7d21f7-2236-4dba-8988-10d3e5201d14",
   "metadata": {},
   "outputs": [
    {
     "name": "stdout",
     "output_type": "stream",
     "text": [
      "division by zero\n"
     ]
    }
   ],
   "source": [
    "#use always specific exception\n",
    "try:\n",
    "    10/0\n",
    "except ZeroDivisionError as e:\n",
    "    print(e)"
   ]
  },
  {
   "cell_type": "code",
   "execution_count": 5,
   "id": "0e1c2f16-9060-4059-aba2-593bae7fb5da",
   "metadata": {},
   "outputs": [
    {
     "name": "stdout",
     "output_type": "stream",
     "text": [
      "This is my Zero Division Error which I am Handling:  division by zero\n"
     ]
    }
   ],
   "source": [
    "# Print Valid Messages\n",
    "try:\n",
    "    10/0\n",
    "except ZeroDivisionError as e:\n",
    "    print(\"This is my Zero Division Error which I am Handling: \",e)"
   ]
  },
  {
   "cell_type": "code",
   "execution_count": 6,
   "id": "6be6ef14-c940-4294-8aa6-c1ed758a7a11",
   "metadata": {},
   "outputs": [],
   "source": [
    "#always try to log\n",
    "import logging\n",
    "logging.basicConfig(filename=\"test9.log\",level=logging.ERROR)\n",
    "try:\n",
    "    10/0\n",
    "except ZeroDivisionError as e:\n",
    "    logging.error(\"This is my Zero Divison error Which I am Handling: {}\".format(e))"
   ]
  },
  {
   "cell_type": "code",
   "execution_count": 10,
   "id": "43155597-4ff3-41a5-a244-e5f6bd258edf",
   "metadata": {},
   "outputs": [],
   "source": [
    "# always avoid to write multiple exception handling\n",
    "try:\n",
    "    10/0\n",
    "except FileNotFoundError as e:\n",
    "    logging.error(\"This is my FilenotFound error Which I am Handling: {}\".format(e))\n",
    "except AttributeError as e:\n",
    "    logging.error(\"This is my Attribute  error Which I am Handling: {}\".format(e))\n",
    "except ZeroDivisionError as e:\n",
    "    logging.error(\"This is my Zero Divison error Which I am Handling: {}\".format(e))"
   ]
  },
  {
   "cell_type": "code",
   "execution_count": 8,
   "id": "57ff01f8-f502-439f-aa34-583149e9fe82",
   "metadata": {},
   "outputs": [],
   "source": [
    "# Prepare a proper Documentation"
   ]
  },
  {
   "cell_type": "code",
   "execution_count": 11,
   "id": "e64f064b-d76b-4b7c-ac26-6d46e43b996f",
   "metadata": {},
   "outputs": [],
   "source": [
    "# Cleanup all the resources\n",
    "try:\n",
    "    with open(\"test9.txt\",\"w\") as f:\n",
    "        f.write(\"This is my msg to the File\")\n",
    "except FileNotFoundError as e:\n",
    "    logging.error(\"This is my FileNotFound Error Which I am Handling: {}\".format(e))\n",
    "finally:\n",
    "    f.close()"
   ]
  },
  {
   "cell_type": "code",
   "execution_count": null,
   "id": "09c463bd-5d33-40c6-97d0-a77a22919582",
   "metadata": {},
   "outputs": [],
   "source": []
  }
 ],
 "metadata": {
  "kernelspec": {
   "display_name": "Python 3 (ipykernel)",
   "language": "python",
   "name": "python3"
  },
  "language_info": {
   "codemirror_mode": {
    "name": "ipython",
    "version": 3
   },
   "file_extension": ".py",
   "mimetype": "text/x-python",
   "name": "python",
   "nbconvert_exporter": "python",
   "pygments_lexer": "ipython3",
   "version": "3.11.5"
  }
 },
 "nbformat": 4,
 "nbformat_minor": 5
}
