{
 "cells": [
  {
   "cell_type": "markdown",
   "id": "ad7b6d05-8ff7-4891-a3c2-c5367b68158c",
   "metadata": {},
   "source": [
    "### File Handling-3 (Buffere Read-Write)"
   ]
  },
  {
   "cell_type": "code",
   "execution_count": 1,
   "id": "8a2cf002-997e-464c-a191-7d4c769e7c10",
   "metadata": {},
   "outputs": [],
   "source": [
    "import io"
   ]
  },
  {
   "cell_type": "code",
   "execution_count": 11,
   "id": "869a4b50-e43a-4044-b189-41a89966cbfc",
   "metadata": {},
   "outputs": [],
   "source": [
    "with open(\"test3.txt\",\"wb\") as f:\n",
    "    file=io.BufferedWriter(f)\n",
    "    file.write(b\"This is my buffer Writer\\n\")\n",
    "    file.write(b\"This is my Second line via buFfer writer\")\n",
    "    file.flush()"
   ]
  },
  {
   "cell_type": "code",
   "execution_count": 16,
   "id": "0d611866-894f-4928-893a-123f74bb7174",
   "metadata": {},
   "outputs": [],
   "source": [
    "with open(\"test3.txt\",\"rb\") as f:\n",
    "    file=io.BufferedReader(f)\n",
    "    data=file.read()"
   ]
  },
  {
   "cell_type": "code",
   "execution_count": 17,
   "id": "32aa0573-3a92-47ca-b2a1-5cda0aadd14f",
   "metadata": {},
   "outputs": [
    {
     "data": {
      "text/plain": [
       "b'This is my buffer Writer\\nThis is my Second line via buFfer writer'"
      ]
     },
     "execution_count": 17,
     "metadata": {},
     "output_type": "execute_result"
    }
   ],
   "source": [
    "data"
   ]
  },
  {
   "cell_type": "code",
   "execution_count": null,
   "id": "b0714d14-ee60-4327-b8d0-64f3ad434e16",
   "metadata": {},
   "outputs": [],
   "source": []
  }
 ],
 "metadata": {
  "kernelspec": {
   "display_name": "Python 3 (ipykernel)",
   "language": "python",
   "name": "python3"
  },
  "language_info": {
   "codemirror_mode": {
    "name": "ipython",
    "version": 3
   },
   "file_extension": ".py",
   "mimetype": "text/x-python",
   "name": "python",
   "nbconvert_exporter": "python",
   "pygments_lexer": "ipython3",
   "version": "3.11.5"
  }
 },
 "nbformat": 4,
 "nbformat_minor": 5
}
