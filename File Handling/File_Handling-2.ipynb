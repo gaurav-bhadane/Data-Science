{
 "cells": [
  {
   "cell_type": "markdown",
   "id": "b18265ea-c1ee-4059-932e-793cf69c092e",
   "metadata": {},
   "source": [
    "### File Handling-2"
   ]
  },
  {
   "cell_type": "code",
   "execution_count": 1,
   "id": "25ef2839-59fe-4d50-bedc-49c298ad5783",
   "metadata": {},
   "outputs": [],
   "source": [
    "data ={\n",
    "    \"name\":\"Gaurav\",\n",
    "    \"mail_id\":\"gaurav@gmail.com\",\n",
    "    \"phone\":1234567895,\n",
    "    \"subject\":[\"Data Science\",\"Big Data\",\"Data Analytics\"]\n",
    "}"
   ]
  },
  {
   "cell_type": "code",
   "execution_count": 2,
   "id": "709bcdee-5023-4f0c-a1eb-6bf5bf909f4b",
   "metadata": {},
   "outputs": [],
   "source": [
    "import json"
   ]
  },
  {
   "cell_type": "code",
   "execution_count": 3,
   "id": "a3c6466d-d2f3-4c2c-8b80-31758802da1f",
   "metadata": {},
   "outputs": [],
   "source": [
    "with open(\"test2.json\",\"w\") as f:\n",
    "    json.dump(data,f)"
   ]
  },
  {
   "cell_type": "code",
   "execution_count": 7,
   "id": "1dad9b3f-a100-41e8-a93c-5e6eb7946d3f",
   "metadata": {},
   "outputs": [],
   "source": [
    "with open(\"test2.json\",\"r\") as f:\n",
    "    data1=json.load(f)"
   ]
  },
  {
   "cell_type": "code",
   "execution_count": 8,
   "id": "3120888c-44db-49bb-9fb1-1512ba4d465a",
   "metadata": {},
   "outputs": [
    {
     "data": {
      "text/plain": [
       "{'name': 'Gaurav',\n",
       " 'mail_id': 'gaurav@gmail.com',\n",
       " 'phone': 1234567895,\n",
       " 'subject': ['Data Science', 'Big Data', 'Data Analytics']}"
      ]
     },
     "execution_count": 8,
     "metadata": {},
     "output_type": "execute_result"
    }
   ],
   "source": [
    "data1"
   ]
  },
  {
   "cell_type": "code",
   "execution_count": 10,
   "id": "c069e28a-60a0-48d3-8fae-ef7d309da8f4",
   "metadata": {},
   "outputs": [
    {
     "data": {
      "text/plain": [
       "['Data Science', 'Big Data', 'Data Analytics']"
      ]
     },
     "execution_count": 10,
     "metadata": {},
     "output_type": "execute_result"
    }
   ],
   "source": [
    "data1['subject']"
   ]
  },
  {
   "cell_type": "code",
   "execution_count": 11,
   "id": "3b742ec2-6e6f-4a32-9282-e70735a281bb",
   "metadata": {},
   "outputs": [
    {
     "data": {
      "text/plain": [
       "'Data Science'"
      ]
     },
     "execution_count": 11,
     "metadata": {},
     "output_type": "execute_result"
    }
   ],
   "source": [
    "data1['subject'][0]"
   ]
  },
  {
   "cell_type": "code",
   "execution_count": 14,
   "id": "1c523c6d-06cc-4bef-91e9-94163dbce611",
   "metadata": {},
   "outputs": [],
   "source": [
    "data2 = [\n",
    "    [\"name\",\"email\",\"number\"],\n",
    "    [\"gaurav\",\"gaurav@gmail.com\",1234567890],\n",
    "    [\"raj\",\"raj@gmail.com\",1478523695]\n",
    "]"
   ]
  },
  {
   "cell_type": "code",
   "execution_count": 13,
   "id": "07c7e8dc-606f-4334-b830-e42c2c24a5d6",
   "metadata": {},
   "outputs": [],
   "source": [
    "import csv"
   ]
  },
  {
   "cell_type": "code",
   "execution_count": 15,
   "id": "e6d2c18c-98f7-4f03-a167-e13e40b23d24",
   "metadata": {},
   "outputs": [],
   "source": [
    "with open(\"test22.csv\",\"w\") as f:\n",
    "    w=csv.writer(f)\n",
    "    for i in data2:\n",
    "        w.writerow(i)"
   ]
  },
  {
   "cell_type": "code",
   "execution_count": 16,
   "id": "46bc7883-f0b7-4b59-8c46-9279fb267107",
   "metadata": {
    "scrolled": true
   },
   "outputs": [
    {
     "name": "stdout",
     "output_type": "stream",
     "text": [
      "['name', 'email', 'number']\n",
      "[]\n",
      "['gaurav', 'gaurav@gmail.com', '1234567890']\n",
      "[]\n",
      "['raj', 'raj@gmail.com', '1478523695']\n",
      "[]\n"
     ]
    }
   ],
   "source": [
    "with open(\"test22.csv\",\"r\") as f:\n",
    "    read=csv.reader(f)\n",
    "    for i in read:\n",
    "        print(i)"
   ]
  },
  {
   "cell_type": "code",
   "execution_count": 18,
   "id": "7efb9a61-12f4-41ec-a016-d693b61b77d3",
   "metadata": {},
   "outputs": [],
   "source": [
    "with open(\"test222.bin\",\"wb\") as f:\n",
    "    f.write(b\"\\x01\\x02\\x03\")"
   ]
  },
  {
   "cell_type": "code",
   "execution_count": 19,
   "id": "30a74faa-5f59-4534-83bb-ababcd82ff02",
   "metadata": {},
   "outputs": [
    {
     "name": "stdout",
     "output_type": "stream",
     "text": [
      "\u0001\u0002\u0003\n"
     ]
    }
   ],
   "source": [
    "with open (\"test222.bin\",\"r\") as f:\n",
    "    print(f.read())"
   ]
  }
 ],
 "metadata": {
  "kernelspec": {
   "display_name": "Python 3 (ipykernel)",
   "language": "python",
   "name": "python3"
  },
  "language_info": {
   "codemirror_mode": {
    "name": "ipython",
    "version": 3
   },
   "file_extension": ".py",
   "mimetype": "text/x-python",
   "name": "python",
   "nbconvert_exporter": "python",
   "pygments_lexer": "ipython3",
   "version": "3.11.5"
  }
 },
 "nbformat": 4,
 "nbformat_minor": 5
}
