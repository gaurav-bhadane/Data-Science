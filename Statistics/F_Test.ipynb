{
 "cells": [
  {
   "cell_type": "markdown",
   "id": "c7a63b64-0872-43a0-bc92-053a894d8641",
   "metadata": {},
   "source": [
    "## F Test with Python"
   ]
  },
  {
   "cell_type": "code",
   "execution_count": 2,
   "id": "5df029e9-b018-4a4d-9fb1-c4f970638ffd",
   "metadata": {},
   "outputs": [],
   "source": [
    "# Evidence to say that the two populations variances are not equal\n",
    "# Check which worker is better\n",
    "worker1=[18,19,22,25,27,28,41,45,51,55]\n",
    "worker2=[14,15,15,17,18,22,25,25,27,34]"
   ]
  },
  {
   "cell_type": "code",
   "execution_count": 3,
   "id": "369aa0bb-d9cc-456e-8601-f256d4455237",
   "metadata": {},
   "outputs": [],
   "source": [
    "df1=len(worker1)-1\n",
    "df2=len(worker2)-1\n",
    "significance=0.05"
   ]
  },
  {
   "cell_type": "code",
   "execution_count": 4,
   "id": "ad75f9b2-7d82-4fa6-871b-336f65815c83",
   "metadata": {},
   "outputs": [],
   "source": [
    "import numpy as np"
   ]
  },
  {
   "cell_type": "code",
   "execution_count": 5,
   "id": "d60c0b2f-6909-4621-a1a2-94cb99703b7d",
   "metadata": {},
   "outputs": [],
   "source": [
    "f_test=np.var(worker1)/np.var(worker2)"
   ]
  },
  {
   "cell_type": "code",
   "execution_count": 6,
   "id": "f51c0c36-524a-465e-9f20-d19eb64bfde9",
   "metadata": {},
   "outputs": [
    {
     "data": {
      "text/plain": [
       "4.387122002085506"
      ]
     },
     "execution_count": 6,
     "metadata": {},
     "output_type": "execute_result"
    }
   ],
   "source": [
    "f_test"
   ]
  },
  {
   "cell_type": "code",
   "execution_count": 7,
   "id": "ac22f0b1-edb3-44df-b96e-03c3ce355ae8",
   "metadata": {},
   "outputs": [],
   "source": [
    "import scipy.stats as stat"
   ]
  },
  {
   "cell_type": "code",
   "execution_count": 13,
   "id": "ff4c9129-2739-4847-b383-664faa4b193a",
   "metadata": {},
   "outputs": [],
   "source": [
    "critical_value=stat.f.ppf(1-significance,df1,df2)"
   ]
  },
  {
   "cell_type": "code",
   "execution_count": 14,
   "id": "e67bc500-577c-4882-825d-5c9e8a0054bc",
   "metadata": {},
   "outputs": [
    {
     "data": {
      "text/plain": [
       "3.17889310445827"
      ]
     },
     "execution_count": 14,
     "metadata": {},
     "output_type": "execute_result"
    }
   ],
   "source": [
    "critical_value"
   ]
  },
  {
   "cell_type": "code",
   "execution_count": 15,
   "id": "8ca36c6d-1846-4c52-b4ab-428dce9c7468",
   "metadata": {},
   "outputs": [
    {
     "name": "stdout",
     "output_type": "stream",
     "text": [
      "Reject Null Hypothesis\n"
     ]
    }
   ],
   "source": [
    "if f_test>critical_value:\n",
    "    print(\"Reject Null Hypothesis\")\n",
    "else:\n",
    "    print(\"Accept Null Hypothesis\")"
   ]
  }
 ],
 "metadata": {
  "kernelspec": {
   "display_name": "Python 3 (ipykernel)",
   "language": "python",
   "name": "python3"
  },
  "language_info": {
   "codemirror_mode": {
    "name": "ipython",
    "version": 3
   },
   "file_extension": ".py",
   "mimetype": "text/x-python",
   "name": "python",
   "nbconvert_exporter": "python",
   "pygments_lexer": "ipython3",
   "version": "3.11.5"
  }
 },
 "nbformat": 4,
 "nbformat_minor": 5
}
