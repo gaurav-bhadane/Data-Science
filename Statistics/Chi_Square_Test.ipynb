{
 "cells": [
  {
   "cell_type": "markdown",
   "id": "ae2b1bff-1662-465a-a0bd-87eeff364314",
   "metadata": {},
   "source": [
    "## Chi Square Test with Python"
   ]
  },
  {
   "cell_type": "code",
   "execution_count": 1,
   "id": "ffa2c63a-d046-40ad-8674-95d4f2aad38a",
   "metadata": {},
   "outputs": [],
   "source": [
    "import scipy.stats as stat\n",
    "import numpy as np"
   ]
  },
  {
   "cell_type": "markdown",
   "id": "08bdf7d4-0ad0-440d-a366-0deacbdeefaa",
   "metadata": {},
   "source": [
    "#### No. of Hours Student study daily in a weekly basis.."
   ]
  },
  {
   "cell_type": "code",
   "execution_count": 2,
   "id": "97916cb0-30fd-433b-8859-e1bef0a9991d",
   "metadata": {},
   "outputs": [],
   "source": [
    "expected_data=[8,6,7,9,6,9,7]\n",
    "observed_data=[7,8,6,9,9,6,7]"
   ]
  },
  {
   "cell_type": "code",
   "execution_count": 6,
   "id": "ed3381fb-d4d5-4602-afce-9e9d038fdace",
   "metadata": {},
   "outputs": [
    {
     "data": {
      "text/plain": [
       "(52, 52)"
      ]
     },
     "execution_count": 6,
     "metadata": {},
     "output_type": "execute_result"
    }
   ],
   "source": [
    "sum(expected_data),sum(observed_data)"
   ]
  },
  {
   "cell_type": "code",
   "execution_count": 7,
   "id": "2585287c-3eba-4117-85f4-a410f58c9bad",
   "metadata": {},
   "outputs": [],
   "source": [
    "## Chi Square Goodness of fit\n",
    "chi_Sqaure_test_stat,p_value=stat.chisquare(observed_data,expected_data)"
   ]
  },
  {
   "cell_type": "code",
   "execution_count": 9,
   "id": "8f5e70be-85d4-40d2-94eb-43d755d08dd4",
   "metadata": {},
   "outputs": [
    {
     "data": {
      "text/plain": [
       "(3.4345238095238093, 0.7526596580922865)"
      ]
     },
     "execution_count": 9,
     "metadata": {},
     "output_type": "execute_result"
    }
   ],
   "source": [
    "chi_Sqaure_test_stat,p_value"
   ]
  },
  {
   "cell_type": "code",
   "execution_count": 10,
   "id": "c5a0c6dc-fd48-4782-b46f-17f6abdc184d",
   "metadata": {},
   "outputs": [],
   "source": [
    "## Find the critical value\n",
    "significance=0.05\n",
    "dof=6\n",
    "critical_value=stat.chi2.ppf(1-significance,dof)"
   ]
  },
  {
   "cell_type": "code",
   "execution_count": 11,
   "id": "a09f0e6c-7336-4ea2-8e9a-a6847ac71e6e",
   "metadata": {},
   "outputs": [
    {
     "data": {
      "text/plain": [
       "12.591587243743977"
      ]
     },
     "execution_count": 11,
     "metadata": {},
     "output_type": "execute_result"
    }
   ],
   "source": [
    "critical_value"
   ]
  },
  {
   "cell_type": "code",
   "execution_count": 12,
   "id": "5b465988-8d3f-4a3e-96b5-d2aceada5909",
   "metadata": {},
   "outputs": [
    {
     "name": "stdout",
     "output_type": "stream",
     "text": [
      "Accept Null Hypothesis\n"
     ]
    }
   ],
   "source": [
    "if chi_Sqaure_test_stat>critical_value:\n",
    "    print(\"Reject Null Hypothesis\")\n",
    "else:\n",
    "    print(\"Accept Null Hypothesis\")"
   ]
  }
 ],
 "metadata": {
  "kernelspec": {
   "display_name": "Python 3 (ipykernel)",
   "language": "python",
   "name": "python3"
  },
  "language_info": {
   "codemirror_mode": {
    "name": "ipython",
    "version": 3
   },
   "file_extension": ".py",
   "mimetype": "text/x-python",
   "name": "python",
   "nbconvert_exporter": "python",
   "pygments_lexer": "ipython3",
   "version": "3.11.5"
  }
 },
 "nbformat": 4,
 "nbformat_minor": 5
}
