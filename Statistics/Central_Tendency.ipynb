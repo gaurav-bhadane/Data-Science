{
 "cells": [
  {
   "cell_type": "markdown",
   "id": "f89a1631-df09-4263-b205-c9887180b86e",
   "metadata": {},
   "source": [
    "## Measures of Central Tendency:\n",
    "    1. Mean\n",
    "    2. Median\n",
    "    3. Mode"
   ]
  },
  {
   "cell_type": "code",
   "execution_count": 3,
   "id": "356a7056-600c-472c-a17a-036efc692ed6",
   "metadata": {},
   "outputs": [],
   "source": [
    "# Mean (Average)\n",
    "age= [12,13,14,21,24]"
   ]
  },
  {
   "cell_type": "code",
   "execution_count": 4,
   "id": "529cbaac-b08f-44f8-873d-59e8ee9e3200",
   "metadata": {},
   "outputs": [
    {
     "data": {
      "text/plain": [
       "16.8"
      ]
     },
     "execution_count": 4,
     "metadata": {},
     "output_type": "execute_result"
    }
   ],
   "source": [
    "(12+13+14+21+24)/5"
   ]
  },
  {
   "cell_type": "code",
   "execution_count": 6,
   "id": "6f487a2c-67e0-4a3e-ba00-1986ba2e839e",
   "metadata": {},
   "outputs": [],
   "source": [
    "import numpy as np\n",
    "age_mean=np.mean(age)"
   ]
  },
  {
   "cell_type": "code",
   "execution_count": 7,
   "id": "3204e6b3-71c4-4ba2-bec1-73e28aad4310",
   "metadata": {},
   "outputs": [
    {
     "data": {
      "text/plain": [
       "16.8"
      ]
     },
     "execution_count": 7,
     "metadata": {},
     "output_type": "execute_result"
    }
   ],
   "source": [
    "age_mean"
   ]
  },
  {
   "cell_type": "code",
   "execution_count": 8,
   "id": "f4cb29a6-9c4b-424f-9abc-7ac9d5f64c47",
   "metadata": {},
   "outputs": [],
   "source": [
    "weights=[45,34,56,84,21,108,98,95,60]"
   ]
  },
  {
   "cell_type": "code",
   "execution_count": 9,
   "id": "fabb2202-7a84-4d24-9f62-8e1815510f91",
   "metadata": {},
   "outputs": [
    {
     "data": {
      "text/plain": [
       "66.77777777777777"
      ]
     },
     "execution_count": 9,
     "metadata": {},
     "output_type": "execute_result"
    }
   ],
   "source": [
    "np.mean(weights)"
   ]
  },
  {
   "cell_type": "code",
   "execution_count": 12,
   "id": "3d3a3ce3-16be-4208-a36e-294723369ae3",
   "metadata": {},
   "outputs": [],
   "source": [
    "weights2=[45,34,56,84,21,108,98,95,60,1000]  #Added 1000 as outlier"
   ]
  },
  {
   "cell_type": "code",
   "execution_count": 13,
   "id": "66e0c415-c487-4a09-b2bd-f7a909d134d3",
   "metadata": {},
   "outputs": [
    {
     "data": {
      "text/plain": [
       "160.1"
      ]
     },
     "execution_count": 13,
     "metadata": {},
     "output_type": "execute_result"
    }
   ],
   "source": [
    "np.mean(weights2)"
   ]
  },
  {
   "cell_type": "code",
   "execution_count": 16,
   "id": "734f5225-230c-41f1-9b42-75a028f612ed",
   "metadata": {},
   "outputs": [
    {
     "data": {
      "text/plain": [
       "72.0"
      ]
     },
     "execution_count": 16,
     "metadata": {},
     "output_type": "execute_result"
    }
   ],
   "source": [
    "# Median is used due to outlier\n",
    "np.median(weights2)"
   ]
  },
  {
   "cell_type": "code",
   "execution_count": 18,
   "id": "27c82a1e-bc3d-49e3-a8e3-5fb6d93ebfc1",
   "metadata": {},
   "outputs": [],
   "source": [
    "#Mode.. in Numpy we are not having Mode...so we will be using Scipy\n",
    "from scipy import stats"
   ]
  },
  {
   "cell_type": "code",
   "execution_count": 19,
   "id": "e4648a6a-00f2-45f9-94f7-b33c88b8e0c4",
   "metadata": {},
   "outputs": [
    {
     "name": "stderr",
     "output_type": "stream",
     "text": [
      "C:\\Users\\admin\\AppData\\Local\\Temp\\ipykernel_13984\\4229525901.py:1: FutureWarning: Unlike other reduction functions (e.g. `skew`, `kurtosis`), the default behavior of `mode` typically preserves the axis it acts along. In SciPy 1.11.0, this behavior will change: the default value of `keepdims` will become False, the `axis` over which the statistic is taken will be eliminated, and the value None will no longer be accepted. Set `keepdims` to True or False to avoid this warning.\n",
      "  stats.mode(weights2)\n"
     ]
    },
    {
     "data": {
      "text/plain": [
       "ModeResult(mode=array([21]), count=array([1]))"
      ]
     },
     "execution_count": 19,
     "metadata": {},
     "output_type": "execute_result"
    }
   ],
   "source": [
    "stats.mode(weights2)"
   ]
  }
 ],
 "metadata": {
  "kernelspec": {
   "display_name": "Python 3 (ipykernel)",
   "language": "python",
   "name": "python3"
  },
  "language_info": {
   "codemirror_mode": {
    "name": "ipython",
    "version": 3
   },
   "file_extension": ".py",
   "mimetype": "text/x-python",
   "name": "python",
   "nbconvert_exporter": "python",
   "pygments_lexer": "ipython3",
   "version": "3.11.5"
  }
 },
 "nbformat": 4,
 "nbformat_minor": 5
}
