{
 "cells": [
  {
   "cell_type": "markdown",
   "id": "a51cfe14-81de-4dbb-88ab-a4fb753786ed",
   "metadata": {},
   "source": [
    "## Functions"
   ]
  },
  {
   "cell_type": "code",
   "execution_count": 1,
   "id": "5df0be4a-cc02-44d0-94dd-fffdce62f0ea",
   "metadata": {},
   "outputs": [],
   "source": [
    "def test(a,b,c,d,e):\n",
    "    pass"
   ]
  },
  {
   "cell_type": "code",
   "execution_count": 2,
   "id": "e3ab5c60-f09e-4b02-ae7e-25c0e15ce77f",
   "metadata": {},
   "outputs": [],
   "source": [
    "test(1,2,3,4,5)"
   ]
  },
  {
   "cell_type": "code",
   "execution_count": 3,
   "id": "3592fb25-d2e2-4cc8-a21f-81308e8334d4",
   "metadata": {},
   "outputs": [
    {
     "ename": "TypeError",
     "evalue": "test() takes 5 positional arguments but 7 were given",
     "output_type": "error",
     "traceback": [
      "\u001b[1;31m---------------------------------------------------------------------------\u001b[0m",
      "\u001b[1;31mTypeError\u001b[0m                                 Traceback (most recent call last)",
      "Cell \u001b[1;32mIn[3], line 1\u001b[0m\n\u001b[1;32m----> 1\u001b[0m \u001b[43mtest\u001b[49m\u001b[43m(\u001b[49m\u001b[38;5;241;43m1\u001b[39;49m\u001b[43m,\u001b[49m\u001b[38;5;241;43m2\u001b[39;49m\u001b[43m,\u001b[49m\u001b[38;5;241;43m3\u001b[39;49m\u001b[43m,\u001b[49m\u001b[38;5;241;43m4\u001b[39;49m\u001b[43m,\u001b[49m\u001b[38;5;241;43m5\u001b[39;49m\u001b[43m,\u001b[49m\u001b[38;5;241;43m6\u001b[39;49m\u001b[43m,\u001b[49m\u001b[38;5;241;43m7\u001b[39;49m\u001b[43m)\u001b[49m\n",
      "\u001b[1;31mTypeError\u001b[0m: test() takes 5 positional arguments but 7 were given"
     ]
    }
   ],
   "source": [
    "test(1,2,3,4,5,6,7)"
   ]
  },
  {
   "cell_type": "markdown",
   "id": "c7a1d784-288b-4285-bedd-f8e2940653f1",
   "metadata": {},
   "source": [
    "#### As parameters are only 5 and we have passed 7 of them, so thus it will give an error"
   ]
  },
  {
   "cell_type": "markdown",
   "id": "3f8ff105-0d37-4354-9e17-b0e7473ef0ba",
   "metadata": {},
   "source": [
    "#### To remove this we are using following method"
   ]
  },
  {
   "cell_type": "code",
   "execution_count": 9,
   "id": "59e60db5-326b-484c-a8b7-5830e0a9409a",
   "metadata": {},
   "outputs": [],
   "source": [
    "def test1(*args):\n",
    "    return args   # With the help of *args we are able to take many no. of arguments and of various datatype"
   ]
  },
  {
   "cell_type": "code",
   "execution_count": 10,
   "id": "96d82a44-9c0b-447e-b63e-cafda73c1729",
   "metadata": {},
   "outputs": [
    {
     "data": {
      "text/plain": [
       "(1, 2, 3, 4, 5, 6, 7, 8, 9)"
      ]
     },
     "execution_count": 10,
     "metadata": {},
     "output_type": "execute_result"
    }
   ],
   "source": [
    "test1(1,2,3,4,5,6,7,8,9)"
   ]
  },
  {
   "cell_type": "code",
   "execution_count": 11,
   "id": "0ea5e6df-836e-449b-a7fe-076082da93dc",
   "metadata": {},
   "outputs": [],
   "source": [
    " def test2(*args,a):\n",
    "     return args, a"
   ]
  },
  {
   "cell_type": "code",
   "execution_count": 12,
   "id": "c4a751d1-fc6e-4e8d-9e7a-8a4f0783e585",
   "metadata": {},
   "outputs": [
    {
     "data": {
      "text/plain": [
       "((1, 2, 3, 4, 5), 'Gaurav')"
      ]
     },
     "execution_count": 12,
     "metadata": {},
     "output_type": "execute_result"
    }
   ],
   "source": [
    "test2(1,2,3,4,5, a=\"Gaurav\")"
   ]
  },
  {
   "cell_type": "code",
   "execution_count": 13,
   "id": "986c2d67-0d47-4322-b339-c8c420262bc9",
   "metadata": {},
   "outputs": [],
   "source": [
    "def test3(*args):\n",
    "    l=[]\n",
    "    for i in args:\n",
    "        if type(i)==list:\n",
    "            l.append(i)\n",
    "    return l"
   ]
  },
  {
   "cell_type": "code",
   "execution_count": 14,
   "id": "284982ae-5b6c-4ce0-811a-9a3ec763a70d",
   "metadata": {},
   "outputs": [
    {
     "data": {
      "text/plain": [
       "[[78, 145, 256]]"
      ]
     },
     "execution_count": 14,
     "metadata": {},
     "output_type": "execute_result"
    }
   ],
   "source": [
    "test3(1,2,3,[78,145,256])"
   ]
  },
  {
   "cell_type": "markdown",
   "id": "3a7c05cc-662a-4c43-8360-7fc913749b8e",
   "metadata": {},
   "source": [
    "#### Dictionary as Arguments"
   ]
  },
  {
   "cell_type": "code",
   "execution_count": 15,
   "id": "5bb587e3-aee3-4acb-b564-f7bda87f0bb9",
   "metadata": {},
   "outputs": [],
   "source": [
    "def test4(**kwarg):\n",
    "    return kwarg"
   ]
  },
  {
   "cell_type": "code",
   "execution_count": 16,
   "id": "fc676169-631b-4a5b-89af-08dec0a31aef",
   "metadata": {},
   "outputs": [
    {
     "data": {
      "text/plain": [
       "{}"
      ]
     },
     "execution_count": 16,
     "metadata": {},
     "output_type": "execute_result"
    }
   ],
   "source": [
    "test4()"
   ]
  },
  {
   "cell_type": "code",
   "execution_count": 17,
   "id": "e6d68260-2393-4f1f-a50a-fca148125584",
   "metadata": {},
   "outputs": [
    {
     "data": {
      "text/plain": [
       "dict"
      ]
     },
     "execution_count": 17,
     "metadata": {},
     "output_type": "execute_result"
    }
   ],
   "source": [
    "type(test4())"
   ]
  },
  {
   "cell_type": "code",
   "execution_count": 18,
   "id": "eda7b438-74c4-4e63-b2da-b0c825357a8e",
   "metadata": {},
   "outputs": [
    {
     "data": {
      "text/plain": [
       "{'a': 34, 'b': 152, 'c': (21, 85, 63)}"
      ]
     },
     "execution_count": 18,
     "metadata": {},
     "output_type": "execute_result"
    }
   ],
   "source": [
    "test4(a=34,b=152,c=(21,85,63))"
   ]
  },
  {
   "cell_type": "code",
   "execution_count": 19,
   "id": "4722f30d-d946-49d5-9862-3aa483f69cef",
   "metadata": {},
   "outputs": [],
   "source": [
    "def test5(**kwargs):\n",
    "    for i in kwargs.keys():\n",
    "        if type(kwargs[i])==list:\n",
    "            return i, kwargs[i]"
   ]
  },
  {
   "cell_type": "code",
   "execution_count": 20,
   "id": "6fc4232c-4a51-49a7-9892-c246190ac3ad",
   "metadata": {},
   "outputs": [
    {
     "data": {
      "text/plain": [
       "('c', ['Gaurav', 'raj', 'patil'])"
      ]
     },
     "execution_count": 20,
     "metadata": {},
     "output_type": "execute_result"
    }
   ],
   "source": [
    "test5(a=34,b=152,c=[\"Gaurav\",\"raj\",\"patil\"],d=(21,85,63))"
   ]
  },
  {
   "cell_type": "code",
   "execution_count": 21,
   "id": "22381e3c-d998-4110-921d-8987a857d718",
   "metadata": {},
   "outputs": [],
   "source": [
    "def test6(*args,**kwargs):\n",
    "    return args,kwargs"
   ]
  },
  {
   "cell_type": "code",
   "execution_count": 22,
   "id": "fb978eaa-05b9-4c4a-bbf5-6d883ef8cb6e",
   "metadata": {},
   "outputs": [
    {
     "data": {
      "text/plain": [
       "((1, 2, 3, 4, 5), {'a': 78, 'b': 856, 'g': 999})"
      ]
     },
     "execution_count": 22,
     "metadata": {},
     "output_type": "execute_result"
    }
   ],
   "source": [
    "test6(1,2,3,4,5,a=78,b=856,g=999)"
   ]
  },
  {
   "cell_type": "code",
   "execution_count": null,
   "id": "b444919e-dcae-40d1-9062-e31f6fb50fd9",
   "metadata": {},
   "outputs": [],
   "source": []
  }
 ],
 "metadata": {
  "kernelspec": {
   "display_name": "Python 3 (ipykernel)",
   "language": "python",
   "name": "python3"
  },
  "language_info": {
   "codemirror_mode": {
    "name": "ipython",
    "version": 3
   },
   "file_extension": ".py",
   "mimetype": "text/x-python",
   "name": "python",
   "nbconvert_exporter": "python",
   "pygments_lexer": "ipython3",
   "version": "3.11.5"
  }
 },
 "nbformat": 4,
 "nbformat_minor": 5
}
