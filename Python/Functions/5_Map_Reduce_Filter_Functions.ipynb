{
 "cells": [
  {
   "cell_type": "markdown",
   "id": "ba25f941-16fb-46f4-8c0f-e0ff7ff80435",
   "metadata": {},
   "source": [
    "## Map Reduce & Filter Functions"
   ]
  },
  {
   "cell_type": "code",
   "execution_count": 1,
   "id": "660e6bbd-873f-460f-bf9f-b46954739985",
   "metadata": {},
   "outputs": [],
   "source": [
    "l=[1,2,3,4,5]"
   ]
  },
  {
   "cell_type": "code",
   "execution_count": 2,
   "id": "698a2e7e-5ba7-4ec6-9cd1-811296e649b9",
   "metadata": {},
   "outputs": [
    {
     "data": {
      "text/plain": [
       "[1, 4, 9, 16, 25]"
      ]
     },
     "execution_count": 2,
     "metadata": {},
     "output_type": "execute_result"
    }
   ],
   "source": [
    "[i**2 for i in l]"
   ]
  },
  {
   "cell_type": "code",
   "execution_count": 3,
   "id": "33d3e6a9-5a61-48c4-a6b2-a75e5442ede3",
   "metadata": {},
   "outputs": [],
   "source": [
    "def test(a):\n",
    "    n=[]\n",
    "    for i in l:\n",
    "        n.append(i**2)\n",
    "    return n"
   ]
  },
  {
   "cell_type": "code",
   "execution_count": 4,
   "id": "cee3f782-2e31-4fec-a55a-e48ca64742ee",
   "metadata": {},
   "outputs": [
    {
     "data": {
      "text/plain": [
       "[1, 4, 9, 16, 25]"
      ]
     },
     "execution_count": 4,
     "metadata": {},
     "output_type": "execute_result"
    }
   ],
   "source": [
    "test(l)"
   ]
  },
  {
   "cell_type": "code",
   "execution_count": 5,
   "id": "563dfdd6-f9ac-4381-9964-f78f736e2b77",
   "metadata": {},
   "outputs": [],
   "source": [
    "def sq(x):\n",
    "    return x**2"
   ]
  },
  {
   "cell_type": "markdown",
   "id": "ef266938-4cb0-405c-ab0f-e22eedb527b0",
   "metadata": {},
   "source": [
    "### Map"
   ]
  },
  {
   "cell_type": "code",
   "execution_count": 13,
   "id": "6ae2af7c-d236-4032-82fa-c5f1c2ed3d11",
   "metadata": {},
   "outputs": [
    {
     "data": {
      "text/plain": [
       "<map at 0x23093fcad70>"
      ]
     },
     "execution_count": 13,
     "metadata": {},
     "output_type": "execute_result"
    }
   ],
   "source": [
    "map(sq,l)"
   ]
  },
  {
   "cell_type": "code",
   "execution_count": 15,
   "id": "db40a3c0-749b-4499-bc21-7a25fb5e42b1",
   "metadata": {},
   "outputs": [
    {
     "data": {
      "text/plain": [
       "[1, 4, 9, 16, 25]"
      ]
     },
     "execution_count": 15,
     "metadata": {},
     "output_type": "execute_result"
    }
   ],
   "source": [
    "list(map(sq,l))   #map function"
   ]
  },
  {
   "cell_type": "code",
   "execution_count": 18,
   "id": "f986adb2-12f4-4edc-b26a-d458a8f5ef43",
   "metadata": {},
   "outputs": [
    {
     "data": {
      "text/plain": [
       "[1, 4, 9, 16, 25]"
      ]
     },
     "execution_count": 18,
     "metadata": {},
     "output_type": "execute_result"
    }
   ],
   "source": [
    "list(map(lambda x:x**2,l))   #map function using lambda function"
   ]
  },
  {
   "cell_type": "code",
   "execution_count": 19,
   "id": "2fc01cc3-a2de-4f7e-8457-1d1271d00d7a",
   "metadata": {},
   "outputs": [],
   "source": [
    "l1=[1,3,5,7,9]\n",
    "l2=[2,4,6,8,10]"
   ]
  },
  {
   "cell_type": "code",
   "execution_count": 20,
   "id": "9e2def3f-36a8-4f5f-8bf5-b57bb9880654",
   "metadata": {},
   "outputs": [
    {
     "data": {
      "text/plain": [
       "[3, 7, 11, 15, 19]"
      ]
     },
     "execution_count": 20,
     "metadata": {},
     "output_type": "execute_result"
    }
   ],
   "source": [
    "list(map(lambda x,y:x+y, l1,l2))"
   ]
  },
  {
   "cell_type": "code",
   "execution_count": 21,
   "id": "b34bafd3-b263-4f4d-bdc7-9156c1d7dd3b",
   "metadata": {},
   "outputs": [],
   "source": [
    "s=\"Gaurav\""
   ]
  },
  {
   "cell_type": "code",
   "execution_count": 24,
   "id": "1dd77251-099d-478d-84b9-e1bba1f82b3c",
   "metadata": {},
   "outputs": [
    {
     "data": {
      "text/plain": [
       "['G', 'A', 'U', 'R', 'A', 'V']"
      ]
     },
     "execution_count": 24,
     "metadata": {},
     "output_type": "execute_result"
    }
   ],
   "source": [
    "list(map(lambda x:x.upper(),s))"
   ]
  },
  {
   "cell_type": "markdown",
   "id": "a1991207-16fa-4871-af49-64f26302f92c",
   "metadata": {},
   "source": [
    "### Reduce Function"
   ]
  },
  {
   "cell_type": "code",
   "execution_count": 25,
   "id": "199735af-ab3e-49c9-8f0e-6547f88c0b43",
   "metadata": {},
   "outputs": [],
   "source": [
    "from functools import reduce"
   ]
  },
  {
   "cell_type": "code",
   "execution_count": 26,
   "id": "648e359c-8460-4a4c-b005-23a309b736c5",
   "metadata": {},
   "outputs": [],
   "source": [
    "l3=[1,8,3,6,5,8,5,14,52,48,100]"
   ]
  },
  {
   "cell_type": "code",
   "execution_count": 27,
   "id": "f3b0aad4-9e42-4506-bec6-c0ec92c40e33",
   "metadata": {},
   "outputs": [
    {
     "data": {
      "text/plain": [
       "250"
      ]
     },
     "execution_count": 27,
     "metadata": {},
     "output_type": "execute_result"
    }
   ],
   "source": [
    "sum(l3)"
   ]
  },
  {
   "cell_type": "code",
   "execution_count": 28,
   "id": "d4014b7a-2e1a-4107-842c-1afd49a92942",
   "metadata": {},
   "outputs": [
    {
     "data": {
      "text/plain": [
       "250"
      ]
     },
     "execution_count": 28,
     "metadata": {},
     "output_type": "execute_result"
    }
   ],
   "source": [
    "reduce(lambda x,y:x+y,l3)"
   ]
  },
  {
   "cell_type": "code",
   "execution_count": 29,
   "id": "92bf6725-4307-45f8-9598-1bc7def9a3d6",
   "metadata": {},
   "outputs": [
    {
     "data": {
      "text/plain": [
       "100"
      ]
     },
     "execution_count": 29,
     "metadata": {},
     "output_type": "execute_result"
    }
   ],
   "source": [
    "reduce(lambda x,y:x if x>y else y,l3)"
   ]
  },
  {
   "cell_type": "markdown",
   "id": "c6038727-41e6-48ff-9558-5a53f1cd8e9a",
   "metadata": {},
   "source": [
    "### Filter Function"
   ]
  },
  {
   "cell_type": "code",
   "execution_count": 31,
   "id": "3f2f72f7-a7b9-4404-8ba8-22e7e38e920b",
   "metadata": {},
   "outputs": [
    {
     "data": {
      "text/plain": [
       "[1, 8, 3, 6, 5, 8, 5, 14, 52, 48, 100]"
      ]
     },
     "execution_count": 31,
     "metadata": {},
     "output_type": "execute_result"
    }
   ],
   "source": [
    "l3"
   ]
  },
  {
   "cell_type": "code",
   "execution_count": 33,
   "id": "6923145b-1bfd-4d44-a8ba-55bce7c2f630",
   "metadata": {},
   "outputs": [
    {
     "data": {
      "text/plain": [
       "[8, 6, 8, 14, 52, 48, 100]"
      ]
     },
     "execution_count": 33,
     "metadata": {},
     "output_type": "execute_result"
    }
   ],
   "source": [
    "list(filter(lambda x:x%2==0,l3))"
   ]
  },
  {
   "cell_type": "code",
   "execution_count": 34,
   "id": "ae4dd0f7-f88c-4ff5-a96b-647db258e827",
   "metadata": {},
   "outputs": [
    {
     "data": {
      "text/plain": [
       "[1, 3, 5, 5]"
      ]
     },
     "execution_count": 34,
     "metadata": {},
     "output_type": "execute_result"
    }
   ],
   "source": [
    "list(filter(lambda x:x%2!=0,l3))"
   ]
  }
 ],
 "metadata": {
  "kernelspec": {
   "display_name": "Python 3 (ipykernel)",
   "language": "python",
   "name": "python3"
  },
  "language_info": {
   "codemirror_mode": {
    "name": "ipython",
    "version": 3
   },
   "file_extension": ".py",
   "mimetype": "text/x-python",
   "name": "python",
   "nbconvert_exporter": "python",
   "pygments_lexer": "ipython3",
   "version": "3.11.5"
  }
 },
 "nbformat": 4,
 "nbformat_minor": 5
}
