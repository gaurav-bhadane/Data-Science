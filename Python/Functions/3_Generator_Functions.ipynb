{
 "cells": [
  {
   "cell_type": "markdown",
   "id": "95583c51-9954-4c39-9147-887ac99027e5",
   "metadata": {},
   "source": [
    "## Generator Functions"
   ]
  },
  {
   "cell_type": "code",
   "execution_count": 1,
   "id": "a1b42110-7b8f-4009-8baa-5c68e590d1d6",
   "metadata": {},
   "outputs": [
    {
     "name": "stdout",
     "output_type": "stream",
     "text": [
      "1\n",
      "2\n",
      "3\n",
      "4\n",
      "5\n",
      "6\n",
      "7\n",
      "8\n",
      "9\n",
      "10\n"
     ]
    }
   ],
   "source": [
    "for i in range(10):\n",
    "    print(i+1)"
   ]
  },
  {
   "cell_type": "code",
   "execution_count": 5,
   "id": "b97a5011-477b-4ef5-b6c5-e526faca7104",
   "metadata": {},
   "outputs": [],
   "source": [
    "l=[1,2,\"GB\",3,5,6,8,8,\"Raj\",9,9,15,2,51,2,4,\"Gaurav\"]"
   ]
  },
  {
   "cell_type": "code",
   "execution_count": 3,
   "id": "e5097864-a326-4d83-82a2-88b8a701bf37",
   "metadata": {},
   "outputs": [],
   "source": [
    "def test(a):\n",
    "    n=[]\n",
    "    for i in a:\n",
    "        if type(i)==int:\n",
    "            n.append(i)\n",
    "    return n"
   ]
  },
  {
   "cell_type": "code",
   "execution_count": 6,
   "id": "da7f3fef-3e7c-43f3-a3f4-9c9e02a44f0f",
   "metadata": {},
   "outputs": [
    {
     "data": {
      "text/plain": [
       "[1, 2, 3, 5, 6, 8, 8, 9, 9, 15, 2, 51, 2, 4]"
      ]
     },
     "execution_count": 6,
     "metadata": {},
     "output_type": "execute_result"
    }
   ],
   "source": [
    "test(l)"
   ]
  },
  {
   "cell_type": "code",
   "execution_count": 7,
   "id": "a303b7e8-8485-41ae-8bd1-f21099f85894",
   "metadata": {},
   "outputs": [],
   "source": [
    "#### Start"
   ]
  },
  {
   "cell_type": "code",
   "execution_count": 16,
   "id": "15b44937-d34f-44ee-bb05-2d9b1c779ba5",
   "metadata": {},
   "outputs": [],
   "source": [
    "def test_fib(n):\n",
    "    a=0\n",
    "    b=1\n",
    "    print(a,\"\",b,end=\" \")\n",
    "    for i in range(n):\n",
    "        c=a+b\n",
    "        print(c,end=\" \")\n",
    "        a=b\n",
    "        b=c"
   ]
  },
  {
   "cell_type": "code",
   "execution_count": 17,
   "id": "2d24c26d-93f1-474d-a04e-73084137a904",
   "metadata": {},
   "outputs": [
    {
     "name": "stdout",
     "output_type": "stream",
     "text": [
      "0  1 1 2 3 5 8 13 21 34 55 89 "
     ]
    }
   ],
   "source": [
    "test_fib(10)"
   ]
  },
  {
   "cell_type": "code",
   "execution_count": 24,
   "id": "d473a9fd-e63d-4200-aac4-1f55c57e1369",
   "metadata": {},
   "outputs": [],
   "source": [
    "def fib(n):\n",
    "    a,b=0,1\n",
    "    for i in range(n):\n",
    "        yield a\n",
    "        a,b=b,a+b"
   ]
  },
  {
   "cell_type": "code",
   "execution_count": 26,
   "id": "39553bfe-a66f-489b-9b6d-df94fc95cf56",
   "metadata": {},
   "outputs": [
    {
     "name": "stdout",
     "output_type": "stream",
     "text": [
      "0\n",
      "1\n",
      "1\n",
      "2\n",
      "3\n",
      "5\n",
      "8\n",
      "13\n",
      "21\n",
      "34\n"
     ]
    }
   ],
   "source": [
    "for i  in fib(10):   #Generator Function\n",
    "    print(i)  "
   ]
  },
  {
   "cell_type": "markdown",
   "id": "66b743a2-a660-4e7a-9dd4-19348ce4e03e",
   "metadata": {},
   "source": [
    "### Utilising Memory through Generator Function as no extra space requies  to store result just generate the result based on logic provided"
   ]
  }
 ],
 "metadata": {
  "kernelspec": {
   "display_name": "Python 3 (ipykernel)",
   "language": "python",
   "name": "python3"
  },
  "language_info": {
   "codemirror_mode": {
    "name": "ipython",
    "version": 3
   },
   "file_extension": ".py",
   "mimetype": "text/x-python",
   "name": "python",
   "nbconvert_exporter": "python",
   "pygments_lexer": "ipython3",
   "version": "3.11.5"
  }
 },
 "nbformat": 4,
 "nbformat_minor": 5
}
