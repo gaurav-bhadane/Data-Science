{
 "cells": [
  {
   "cell_type": "markdown",
   "id": "8262d493-ad1f-43b0-b8c9-f24baea9c34a",
   "metadata": {},
   "source": [
    "## Lambda Functions"
   ]
  },
  {
   "cell_type": "code",
   "execution_count": 2,
   "id": "46f6d848-0ef9-4435-ac94-66cb4b088d7f",
   "metadata": {},
   "outputs": [],
   "source": [
    "n=3\n",
    "p=2"
   ]
  },
  {
   "cell_type": "code",
   "execution_count": 3,
   "id": "25b9fa4c-b619-4642-8de9-e9368ef439de",
   "metadata": {},
   "outputs": [],
   "source": [
    "# Power Function\n",
    "\n",
    "def power(n,p):\n",
    "    return n**p"
   ]
  },
  {
   "cell_type": "code",
   "execution_count": 4,
   "id": "ffa4ef50-3eae-4658-8436-2a482aff2395",
   "metadata": {},
   "outputs": [
    {
     "data": {
      "text/plain": [
       "9"
      ]
     },
     "execution_count": 4,
     "metadata": {},
     "output_type": "execute_result"
    }
   ],
   "source": [
    "power(n,p)"
   ]
  },
  {
   "cell_type": "code",
   "execution_count": 6,
   "id": "d4ba5a47-73e5-4b79-b57c-acb97964591d",
   "metadata": {},
   "outputs": [],
   "source": [
    "res=lambda n,p : n**p"
   ]
  },
  {
   "cell_type": "code",
   "execution_count": 9,
   "id": "294c6f69-37df-4304-8846-6a2c98f6f2d3",
   "metadata": {},
   "outputs": [
    {
     "data": {
      "text/plain": [
       "8"
      ]
     },
     "execution_count": 9,
     "metadata": {},
     "output_type": "execute_result"
    }
   ],
   "source": [
    "res(2,3)"
   ]
  },
  {
   "cell_type": "code",
   "execution_count": 10,
   "id": "b39dbfe0-8d14-42ac-91d9-52261c958594",
   "metadata": {},
   "outputs": [],
   "source": [
    "add=lambda x,y:x+y"
   ]
  },
  {
   "cell_type": "code",
   "execution_count": 11,
   "id": "9c82ac7e-c362-4de0-a93e-a31ef6ac2ac9",
   "metadata": {},
   "outputs": [
    {
     "data": {
      "text/plain": [
       "15"
      ]
     },
     "execution_count": 11,
     "metadata": {},
     "output_type": "execute_result"
    }
   ],
   "source": [
    "add(5,10)"
   ]
  },
  {
   "cell_type": "code",
   "execution_count": 12,
   "id": "3005afe8-06c1-4011-9a5a-879a561bacd8",
   "metadata": {},
   "outputs": [],
   "source": [
    "c_to_f=lambda c: (9/5)*c + 32"
   ]
  },
  {
   "cell_type": "code",
   "execution_count": 14,
   "id": "bb11ee8a-9481-4bc3-95f7-e5d8f7626c20",
   "metadata": {},
   "outputs": [
    {
     "data": {
      "text/plain": [
       "98.60000000000001"
      ]
     },
     "execution_count": 14,
     "metadata": {},
     "output_type": "execute_result"
    }
   ],
   "source": [
    "c_to_f(37)"
   ]
  },
  {
   "cell_type": "code",
   "execution_count": 15,
   "id": "e2935831-b4b9-4184-ae91-3fdbb02c8148",
   "metadata": {},
   "outputs": [],
   "source": [
    "max_two=lambda x,y:x if x>y else y"
   ]
  },
  {
   "cell_type": "code",
   "execution_count": 16,
   "id": "66803480-e3bc-4ba7-9259-255b287a8649",
   "metadata": {},
   "outputs": [
    {
     "data": {
      "text/plain": [
       "6"
      ]
     },
     "execution_count": 16,
     "metadata": {},
     "output_type": "execute_result"
    }
   ],
   "source": [
    "max_two(5,6)"
   ]
  },
  {
   "cell_type": "code",
   "execution_count": 17,
   "id": "37b4e2e7-322b-4fa2-8b18-c4e3f66aebea",
   "metadata": {},
   "outputs": [],
   "source": [
    "length=lambda x:len(x)"
   ]
  },
  {
   "cell_type": "code",
   "execution_count": 18,
   "id": "89f68750-8178-4abc-9405-3958375ec922",
   "metadata": {},
   "outputs": [
    {
     "data": {
      "text/plain": [
       "6"
      ]
     },
     "execution_count": 18,
     "metadata": {},
     "output_type": "execute_result"
    }
   ],
   "source": [
    "length(\"Gaurav\")"
   ]
  }
 ],
 "metadata": {
  "kernelspec": {
   "display_name": "Python 3 (ipykernel)",
   "language": "python",
   "name": "python3"
  },
  "language_info": {
   "codemirror_mode": {
    "name": "ipython",
    "version": 3
   },
   "file_extension": ".py",
   "mimetype": "text/x-python",
   "name": "python",
   "nbconvert_exporter": "python",
   "pygments_lexer": "ipython3",
   "version": "3.11.5"
  }
 },
 "nbformat": 4,
 "nbformat_minor": 5
}
