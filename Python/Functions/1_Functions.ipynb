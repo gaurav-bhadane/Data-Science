{
 "cells": [
  {
   "cell_type": "markdown",
   "id": "90b38e56-74a5-4320-a97a-58568079ab34",
   "metadata": {},
   "source": [
    "## Functions"
   ]
  },
  {
   "cell_type": "code",
   "execution_count": 1,
   "id": "28c11630-50ed-4a3e-8592-adb2e22e50a9",
   "metadata": {},
   "outputs": [],
   "source": [
    "def name():\n",
    "    print(\"My name is Gaurav\")"
   ]
  },
  {
   "cell_type": "code",
   "execution_count": 2,
   "id": "ae796086-214a-42a5-831b-38e590996d58",
   "metadata": {},
   "outputs": [
    {
     "name": "stdout",
     "output_type": "stream",
     "text": [
      "My name is Gaurav\n"
     ]
    }
   ],
   "source": [
    "name()"
   ]
  },
  {
   "cell_type": "code",
   "execution_count": 3,
   "id": "1b84bb15-ab2e-4b7f-b264-bfe878f1cc0e",
   "metadata": {},
   "outputs": [],
   "source": [
    "def test():\n",
    "    pass"
   ]
  },
  {
   "cell_type": "code",
   "execution_count": 4,
   "id": "b7f149b3-3152-4567-b33d-2477298667af",
   "metadata": {},
   "outputs": [],
   "source": [
    "test()"
   ]
  },
  {
   "cell_type": "markdown",
   "id": "8cb2afa4-25c3-4cec-9677-84fe4cf40fa2",
   "metadata": {},
   "source": [
    "##### Function Inceases Usability, Modularity"
   ]
  },
  {
   "cell_type": "code",
   "execution_count": 6,
   "id": "3f1f4ff8-3a65-4b83-b601-6dbbf29c796f",
   "metadata": {},
   "outputs": [
    {
     "name": "stdout",
     "output_type": "stream",
     "text": [
      "My name is Gaurav\n"
     ]
    }
   ],
   "source": [
    "myname=name()"
   ]
  },
  {
   "cell_type": "code",
   "execution_count": 10,
   "id": "1f1cc9d4-f685-4e53-86e5-7cc11fdf432b",
   "metadata": {},
   "outputs": [],
   "source": [
    "myname   # Cant display output, as function is not rreturning any value"
   ]
  },
  {
   "cell_type": "code",
   "execution_count": 11,
   "id": "e2cfd228-fce0-45c0-8f97-01745df92530",
   "metadata": {},
   "outputs": [],
   "source": [
    "def test2():\n",
    "    return \"test2\""
   ]
  },
  {
   "cell_type": "code",
   "execution_count": 13,
   "id": "7839ea4a-3597-4de3-9ec5-45bcfa3fe6f3",
   "metadata": {},
   "outputs": [
    {
     "data": {
      "text/plain": [
       "'test2'"
      ]
     },
     "execution_count": 13,
     "metadata": {},
     "output_type": "execute_result"
    }
   ],
   "source": [
    "test2()"
   ]
  },
  {
   "cell_type": "code",
   "execution_count": 14,
   "id": "fcfdc4f2-ba7e-4691-bc04-e48543646504",
   "metadata": {},
   "outputs": [],
   "source": [
    "my_test=test2()"
   ]
  },
  {
   "cell_type": "code",
   "execution_count": 15,
   "id": "b730aba5-b840-470c-9dde-23957f55d314",
   "metadata": {},
   "outputs": [
    {
     "data": {
      "text/plain": [
       "'test2'"
      ]
     },
     "execution_count": 15,
     "metadata": {},
     "output_type": "execute_result"
    }
   ],
   "source": [
    "my_test"
   ]
  },
  {
   "cell_type": "code",
   "execution_count": 18,
   "id": "84ec3868-6854-4799-8c41-a47edda8c34f",
   "metadata": {},
   "outputs": [
    {
     "data": {
      "text/plain": [
       "'test2 gaurav'"
      ]
     },
     "execution_count": 18,
     "metadata": {},
     "output_type": "execute_result"
    }
   ],
   "source": [
    "test2() + \" gaurav\"  # Concatenation using function having return value"
   ]
  },
  {
   "cell_type": "code",
   "execution_count": 19,
   "id": "33c18d37-959d-4d6b-96b1-ea4fa5f88464",
   "metadata": {},
   "outputs": [],
   "source": [
    "def test3():\n",
    "    return 7"
   ]
  },
  {
   "cell_type": "code",
   "execution_count": 20,
   "id": "4c6ccf96-bd85-48db-9913-b83f82721dff",
   "metadata": {},
   "outputs": [
    {
     "data": {
      "text/plain": [
       "7"
      ]
     },
     "execution_count": 20,
     "metadata": {},
     "output_type": "execute_result"
    }
   ],
   "source": [
    "test3()"
   ]
  },
  {
   "cell_type": "code",
   "execution_count": 23,
   "id": "3ca8b6c6-ec5f-4ba0-8582-99c8441f73b4",
   "metadata": {},
   "outputs": [],
   "source": [
    "def test3():\n",
    "    return 1,\"Gaurav\",True  #Multiple returns stored in thr form of tuple"
   ]
  },
  {
   "cell_type": "code",
   "execution_count": 24,
   "id": "cbe0cf52-ef86-492c-bfe3-60aee6f4c9d0",
   "metadata": {},
   "outputs": [
    {
     "data": {
      "text/plain": [
       "(1, 'Gaurav', True)"
      ]
     },
     "execution_count": 24,
     "metadata": {},
     "output_type": "execute_result"
    }
   ],
   "source": [
    "test3()"
   ]
  },
  {
   "cell_type": "code",
   "execution_count": 25,
   "id": "18af01d3-c0e4-4c57-b035-e49147a466dc",
   "metadata": {},
   "outputs": [
    {
     "data": {
      "text/plain": [
       "1"
      ]
     },
     "execution_count": 25,
     "metadata": {},
     "output_type": "execute_result"
    }
   ],
   "source": [
    "test3()[0]"
   ]
  },
  {
   "cell_type": "code",
   "execution_count": 26,
   "id": "54ed36e1-fa08-4614-91dd-821f99b0ddf4",
   "metadata": {},
   "outputs": [
    {
     "data": {
      "text/plain": [
       "'Gaurav'"
      ]
     },
     "execution_count": 26,
     "metadata": {},
     "output_type": "execute_result"
    }
   ],
   "source": [
    "test3()[1]"
   ]
  },
  {
   "cell_type": "code",
   "execution_count": 27,
   "id": "db40f07d-75bd-4af9-b6b1-2d659cfcd6b7",
   "metadata": {},
   "outputs": [
    {
     "data": {
      "text/plain": [
       "True"
      ]
     },
     "execution_count": 27,
     "metadata": {},
     "output_type": "execute_result"
    }
   ],
   "source": [
    "test3()[2]"
   ]
  },
  {
   "cell_type": "code",
   "execution_count": 28,
   "id": "c252ee45-8333-4fce-9377-96f6d265580f",
   "metadata": {},
   "outputs": [],
   "source": [
    "a,b,c=test3()"
   ]
  },
  {
   "cell_type": "code",
   "execution_count": 29,
   "id": "4b38b735-b2f7-43ed-b0d1-4cc2255a7978",
   "metadata": {},
   "outputs": [
    {
     "data": {
      "text/plain": [
       "1"
      ]
     },
     "execution_count": 29,
     "metadata": {},
     "output_type": "execute_result"
    }
   ],
   "source": [
    "a"
   ]
  },
  {
   "cell_type": "code",
   "execution_count": 30,
   "id": "b0c996b3-a831-46ce-84bd-19485ed07021",
   "metadata": {},
   "outputs": [
    {
     "data": {
      "text/plain": [
       "'Gaurav'"
      ]
     },
     "execution_count": 30,
     "metadata": {},
     "output_type": "execute_result"
    }
   ],
   "source": [
    "b"
   ]
  },
  {
   "cell_type": "code",
   "execution_count": 31,
   "id": "d3121cbf-790b-43cf-a36f-057f225decb9",
   "metadata": {},
   "outputs": [
    {
     "data": {
      "text/plain": [
       "True"
      ]
     },
     "execution_count": 31,
     "metadata": {},
     "output_type": "execute_result"
    }
   ],
   "source": [
    "c"
   ]
  },
  {
   "cell_type": "code",
   "execution_count": 32,
   "id": "8378e4b4-e329-4b09-a11a-160200d0dbc6",
   "metadata": {},
   "outputs": [],
   "source": [
    "def test4():\n",
    "    a=3*4+5\n",
    "    return a"
   ]
  },
  {
   "cell_type": "code",
   "execution_count": 33,
   "id": "06c8dec0-400a-4c23-bc1b-7f38445c8937",
   "metadata": {},
   "outputs": [
    {
     "data": {
      "text/plain": [
       "17"
      ]
     },
     "execution_count": 33,
     "metadata": {},
     "output_type": "execute_result"
    }
   ],
   "source": [
    "test4()"
   ]
  },
  {
   "cell_type": "code",
   "execution_count": 34,
   "id": "eaddc05b-0268-42e3-8163-7cd275b8d1ca",
   "metadata": {},
   "outputs": [
    {
     "data": {
      "text/plain": [
       "int"
      ]
     },
     "execution_count": 34,
     "metadata": {},
     "output_type": "execute_result"
    }
   ],
   "source": [
    "type(test4())"
   ]
  },
  {
   "cell_type": "code",
   "execution_count": 36,
   "id": "e284b57f-c447-44dc-bf25-b447ceb310ea",
   "metadata": {},
   "outputs": [
    {
     "data": {
      "text/plain": [
       "51"
      ]
     },
     "execution_count": 36,
     "metadata": {},
     "output_type": "execute_result"
    }
   ],
   "source": [
    "test4()*3  #17*3"
   ]
  },
  {
   "cell_type": "code",
   "execution_count": 37,
   "id": "6e53a7a7-6130-4b67-8d63-c2566b8ef64e",
   "metadata": {},
   "outputs": [],
   "source": [
    "def test4(name):\n",
    "    print(f\"My name is {name}\")"
   ]
  },
  {
   "cell_type": "code",
   "execution_count": 38,
   "id": "2e590ee5-438c-469c-b115-3a22eba02fec",
   "metadata": {},
   "outputs": [
    {
     "name": "stdout",
     "output_type": "stream",
     "text": [
      "My name is Gaurav\n"
     ]
    }
   ],
   "source": [
    "test4(\"Gaurav\")"
   ]
  },
  {
   "cell_type": "code",
   "execution_count": 39,
   "id": "4ffec165-4e4e-42e1-8004-58aa4c8ac4b0",
   "metadata": {},
   "outputs": [],
   "source": [
    "def test5(name):\n",
    "    print(\"My name is {a}\".format(a=name))"
   ]
  },
  {
   "cell_type": "code",
   "execution_count": 40,
   "id": "2de5c393-37e0-4c1a-8adf-e5111e3105be",
   "metadata": {},
   "outputs": [
    {
     "name": "stdout",
     "output_type": "stream",
     "text": [
      "My name is Raj\n"
     ]
    }
   ],
   "source": [
    "test5(\"Raj\")"
   ]
  },
  {
   "cell_type": "code",
   "execution_count": 41,
   "id": "b60d1885-0ba6-4171-8388-4283d36ca84a",
   "metadata": {},
   "outputs": [],
   "source": [
    "def test6(a,b):\n",
    "    return a*b"
   ]
  },
  {
   "cell_type": "code",
   "execution_count": 42,
   "id": "d30c898f-d06f-4404-a810-77fdc191f9da",
   "metadata": {},
   "outputs": [],
   "source": [
    "c=test6(5,6)"
   ]
  },
  {
   "cell_type": "code",
   "execution_count": 43,
   "id": "e8868491-b729-4f66-b756-4ed984b51228",
   "metadata": {},
   "outputs": [
    {
     "data": {
      "text/plain": [
       "30"
      ]
     },
     "execution_count": 43,
     "metadata": {},
     "output_type": "execute_result"
    }
   ],
   "source": [
    "c"
   ]
  },
  {
   "cell_type": "code",
   "execution_count": 44,
   "id": "27f60727-b03b-4e07-bab6-39d570d2d771",
   "metadata": {},
   "outputs": [],
   "source": [
    "l=[1,2,3,\"Gaurav\",True,45.21,[8,15,26]]"
   ]
  },
  {
   "cell_type": "code",
   "execution_count": 47,
   "id": "512b93f4-f98d-4134-b740-90a0f64ac6ee",
   "metadata": {},
   "outputs": [],
   "source": [
    "def test7(a):\n",
    "    n=[]\n",
    "    for i in a:\n",
    "        if type(i)==int or type(i)==float:\n",
    "            n.append(i)\n",
    "    return n"
   ]
  },
  {
   "cell_type": "code",
   "execution_count": 48,
   "id": "ec4abcb7-dcea-4519-be19-1b33e73b0ca0",
   "metadata": {},
   "outputs": [
    {
     "data": {
      "text/plain": [
       "[1, 2, 3, 45.21]"
      ]
     },
     "execution_count": 48,
     "metadata": {},
     "output_type": "execute_result"
    }
   ],
   "source": [
    "test7(l)"
   ]
  },
  {
   "cell_type": "code",
   "execution_count": 51,
   "id": "3ea6445f-355e-497c-8351-3ad57975ed0f",
   "metadata": {},
   "outputs": [],
   "source": [
    "def test8(a):\n",
    "    n=[]\n",
    "    for i in a:\n",
    "        if type(i)==list:\n",
    "            for j in i:\n",
    "                if type(j)==int or type(j)==float:\n",
    "                    n.append(j)\n",
    "        else:\n",
    "            if type(i)==int or type(i)==float:\n",
    "                n.append(i)\n",
    "    return n"
   ]
  },
  {
   "cell_type": "code",
   "execution_count": 52,
   "id": "a5639def-59b0-4e2c-a0ef-3f0103753c53",
   "metadata": {},
   "outputs": [
    {
     "data": {
      "text/plain": [
       "[1, 2, 3, 45.21, 8, 15, 26]"
      ]
     },
     "execution_count": 52,
     "metadata": {},
     "output_type": "execute_result"
    }
   ],
   "source": [
    "test8(l)"
   ]
  },
  {
   "cell_type": "code",
   "execution_count": null,
   "id": "f4d4bb4e-5f3d-4dd2-a9da-27161685d790",
   "metadata": {},
   "outputs": [],
   "source": []
  }
 ],
 "metadata": {
  "kernelspec": {
   "display_name": "Python 3 (ipykernel)",
   "language": "python",
   "name": "python3"
  },
  "language_info": {
   "codemirror_mode": {
    "name": "ipython",
    "version": 3
   },
   "file_extension": ".py",
   "mimetype": "text/x-python",
   "name": "python",
   "nbconvert_exporter": "python",
   "pygments_lexer": "ipython3",
   "version": "3.11.5"
  }
 },
 "nbformat": 4,
 "nbformat_minor": 5
}
