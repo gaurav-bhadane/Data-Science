{
 "cells": [
  {
   "cell_type": "markdown",
   "id": "c44d586a-d881-4350-807c-cfc4a5bfdee8",
   "metadata": {},
   "source": [
    "#### Type Casting"
   ]
  },
  {
   "cell_type": "code",
   "execution_count": 1,
   "id": "172d2a21-75f0-4218-9ccd-b4c71aa32e1a",
   "metadata": {},
   "outputs": [],
   "source": [
    "a='123'"
   ]
  },
  {
   "cell_type": "code",
   "execution_count": 2,
   "id": "d9e0441f-72c1-4eee-b85b-b0e5089f22f6",
   "metadata": {},
   "outputs": [
    {
     "data": {
      "text/plain": [
       "123"
      ]
     },
     "execution_count": 2,
     "metadata": {},
     "output_type": "execute_result"
    }
   ],
   "source": [
    "int('123')"
   ]
  },
  {
   "cell_type": "markdown",
   "id": "348de6c8-9f56-4145-965b-62e147c3c84e",
   "metadata": {},
   "source": [
    "#### Different Types of Print Statements"
   ]
  },
  {
   "cell_type": "code",
   "execution_count": 3,
   "id": "f43ab3ad-d188-49c8-8e36-e3fcac26540e",
   "metadata": {},
   "outputs": [
    {
     "name": "stdout",
     "output_type": "stream",
     "text": [
      "My age is:  21\n"
     ]
    }
   ],
   "source": [
    "age=21\n",
    "print(\"My age is: \",age)"
   ]
  },
  {
   "cell_type": "code",
   "execution_count": 4,
   "id": "a0fa41df-876d-4829-a163-16200eaab445",
   "metadata": {},
   "outputs": [
    {
     "name": "stdout",
     "output_type": "stream",
     "text": [
      "My age is: 21\n"
     ]
    }
   ],
   "source": [
    "#fstring\n",
    "print(f\"My age is: {age}\")"
   ]
  },
  {
   "cell_type": "code",
   "execution_count": 5,
   "id": "87a59708-b456-46c7-84e7-8ae0f1c484d6",
   "metadata": {},
   "outputs": [
    {
     "name": "stdout",
     "output_type": "stream",
     "text": [
      "My name is Gaurav and age is 21\n"
     ]
    }
   ],
   "source": [
    "# format()\n",
    "name=\"Gaurav\"\n",
    "age=21\n",
    "print(\"My name is {} and age is {}\".format(name,age))"
   ]
  },
  {
   "cell_type": "code",
   "execution_count": 6,
   "id": "c1981ee5-9ecf-4ab7-986d-59c93d460398",
   "metadata": {},
   "outputs": [
    {
     "name": "stdout",
     "output_type": "stream",
     "text": [
      "My name is Gaurav and age is 21\n"
     ]
    }
   ],
   "source": [
    "# placeholder\n",
    "print(\"My name is {firstname} and age is {myage}\".format(myage=age,firstname=name))"
   ]
  },
  {
   "cell_type": "code",
   "execution_count": 7,
   "id": "58440598-c2a8-40da-9444-2b1630a20efd",
   "metadata": {},
   "outputs": [
    {
     "name": "stdout",
     "output_type": "stream",
     "text": [
      "my age is 21 and I have completed My Degree of BE with the name of Gaurav\n"
     ]
    }
   ],
   "source": [
    "degree=\"BE\"\n",
    "print(\"my age is {} and I have completed My Degree of {} with the name of {}\".format(age,degree,name))"
   ]
  },
  {
   "cell_type": "code",
   "execution_count": 8,
   "id": "1e8b9d54-d787-4e1d-b992-276148ad3ce5",
   "metadata": {},
   "outputs": [
    {
     "name": "stdout",
     "output_type": "stream",
     "text": [
      "my age is 21 and I have completed My Degree of BE with the name of Gaurav\n"
     ]
    }
   ],
   "source": [
    "print(f\"my age is {age} and I have completed My Degree of {degree} with the name of {name}\")"
   ]
  },
  {
   "cell_type": "markdown",
   "id": "f60ce2ce-c6a8-46d7-adce-e8844416d8a4",
   "metadata": {},
   "source": [
    "#### Control Flow\n",
    "**Decision Making Statements: They are used for Making Decision on certain conditions which are categorised as follows:**\n",
    "\n",
    "    1. if\n",
    "    2. if else\n",
    "    3. if elif else\n",
    "    4. Nested if\n",
    "    5. Single Statement Suites"
   ]
  },
  {
   "cell_type": "code",
   "execution_count": 9,
   "id": "35f66cf6-b5ac-4556-ad02-090125ab1cad",
   "metadata": {},
   "outputs": [
    {
     "name": "stdout",
     "output_type": "stream",
     "text": [
      "You are eligible to Vote\n"
     ]
    }
   ],
   "source": [
    "if age>=18:\n",
    "    print(\"You are eligible to Vote\")\n",
    "else:\n",
    "    print(\"Not Eligible\")"
   ]
  },
  {
   "cell_type": "code",
   "execution_count": 12,
   "id": "4abf7cdf-d204-48a4-b3cc-12f4fb64d523",
   "metadata": {},
   "outputs": [
    {
     "name": "stdin",
     "output_type": "stream",
     "text": [
      "Enter your age:  25\n"
     ]
    },
    {
     "name": "stdout",
     "output_type": "stream",
     "text": [
      "You are Young Blood\n"
     ]
    }
   ],
   "source": [
    "## Task\n",
    "age=int(input(\"Enter your age: \"))\n",
    "if (age>=18 and age<=45):\n",
    "    print(\"You are Young Blood\")\n",
    "else:\n",
    "    print(\"Not Young Blood\")"
   ]
  },
  {
   "cell_type": "code",
   "execution_count": 17,
   "id": "54f48cb8-d6dd-4d23-96be-418d0e6b2876",
   "metadata": {},
   "outputs": [
    {
     "name": "stdin",
     "output_type": "stream",
     "text": [
      "Enter Product Price:  800\n"
     ]
    },
    {
     "name": "stdout",
     "output_type": "stream",
     "text": [
      "10% Off, Price for you will be: 720.0\n"
     ]
    }
   ],
   "source": [
    "#Task\n",
    "price=int(input(\"Enter Product Price: \"))\n",
    "if price>1000:\n",
    "    print(\"20% Off, Price for you will be:\",0.8*price)\n",
    "elif price<=1000 and price>500:\n",
    "    print(\"10% Off, Price for you will be:\",0.9*price)\n",
    "else:\n",
    "    print(\"Sorry! No Discount, Price for you will be:\",price)\n"
   ]
  },
  {
   "cell_type": "code",
   "execution_count": 21,
   "id": "26f935d4-0362-4de9-b85a-91d10d06069f",
   "metadata": {},
   "outputs": [
    {
     "name": "stdin",
     "output_type": "stream",
     "text": [
      "Enter the number:  100\n"
     ]
    },
    {
     "name": "stdout",
     "output_type": "stream",
     "text": [
      "Value is less than equal to 999\n"
     ]
    }
   ],
   "source": [
    "#Single Statement Suites\n",
    "val=int(input(\"Enter the number: \"))\n",
    "if(val<=999):print(\"Value is less than equal to 999\")\n",
    "else:print(\"Go Home\")"
   ]
  },
  {
   "cell_type": "markdown",
   "id": "408f21d1-2b25-413f-accf-ee5a83397472",
   "metadata": {},
   "source": [
    "#### Loop\n",
    "1. while Loop\n",
    "2. for loop\n",
    "3. nested loops\n",
    "4. Loop Control(break,continue,pass)"
   ]
  },
  {
   "cell_type": "code",
   "execution_count": 24,
   "id": "0751b059-479c-4aed-be2b-2696ac85b2cd",
   "metadata": {},
   "outputs": [
    {
     "name": "stdout",
     "output_type": "stream",
     "text": [
      "Its Time for Retirement as age is: 61\n"
     ]
    }
   ],
   "source": [
    "#While loop\n",
    "retirement_age=60\n",
    "joining_age=25\n",
    "i=1\n",
    "while(joining_age<=retirement_age):\n",
    "    joining_age+=1\n",
    "else:\n",
    "    print(f\"Its Time for Retirement as age is: {joining_age}\")\n"
   ]
  },
  {
   "cell_type": "code",
   "execution_count": 26,
   "id": "5cc1b4f2-9768-4e0a-9657-6b5e69e8dbdc",
   "metadata": {},
   "outputs": [
    {
     "name": "stdout",
     "output_type": "stream",
     "text": [
      "0\n"
     ]
    }
   ],
   "source": [
    "#Task\n",
    "money=1000\n",
    "while(money!=0):\n",
    "    money-=100\n",
    "print(money)\n"
   ]
  },
  {
   "cell_type": "code",
   "execution_count": 30,
   "id": "3d777300-eefd-4f25-b42a-a3e82c7e7475",
   "metadata": {},
   "outputs": [
    {
     "name": "stdout",
     "output_type": "stream",
     "text": [
      "1\n",
      "2\n",
      "3\n",
      "4\n",
      "5\n",
      "6\n",
      "7\n",
      "8\n",
      "9\n",
      "10\n"
     ]
    }
   ],
   "source": [
    "#for loop\n",
    "\n",
    "for i in range(1,11):\n",
    "    print(i)"
   ]
  },
  {
   "cell_type": "code",
   "execution_count": 31,
   "id": "dffa4cc5-27f7-4918-ae90-c005ed1d8299",
   "metadata": {},
   "outputs": [
    {
     "name": "stdout",
     "output_type": "stream",
     "text": [
      "Gaurav\n",
      "Bhadane\n",
      "21\n",
      "True\n",
      "12.66\n",
      "False\n"
     ]
    }
   ],
   "source": [
    "l=[\"Gaurav\",\"Bhadane\",21,True,12.66,False]\n",
    "for i in l:\n",
    "    print(i)"
   ]
  },
  {
   "cell_type": "code",
   "execution_count": 32,
   "id": "67ab7041-98c0-4849-bff2-e27127d9288a",
   "metadata": {},
   "outputs": [
    {
     "name": "stdout",
     "output_type": "stream",
     "text": [
      "m\n",
      "a\n",
      "n\n",
      "g\n",
      "o\n"
     ]
    }
   ],
   "source": [
    "fruit=\"mango\"\n",
    "for x in fruit:\n",
    "    print(x)"
   ]
  },
  {
   "cell_type": "code",
   "execution_count": 38,
   "id": "08feb9af-ea2c-46a3-9d9e-97c2e4e83223",
   "metadata": {},
   "outputs": [
    {
     "name": "stdout",
     "output_type": "stream",
     "text": [
      "*\n",
      "**\n",
      "***\n",
      "****\n",
      "*****\n",
      "******\n",
      "*******\n"
     ]
    }
   ],
   "source": [
    "n=7\n",
    "for i in range(n):\n",
    "    for j in range(0,i+1):\n",
    "        print(\"*\",end=\"\")\n",
    "    print(\"\\r\")"
   ]
  },
  {
   "cell_type": "code",
   "execution_count": 40,
   "id": "a1fbcfb1-c5f4-4ef4-b471-ad6cb616ba52",
   "metadata": {},
   "outputs": [
    {
     "name": "stdout",
     "output_type": "stream",
     "text": [
      "Mango\n",
      "The fruit is Banana\n"
     ]
    }
   ],
   "source": [
    "fruits=[\"Mango\",\"Banana\",\"Orange\",\"Apple\",\"Grapes\"]\n",
    "#Break Statement\n",
    "for i in fruits:\n",
    "    if i==\"Banana\":\n",
    "        print(\"The fruit is Banana\")\n",
    "        break\n",
    "    print(i)"
   ]
  },
  {
   "cell_type": "code",
   "execution_count": 41,
   "id": "9d0ddfad-7728-4419-996c-f7934147df19",
   "metadata": {},
   "outputs": [
    {
     "name": "stdout",
     "output_type": "stream",
     "text": [
      "Mango\n",
      "The fruit is Banana\n",
      "Orange\n",
      "Apple\n",
      "Grapes\n"
     ]
    }
   ],
   "source": [
    "#Continue Statement\n",
    "for i in fruits:\n",
    "    if i==\"Banana\":\n",
    "        print(\"The fruit is Banana\")\n",
    "        continue\n",
    "    print(i)"
   ]
  },
  {
   "cell_type": "code",
   "execution_count": 43,
   "id": "74f181fe-2d60-4772-a710-8ebf6e20890c",
   "metadata": {},
   "outputs": [
    {
     "name": "stdout",
     "output_type": "stream",
     "text": [
      "Mango\n",
      "The fruit is Banana\n",
      "Banana\n",
      "Orange\n",
      "Apple\n",
      "Grapes\n"
     ]
    }
   ],
   "source": [
    "#Pass Statement\n",
    "for i in fruits:\n",
    "    if i==\"Banana\":\n",
    "        print(\"The fruit is Banana\")\n",
    "        pass  #No Change Takes Place\n",
    "    print(i)"
   ]
  },
  {
   "cell_type": "code",
   "execution_count": null,
   "id": "1880a569-7167-4b1c-99ea-294e766c81aa",
   "metadata": {},
   "outputs": [],
   "source": []
  }
 ],
 "metadata": {
  "kernelspec": {
   "display_name": "Python 3 (ipykernel)",
   "language": "python",
   "name": "python3"
  },
  "language_info": {
   "codemirror_mode": {
    "name": "ipython",
    "version": 3
   },
   "file_extension": ".py",
   "mimetype": "text/x-python",
   "name": "python",
   "nbconvert_exporter": "python",
   "pygments_lexer": "ipython3",
   "version": "3.11.5"
  }
 },
 "nbformat": 4,
 "nbformat_minor": 5
}
