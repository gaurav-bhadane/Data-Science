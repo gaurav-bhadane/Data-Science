{
 "cells": [
  {
   "cell_type": "markdown",
   "id": "cf99545e-8aaa-4e86-864e-48a439613768",
   "metadata": {},
   "source": [
    "### Logical Operators\n",
    "1. and\n",
    "2. or\n",
    "3. not"
   ]
  },
  {
   "cell_type": "code",
   "execution_count": 1,
   "id": "26bcd68f-0b70-4fff-8816-0cf6dfa2a248",
   "metadata": {},
   "outputs": [
    {
     "data": {
      "text/plain": [
       "True"
      ]
     },
     "execution_count": 1,
     "metadata": {},
     "output_type": "execute_result"
    }
   ],
   "source": [
    "True and True"
   ]
  },
  {
   "cell_type": "code",
   "execution_count": 2,
   "id": "c289b6b1-ee56-4264-8b59-291e9d7b0871",
   "metadata": {},
   "outputs": [
    {
     "data": {
      "text/plain": [
       "True"
      ]
     },
     "execution_count": 2,
     "metadata": {},
     "output_type": "execute_result"
    }
   ],
   "source": [
    "True or False"
   ]
  },
  {
   "cell_type": "code",
   "execution_count": 3,
   "id": "d192030f-1d50-438a-855a-b32059859b4d",
   "metadata": {},
   "outputs": [
    {
     "data": {
      "text/plain": [
       "True"
      ]
     },
     "execution_count": 3,
     "metadata": {},
     "output_type": "execute_result"
    }
   ],
   "source": [
    "not False"
   ]
  },
  {
   "cell_type": "code",
   "execution_count": 5,
   "id": "2c31c699-0f01-41d7-be22-e538d9a72258",
   "metadata": {
    "scrolled": true
   },
   "outputs": [
    {
     "name": "stdout",
     "output_type": "stream",
     "text": [
      "True\n",
      "False\n",
      "False\n",
      "False\n"
     ]
    }
   ],
   "source": [
    "#and\n",
    "print(True and True)\n",
    "print(True and False)\n",
    "print(False and True)\n",
    "print(False and False)"
   ]
  },
  {
   "cell_type": "code",
   "execution_count": 6,
   "id": "717c52b0-d287-47f0-a300-13e9f2984b92",
   "metadata": {},
   "outputs": [
    {
     "name": "stdout",
     "output_type": "stream",
     "text": [
      "True\n",
      "True\n",
      "True\n",
      "False\n"
     ]
    }
   ],
   "source": [
    "#or\n",
    "print(True or True)\n",
    "print(True or False)\n",
    "print(False or True)\n",
    "print(False or False)"
   ]
  },
  {
   "cell_type": "code",
   "execution_count": 7,
   "id": "a6265800-cc3a-4d71-b1c7-dd54d989c388",
   "metadata": {},
   "outputs": [
    {
     "name": "stdout",
     "output_type": "stream",
     "text": [
      "False\n",
      "True\n"
     ]
    }
   ],
   "source": [
    "print(not True)\n",
    "print(not False)"
   ]
  },
  {
   "cell_type": "code",
   "execution_count": 9,
   "id": "278abfe5-65a3-457a-a385-fd9368ec407f",
   "metadata": {},
   "outputs": [
    {
     "data": {
      "text/plain": [
       "False"
      ]
     },
     "execution_count": 9,
     "metadata": {},
     "output_type": "execute_result"
    }
   ],
   "source": [
    "not True"
   ]
  },
  {
   "cell_type": "code",
   "execution_count": 11,
   "id": "5692a00e-aa16-418b-86e0-7043912880ff",
   "metadata": {},
   "outputs": [
    {
     "data": {
      "text/plain": [
       "True"
      ]
     },
     "execution_count": 11,
     "metadata": {},
     "output_type": "execute_result"
    }
   ],
   "source": [
    "not int (bool(0))"
   ]
  },
  {
   "cell_type": "code",
   "execution_count": 15,
   "id": "1e64f72d-1c24-4e4b-b00d-8182d3cc9a18",
   "metadata": {},
   "outputs": [
    {
     "data": {
      "text/plain": [
       "False"
      ]
     },
     "execution_count": 15,
     "metadata": {},
     "output_type": "execute_result"
    }
   ],
   "source": [
    "not int (bool(1))"
   ]
  },
  {
   "cell_type": "code",
   "execution_count": 16,
   "id": "56dcf767-f483-4a81-985a-d01541acbd92",
   "metadata": {},
   "outputs": [
    {
     "data": {
      "text/plain": [
       "False"
      ]
     },
     "execution_count": 16,
     "metadata": {},
     "output_type": "execute_result"
    }
   ],
   "source": [
    "not 1"
   ]
  },
  {
   "cell_type": "code",
   "execution_count": 17,
   "id": "0f29848f-1bd6-46b2-8756-e2212ca2382a",
   "metadata": {},
   "outputs": [
    {
     "data": {
      "text/plain": [
       "True"
      ]
     },
     "execution_count": 17,
     "metadata": {},
     "output_type": "execute_result"
    }
   ],
   "source": [
    "not 0"
   ]
  },
  {
   "cell_type": "code",
   "execution_count": 18,
   "id": "49382623-9726-41e7-97ec-dfa0cc456971",
   "metadata": {},
   "outputs": [
    {
     "data": {
      "text/plain": [
       "False"
      ]
     },
     "execution_count": 18,
     "metadata": {},
     "output_type": "execute_result"
    }
   ],
   "source": [
    "not 1000"
   ]
  },
  {
   "cell_type": "code",
   "execution_count": 19,
   "id": "64228cf9-a4db-4d72-a8ed-a53f64b362db",
   "metadata": {},
   "outputs": [
    {
     "data": {
      "text/plain": [
       "1000"
      ]
     },
     "execution_count": 19,
     "metadata": {},
     "output_type": "execute_result"
    }
   ],
   "source": [
    "1000"
   ]
  },
  {
   "cell_type": "code",
   "execution_count": 20,
   "id": "5e95e790-31a2-44b8-984f-69e515dd6b09",
   "metadata": {},
   "outputs": [
    {
     "data": {
      "text/plain": [
       "True"
      ]
     },
     "execution_count": 20,
     "metadata": {},
     "output_type": "execute_result"
    }
   ],
   "source": [
    "not(False)"
   ]
  },
  {
   "cell_type": "code",
   "execution_count": 21,
   "id": "5b21e8f3-7481-4fbd-86b0-1bd2d0ea1ad4",
   "metadata": {},
   "outputs": [
    {
     "data": {
      "text/plain": [
       "True"
      ]
     },
     "execution_count": 21,
     "metadata": {},
     "output_type": "execute_result"
    }
   ],
   "source": [
    "not(False)*True"
   ]
  },
  {
   "cell_type": "code",
   "execution_count": 22,
   "id": "fd4acb08-1116-4465-b870-d6b281682418",
   "metadata": {},
   "outputs": [
    {
     "data": {
      "text/plain": [
       "True"
      ]
     },
     "execution_count": 22,
     "metadata": {},
     "output_type": "execute_result"
    }
   ],
   "source": [
    "not(True)*False"
   ]
  },
  {
   "cell_type": "code",
   "execution_count": 23,
   "id": "91d2fd53-dc38-455e-b705-110e0904fcb9",
   "metadata": {},
   "outputs": [
    {
     "data": {
      "text/plain": [
       "False"
      ]
     },
     "execution_count": 23,
     "metadata": {},
     "output_type": "execute_result"
    }
   ],
   "source": [
    "not(True)"
   ]
  },
  {
   "cell_type": "code",
   "execution_count": 25,
   "id": "df35cf04-17e9-433d-8bb6-148f9b9f7d31",
   "metadata": {},
   "outputs": [
    {
     "data": {
      "text/plain": [
       "True"
      ]
     },
     "execution_count": 25,
     "metadata": {},
     "output_type": "execute_result"
    }
   ],
   "source": [
    "not(False)*False #  It can be simailarly Written as: not false*false"
   ]
  },
  {
   "cell_type": "code",
   "execution_count": 26,
   "id": "42f8c496-d4d8-423b-b334-a2d1a9b5a278",
   "metadata": {},
   "outputs": [
    {
     "data": {
      "text/plain": [
       "True"
      ]
     },
     "execution_count": 26,
     "metadata": {},
     "output_type": "execute_result"
    }
   ],
   "source": [
    "(not(False)*False)"
   ]
  },
  {
   "cell_type": "code",
   "execution_count": 34,
   "id": "6d837b37-108a-43a0-8fb8-b70bc3b47559",
   "metadata": {},
   "outputs": [
    {
     "name": "stdout",
     "output_type": "stream",
     "text": [
      "True\n"
     ]
    }
   ],
   "source": [
    "lst_a=[1,2,3,4]\n",
    "lst_b=[1,2,3,4]\n",
    "\n",
    "if(lst_a == lst_b):\n",
    "    print(True)\n",
    "else:\n",
    "    print(False)"
   ]
  },
  {
   "cell_type": "code",
   "execution_count": 35,
   "id": "40197d1c-d245-45af-acb7-f59122fd3716",
   "metadata": {},
   "outputs": [
    {
     "data": {
      "text/plain": [
       "1396378523072"
      ]
     },
     "execution_count": 35,
     "metadata": {},
     "output_type": "execute_result"
    }
   ],
   "source": [
    "id(lst_a)"
   ]
  },
  {
   "cell_type": "code",
   "execution_count": 36,
   "id": "85881937-3705-4e33-92f1-0a5ffeced521",
   "metadata": {},
   "outputs": [
    {
     "data": {
      "text/plain": [
       "1396372812992"
      ]
     },
     "execution_count": 36,
     "metadata": {},
     "output_type": "execute_result"
    }
   ],
   "source": [
    "id(lst_b)"
   ]
  },
  {
   "cell_type": "code",
   "execution_count": 37,
   "id": "367560c4-1e5c-4749-af02-42f2b43b2a28",
   "metadata": {},
   "outputs": [
    {
     "data": {
      "text/plain": [
       "False"
      ]
     },
     "execution_count": 37,
     "metadata": {},
     "output_type": "execute_result"
    }
   ],
   "source": [
    "lst_a is lst_b"
   ]
  },
  {
   "cell_type": "code",
   "execution_count": 38,
   "id": "fdc892f1-7d58-429a-bd87-192260c94b45",
   "metadata": {},
   "outputs": [
    {
     "data": {
      "text/plain": [
       "True"
      ]
     },
     "execution_count": 38,
     "metadata": {},
     "output_type": "execute_result"
    }
   ],
   "source": [
    "lst_a is not lst_b"
   ]
  },
  {
   "cell_type": "code",
   "execution_count": 41,
   "id": "7dd1138d-94ae-4385-9890-3f7bd6a0911b",
   "metadata": {},
   "outputs": [
    {
     "data": {
      "text/plain": [
       "True"
      ]
     },
     "execution_count": 41,
     "metadata": {},
     "output_type": "execute_result"
    }
   ],
   "source": [
    "#Address Mapping\n",
    "lst_b=lst_a\n",
    "lst_a is lst_b"
   ]
  },
  {
   "cell_type": "markdown",
   "id": "0dc4a2e6-384e-4410-8075-a56df1cea7ed",
   "metadata": {},
   "source": [
    "#### Important Note: \n",
    "**'is' and 'is not' are used for checking addresses, while == and != are used for checking Values**"
   ]
  },
  {
   "cell_type": "code",
   "execution_count": 45,
   "id": "066b3491-a972-4767-b2df-f22c737da9e8",
   "metadata": {},
   "outputs": [
    {
     "name": "stdout",
     "output_type": "stream",
     "text": [
      "140722695299912\n",
      "140722695299912\n"
     ]
    }
   ],
   "source": [
    "#Checking for integer\n",
    "a=2\n",
    "b=2\n",
    "print(id(a))\n",
    "print(id(b))"
   ]
  },
  {
   "cell_type": "code",
   "execution_count": 46,
   "id": "cd8b4040-97af-4bfc-ab13-4bf71d0f7b16",
   "metadata": {},
   "outputs": [
    {
     "name": "stdout",
     "output_type": "stream",
     "text": [
      "1396372961968\n",
      "1396372961968\n"
     ]
    }
   ],
   "source": [
    "#Checking for String\n",
    "a=\"Gaurav\"\n",
    "b=\"Gaurav\"\n",
    "print(id(a))\n",
    "print(id(b))"
   ]
  },
  {
   "cell_type": "markdown",
   "id": "c01b0c32-4abd-4e03-8e22-f291d22130a7",
   "metadata": {},
   "source": [
    "### Strings\n",
    "**1. Strings are Immutable and the individual character of string can't be modified**\n",
    "\n",
    "**2. That is the main reason of SAME ADDRESS of two variable having SAME value**"
   ]
  },
  {
   "cell_type": "code",
   "execution_count": 47,
   "id": "67de620d-0d55-4e7a-973f-c76d242df423",
   "metadata": {},
   "outputs": [],
   "source": [
    " str1=\"My name is Gaurav Bhadane\""
   ]
  },
  {
   "cell_type": "code",
   "execution_count": 48,
   "id": "07cf29f6-5737-496a-88c7-8570ccaa2d07",
   "metadata": {},
   "outputs": [
    {
     "data": {
      "text/plain": [
       "'My name is Gaurav Bhadane'"
      ]
     },
     "execution_count": 48,
     "metadata": {},
     "output_type": "execute_result"
    }
   ],
   "source": [
    "str1"
   ]
  },
  {
   "cell_type": "code",
   "execution_count": 49,
   "id": "e5e2cb58-ca34-4c57-b73a-87ff6b3b7619",
   "metadata": {},
   "outputs": [
    {
     "data": {
      "text/plain": [
       "str"
      ]
     },
     "execution_count": 49,
     "metadata": {},
     "output_type": "execute_result"
    }
   ],
   "source": [
    "type(str1)"
   ]
  },
  {
   "cell_type": "code",
   "execution_count": 50,
   "id": "5230b6d9-2901-4bb5-9fbd-dda66d74880a",
   "metadata": {},
   "outputs": [
    {
     "data": {
      "text/plain": [
       "'M'"
      ]
     },
     "execution_count": 50,
     "metadata": {},
     "output_type": "execute_result"
    }
   ],
   "source": [
    "str1[0]"
   ]
  },
  {
   "cell_type": "code",
   "execution_count": 51,
   "id": "30e6b002-08ac-46d9-80fd-dea3c7e470cc",
   "metadata": {},
   "outputs": [
    {
     "data": {
      "text/plain": [
       "'My na'"
      ]
     },
     "execution_count": 51,
     "metadata": {},
     "output_type": "execute_result"
    }
   ],
   "source": [
    "str1[0:5]"
   ]
  },
  {
   "cell_type": "code",
   "execution_count": 53,
   "id": "c38d2a45-c98d-486d-ba37-163d42495361",
   "metadata": {},
   "outputs": [
    {
     "ename": "TypeError",
     "evalue": "'type' object does not support item assignment",
     "output_type": "error",
     "traceback": [
      "\u001b[1;31m---------------------------------------------------------------------------\u001b[0m",
      "\u001b[1;31mTypeError\u001b[0m                                 Traceback (most recent call last)",
      "Cell \u001b[1;32mIn[53], line 1\u001b[0m\n\u001b[1;32m----> 1\u001b[0m \u001b[38;5;28;43mstr\u001b[39;49m\u001b[43m[\u001b[49m\u001b[38;5;241;43m0\u001b[39;49m\u001b[43m]\u001b[49m\u001b[38;5;241m=\u001b[39m\u001b[38;5;124m'\u001b[39m\u001b[38;5;124mB\u001b[39m\u001b[38;5;124m'\u001b[39m   \u001b[38;5;66;03m#Not Possible as String is Immutable\u001b[39;00m\n",
      "\u001b[1;31mTypeError\u001b[0m: 'type' object does not support item assignment"
     ]
    }
   ],
   "source": [
    "str[0]='B'   #Not Possible as String is Immutable"
   ]
  },
  {
   "cell_type": "code",
   "execution_count": 57,
   "id": "8211ce0d-37ff-47ab-88e5-2e65e7abe971",
   "metadata": {},
   "outputs": [
    {
     "data": {
      "text/plain": [
       "'My name'"
      ]
     },
     "execution_count": 57,
     "metadata": {},
     "output_type": "execute_result"
    }
   ],
   "source": [
    "str1[0:7]"
   ]
  },
  {
   "cell_type": "code",
   "execution_count": 58,
   "id": "06b65dcf-0307-4002-b550-601938d61b5b",
   "metadata": {},
   "outputs": [
    {
     "data": {
      "text/plain": [
       "'e'"
      ]
     },
     "execution_count": 58,
     "metadata": {},
     "output_type": "execute_result"
    }
   ],
   "source": [
    "str1[-1]"
   ]
  },
  {
   "cell_type": "code",
   "execution_count": 63,
   "id": "e93e2bc9-8e5c-4441-ad8b-7e42c9792cac",
   "metadata": {},
   "outputs": [
    {
     "data": {
      "text/plain": [
       "'Bhadane'"
      ]
     },
     "execution_count": 63,
     "metadata": {},
     "output_type": "execute_result"
    }
   ],
   "source": [
    "str1[-7:]"
   ]
  },
  {
   "cell_type": "code",
   "execution_count": 67,
   "id": "60f36de0-6aed-4f21-855f-547c56d173de",
   "metadata": {},
   "outputs": [
    {
     "data": {
      "text/plain": [
       "'My name is Gaurav Bhadan'"
      ]
     },
     "execution_count": 67,
     "metadata": {},
     "output_type": "execute_result"
    }
   ],
   "source": [
    "str1[:-1]"
   ]
  },
  {
   "cell_type": "code",
   "execution_count": 68,
   "id": "16183a5c-b59c-4af6-b41c-b15b4a484c92",
   "metadata": {},
   "outputs": [
    {
     "data": {
      "text/plain": [
       "'My name is Gaurav Bhadane'"
      ]
     },
     "execution_count": 68,
     "metadata": {},
     "output_type": "execute_result"
    }
   ],
   "source": [
    "str1[:]"
   ]
  },
  {
   "cell_type": "code",
   "execution_count": 69,
   "id": "910af7a7-181f-43f2-a15a-4171b5d888f6",
   "metadata": {},
   "outputs": [
    {
     "data": {
      "text/plain": [
       "'enadahB varuaG si eman yM'"
      ]
     },
     "execution_count": 69,
     "metadata": {},
     "output_type": "execute_result"
    }
   ],
   "source": [
    "str1[::-1]"
   ]
  },
  {
   "cell_type": "code",
   "execution_count": 70,
   "id": "dc7fcd82-7199-41a6-8910-429346ae50a9",
   "metadata": {},
   "outputs": [
    {
     "data": {
      "text/plain": [
       "' name is Gaurav Bhadan'"
      ]
     },
     "execution_count": 70,
     "metadata": {},
     "output_type": "execute_result"
    }
   ],
   "source": [
    " str1[2:-1]"
   ]
  },
  {
   "cell_type": "code",
   "execution_count": 71,
   "id": "981c75fa-ce27-4ac0-aa7f-4deff9f1edb3",
   "metadata": {},
   "outputs": [
    {
     "data": {
      "text/plain": [
       "'name is Gaurav Bhadan'"
      ]
     },
     "execution_count": 71,
     "metadata": {},
     "output_type": "execute_result"
    }
   ],
   "source": [
    "str1[3:-1]"
   ]
  },
  {
   "cell_type": "code",
   "execution_count": 72,
   "id": "4a0522e0-97ee-40fa-b416-76e12699fa36",
   "metadata": {},
   "outputs": [
    {
     "data": {
      "text/plain": [
       "'n yM'"
      ]
     },
     "execution_count": 72,
     "metadata": {},
     "output_type": "execute_result"
    }
   ],
   "source": [
    "str1[3::-1]"
   ]
  },
  {
   "cell_type": "code",
   "execution_count": 74,
   "id": "8e12e102-2a01-4f42-9be0-72b1f373433c",
   "metadata": {},
   "outputs": [
    {
     "data": {
      "text/plain": [
       "'yM'"
      ]
     },
     "execution_count": 74,
     "metadata": {},
     "output_type": "execute_result"
    }
   ],
   "source": [
    "str1[1::-1]"
   ]
  },
  {
   "cell_type": "code",
   "execution_count": 76,
   "id": "a8f9205b-1255-44a4-91e0-3b33047bee54",
   "metadata": {},
   "outputs": [
    {
     "data": {
      "text/plain": [
       "'Gaurav Gaurav Gaurav Gaurav Gaurav '"
      ]
     },
     "execution_count": 76,
     "metadata": {},
     "output_type": "execute_result"
    }
   ],
   "source": [
    "name=\"Gaurav \"\n",
    "name*5"
   ]
  },
  {
   "cell_type": "code",
   "execution_count": 77,
   "id": "a2fcc636-340c-4bfa-a874-b264f67c5f46",
   "metadata": {},
   "outputs": [
    {
     "data": {
      "text/plain": [
       "7"
      ]
     },
     "execution_count": 77,
     "metadata": {},
     "output_type": "execute_result"
    }
   ],
   "source": [
    "len(name)"
   ]
  },
  {
   "cell_type": "code",
   "execution_count": 80,
   "id": "3a3fcdcf-23c0-427f-ae97-926355fbf594",
   "metadata": {},
   "outputs": [
    {
     "data": {
      "text/plain": [
       "3"
      ]
     },
     "execution_count": 80,
     "metadata": {},
     "output_type": "execute_result"
    }
   ],
   "source": [
    "name.find('r')"
   ]
  },
  {
   "cell_type": "code",
   "execution_count": 81,
   "id": "956b4c9b-7658-43d9-a03a-bd6b28c8ea89",
   "metadata": {},
   "outputs": [
    {
     "data": {
      "text/plain": [
       "2"
      ]
     },
     "execution_count": 81,
     "metadata": {},
     "output_type": "execute_result"
    }
   ],
   "source": [
    "name.count('a')"
   ]
  },
  {
   "cell_type": "code",
   "execution_count": 84,
   "id": "431b83fb-e44b-40ae-acb1-1b8269424efd",
   "metadata": {},
   "outputs": [
    {
     "data": {
      "text/plain": [
       "1"
      ]
     },
     "execution_count": 84,
     "metadata": {},
     "output_type": "execute_result"
    }
   ],
   "source": [
    "name.count('G')"
   ]
  },
  {
   "cell_type": "code",
   "execution_count": 91,
   "id": "a30dd445-4d1b-4d3a-b0ae-87530a262e30",
   "metadata": {},
   "outputs": [
    {
     "data": {
      "text/plain": [
       "1"
      ]
     },
     "execution_count": 91,
     "metadata": {},
     "output_type": "execute_result"
    }
   ],
   "source": [
    "name.find('a',1,5)"
   ]
  },
  {
   "cell_type": "code",
   "execution_count": 92,
   "id": "0aa3652e-b6f0-4672-ba22-3ffe1d6267b8",
   "metadata": {},
   "outputs": [
    {
     "data": {
      "text/plain": [
       "['My', 'name', 'is', 'Gaurav', 'Bhadane']"
      ]
     },
     "execution_count": 92,
     "metadata": {},
     "output_type": "execute_result"
    }
   ],
   "source": [
    "#String Split Function\n",
    "str1.split(\" \" )"
   ]
  },
  {
   "cell_type": "code",
   "execution_count": 93,
   "id": "14bf3d4f-1809-4580-a68b-57c9ff3f80dd",
   "metadata": {},
   "outputs": [
    {
     "data": {
      "text/plain": [
       "['My n', 'me is G', 'ur', 'v Bh', 'd', 'ne']"
      ]
     },
     "execution_count": 93,
     "metadata": {},
     "output_type": "execute_result"
    }
   ],
   "source": [
    "str1.split(\"a\")"
   ]
  },
  {
   "cell_type": "code",
   "execution_count": 95,
   "id": "d6d7ca08-4151-41e1-aca1-6760d9690842",
   "metadata": {},
   "outputs": [
    {
     "data": {
      "text/plain": [
       "('My n', 'a', 'me is Gaurav Bhadane')"
      ]
     },
     "execution_count": 95,
     "metadata": {},
     "output_type": "execute_result"
    }
   ],
   "source": [
    "str1.partition(\"a\")"
   ]
  },
  {
   "cell_type": "code",
   "execution_count": 96,
   "id": "4fb53b06-e2ff-47f5-99b0-dbf942abb9e7",
   "metadata": {},
   "outputs": [
    {
     "data": {
      "text/plain": [
       "'MY NAME IS GAURAV BHADANE'"
      ]
     },
     "execution_count": 96,
     "metadata": {},
     "output_type": "execute_result"
    }
   ],
   "source": [
    "str1.upper()"
   ]
  },
  {
   "cell_type": "code",
   "execution_count": 97,
   "id": "436f059f-abdb-476a-a9eb-f331f0caaebd",
   "metadata": {},
   "outputs": [
    {
     "data": {
      "text/plain": [
       "'my name is gaurav bhadane'"
      ]
     },
     "execution_count": 97,
     "metadata": {},
     "output_type": "execute_result"
    }
   ],
   "source": [
    "str1.lower()"
   ]
  },
  {
   "cell_type": "code",
   "execution_count": 99,
   "id": "271163c4-2229-48c7-9904-b05af3bc5317",
   "metadata": {},
   "outputs": [
    {
     "data": {
      "text/plain": [
       "'mY NAME IS gAURAV bHADANE'"
      ]
     },
     "execution_count": 99,
     "metadata": {},
     "output_type": "execute_result"
    }
   ],
   "source": [
    "str1.swapcase()"
   ]
  },
  {
   "cell_type": "code",
   "execution_count": 100,
   "id": "e9140c00-86d0-423c-a742-c4dff0f53901",
   "metadata": {},
   "outputs": [
    {
     "data": {
      "text/plain": [
       "'My name is gaurav bhadane'"
      ]
     },
     "execution_count": 100,
     "metadata": {},
     "output_type": "execute_result"
    }
   ],
   "source": [
    "str1.capitalize()"
   ]
  },
  {
   "cell_type": "code",
   "execution_count": 101,
   "id": "ddc186a4-50d1-4bc4-9d44-66959785110d",
   "metadata": {},
   "outputs": [
    {
     "data": {
      "text/plain": [
       "'My Name Is Gaurav Bhadane'"
      ]
     },
     "execution_count": 101,
     "metadata": {},
     "output_type": "execute_result"
    }
   ],
   "source": [
    "str1.title()"
   ]
  }
 ],
 "metadata": {
  "kernelspec": {
   "display_name": "Python 3 (ipykernel)",
   "language": "python",
   "name": "python3"
  },
  "language_info": {
   "codemirror_mode": {
    "name": "ipython",
    "version": 3
   },
   "file_extension": ".py",
   "mimetype": "text/x-python",
   "name": "python",
   "nbconvert_exporter": "python",
   "pygments_lexer": "ipython3",
   "version": "3.11.5"
  }
 },
 "nbformat": 4,
 "nbformat_minor": 5
}
