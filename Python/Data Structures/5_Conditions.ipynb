{
 "cells": [
  {
   "cell_type": "code",
   "execution_count": 3,
   "id": "15b98779-2972-4709-97eb-e684e26afc3c",
   "metadata": {},
   "outputs": [
    {
     "name": "stdout",
     "output_type": "stream",
     "text": [
      "Pass\n"
     ]
    }
   ],
   "source": [
    "a=11\n",
    "if (a>10):\n",
    "    print(\"Pass\")\n",
    "else:\n",
    "    print(\"Fail\")"
   ]
  },
  {
   "cell_type": "code",
   "execution_count": 5,
   "id": "deab2c5c-85b5-49bc-b7e4-7ef10484b4b7",
   "metadata": {},
   "outputs": [
    {
     "name": "stdin",
     "output_type": "stream",
     "text": [
      "Enter the value of b:  20\n"
     ]
    },
    {
     "name": "stdout",
     "output_type": "stream",
     "text": [
      "Greater than 10\n"
     ]
    }
   ],
   "source": [
    "b=int(input(\"Enter the value of b: \"))\n",
    "if b==10:\n",
    "    print(\"Equals to 10\")\n",
    "elif b>10:\n",
    "    print(\"Greater than 10\")\n",
    "else:\n",
    "    print(\"Lesser than 10\")"
   ]
  },
  {
   "cell_type": "code",
   "execution_count": 7,
   "id": "fa155903-617e-48c1-8930-746a4cb055ba",
   "metadata": {},
   "outputs": [
    {
     "name": "stdout",
     "output_type": "stream",
     "text": [
      "1\n",
      "2\n",
      "3\n",
      "4\n",
      "5\n",
      "6\n",
      "7\n",
      "8\n",
      "9\n"
     ]
    }
   ],
   "source": [
    "i=1\n",
    "n=10\n",
    "while i<n:\n",
    "    print(i)\n",
    "    i+=1\n",
    "    "
   ]
  },
  {
   "cell_type": "code",
   "execution_count": 10,
   "id": "16811701-2936-451d-9dc3-31d592207e94",
   "metadata": {},
   "outputs": [
    {
     "name": "stdout",
     "output_type": "stream",
     "text": [
      "G\n",
      "a\n",
      "u\n",
      "r\n",
      "a\n",
      "v\n"
     ]
    }
   ],
   "source": [
    "a=\"Gaurav\"\n",
    "for i in a:\n",
    "    print(i)"
   ]
  },
  {
   "cell_type": "code",
   "execution_count": 11,
   "id": "a8ae3f2c-1c26-42ab-950b-daee4f9162bc",
   "metadata": {},
   "outputs": [
    {
     "name": "stdout",
     "output_type": "stream",
     "text": [
      "35\n",
      "14\n",
      "52\n",
      "gb\n",
      "True\n",
      "(5+6j)\n",
      "False\n"
     ]
    }
   ],
   "source": [
    "l=[35,14,52,\"gb\",True,5+6j,False]\n",
    "for j in l:\n",
    "    print(j)"
   ]
  },
  {
   "cell_type": "code",
   "execution_count": 12,
   "id": "38e93544-04c0-4fe8-ae85-c69e79aacdfa",
   "metadata": {},
   "outputs": [
    {
     "data": {
      "text/plain": [
       "range(0, 10)"
      ]
     },
     "execution_count": 12,
     "metadata": {},
     "output_type": "execute_result"
    }
   ],
   "source": [
    "range(10)"
   ]
  },
  {
   "cell_type": "code",
   "execution_count": null,
   "id": "a58e72de-07ca-4dfb-a36e-d2862011ddb9",
   "metadata": {},
   "outputs": [],
   "source": []
  }
 ],
 "metadata": {
  "kernelspec": {
   "display_name": "Python 3 (ipykernel)",
   "language": "python",
   "name": "python3"
  },
  "language_info": {
   "codemirror_mode": {
    "name": "ipython",
    "version": 3
   },
   "file_extension": ".py",
   "mimetype": "text/x-python",
   "name": "python",
   "nbconvert_exporter": "python",
   "pygments_lexer": "ipython3",
   "version": "3.11.5"
  }
 },
 "nbformat": 4,
 "nbformat_minor": 5
}
