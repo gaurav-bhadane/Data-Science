{
 "cells": [
  {
   "cell_type": "markdown",
   "id": "ec418cc1-03bb-4c07-b42b-2f0370fd0d84",
   "metadata": {},
   "source": [
    "### Tuples\n",
    "    1. Tuples are Immutable"
   ]
  },
  {
   "cell_type": "code",
   "execution_count": 1,
   "id": "25d29782-1a05-4f03-8533-86fbe554160e",
   "metadata": {},
   "outputs": [],
   "source": [
    "t=()"
   ]
  },
  {
   "cell_type": "code",
   "execution_count": 2,
   "id": "ee4993c1-cdbb-4dbb-b781-f321d0f9cf9f",
   "metadata": {},
   "outputs": [
    {
     "data": {
      "text/plain": [
       "tuple"
      ]
     },
     "execution_count": 2,
     "metadata": {},
     "output_type": "execute_result"
    }
   ],
   "source": [
    "type(t)"
   ]
  },
  {
   "cell_type": "code",
   "execution_count": 3,
   "id": "96527660-0ac6-403f-bfde-e0f604a12856",
   "metadata": {},
   "outputs": [],
   "source": [
    "t1=(1,2,3,4,5)"
   ]
  },
  {
   "cell_type": "code",
   "execution_count": 4,
   "id": "7aab8b0d-855b-4de4-af73-c210a2701226",
   "metadata": {},
   "outputs": [
    {
     "data": {
      "text/plain": [
       "(1, 2, 3, 4, 5)"
      ]
     },
     "execution_count": 4,
     "metadata": {},
     "output_type": "execute_result"
    }
   ],
   "source": [
    "t1"
   ]
  },
  {
   "cell_type": "code",
   "execution_count": 5,
   "id": "e574449d-3f35-44d9-a41b-a8ccf408a072",
   "metadata": {},
   "outputs": [],
   "source": [
    "t2=(1,2,3,True,\"Gaurav\",\"Bhadane\",4+5j)"
   ]
  },
  {
   "cell_type": "code",
   "execution_count": 6,
   "id": "767730bc-0af2-4638-aad9-4f23900de25b",
   "metadata": {},
   "outputs": [
    {
     "data": {
      "text/plain": [
       "tuple"
      ]
     },
     "execution_count": 6,
     "metadata": {},
     "output_type": "execute_result"
    }
   ],
   "source": [
    "type(t2)"
   ]
  },
  {
   "cell_type": "code",
   "execution_count": 7,
   "id": "2de64ffe-f928-48b1-a21d-bc8c2361f6dd",
   "metadata": {},
   "outputs": [
    {
     "data": {
      "text/plain": [
       "(1, 2, 3, True, 'Gaurav', 'Bhadane', (4+5j))"
      ]
     },
     "execution_count": 7,
     "metadata": {},
     "output_type": "execute_result"
    }
   ],
   "source": [
    "t2"
   ]
  },
  {
   "cell_type": "code",
   "execution_count": 8,
   "id": "3dc61cc4-d1f5-4e79-9d0c-5cd8fc7d9b9b",
   "metadata": {},
   "outputs": [
    {
     "data": {
      "text/plain": [
       "1"
      ]
     },
     "execution_count": 8,
     "metadata": {},
     "output_type": "execute_result"
    }
   ],
   "source": [
    "t2[0]"
   ]
  },
  {
   "cell_type": "code",
   "execution_count": 9,
   "id": "dd0731ff-3a72-4f9a-975c-59ba979a521b",
   "metadata": {},
   "outputs": [
    {
     "data": {
      "text/plain": [
       "'Gaurav'"
      ]
     },
     "execution_count": 9,
     "metadata": {},
     "output_type": "execute_result"
    }
   ],
   "source": [
    "t2[4]"
   ]
  },
  {
   "cell_type": "code",
   "execution_count": 10,
   "id": "8f1e3c25-e47c-4a67-bb19-4b1b85a7b387",
   "metadata": {},
   "outputs": [
    {
     "data": {
      "text/plain": [
       "(5, 4, 3, 2, 1)"
      ]
     },
     "execution_count": 10,
     "metadata": {},
     "output_type": "execute_result"
    }
   ],
   "source": [
    "t1[::-1]"
   ]
  },
  {
   "cell_type": "code",
   "execution_count": 11,
   "id": "81eb34c5-d276-4fd4-b39d-78ed9efdba5d",
   "metadata": {},
   "outputs": [
    {
     "data": {
      "text/plain": [
       "((4+5j), 'Bhadane', 'Gaurav', True, 3, 2, 1)"
      ]
     },
     "execution_count": 11,
     "metadata": {},
     "output_type": "execute_result"
    }
   ],
   "source": [
    "t2[::-1]"
   ]
  },
  {
   "cell_type": "code",
   "execution_count": 12,
   "id": "ff012a8b-baaf-4cfa-8a33-502f189d802f",
   "metadata": {},
   "outputs": [
    {
     "data": {
      "text/plain": [
       "(1, 2, 3, True, 'Gaurav', 'Bhadane', (4+5j))"
      ]
     },
     "execution_count": 12,
     "metadata": {},
     "output_type": "execute_result"
    }
   ],
   "source": [
    "t2"
   ]
  },
  {
   "cell_type": "code",
   "execution_count": 14,
   "id": "cfed3128-e048-4c5a-9757-48bb81de685a",
   "metadata": {},
   "outputs": [
    {
     "data": {
      "text/plain": [
       "(1, 2, 3)"
      ]
     },
     "execution_count": 14,
     "metadata": {},
     "output_type": "execute_result"
    }
   ],
   "source": [
    "t2[0:3]"
   ]
  },
  {
   "cell_type": "code",
   "execution_count": 22,
   "id": "83dfd39d-5728-4595-bb41-4f892b714322",
   "metadata": {},
   "outputs": [
    {
     "data": {
      "text/plain": [
       "1"
      ]
     },
     "execution_count": 22,
     "metadata": {},
     "output_type": "execute_result"
    }
   ],
   "source": [
    "t2.count('Gaurav')"
   ]
  },
  {
   "cell_type": "code",
   "execution_count": 24,
   "id": "fc7f5a38-a462-4afa-af22-52d88b72d83f",
   "metadata": {},
   "outputs": [
    {
     "data": {
      "text/plain": [
       "0"
      ]
     },
     "execution_count": 24,
     "metadata": {},
     "output_type": "execute_result"
    }
   ],
   "source": [
    "t2.index(True)"
   ]
  },
  {
   "cell_type": "code",
   "execution_count": 26,
   "id": "d938b6c3-2bad-469d-89fe-f83ae5e6e59f",
   "metadata": {},
   "outputs": [
    {
     "ename": "TypeError",
     "evalue": "'tuple' object does not support item assignment",
     "output_type": "error",
     "traceback": [
      "\u001b[1;31m---------------------------------------------------------------------------\u001b[0m",
      "\u001b[1;31mTypeError\u001b[0m                                 Traceback (most recent call last)",
      "Cell \u001b[1;32mIn[26], line 1\u001b[0m\n\u001b[1;32m----> 1\u001b[0m \u001b[43mt2\u001b[49m\u001b[43m[\u001b[49m\u001b[38;5;241;43m0\u001b[39;49m\u001b[43m]\u001b[49m\u001b[38;5;241m=\u001b[39m\u001b[38;5;241m3\u001b[39m  \u001b[38;5;66;03m#Tuple is Immutable\u001b[39;00m\n",
      "\u001b[1;31mTypeError\u001b[0m: 'tuple' object does not support item assignment"
     ]
    }
   ],
   "source": [
    "t2[0]=3  #Tuple is Immutable"
   ]
  },
  {
   "cell_type": "code",
   "execution_count": 28,
   "id": "448702e4-0ddb-42bd-87d0-3e1117713d14",
   "metadata": {},
   "outputs": [
    {
     "name": "stdout",
     "output_type": "stream",
     "text": [
      "1   <class 'int'>\n",
      "2   <class 'int'>\n",
      "3   <class 'int'>\n",
      "True   <class 'bool'>\n",
      "Gaurav   <class 'str'>\n",
      "Bhadane   <class 'str'>\n",
      "(4+5j)   <class 'complex'>\n"
     ]
    }
   ],
   "source": [
    "for i in t2:\n",
    "    print(i,\" \",type(i))"
   ]
  },
  {
   "cell_type": "code",
   "execution_count": 29,
   "id": "995c6184-3d1e-4ae1-baba-d03393c31c13",
   "metadata": {},
   "outputs": [],
   "source": [
    "t3=(1,2,3,4)"
   ]
  },
  {
   "cell_type": "code",
   "execution_count": 30,
   "id": "17bc9b00-e517-463e-93ae-a1b3a0cffd43",
   "metadata": {},
   "outputs": [
    {
     "data": {
      "text/plain": [
       "(1, 2, 3, 4, 1, 2, 3, 4, 1, 2, 3, 4)"
      ]
     },
     "execution_count": 30,
     "metadata": {},
     "output_type": "execute_result"
    }
   ],
   "source": [
    "t3*3"
   ]
  },
  {
   "cell_type": "code",
   "execution_count": 32,
   "id": "59ad2675-7d23-49a7-abc2-7b2d9f581de7",
   "metadata": {},
   "outputs": [
    {
     "data": {
      "text/plain": [
       "4"
      ]
     },
     "execution_count": 32,
     "metadata": {},
     "output_type": "execute_result"
    }
   ],
   "source": [
    "max(t3)"
   ]
  },
  {
   "cell_type": "code",
   "execution_count": 34,
   "id": "0efe087f-6cdf-450b-aa26-863da335afa9",
   "metadata": {},
   "outputs": [
    {
     "data": {
      "text/plain": [
       "1"
      ]
     },
     "execution_count": 34,
     "metadata": {},
     "output_type": "execute_result"
    }
   ],
   "source": [
    "min(t3)"
   ]
  },
  {
   "cell_type": "code",
   "execution_count": 35,
   "id": "3c5b3200-b8cd-4bd4-96e1-404b7feff44d",
   "metadata": {},
   "outputs": [],
   "source": [
    "t4=(1,2,3,4,(\"Gaurav\",\"Bhadane\"))"
   ]
  },
  {
   "cell_type": "code",
   "execution_count": 36,
   "id": "ba7b3cae-8aa9-44da-a4b2-090f26982b82",
   "metadata": {},
   "outputs": [
    {
     "data": {
      "text/plain": [
       "(1, 2, 3, 4, ('Gaurav', 'Bhadane'))"
      ]
     },
     "execution_count": 36,
     "metadata": {},
     "output_type": "execute_result"
    }
   ],
   "source": [
    "t4"
   ]
  },
  {
   "cell_type": "code",
   "execution_count": 42,
   "id": "0ce01bc6-80f8-487f-a1e4-023aebc0f8f4",
   "metadata": {},
   "outputs": [
    {
     "data": {
      "text/plain": [
       "('Gaurav', 'Bhadane')"
      ]
     },
     "execution_count": 42,
     "metadata": {},
     "output_type": "execute_result"
    }
   ],
   "source": [
    "t4[4]"
   ]
  },
  {
   "cell_type": "code",
   "execution_count": 40,
   "id": "f3fdc054-8ba2-4641-a7a4-0c09c31d40ea",
   "metadata": {},
   "outputs": [
    {
     "data": {
      "text/plain": [
       "'Gaurav'"
      ]
     },
     "execution_count": 40,
     "metadata": {},
     "output_type": "execute_result"
    }
   ],
   "source": [
    "t4[4][0]"
   ]
  },
  {
   "cell_type": "code",
   "execution_count": 41,
   "id": "3ee4d1ff-1cf1-4f59-b5e7-a600fbef607e",
   "metadata": {},
   "outputs": [
    {
     "data": {
      "text/plain": [
       "'Bhadane'"
      ]
     },
     "execution_count": 41,
     "metadata": {},
     "output_type": "execute_result"
    }
   ],
   "source": [
    "t4[4][1]"
   ]
  },
  {
   "cell_type": "code",
   "execution_count": 43,
   "id": "bad3bbb8-2974-4fe5-8239-ffd08ca94913",
   "metadata": {},
   "outputs": [],
   "source": [
    "t5= (t1,t2)"
   ]
  },
  {
   "cell_type": "code",
   "execution_count": 44,
   "id": "28890b99-1fb3-4f99-af61-1e8ec0ae124f",
   "metadata": {},
   "outputs": [
    {
     "data": {
      "text/plain": [
       "((1, 2, 3, 4, 5), (1, 2, 3, True, 'Gaurav', 'Bhadane', (4+5j)))"
      ]
     },
     "execution_count": 44,
     "metadata": {},
     "output_type": "execute_result"
    }
   ],
   "source": [
    "t5"
   ]
  },
  {
   "cell_type": "code",
   "execution_count": 47,
   "id": "e1292773-677b-4cb9-be4e-a9d391c2d1d1",
   "metadata": {},
   "outputs": [],
   "source": [
    "del t5"
   ]
  },
  {
   "cell_type": "code",
   "execution_count": 48,
   "id": "96b1f99a-0126-4706-a8c3-bf826b9de0a4",
   "metadata": {},
   "outputs": [
    {
     "ename": "NameError",
     "evalue": "name 't5' is not defined",
     "output_type": "error",
     "traceback": [
      "\u001b[1;31m---------------------------------------------------------------------------\u001b[0m",
      "\u001b[1;31mNameError\u001b[0m                                 Traceback (most recent call last)",
      "Cell \u001b[1;32mIn[48], line 1\u001b[0m\n\u001b[1;32m----> 1\u001b[0m \u001b[43mt5\u001b[49m\n",
      "\u001b[1;31mNameError\u001b[0m: name 't5' is not defined"
     ]
    }
   ],
   "source": [
    "t5"
   ]
  },
  {
   "cell_type": "code",
   "execution_count": 49,
   "id": "bd2c22ff-20b8-474b-b784-7e540dc1ed4d",
   "metadata": {},
   "outputs": [
    {
     "data": {
      "text/plain": [
       "5"
      ]
     },
     "execution_count": 49,
     "metadata": {},
     "output_type": "execute_result"
    }
   ],
   "source": [
    "len(t4)"
   ]
  },
  {
   "cell_type": "code",
   "execution_count": 55,
   "id": "53643639-cf80-4058-a6db-9811952d4ca2",
   "metadata": {},
   "outputs": [
    {
     "data": {
      "text/plain": [
       "True"
      ]
     },
     "execution_count": 55,
     "metadata": {},
     "output_type": "execute_result"
    }
   ],
   "source": [
    "('Gaurav','Bhadane') in t4"
   ]
  },
  {
   "cell_type": "code",
   "execution_count": null,
   "id": "d97bfe08-c60f-4be1-8a5f-ba28ee9c22bd",
   "metadata": {},
   "outputs": [],
   "source": []
  }
 ],
 "metadata": {
  "kernelspec": {
   "display_name": "Python 3 (ipykernel)",
   "language": "python",
   "name": "python3"
  },
  "language_info": {
   "codemirror_mode": {
    "name": "ipython",
    "version": 3
   },
   "file_extension": ".py",
   "mimetype": "text/x-python",
   "name": "python",
   "nbconvert_exporter": "python",
   "pygments_lexer": "ipython3",
   "version": "3.11.5"
  }
 },
 "nbformat": 4,
 "nbformat_minor": 5
}
