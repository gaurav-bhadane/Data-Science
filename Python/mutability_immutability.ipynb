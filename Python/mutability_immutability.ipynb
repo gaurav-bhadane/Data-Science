{
 "cells": [
  {
   "cell_type": "code",
   "execution_count": 1,
   "id": "923e9de8-3c48-4a46-a997-6fa18dd51a64",
   "metadata": {},
   "outputs": [],
   "source": [
    "a=\"Gaurav\""
   ]
  },
  {
   "cell_type": "code",
   "execution_count": 2,
   "id": "7fd8f8f4-17c4-4062-8283-541d8b487127",
   "metadata": {},
   "outputs": [
    {
     "data": {
      "text/plain": [
       "'Gaurav'"
      ]
     },
     "execution_count": 2,
     "metadata": {},
     "output_type": "execute_result"
    }
   ],
   "source": [
    "a"
   ]
  },
  {
   "cell_type": "code",
   "execution_count": 3,
   "id": "b0bbf6b8-4c78-4988-874a-61fc7cab4063",
   "metadata": {},
   "outputs": [
    {
     "data": {
      "text/plain": [
       "'G'"
      ]
     },
     "execution_count": 3,
     "metadata": {},
     "output_type": "execute_result"
    }
   ],
   "source": [
    "a[0]"
   ]
  },
  {
   "cell_type": "code",
   "execution_count": 4,
   "id": "b347e095-430b-48b7-86b0-9c10bb53e445",
   "metadata": {},
   "outputs": [
    {
     "data": {
      "text/plain": [
       "'G'"
      ]
     },
     "execution_count": 4,
     "metadata": {},
     "output_type": "execute_result"
    }
   ],
   "source": [
    "a[-6]"
   ]
  },
  {
   "cell_type": "markdown",
   "id": "d85b9b07-dd77-4ed9-9d1d-59b267300c54",
   "metadata": {},
   "source": [
    "## LIST- Data Structure Which is Mutable"
   ]
  },
  {
   "cell_type": "code",
   "execution_count": 8,
   "id": "0d72503e-acdd-4593-94e9-b1eb12aeaeca",
   "metadata": {},
   "outputs": [],
   "source": [
    "list=[1,2,3,4,6,\"bhadane\",a]"
   ]
  },
  {
   "cell_type": "code",
   "execution_count": 9,
   "id": "820cb603-25c3-4b23-84bf-3da75bfbad86",
   "metadata": {},
   "outputs": [
    {
     "data": {
      "text/plain": [
       "'Gaurav'"
      ]
     },
     "execution_count": 9,
     "metadata": {},
     "output_type": "execute_result"
    }
   ],
   "source": [
    "list[6]"
   ]
  },
  {
   "cell_type": "code",
   "execution_count": 10,
   "id": "76a9d692-9818-4c20-a32b-30ffef9bd206",
   "metadata": {},
   "outputs": [
    {
     "data": {
      "text/plain": [
       "'Gaurav'"
      ]
     },
     "execution_count": 10,
     "metadata": {},
     "output_type": "execute_result"
    }
   ],
   "source": [
    "list[-1]"
   ]
  },
  {
   "cell_type": "code",
   "execution_count": 11,
   "id": "5fa1a39e-98a1-458d-8957-c157a8fa1edf",
   "metadata": {},
   "outputs": [
    {
     "data": {
      "text/plain": [
       "list"
      ]
     },
     "execution_count": 11,
     "metadata": {},
     "output_type": "execute_result"
    }
   ],
   "source": [
    "type(list)"
   ]
  },
  {
   "cell_type": "code",
   "execution_count": 12,
   "id": "25d60b7a-4c69-4fec-baa6-f4cbc613b507",
   "metadata": {},
   "outputs": [
    {
     "data": {
      "text/plain": [
       "[1, 2, 3, 4, 6, 'bhadane', 'Gaurav']"
      ]
     },
     "execution_count": 12,
     "metadata": {},
     "output_type": "execute_result"
    }
   ],
   "source": [
    "list"
   ]
  },
  {
   "cell_type": "code",
   "execution_count": 13,
   "id": "cb92e806-684f-4d6d-8993-66bed53be600",
   "metadata": {},
   "outputs": [],
   "source": [
    "list[4]=12"
   ]
  },
  {
   "cell_type": "code",
   "execution_count": 14,
   "id": "e7e0391c-8fbf-47a4-944b-201d9257759c",
   "metadata": {},
   "outputs": [
    {
     "data": {
      "text/plain": [
       "[1, 2, 3, 4, 12, 'bhadane', 'Gaurav']"
      ]
     },
     "execution_count": 14,
     "metadata": {},
     "output_type": "execute_result"
    }
   ],
   "source": [
    "list"
   ]
  },
  {
   "cell_type": "markdown",
   "id": "d53082cb-c2c9-4330-96be-9c86e04c8155",
   "metadata": {},
   "source": [
    "## We cannot mutate the Strings indexes"
   ]
  },
  {
   "cell_type": "code",
   "execution_count": 17,
   "id": "f075284c-105f-42a2-9a52-e37fa0c988a1",
   "metadata": {},
   "outputs": [
    {
     "data": {
      "text/plain": [
       "'G'"
      ]
     },
     "execution_count": 17,
     "metadata": {},
     "output_type": "execute_result"
    }
   ],
   "source": [
    "a[0]"
   ]
  },
  {
   "cell_type": "code",
   "execution_count": 18,
   "id": "19064b4b-adc3-49aa-9a0e-d722ea274b63",
   "metadata": {},
   "outputs": [
    {
     "ename": "TypeError",
     "evalue": "'str' object does not support item assignment",
     "output_type": "error",
     "traceback": [
      "\u001b[1;31m---------------------------------------------------------------------------\u001b[0m",
      "\u001b[1;31mTypeError\u001b[0m                                 Traceback (most recent call last)",
      "Cell \u001b[1;32mIn[18], line 1\u001b[0m\n\u001b[1;32m----> 1\u001b[0m \u001b[43ma\u001b[49m\u001b[43m[\u001b[49m\u001b[38;5;241;43m0\u001b[39;49m\u001b[43m]\u001b[49m\u001b[38;5;241m=\u001b[39m\u001b[38;5;124m'\u001b[39m\u001b[38;5;124mS\u001b[39m\u001b[38;5;124m'\u001b[39m\n",
      "\u001b[1;31mTypeError\u001b[0m: 'str' object does not support item assignment"
     ]
    }
   ],
   "source": [
    "a[0]='S'"
   ]
  },
  {
   "cell_type": "code",
   "execution_count": null,
   "id": "4023088c-3cfc-4717-b4bc-1ed9963c535b",
   "metadata": {},
   "outputs": [],
   "source": []
  }
 ],
 "metadata": {
  "kernelspec": {
   "display_name": "Python 3 (ipykernel)",
   "language": "python",
   "name": "python3"
  },
  "language_info": {
   "codemirror_mode": {
    "name": "ipython",
    "version": 3
   },
   "file_extension": ".py",
   "mimetype": "text/x-python",
   "name": "python",
   "nbconvert_exporter": "python",
   "pygments_lexer": "ipython3",
   "version": "3.11.5"
  }
 },
 "nbformat": 4,
 "nbformat_minor": 5
}
