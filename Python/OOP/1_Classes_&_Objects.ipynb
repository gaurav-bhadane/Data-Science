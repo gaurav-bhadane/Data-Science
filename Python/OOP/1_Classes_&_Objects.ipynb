{
 "cells": [
  {
   "cell_type": "markdown",
   "id": "3e159df5-2332-4163-bdd2-85ac21c0ac4b",
   "metadata": {},
   "source": [
    "### Object Oriented Programming (OOP)"
   ]
  },
  {
   "cell_type": "markdown",
   "id": "7ba0970b-b40b-465e-92a5-8a533e627487",
   "metadata": {},
   "source": [
    " #### Class: BluePrint or Classification of Real World Object"
   ]
  },
  {
   "cell_type": "code",
   "execution_count": 2,
   "id": "3d5f0b17-f68a-4e3b-8a52-4ce5cb38d018",
   "metadata": {},
   "outputs": [],
   "source": [
    "#Creation of Class\n",
    "\n",
    "class test:\n",
    "    pass"
   ]
  },
  {
   "cell_type": "code",
   "execution_count": 7,
   "id": "66e9aa51-ad6f-4252-888e-2999c759fbf0",
   "metadata": {},
   "outputs": [],
   "source": [
    "a=test()  # 'a' is object of class test"
   ]
  },
  {
   "cell_type": "code",
   "execution_count": 6,
   "id": "27108581-abaa-44e1-8905-b014c5550541",
   "metadata": {},
   "outputs": [
    {
     "name": "stdout",
     "output_type": "stream",
     "text": [
      "<class '__main__.test'>\n"
     ]
    }
   ],
   "source": [
    "print(type(a))   #test class"
   ]
  },
  {
   "cell_type": "code",
   "execution_count": 20,
   "id": "2b3d4d5a-616f-42b8-8970-b445c1b5fdf8",
   "metadata": {},
   "outputs": [],
   "source": [
    "class test2:\n",
    "    def msg(self,name):\n",
    "        print(\"Hello, Myself {}\".format(name))"
   ]
  },
  {
   "cell_type": "code",
   "execution_count": 21,
   "id": "ca326542-9f41-4390-ba95-7e7fe62db3fa",
   "metadata": {},
   "outputs": [],
   "source": [
    "t1=test2()"
   ]
  },
  {
   "cell_type": "code",
   "execution_count": 22,
   "id": "31d238cd-34fd-4945-aa73-b267055c5931",
   "metadata": {},
   "outputs": [
    {
     "name": "stdout",
     "output_type": "stream",
     "text": [
      "Hello, Myself Gaurav\n"
     ]
    }
   ],
   "source": [
    "t1.msg(\"Gaurav\")"
   ]
  },
  {
   "cell_type": "code",
   "execution_count": 24,
   "id": "bd7083ba-051c-4928-89ee-a5ac4c3fd604",
   "metadata": {},
   "outputs": [],
   "source": [
    "t2=test2()"
   ]
  },
  {
   "cell_type": "code",
   "execution_count": 25,
   "id": "3e4e8537-3122-4ad3-af89-cf93912ce457",
   "metadata": {},
   "outputs": [
    {
     "name": "stdout",
     "output_type": "stream",
     "text": [
      "Hello, Myself Rohan\n"
     ]
    }
   ],
   "source": [
    "t2.msg(\"Rohan\")"
   ]
  },
  {
   "cell_type": "code",
   "execution_count": 27,
   "id": "5ff8bf51-0519-4ead-9c5b-f5a67740a721",
   "metadata": {},
   "outputs": [],
   "source": [
    "class myself():\n",
    "    def __init__(self,name,phone,email,id):\n",
    "        self.name=name\n",
    "        self.phone=phone\n",
    "        self.email=email\n",
    "        self.id=id\n",
    "    def stud_detail(self):\n",
    "        return self.name,self.phone,self.email,self.id"
   ]
  },
  {
   "cell_type": "code",
   "execution_count": 30,
   "id": "ead95b85-9f73-463e-ab47-1b21feb9eef3",
   "metadata": {},
   "outputs": [],
   "source": [
    "m1=myself(\"Raj\",1234567890,\"gb@gmail.com\",214522)"
   ]
  },
  {
   "cell_type": "code",
   "execution_count": 31,
   "id": "1ab33c23-2b4c-42a7-ba7b-f10238961f54",
   "metadata": {},
   "outputs": [
    {
     "data": {
      "text/plain": [
       "('Raj', 1234567890, 'gb@gmail.com', 214522)"
      ]
     },
     "execution_count": 31,
     "metadata": {},
     "output_type": "execute_result"
    }
   ],
   "source": [
    "m1.stud_detail()"
   ]
  },
  {
   "cell_type": "code",
   "execution_count": 32,
   "id": "1e2190a8-c1e9-4c6b-9b2e-7551456a320e",
   "metadata": {},
   "outputs": [
    {
     "data": {
      "text/plain": [
       "1234567890"
      ]
     },
     "execution_count": 32,
     "metadata": {},
     "output_type": "execute_result"
    }
   ],
   "source": [
    "m1.phone"
   ]
  },
  {
   "cell_type": "code",
   "execution_count": 33,
   "id": "0e682489-91af-4c72-a3ac-3de8430dcdb0",
   "metadata": {},
   "outputs": [
    {
     "data": {
      "text/plain": [
       "'Raj'"
      ]
     },
     "execution_count": 33,
     "metadata": {},
     "output_type": "execute_result"
    }
   ],
   "source": [
    "m1.name"
   ]
  },
  {
   "cell_type": "code",
   "execution_count": 34,
   "id": "e7f18151-0529-4a3c-ae23-6e8e15b9824b",
   "metadata": {},
   "outputs": [],
   "source": [
    "mohit=myself(\"Mohit\",4561237895,\"mohit@gmail.com\",45211)"
   ]
  },
  {
   "cell_type": "code",
   "execution_count": 35,
   "id": "9e6c927e-06a8-4437-b6fa-be2c242616c8",
   "metadata": {},
   "outputs": [
    {
     "data": {
      "text/plain": [
       "'Mohit'"
      ]
     },
     "execution_count": 35,
     "metadata": {},
     "output_type": "execute_result"
    }
   ],
   "source": [
    "mohit.name"
   ]
  },
  {
   "cell_type": "code",
   "execution_count": 36,
   "id": "afbfb285-84c5-46af-82c8-aaa1fc1ea46c",
   "metadata": {},
   "outputs": [
    {
     "data": {
      "text/plain": [
       "45211"
      ]
     },
     "execution_count": 36,
     "metadata": {},
     "output_type": "execute_result"
    }
   ],
   "source": [
    "mohit.id"
   ]
  },
  {
   "cell_type": "code",
   "execution_count": 37,
   "id": "e4ae3219-c794-48b8-b617-701b742c7014",
   "metadata": {},
   "outputs": [
    {
     "data": {
      "text/plain": [
       "('Mohit', 4561237895, 'mohit@gmail.com', 45211)"
      ]
     },
     "execution_count": 37,
     "metadata": {},
     "output_type": "execute_result"
    }
   ],
   "source": [
    "mohit.stud_detail()"
   ]
  },
  {
   "cell_type": "code",
   "execution_count": null,
   "id": "794aca89-c1c3-46b8-ac21-ca5ae3077c18",
   "metadata": {},
   "outputs": [],
   "source": []
  }
 ],
 "metadata": {
  "kernelspec": {
   "display_name": "Python 3 (ipykernel)",
   "language": "python",
   "name": "python3"
  },
  "language_info": {
   "codemirror_mode": {
    "name": "ipython",
    "version": 3
   },
   "file_extension": ".py",
   "mimetype": "text/x-python",
   "name": "python",
   "nbconvert_exporter": "python",
   "pygments_lexer": "ipython3",
   "version": "3.11.5"
  }
 },
 "nbformat": 4,
 "nbformat_minor": 5
}
