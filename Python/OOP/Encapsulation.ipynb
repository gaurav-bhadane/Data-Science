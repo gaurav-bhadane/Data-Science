{
 "cells": [
  {
   "cell_type": "markdown",
   "id": "09312d46-45ed-41c8-8d39-9d1c8f241d72",
   "metadata": {},
   "source": [
    "### Data Encapsulation: Prevent Direct Manipulation of data of objects.. It is giving Security to data and Data is Embedded for Security"
   ]
  },
  {
   "cell_type": "code",
   "execution_count": 20,
   "id": "fd35adb9-ace8-4c3d-a7c3-674599113a95",
   "metadata": {},
   "outputs": [],
   "source": [
    "class test:\n",
    "    def __init__(self,a,b):\n",
    "        self.a=a  #having Public Access Method\n",
    "        self.b=b"
   ]
  },
  {
   "cell_type": "code",
   "execution_count": 7,
   "id": "a37aa535-dbfe-4e18-8677-9544c302d2ec",
   "metadata": {},
   "outputs": [],
   "source": [
    "t = test(5,10)"
   ]
  },
  {
   "cell_type": "code",
   "execution_count": 8,
   "id": "0732d7b9-22ba-4218-8e7d-1824bd458d20",
   "metadata": {},
   "outputs": [
    {
     "data": {
      "text/plain": [
       "5"
      ]
     },
     "execution_count": 8,
     "metadata": {},
     "output_type": "execute_result"
    }
   ],
   "source": [
    "t.a"
   ]
  },
  {
   "cell_type": "code",
   "execution_count": 9,
   "id": "39bc60a1-48bd-4acd-b0c6-ef9c3e864c3f",
   "metadata": {},
   "outputs": [
    {
     "data": {
      "text/plain": [
       "10"
      ]
     },
     "execution_count": 9,
     "metadata": {},
     "output_type": "execute_result"
    }
   ],
   "source": [
    "t.b"
   ]
  },
  {
   "cell_type": "code",
   "execution_count": 14,
   "id": "c2414fd7-9caf-4495-83cd-d3d0c9ae4bca",
   "metadata": {},
   "outputs": [],
   "source": [
    "t.a=500   #Assigning Value   # Basically not permitted"
   ]
  },
  {
   "cell_type": "code",
   "execution_count": 13,
   "id": "f15e70ba-d153-4631-a4a2-1f275092fd99",
   "metadata": {},
   "outputs": [
    {
     "data": {
      "text/plain": [
       "500"
      ]
     },
     "execution_count": 13,
     "metadata": {},
     "output_type": "execute_result"
    }
   ],
   "source": [
    "t.a"
   ]
  },
  {
   "cell_type": "code",
   "execution_count": 15,
   "id": "9b29198a-6c54-46cf-adc9-f7920493aefd",
   "metadata": {},
   "outputs": [],
   "source": [
    "# Prevent User of Modifing data"
   ]
  },
  {
   "cell_type": "code",
   "execution_count": 51,
   "id": "7be7028b-df9d-4709-acb8-f403b917bd4c",
   "metadata": {},
   "outputs": [],
   "source": [
    "class car:\n",
    "    def __init__(self,year,make,model,speed):\n",
    "        self.__year=year  #Double underscore make those variables to be Private Access Method\n",
    "        self.__make=make\n",
    "        self.__model=model\n",
    "        self.__speed=speed\n",
    "    def set_speed(self,speed):\n",
    "        self.__speed = 0 if speed < 0 else speed\n",
    "    def get_speed(self):\n",
    "        return self.__speed\n",
    "                "
   ]
  },
  {
   "cell_type": "code",
   "execution_count": 52,
   "id": "6e864b9e-5f47-4189-8e76-6d951ca42c1f",
   "metadata": {},
   "outputs": [],
   "source": [
    "obj_car=car(2024,\"Toyota\",\"Land Cruiser\",209)"
   ]
  },
  {
   "cell_type": "code",
   "execution_count": 25,
   "id": "81182419-5922-47ec-b4c0-18272a088707",
   "metadata": {},
   "outputs": [
    {
     "ename": "AttributeError",
     "evalue": "'car' object has no attribute '__year'",
     "output_type": "error",
     "traceback": [
      "\u001b[1;31m---------------------------------------------------------------------------\u001b[0m",
      "\u001b[1;31mAttributeError\u001b[0m                            Traceback (most recent call last)",
      "Cell \u001b[1;32mIn[25], line 1\u001b[0m\n\u001b[1;32m----> 1\u001b[0m \u001b[43mobj_car\u001b[49m\u001b[38;5;241;43m.\u001b[39;49m\u001b[43m__year\u001b[49m  \u001b[38;5;66;03m#Private Access Method\u001b[39;00m\n",
      "\u001b[1;31mAttributeError\u001b[0m: 'car' object has no attribute '__year'"
     ]
    }
   ],
   "source": [
    "obj_car.__year  #Private Access Method"
   ]
  },
  {
   "cell_type": "markdown",
   "id": "1038f018-9abd-4aae-b73c-6a24d79dde11",
   "metadata": {},
   "source": [
    "#### Private Variable can be accessed by Following Method"
   ]
  },
  {
   "cell_type": "code",
   "execution_count": 27,
   "id": "715ef983-6349-4e9b-a7a3-acd9eb984731",
   "metadata": {},
   "outputs": [
    {
     "data": {
      "text/plain": [
       "2024"
      ]
     },
     "execution_count": 27,
     "metadata": {},
     "output_type": "execute_result"
    }
   ],
   "source": [
    "obj_car._car__year"
   ]
  },
  {
   "cell_type": "code",
   "execution_count": 28,
   "id": "8e798dcd-83f8-48d5-b4f2-0ca5a3b4d0e5",
   "metadata": {},
   "outputs": [
    {
     "data": {
      "text/plain": [
       "'Toyota'"
      ]
     },
     "execution_count": 28,
     "metadata": {},
     "output_type": "execute_result"
    }
   ],
   "source": [
    "obj_car._car__make"
   ]
  },
  {
   "cell_type": "code",
   "execution_count": 29,
   "id": "52216719-f5a8-470a-b5a3-26ffbc482d5b",
   "metadata": {},
   "outputs": [
    {
     "data": {
      "text/plain": [
       "'Land Cruiser'"
      ]
     },
     "execution_count": 29,
     "metadata": {},
     "output_type": "execute_result"
    }
   ],
   "source": [
    "obj_car._car__model"
   ]
  },
  {
   "cell_type": "code",
   "execution_count": 30,
   "id": "57954130-76ec-45fc-a60b-3196f42692ff",
   "metadata": {},
   "outputs": [
    {
     "data": {
      "text/plain": [
       "209"
      ]
     },
     "execution_count": 30,
     "metadata": {},
     "output_type": "execute_result"
    }
   ],
   "source": [
    "obj_car._car__speed"
   ]
  },
  {
   "cell_type": "code",
   "execution_count": 31,
   "id": "815647f2-9eaf-4036-ba0d-908fe37dd275",
   "metadata": {},
   "outputs": [],
   "source": [
    "#Lets try to Modify those variables\n",
    "obj_car._car__speed=250"
   ]
  },
  {
   "cell_type": "code",
   "execution_count": 32,
   "id": "49904e7d-89d3-46d0-81ad-c8c251d16ac4",
   "metadata": {},
   "outputs": [
    {
     "data": {
      "text/plain": [
       "250"
      ]
     },
     "execution_count": 32,
     "metadata": {},
     "output_type": "execute_result"
    }
   ],
   "source": [
    "obj_car._car__speed"
   ]
  },
  {
   "cell_type": "code",
   "execution_count": 34,
   "id": "ba218d0e-ad46-44b1-8662-2f7a5e6761eb",
   "metadata": {},
   "outputs": [],
   "source": [
    "obj_car._car__speed=-40"
   ]
  },
  {
   "cell_type": "code",
   "execution_count": 38,
   "id": "51913bfd-be6d-4bfc-9acb-bd927e146456",
   "metadata": {},
   "outputs": [],
   "source": [
    "obj_car._car__speed=249"
   ]
  },
  {
   "cell_type": "code",
   "execution_count": 39,
   "id": "0a24ac57-2339-46e1-85c5-d3979e9f1894",
   "metadata": {},
   "outputs": [
    {
     "data": {
      "text/plain": [
       "249"
      ]
     },
     "execution_count": 39,
     "metadata": {},
     "output_type": "execute_result"
    }
   ],
   "source": [
    "obj_car._car__speed"
   ]
  },
  {
   "cell_type": "code",
   "execution_count": 45,
   "id": "c8ae34c6-6443-4a3f-b041-058efbfecf23",
   "metadata": {},
   "outputs": [],
   "source": [
    "obj_car.set_speed(279)"
   ]
  },
  {
   "cell_type": "code",
   "execution_count": 48,
   "id": "00fc9d9c-9eef-46a2-8822-d0a134a2aa55",
   "metadata": {},
   "outputs": [
    {
     "data": {
      "text/plain": [
       "279"
      ]
     },
     "execution_count": 48,
     "metadata": {},
     "output_type": "execute_result"
    }
   ],
   "source": [
    "obj_car._car__speed"
   ]
  },
  {
   "cell_type": "code",
   "execution_count": 53,
   "id": "ff691646-548b-488f-bbd4-1a4c140529cb",
   "metadata": {},
   "outputs": [
    {
     "data": {
      "text/plain": [
       "209"
      ]
     },
     "execution_count": 53,
     "metadata": {},
     "output_type": "execute_result"
    }
   ],
   "source": [
    "obj_car.get_speed()"
   ]
  },
  {
   "cell_type": "code",
   "execution_count": 56,
   "id": "5e0adbbc-0b51-43e1-82b2-dc6d33ad48d3",
   "metadata": {},
   "outputs": [],
   "source": [
    "class bank:\n",
    "    def __init__(self,balance):\n",
    "        self.__balance=balance\n",
    "    def deposit(self,amount):\n",
    "        self.__balance=self.__balance+amount\n",
    "    def withdraw(self,amount):\n",
    "        if self.__balance >=amount:\n",
    "            self.__balance=self.__balance-amount\n",
    "            return True\n",
    "        else:\n",
    "            return False\n",
    "    def get_balance(self):\n",
    "        return self.__balance"
   ]
  },
  {
   "cell_type": "code",
   "execution_count": 57,
   "id": "e866cc5c-25d1-442a-a173-3607fe06220b",
   "metadata": {},
   "outputs": [],
   "source": [
    "Gaurav=bank(50000)"
   ]
  },
  {
   "cell_type": "code",
   "execution_count": 58,
   "id": "d2e79a2a-1aec-43c7-b32e-2c42d125a472",
   "metadata": {},
   "outputs": [
    {
     "data": {
      "text/plain": [
       "50000"
      ]
     },
     "execution_count": 58,
     "metadata": {},
     "output_type": "execute_result"
    }
   ],
   "source": [
    "Gaurav.get_balance()"
   ]
  },
  {
   "cell_type": "code",
   "execution_count": 59,
   "id": "052ff251-6fcc-4e3e-a31a-d03698d03dc0",
   "metadata": {},
   "outputs": [],
   "source": [
    "Gaurav.deposit(30000)"
   ]
  },
  {
   "cell_type": "code",
   "execution_count": 60,
   "id": "8073297f-ff32-4526-9690-807808b14f74",
   "metadata": {},
   "outputs": [
    {
     "data": {
      "text/plain": [
       "80000"
      ]
     },
     "execution_count": 60,
     "metadata": {},
     "output_type": "execute_result"
    }
   ],
   "source": [
    "Gaurav.get_balance()"
   ]
  },
  {
   "cell_type": "code",
   "execution_count": 61,
   "id": "e2c3f496-42f8-4369-afb4-2341d52db75e",
   "metadata": {},
   "outputs": [
    {
     "data": {
      "text/plain": [
       "True"
      ]
     },
     "execution_count": 61,
     "metadata": {},
     "output_type": "execute_result"
    }
   ],
   "source": [
    "Gaurav.withdraw(40000)"
   ]
  },
  {
   "cell_type": "code",
   "execution_count": 62,
   "id": "afc63dce-f7af-43b8-a2f4-b93db5463bed",
   "metadata": {},
   "outputs": [
    {
     "data": {
      "text/plain": [
       "40000"
      ]
     },
     "execution_count": 62,
     "metadata": {},
     "output_type": "execute_result"
    }
   ],
   "source": [
    "Gaurav.get_balance()"
   ]
  },
  {
   "cell_type": "code",
   "execution_count": 63,
   "id": "c89b3cba-30d7-45c9-b434-a309711cfbb6",
   "metadata": {},
   "outputs": [
    {
     "data": {
      "text/plain": [
       "False"
      ]
     },
     "execution_count": 63,
     "metadata": {},
     "output_type": "execute_result"
    }
   ],
   "source": [
    "Gaurav.withdraw(50000)"
   ]
  },
  {
   "cell_type": "code",
   "execution_count": 64,
   "id": "75774be0-0fa3-41d6-bd1c-35fc6b98bbd6",
   "metadata": {},
   "outputs": [
    {
     "data": {
      "text/plain": [
       "40000"
      ]
     },
     "execution_count": 64,
     "metadata": {},
     "output_type": "execute_result"
    }
   ],
   "source": [
    "Gaurav.get_balance()"
   ]
  }
 ],
 "metadata": {
  "kernelspec": {
   "display_name": "Python 3 (ipykernel)",
   "language": "python",
   "name": "python3"
  },
  "language_info": {
   "codemirror_mode": {
    "name": "ipython",
    "version": 3
   },
   "file_extension": ".py",
   "mimetype": "text/x-python",
   "name": "python",
   "nbconvert_exporter": "python",
   "pygments_lexer": "ipython3",
   "version": "3.11.5"
  }
 },
 "nbformat": 4,
 "nbformat_minor": 5
}
