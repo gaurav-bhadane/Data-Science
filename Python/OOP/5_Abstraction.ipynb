{
 "cells": [
  {
   "cell_type": "markdown",
   "id": "b159c66d-c290-455e-a7b2-457ded134982",
   "metadata": {},
   "source": [
    "### Abstraction: Hiding Implementation Deails & Showing Essential Details"
   ]
  },
  {
   "cell_type": "code",
   "execution_count": 6,
   "id": "4de21fae-1e67-4142-9481-b64d653a9f3e",
   "metadata": {},
   "outputs": [],
   "source": [
    "#Abstraction -Abstract Method\n",
    "import abc\n",
    "class details:   #Structure or BluePrint or Skeleton\n",
    "    @abc.abstractmethod\n",
    "    def stud_det(self):\n",
    "        pass\n",
    "    @abc.abstractmethod\n",
    "    def stud_assign(self):\n",
    "        pass\n",
    "    @abc.abstractmethod\n",
    "    def stud_marks(self):\n",
    "        pass"
   ]
  },
  {
   "cell_type": "code",
   "execution_count": 13,
   "id": "63c3be6c-f022-4dce-8220-5937ce85cfed",
   "metadata": {},
   "outputs": [],
   "source": [
    "class datasci(details):\n",
    "    def stud_det(self):\n",
    "        return \"It will try to return Details of Data Science\"\n",
    "    def stud_assign(self):\n",
    "        return \"It will try to return Student Assignments of Data Science\"\n",
    "    def stud_marks(self):\n",
    "        return \"It will try to return Student Marks of Data Science\""
   ]
  },
  {
   "cell_type": "code",
   "execution_count": 14,
   "id": "3b69b222-6f23-421c-b64d-e795937a226e",
   "metadata": {},
   "outputs": [],
   "source": [
    "class webdev(details):\n",
    "    def stud_det(self):\n",
    "        return \"It will try to return Details of Web Dev\"\n",
    "    def stud_assign(self):\n",
    "        return \"It will try to return Student Assignments of Web Dev\"\n",
    "    def stud_marks(self):\n",
    "        return \"It will try to return Student Marks of Web Dev\""
   ]
  },
  {
   "cell_type": "code",
   "execution_count": 16,
   "id": "cae434ca-7c6f-4940-942b-5f8b22514a95",
   "metadata": {},
   "outputs": [
    {
     "data": {
      "text/plain": [
       "'It will try to return Student Assignments of Data Science'"
      ]
     },
     "execution_count": 16,
     "metadata": {},
     "output_type": "execute_result"
    }
   ],
   "source": [
    "ds=datasci()\n",
    "ds.stud_assign()"
   ]
  },
  {
   "cell_type": "code",
   "execution_count": 17,
   "id": "6ff8b821-edcc-4984-adc5-c391c6f608b9",
   "metadata": {},
   "outputs": [
    {
     "data": {
      "text/plain": [
       "'It will try to return Details of Data Science'"
      ]
     },
     "execution_count": 17,
     "metadata": {},
     "output_type": "execute_result"
    }
   ],
   "source": [
    "ds.stud_det()"
   ]
  },
  {
   "cell_type": "code",
   "execution_count": 18,
   "id": "4b2e4133-25dc-4794-afb5-aa63adda669d",
   "metadata": {},
   "outputs": [
    {
     "data": {
      "text/plain": [
       "'It will try to return Student Marks of Data Science'"
      ]
     },
     "execution_count": 18,
     "metadata": {},
     "output_type": "execute_result"
    }
   ],
   "source": [
    "ds.stud_marks()"
   ]
  },
  {
   "cell_type": "code",
   "execution_count": 19,
   "id": "c1af460e-1d2e-48ca-87ed-357ab6e3ff5e",
   "metadata": {},
   "outputs": [
    {
     "data": {
      "text/plain": [
       "'It will try to return Student Assignments of Web Dev'"
      ]
     },
     "execution_count": 19,
     "metadata": {},
     "output_type": "execute_result"
    }
   ],
   "source": [
    "wd=webdev()\n",
    "wd.stud_assign()"
   ]
  },
  {
   "cell_type": "code",
   "execution_count": 20,
   "id": "01ca12b6-e44f-4b3d-98d2-17efae444ced",
   "metadata": {},
   "outputs": [
    {
     "data": {
      "text/plain": [
       "'It will try to return Details of Web Dev'"
      ]
     },
     "execution_count": 20,
     "metadata": {},
     "output_type": "execute_result"
    }
   ],
   "source": [
    "wd.stud_det()"
   ]
  },
  {
   "cell_type": "code",
   "execution_count": 21,
   "id": "13a9b785-b9fc-4826-8d00-d95e2f461a7b",
   "metadata": {},
   "outputs": [
    {
     "data": {
      "text/plain": [
       "'It will try to return Student Marks of Web Dev'"
      ]
     },
     "execution_count": 21,
     "metadata": {},
     "output_type": "execute_result"
    }
   ],
   "source": [
    "wd.stud_marks()"
   ]
  }
 ],
 "metadata": {
  "kernelspec": {
   "display_name": "Python 3 (ipykernel)",
   "language": "python",
   "name": "python3"
  },
  "language_info": {
   "codemirror_mode": {
    "name": "ipython",
    "version": 3
   },
   "file_extension": ".py",
   "mimetype": "text/x-python",
   "name": "python",
   "nbconvert_exporter": "python",
   "pygments_lexer": "ipython3",
   "version": "3.11.5"
  }
 },
 "nbformat": 4,
 "nbformat_minor": 5
}
