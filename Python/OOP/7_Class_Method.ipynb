{
 "cells": [
  {
   "cell_type": "markdown",
   "id": "201cae9e-941c-448a-83b4-e965de51cbd1",
   "metadata": {},
   "source": [
    "### Class Methods"
   ]
  },
  {
   "cell_type": "code",
   "execution_count": 1,
   "id": "557ef873-4e76-4ebe-92c3-05f361d503d1",
   "metadata": {},
   "outputs": [],
   "source": [
    "class details:\n",
    "    def __init__(self,name,email):\n",
    "        self.name=name\n",
    "        self.email=email\n",
    "    def student_det(self):\n",
    "        print(self.name,self.email)"
   ]
  },
  {
   "cell_type": "code",
   "execution_count": 2,
   "id": "d2155d83-233e-47f8-bbea-a34aa0dd97f3",
   "metadata": {},
   "outputs": [],
   "source": [
    "s1=details(\"Gaurav\",\"gb@gmail.com\")"
   ]
  },
  {
   "cell_type": "code",
   "execution_count": 3,
   "id": "ba9f6430-0d52-4df0-9dd6-ec234705c418",
   "metadata": {},
   "outputs": [
    {
     "data": {
      "text/plain": [
       "'Gaurav'"
      ]
     },
     "execution_count": 3,
     "metadata": {},
     "output_type": "execute_result"
    }
   ],
   "source": [
    "s1.name"
   ]
  },
  {
   "cell_type": "code",
   "execution_count": 4,
   "id": "06c60661-618f-47cc-bf48-dfdf7b399ad5",
   "metadata": {},
   "outputs": [
    {
     "data": {
      "text/plain": [
       "'gb@gmail.com'"
      ]
     },
     "execution_count": 4,
     "metadata": {},
     "output_type": "execute_result"
    }
   ],
   "source": [
    "s1.email"
   ]
  },
  {
   "cell_type": "code",
   "execution_count": 5,
   "id": "b195c748-0e9a-4a6d-a28e-14b11fc49e9e",
   "metadata": {},
   "outputs": [
    {
     "name": "stdout",
     "output_type": "stream",
     "text": [
      "Gaurav gb@gmail.com\n"
     ]
    }
   ],
   "source": [
    "s1.student_det()"
   ]
  },
  {
   "cell_type": "code",
   "execution_count": 6,
   "id": "e04227a3-467d-4f34-8101-ec0a7569a5c0",
   "metadata": {},
   "outputs": [],
   "source": [
    "class details2:\n",
    "    def __init__(self,name,email):\n",
    "        self.name=name\n",
    "        self.email=email\n",
    "    ## Alternative for init\n",
    "    @classmethod\n",
    "    def det(cls,name,email):\n",
    "        return cls(name,email)\n",
    "    def student_det(self):\n",
    "        print(self.name,self.email)"
   ]
  },
  {
   "cell_type": "code",
   "execution_count": 7,
   "id": "bd72fae7-40c4-41d4-952b-108db6f1034c",
   "metadata": {},
   "outputs": [],
   "source": [
    "s11=details2.det(\"Raj\",\"raj@gmail.com\")"
   ]
  },
  {
   "cell_type": "code",
   "execution_count": 8,
   "id": "3ceab9e2-0af4-42f6-a8ea-9084e98fae6e",
   "metadata": {},
   "outputs": [
    {
     "data": {
      "text/plain": [
       "'Raj'"
      ]
     },
     "execution_count": 8,
     "metadata": {},
     "output_type": "execute_result"
    }
   ],
   "source": [
    "s11.name"
   ]
  },
  {
   "cell_type": "code",
   "execution_count": 9,
   "id": "12f99eab-60e5-4f60-91a4-355bc3c72c96",
   "metadata": {},
   "outputs": [
    {
     "data": {
      "text/plain": [
       "'raj@gmail.com'"
      ]
     },
     "execution_count": 9,
     "metadata": {},
     "output_type": "execute_result"
    }
   ],
   "source": [
    "s11.email"
   ]
  },
  {
   "cell_type": "code",
   "execution_count": 10,
   "id": "9470edbd-6085-41c2-8b37-4b3cd92d0ccf",
   "metadata": {},
   "outputs": [
    {
     "name": "stdout",
     "output_type": "stream",
     "text": [
      "Raj raj@gmail.com\n"
     ]
    }
   ],
   "source": [
    "s11.student_det()"
   ]
  },
  {
   "cell_type": "code",
   "execution_count": 11,
   "id": "7536a106-858b-4bb5-9586-ed3ce69ba8f9",
   "metadata": {},
   "outputs": [],
   "source": [
    "class details3:\n",
    "    mobile=1236654478  #Class Variable\n",
    "    def __init__(self,name,email):\n",
    "        self.name=name\n",
    "        self.email=email\n",
    "    ## Alternative for init\n",
    "    @classmethod\n",
    "    def det(cls,name,email):\n",
    "        return cls(name,email)\n",
    "    @classmethod\n",
    "    def change_mobile(cls,mobile):\n",
    "        details3.mobile=mobile\n",
    "    def student_det(self):\n",
    "        print(self.name,self.email,details3.mobile)"
   ]
  },
  {
   "cell_type": "code",
   "execution_count": 12,
   "id": "0ab8137b-067a-48a0-997b-0fdd27de5da0",
   "metadata": {},
   "outputs": [
    {
     "data": {
      "text/plain": [
       "1236654478"
      ]
     },
     "execution_count": 12,
     "metadata": {},
     "output_type": "execute_result"
    }
   ],
   "source": [
    "details3.mobile  # Class variable can be accessed directly by class no need of an instance"
   ]
  },
  {
   "cell_type": "code",
   "execution_count": 13,
   "id": "340c7cd8-25b1-42c8-88c5-cb09a74a552a",
   "metadata": {},
   "outputs": [],
   "source": [
    "s3=details3(\"Sohan\",\"sohan@gmail.com\")"
   ]
  },
  {
   "cell_type": "code",
   "execution_count": 14,
   "id": "2ea008bd-8ac0-4478-aff0-ec0a4160362d",
   "metadata": {},
   "outputs": [
    {
     "name": "stdout",
     "output_type": "stream",
     "text": [
      "Sohan sohan@gmail.com 1236654478\n"
     ]
    }
   ],
   "source": [
    "s3.student_det()"
   ]
  },
  {
   "cell_type": "code",
   "execution_count": 15,
   "id": "6343671f-918f-4d6c-af6f-8dd3780da903",
   "metadata": {},
   "outputs": [],
   "source": [
    "s3.change_mobile(5287413695)"
   ]
  },
  {
   "cell_type": "code",
   "execution_count": 16,
   "id": "574678b1-df09-4696-a48e-414a1f2ccda5",
   "metadata": {},
   "outputs": [
    {
     "name": "stdout",
     "output_type": "stream",
     "text": [
      "Sohan sohan@gmail.com 5287413695\n"
     ]
    }
   ],
   "source": [
    "s3.student_det()"
   ]
  },
  {
   "cell_type": "code",
   "execution_count": 17,
   "id": "2f579afb-d808-4054-a3dc-71ca44a0ae0f",
   "metadata": {},
   "outputs": [],
   "source": [
    "def course_details(cls,course):\n",
    "    print(\"Course Details: \",course)"
   ]
  },
  {
   "cell_type": "code",
   "execution_count": 18,
   "id": "225ee6ef-239a-48d1-808c-8e792b24f7b1",
   "metadata": {},
   "outputs": [],
   "source": [
    "details3.course_details=classmethod(course_details)"
   ]
  },
  {
   "cell_type": "code",
   "execution_count": 19,
   "id": "54d5d570-ea18-4761-a24d-00c161083262",
   "metadata": {},
   "outputs": [
    {
     "name": "stdout",
     "output_type": "stream",
     "text": [
      "Course Details:  DS\n"
     ]
    }
   ],
   "source": [
    "details3.course_details(\"DS\")"
   ]
  },
  {
   "cell_type": "code",
   "execution_count": 20,
   "id": "09cd5c18-d02d-430e-8280-fad04f221485",
   "metadata": {},
   "outputs": [],
   "source": [
    "s4=details3(\"Mohan\",\"mohan@gmail.com\")"
   ]
  },
  {
   "cell_type": "code",
   "execution_count": 21,
   "id": "e98b1127-2d66-437f-8b13-a51f2fc16b78",
   "metadata": {},
   "outputs": [
    {
     "name": "stdout",
     "output_type": "stream",
     "text": [
      "Course Details:  DSA\n"
     ]
    }
   ],
   "source": [
    "s4.course_details(\"DSA\")"
   ]
  },
  {
   "cell_type": "code",
   "execution_count": 22,
   "id": "32662d1a-1973-4bf6-891d-90ba0fdd641d",
   "metadata": {},
   "outputs": [],
   "source": [
    "class details4:\n",
    "    mobile=1236654478  #Class Variable\n",
    "    def __init__(self,name,email):\n",
    "        self.name=name\n",
    "        self.email=email\n",
    "    ## Alternative for init\n",
    "    @classmethod\n",
    "    def det(cls,name,email):\n",
    "        return cls(name,email)\n",
    "    @classmethod\n",
    "    def change_mobile(cls,mobile):\n",
    "        details3.mobile=mobile\n",
    "    def student_det(self):\n",
    "        print(self.name,self.email,details3.mobile)"
   ]
  },
  {
   "cell_type": "code",
   "execution_count": 23,
   "id": "f9075d44-6516-4ddd-af30-20c8a10ece15",
   "metadata": {},
   "outputs": [],
   "source": [
    "del details4.change_mobile"
   ]
  },
  {
   "cell_type": "code",
   "execution_count": 24,
   "id": "4e0a2cf7-a3ce-4439-bc1b-32a3360de6b7",
   "metadata": {},
   "outputs": [
    {
     "ename": "AttributeError",
     "evalue": "type object 'details4' has no attribute 'change_mobile'",
     "output_type": "error",
     "traceback": [
      "\u001b[1;31m---------------------------------------------------------------------------\u001b[0m",
      "\u001b[1;31mAttributeError\u001b[0m                            Traceback (most recent call last)",
      "Cell \u001b[1;32mIn[24], line 1\u001b[0m\n\u001b[1;32m----> 1\u001b[0m \u001b[43mdetails4\u001b[49m\u001b[38;5;241;43m.\u001b[39;49m\u001b[43mchange_mobile\u001b[49m(\u001b[38;5;241m134656789\u001b[39m)\n",
      "\u001b[1;31mAttributeError\u001b[0m: type object 'details4' has no attribute 'change_mobile'"
     ]
    }
   ],
   "source": [
    "details4.change_mobile(134656789)"
   ]
  },
  {
   "cell_type": "code",
   "execution_count": 25,
   "id": "9a498b7a-94ef-433d-876e-85cd118aec5b",
   "metadata": {},
   "outputs": [],
   "source": [
    "delattr(details4,\"det\")"
   ]
  },
  {
   "cell_type": "code",
   "execution_count": 26,
   "id": "6aabf7d3-78af-48c4-96c5-109ad3a6f0d0",
   "metadata": {},
   "outputs": [
    {
     "ename": "AttributeError",
     "evalue": "type object 'details4' has no attribute 'det'",
     "output_type": "error",
     "traceback": [
      "\u001b[1;31m---------------------------------------------------------------------------\u001b[0m",
      "\u001b[1;31mAttributeError\u001b[0m                            Traceback (most recent call last)",
      "Cell \u001b[1;32mIn[26], line 1\u001b[0m\n\u001b[1;32m----> 1\u001b[0m \u001b[43mdetails4\u001b[49m\u001b[38;5;241;43m.\u001b[39;49m\u001b[43mdet\u001b[49m()\n",
      "\u001b[1;31mAttributeError\u001b[0m: type object 'details4' has no attribute 'det'"
     ]
    }
   ],
   "source": [
    "details4.det()"
   ]
  },
  {
   "cell_type": "code",
   "execution_count": 27,
   "id": "993f390e-f5e2-4461-8cce-832db7a56caa",
   "metadata": {},
   "outputs": [],
   "source": [
    "delattr(details4,\"mobile\")"
   ]
  },
  {
   "cell_type": "code",
   "execution_count": 28,
   "id": "16012efb-117b-4355-8a6a-87fb1239a070",
   "metadata": {},
   "outputs": [
    {
     "ename": "AttributeError",
     "evalue": "type object 'details4' has no attribute 'mobile'",
     "output_type": "error",
     "traceback": [
      "\u001b[1;31m---------------------------------------------------------------------------\u001b[0m",
      "\u001b[1;31mAttributeError\u001b[0m                            Traceback (most recent call last)",
      "Cell \u001b[1;32mIn[28], line 1\u001b[0m\n\u001b[1;32m----> 1\u001b[0m \u001b[43mdetails4\u001b[49m\u001b[38;5;241;43m.\u001b[39;49m\u001b[43mmobile\u001b[49m\n",
      "\u001b[1;31mAttributeError\u001b[0m: type object 'details4' has no attribute 'mobile'"
     ]
    }
   ],
   "source": [
    "details4.mobile"
   ]
  },
  {
   "cell_type": "code",
   "execution_count": 29,
   "id": "0ed69bf6-9834-49bf-919e-39c8e7319ec4",
   "metadata": {},
   "outputs": [],
   "source": [
    "delattr (details4,\"student_det\")"
   ]
  },
  {
   "cell_type": "code",
   "execution_count": 30,
   "id": "ce8c5c4b-fd1c-4f04-9220-5dd3a66e1e76",
   "metadata": {},
   "outputs": [
    {
     "ename": "AttributeError",
     "evalue": "type object 'details4' has no attribute 'student_det'",
     "output_type": "error",
     "traceback": [
      "\u001b[1;31m---------------------------------------------------------------------------\u001b[0m",
      "\u001b[1;31mAttributeError\u001b[0m                            Traceback (most recent call last)",
      "Cell \u001b[1;32mIn[30], line 1\u001b[0m\n\u001b[1;32m----> 1\u001b[0m \u001b[43mdetails4\u001b[49m\u001b[38;5;241;43m.\u001b[39;49m\u001b[43mstudent_det\u001b[49m()\n",
      "\u001b[1;31mAttributeError\u001b[0m: type object 'details4' has no attribute 'student_det'"
     ]
    }
   ],
   "source": [
    "details4.student_det()"
   ]
  }
 ],
 "metadata": {
  "kernelspec": {
   "display_name": "Python 3 (ipykernel)",
   "language": "python",
   "name": "python3"
  },
  "language_info": {
   "codemirror_mode": {
    "name": "ipython",
    "version": 3
   },
   "file_extension": ".py",
   "mimetype": "text/x-python",
   "name": "python",
   "nbconvert_exporter": "python",
   "pygments_lexer": "ipython3",
   "version": "3.11.5"
  }
 },
 "nbformat": 4,
 "nbformat_minor": 5
}
