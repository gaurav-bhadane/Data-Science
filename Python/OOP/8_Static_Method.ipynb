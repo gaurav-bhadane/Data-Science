{
 "cells": [
  {
   "cell_type": "markdown",
   "id": "aa595220-0dfe-46c2-98e0-ce55a0c2c074",
   "metadata": {},
   "source": [
    "### Static Method"
   ]
  },
  {
   "cell_type": "code",
   "execution_count": 1,
   "id": "c6da60d7-2506-4503-b49e-e6d24745d3bc",
   "metadata": {},
   "outputs": [],
   "source": [
    "class course:\n",
    "    def student_det(self,name,email,id,number):\n",
    "        print(name,email,id,number)"
   ]
  },
  {
   "cell_type": "code",
   "execution_count": 2,
   "id": "f5c4cb5d-2672-4992-8ca6-b4ec45e05f54",
   "metadata": {},
   "outputs": [],
   "source": [
    "c1=course()"
   ]
  },
  {
   "cell_type": "code",
   "execution_count": 3,
   "id": "6f6e60ba-f791-41e9-a9df-fa8173d98215",
   "metadata": {},
   "outputs": [
    {
     "name": "stdout",
     "output_type": "stream",
     "text": [
      "Gaurav gb@gmail.com 465652 1235465854\n"
     ]
    }
   ],
   "source": [
    "c1.student_det(\"Gaurav\",\"gb@gmail.com\",465652,1235465854)"
   ]
  },
  {
   "cell_type": "code",
   "execution_count": 12,
   "id": "0c340507-8aac-4ce4-8d94-52ce8ddfda31",
   "metadata": {},
   "outputs": [],
   "source": [
    "class course2:\n",
    "    def student_det(self,name,email,id,number):\n",
    "        print(name,email,id,number)\n",
    "    @staticmethod\n",
    "    def mentor_mail(mail_id):\n",
    "        print(mail_id)\n",
    "    @staticmethod\n",
    "    def mentor_class(list_mentor):   #Available to every object i.e.; only one copy will be created and will be updated\n",
    "        print(list_mentor)\n",
    "        course2.mentor_mail([\"dhoni@gmail.com\",\"vk@gmail.com\"])\n",
    "    @classmethod\n",
    "    def class_name(cls,cls_name):\n",
    "        cls.mentor_class([\"Dhoni\",\"Virat\"])\n",
    "    \n",
    "    def mentor(self,list_mentor):\n",
    "        print(list_mentor)\n",
    "        self.mentor_class([\"Dhoni\",\"Virat\"])\n",
    "        "
   ]
  },
  {
   "cell_type": "code",
   "execution_count": 13,
   "id": "769e3845-d67b-4ecc-990b-ef3bec37fa4e",
   "metadata": {},
   "outputs": [],
   "source": [
    "c2=course2()"
   ]
  },
  {
   "cell_type": "code",
   "execution_count": 14,
   "id": "f908e0c1-4aa2-4dc5-abf2-6a5128be5b69",
   "metadata": {},
   "outputs": [
    {
     "name": "stdout",
     "output_type": "stream",
     "text": [
      "Mohit mohit@gmail.com 456 123456850\n"
     ]
    }
   ],
   "source": [
    "c2.student_det(\"Mohit\",\"mohit@gmail.com\",456,123456850)"
   ]
  },
  {
   "cell_type": "code",
   "execution_count": 15,
   "id": "cf7e3b9f-475e-467d-8e32-3fee1718b3cb",
   "metadata": {},
   "outputs": [
    {
     "name": "stdout",
     "output_type": "stream",
     "text": [
      "['dhoni@gmail.com', 'vk@gmail.com']\n"
     ]
    }
   ],
   "source": [
    "c2.mentor_mail([\"dhoni@gmail.com\",\"vk@gmail.com\"])"
   ]
  },
  {
   "cell_type": "code",
   "execution_count": 17,
   "id": "38c67bc0-7efc-4514-aa4e-3879164deb67",
   "metadata": {},
   "outputs": [
    {
     "name": "stdout",
     "output_type": "stream",
     "text": [
      "['Dhoni', 'Virat']\n",
      "['dhoni@gmail.com', 'vk@gmail.com']\n"
     ]
    }
   ],
   "source": [
    "c2.class_name(\"Data Science\")"
   ]
  },
  {
   "cell_type": "code",
   "execution_count": 18,
   "id": "9bf6c03c-aeb2-40b3-98a2-3349dffc3d8e",
   "metadata": {},
   "outputs": [
    {
     "name": "stdout",
     "output_type": "stream",
     "text": [
      "['dhoni@gmail.com', 'vk@gmail.com']\n"
     ]
    }
   ],
   "source": [
    "course2.mentor_mail([\"dhoni@gmail.com\",\"vk@gmail.com\"])"
   ]
  }
 ],
 "metadata": {
  "kernelspec": {
   "display_name": "Python 3 (ipykernel)",
   "language": "python",
   "name": "python3"
  },
  "language_info": {
   "codemirror_mode": {
    "name": "ipython",
    "version": 3
   },
   "file_extension": ".py",
   "mimetype": "text/x-python",
   "name": "python",
   "nbconvert_exporter": "python",
   "pygments_lexer": "ipython3",
   "version": "3.11.5"
  }
 },
 "nbformat": 4,
 "nbformat_minor": 5
}
