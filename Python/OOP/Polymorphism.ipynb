{
 "cells": [
  {
   "cell_type": "markdown",
   "id": "7381cfb6-c4ff-4199-aa34-36fe9cf44e55",
   "metadata": {},
   "source": [
    "### Polymorphism: Ability to make more than 1 forms i.e.; (Multiple States)"
   ]
  },
  {
   "cell_type": "code",
   "execution_count": 1,
   "id": "2284d6eb-e4c8-4fcc-9f59-9131f02f56cf",
   "metadata": {},
   "outputs": [],
   "source": [
    "def test(a,b):\n",
    "    return a+b"
   ]
  },
  {
   "cell_type": "code",
   "execution_count": 2,
   "id": "39ce8cc0-7d27-48b3-871f-caec936584e9",
   "metadata": {},
   "outputs": [
    {
     "data": {
      "text/plain": [
       "9"
      ]
     },
     "execution_count": 2,
     "metadata": {},
     "output_type": "execute_result"
    }
   ],
   "source": [
    "test(4,5)"
   ]
  },
  {
   "cell_type": "code",
   "execution_count": 3,
   "id": "5516ee87-cc15-47c3-a850-7550dca4f1dd",
   "metadata": {},
   "outputs": [
    {
     "data": {
      "text/plain": [
       "'Gaurav Bhadane'"
      ]
     },
     "execution_count": 3,
     "metadata": {},
     "output_type": "execute_result"
    }
   ],
   "source": [
    "test(\"Gaurav \",\"Bhadane\")"
   ]
  },
  {
   "cell_type": "markdown",
   "id": "f473beef-f29e-4491-aabe-ec018cf99394",
   "metadata": {},
   "source": [
    "#### So we can say that test function is capable of forming more than 1 forms with same structure one for Integer and other for string"
   ]
  },
  {
   "cell_type": "code",
   "execution_count": 4,
   "id": "14deece1-c949-45c4-ba7e-993def4274bb",
   "metadata": {},
   "outputs": [
    {
     "data": {
      "text/plain": [
       "[1, 2, 5, 6, 7, 8, 5, 4, 6, 2]"
      ]
     },
     "execution_count": 4,
     "metadata": {},
     "output_type": "execute_result"
    }
   ],
   "source": [
    "test([1,2,5,6,7],[8,5,4,6,2])"
   ]
  },
  {
   "cell_type": "code",
   "execution_count": 5,
   "id": "e6ff18b8-9e17-42f0-8107-e6c1ffd17ea7",
   "metadata": {},
   "outputs": [],
   "source": [
    "class data_science:\n",
    "    def syllabus(self):\n",
    "        print(\"This is DS Syllabus\")"
   ]
  },
  {
   "cell_type": "code",
   "execution_count": 6,
   "id": "c5265640-19bc-458b-8968-ee1168afb7ec",
   "metadata": {},
   "outputs": [],
   "source": [
    "class Web_dev:\n",
    "    def syllabus(self):\n",
    "        print(\"This is Web Dev Syllabus\")"
   ]
  },
  {
   "cell_type": "code",
   "execution_count": 7,
   "id": "0cd485bc-3b99-4273-87b6-14c788570bd0",
   "metadata": {},
   "outputs": [],
   "source": [
    "def parse(obj):\n",
    "    for i in obj:\n",
    "        i.syllabus()"
   ]
  },
  {
   "cell_type": "code",
   "execution_count": 8,
   "id": "e3dc4761-0937-49f9-a9fd-9806b729df9a",
   "metadata": {},
   "outputs": [],
   "source": [
    "d1=data_science()\n",
    "d2=Web_dev()"
   ]
  },
  {
   "cell_type": "code",
   "execution_count": 9,
   "id": "9d94856e-26fe-4d39-800b-82651d5c6dcf",
   "metadata": {},
   "outputs": [],
   "source": [
    "obj=[d1,d2]"
   ]
  },
  {
   "cell_type": "code",
   "execution_count": 10,
   "id": "0e6455f3-c48d-4424-9cca-e6d294862d75",
   "metadata": {},
   "outputs": [
    {
     "name": "stdout",
     "output_type": "stream",
     "text": [
      "This is DS Syllabus\n",
      "This is Web Dev Syllabus\n"
     ]
    }
   ],
   "source": [
    "parse(obj)"
   ]
  }
 ],
 "metadata": {
  "kernelspec": {
   "display_name": "Python 3 (ipykernel)",
   "language": "python",
   "name": "python3"
  },
  "language_info": {
   "codemirror_mode": {
    "name": "ipython",
    "version": 3
   },
   "file_extension": ".py",
   "mimetype": "text/x-python",
   "name": "python",
   "nbconvert_exporter": "python",
   "pygments_lexer": "ipython3",
   "version": "3.11.5"
  }
 },
 "nbformat": 4,
 "nbformat_minor": 5
}
