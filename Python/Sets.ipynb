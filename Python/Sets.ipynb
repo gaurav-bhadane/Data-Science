{
 "cells": [
  {
   "cell_type": "markdown",
   "id": "a2999c29-8545-47bc-a42f-a90c6b730ca5",
   "metadata": {},
   "source": [
    "### SET\n",
    "    1. Removed all the Duplicates \n",
    "    2. Unique ELements"
   ]
  },
  {
   "cell_type": "code",
   "execution_count": 5,
   "id": "c83887d4-2cd7-493f-89d6-59ec88d1ae0a",
   "metadata": {},
   "outputs": [],
   "source": [
    "s ={}  #Empty"
   ]
  },
  {
   "cell_type": "code",
   "execution_count": 2,
   "id": "a3c75402-a928-4723-8caf-2090840b7953",
   "metadata": {},
   "outputs": [
    {
     "data": {
      "text/plain": [
       "dict"
      ]
     },
     "execution_count": 2,
     "metadata": {},
     "output_type": "execute_result"
    }
   ],
   "source": [
    "type(s)"
   ]
  },
  {
   "cell_type": "code",
   "execution_count": 3,
   "id": "6810839e-7243-487c-bc4d-b58d0a95ab67",
   "metadata": {},
   "outputs": [],
   "source": [
    "s1={1,2,3,4,5}"
   ]
  },
  {
   "cell_type": "code",
   "execution_count": 4,
   "id": "03e7aeaa-4632-4749-ae77-6cbcecfa3009",
   "metadata": {},
   "outputs": [
    {
     "data": {
      "text/plain": [
       "set"
      ]
     },
     "execution_count": 4,
     "metadata": {},
     "output_type": "execute_result"
    }
   ],
   "source": [
    "type(s1)"
   ]
  },
  {
   "cell_type": "code",
   "execution_count": 6,
   "id": "a912f335-f80c-47f9-988b-a158e515ee64",
   "metadata": {},
   "outputs": [],
   "source": [
    "s2={1,1,12,3,3,3,3,3,5,5,5,5,555,555,21,21,1,1}"
   ]
  },
  {
   "cell_type": "code",
   "execution_count": 9,
   "id": "23136b94-9d0e-49b7-ae6e-087ae5c3ec2d",
   "metadata": {},
   "outputs": [
    {
     "data": {
      "text/plain": [
       "{1, 3, 5, 12, 21, 555}"
      ]
     },
     "execution_count": 9,
     "metadata": {},
     "output_type": "execute_result"
    }
   ],
   "source": [
    "s2  #Removed all the Duplicates #Unique ELements"
   ]
  },
  {
   "cell_type": "code",
   "execution_count": 10,
   "id": "a34ef100-b75c-4ebc-91c9-cd750862b994",
   "metadata": {},
   "outputs": [
    {
     "data": {
      "text/plain": [
       "list[{1, 3, 5, 21, 555, 12}]"
      ]
     },
     "execution_count": 10,
     "metadata": {},
     "output_type": "execute_result"
    }
   ],
   "source": [
    "list[s2]"
   ]
  },
  {
   "cell_type": "code",
   "execution_count": 11,
   "id": "9a28dc7c-be44-47cb-adcc-26acdcdb46af",
   "metadata": {},
   "outputs": [
    {
     "data": {
      "text/plain": [
       "(1, 3, 5, 21, 555, 12)"
      ]
     },
     "execution_count": 11,
     "metadata": {},
     "output_type": "execute_result"
    }
   ],
   "source": [
    "tuple(s2)"
   ]
  },
  {
   "cell_type": "code",
   "execution_count": 12,
   "id": "f166b60a-6931-4dd7-8d27-8bace8e9446e",
   "metadata": {},
   "outputs": [],
   "source": [
    "list=[1,1,12,3,3,3,3,3,5,5,5,5,555,555,21,21,1,1]"
   ]
  },
  {
   "cell_type": "code",
   "execution_count": 13,
   "id": "963d0c5f-61be-4f6c-b814-583fec4c67a1",
   "metadata": {},
   "outputs": [
    {
     "data": {
      "text/plain": [
       "[1, 1, 12, 3, 3, 3, 3, 3, 5, 5, 5, 5, 555, 555, 21, 21, 1, 1]"
      ]
     },
     "execution_count": 13,
     "metadata": {},
     "output_type": "execute_result"
    }
   ],
   "source": [
    "list"
   ]
  },
  {
   "cell_type": "code",
   "execution_count": 15,
   "id": "bd831bdb-a8f7-4f60-a15e-c311e898059b",
   "metadata": {},
   "outputs": [],
   "source": [
    "s3=set(list)"
   ]
  },
  {
   "cell_type": "code",
   "execution_count": 16,
   "id": "9d4a82d9-a097-4445-bc78-dc6233c7fe32",
   "metadata": {},
   "outputs": [
    {
     "data": {
      "text/plain": [
       "{1, 3, 5, 12, 21, 555}"
      ]
     },
     "execution_count": 16,
     "metadata": {},
     "output_type": "execute_result"
    }
   ],
   "source": [
    "s3"
   ]
  },
  {
   "cell_type": "code",
   "execution_count": 17,
   "id": "3da54369-7555-44bc-90b0-4ef21283c0ee",
   "metadata": {},
   "outputs": [
    {
     "ename": "TypeError",
     "evalue": "unhashable type: 'list'",
     "output_type": "error",
     "traceback": [
      "\u001b[1;31m---------------------------------------------------------------------------\u001b[0m",
      "\u001b[1;31mTypeError\u001b[0m                                 Traceback (most recent call last)",
      "Cell \u001b[1;32mIn[17], line 1\u001b[0m\n\u001b[1;32m----> 1\u001b[0m s4\u001b[38;5;241m=\u001b[39m {\u001b[38;5;241m1\u001b[39m,\u001b[38;5;241m2\u001b[39m,\u001b[38;5;241m3\u001b[39m,\u001b[38;5;241m4\u001b[39m,[\u001b[38;5;241m4\u001b[39m,\u001b[38;5;241m5\u001b[39m,\u001b[38;5;241m6\u001b[39m]}\n",
      "\u001b[1;31mTypeError\u001b[0m: unhashable type: 'list'"
     ]
    }
   ],
   "source": [
    "s4= {1,2,3,4,[4,5,6]}  # Not allowing lists as item in set"
   ]
  },
  {
   "cell_type": "code",
   "execution_count": 22,
   "id": "8b55aecd-1c34-4430-aea2-7538e8e167dc",
   "metadata": {},
   "outputs": [],
   "source": [
    "s4= {1,2,3,4,(4,5,6)}  # Allowing tuples as item in set"
   ]
  },
  {
   "cell_type": "code",
   "execution_count": 20,
   "id": "27fe42d5-c128-45e7-ae33-ace8d542c17c",
   "metadata": {},
   "outputs": [
    {
     "data": {
      "text/plain": [
       "{(4, 5, 6), 1, 2, 3, 4}"
      ]
     },
     "execution_count": 20,
     "metadata": {},
     "output_type": "execute_result"
    }
   ],
   "source": [
    "s4"
   ]
  },
  {
   "cell_type": "code",
   "execution_count": 23,
   "id": "0a457868-949b-4a2b-b891-65c91d6d3358",
   "metadata": {},
   "outputs": [
    {
     "data": {
      "text/plain": [
       "{(4, 5, 6), 1, 2, 3, 4}"
      ]
     },
     "execution_count": 23,
     "metadata": {},
     "output_type": "execute_result"
    }
   ],
   "source": [
    "s4"
   ]
  },
  {
   "cell_type": "code",
   "execution_count": 25,
   "id": "c84b86c6-7ca6-4454-b947-7384982019f8",
   "metadata": {},
   "outputs": [
    {
     "data": {
      "text/plain": [
       "{1, 2, 3, 4, 5}"
      ]
     },
     "execution_count": 25,
     "metadata": {},
     "output_type": "execute_result"
    }
   ],
   "source": [
    "s1"
   ]
  },
  {
   "cell_type": "code",
   "execution_count": 28,
   "id": "6a5957f7-09d1-4f18-a121-a3f84be3ab9a",
   "metadata": {},
   "outputs": [
    {
     "ename": "TypeError",
     "evalue": "'set' object is not subscriptable",
     "output_type": "error",
     "traceback": [
      "\u001b[1;31m---------------------------------------------------------------------------\u001b[0m",
      "\u001b[1;31mTypeError\u001b[0m                                 Traceback (most recent call last)",
      "Cell \u001b[1;32mIn[28], line 1\u001b[0m\n\u001b[1;32m----> 1\u001b[0m \u001b[43ms1\u001b[49m\u001b[43m[\u001b[49m\u001b[38;5;241;43m0\u001b[39;49m\u001b[43m]\u001b[49m \u001b[38;5;66;03m# Cannot indexisized\u001b[39;00m\n",
      "\u001b[1;31mTypeError\u001b[0m: 'set' object is not subscriptable"
     ]
    }
   ],
   "source": [
    "s1[0] # Cannot indexisized"
   ]
  },
  {
   "cell_type": "code",
   "execution_count": 29,
   "id": "e302fc66-ed3c-4be2-bc39-85b598cbf5fc",
   "metadata": {},
   "outputs": [
    {
     "name": "stdout",
     "output_type": "stream",
     "text": [
      "1\n",
      "2\n",
      "3\n",
      "4\n",
      "5\n"
     ]
    }
   ],
   "source": [
    "for i in s1:\n",
    "    print(i)"
   ]
  },
  {
   "cell_type": "code",
   "execution_count": 30,
   "id": "4fb15c29-f1ab-46ab-9f69-fcd362af64b3",
   "metadata": {},
   "outputs": [
    {
     "name": "stdout",
     "output_type": "stream",
     "text": [
      "1\n",
      "3\n",
      "5\n",
      "555\n",
      "12\n",
      "21\n"
     ]
    }
   ],
   "source": [
    "for i in s3:\n",
    "    print(i)"
   ]
  },
  {
   "cell_type": "code",
   "execution_count": 31,
   "id": "d877f264-65bc-447d-aab9-15ad744720bc",
   "metadata": {},
   "outputs": [
    {
     "data": {
      "text/plain": [
       "1"
      ]
     },
     "execution_count": 31,
     "metadata": {},
     "output_type": "execute_result"
    }
   ],
   "source": [
    "s3.pop()"
   ]
  },
  {
   "cell_type": "code",
   "execution_count": 33,
   "id": "e36b2936-7389-442a-8f98-ecbae4118258",
   "metadata": {},
   "outputs": [
    {
     "data": {
      "text/plain": [
       "{3, 5, 12, 21, 555}"
      ]
     },
     "execution_count": 33,
     "metadata": {},
     "output_type": "execute_result"
    }
   ],
   "source": [
    "s3"
   ]
  },
  {
   "cell_type": "code",
   "execution_count": 34,
   "id": "f166e58a-7875-4ba8-83a5-06f8e3728e41",
   "metadata": {},
   "outputs": [],
   "source": [
    "s3.add(1)"
   ]
  },
  {
   "cell_type": "code",
   "execution_count": 35,
   "id": "4f7264b4-d1df-46da-b70f-30adf0c277aa",
   "metadata": {},
   "outputs": [
    {
     "data": {
      "text/plain": [
       "{1, 3, 5, 12, 21, 555}"
      ]
     },
     "execution_count": 35,
     "metadata": {},
     "output_type": "execute_result"
    }
   ],
   "source": [
    "s3"
   ]
  },
  {
   "cell_type": "code",
   "execution_count": 36,
   "id": "cbcfb3a0-40bd-47d5-b28f-a7d8e60ce6a6",
   "metadata": {},
   "outputs": [],
   "source": [
    "s3.add(1)"
   ]
  },
  {
   "cell_type": "code",
   "execution_count": 37,
   "id": "412c9fe5-67a7-422b-b27f-3b6b2ce3b1c1",
   "metadata": {},
   "outputs": [
    {
     "data": {
      "text/plain": [
       "{1, 3, 5, 12, 21, 555}"
      ]
     },
     "execution_count": 37,
     "metadata": {},
     "output_type": "execute_result"
    }
   ],
   "source": [
    "s3"
   ]
  },
  {
   "cell_type": "code",
   "execution_count": 38,
   "id": "10c48c14-398a-4cbf-acbb-924e73eda299",
   "metadata": {},
   "outputs": [
    {
     "data": {
      "text/plain": [
       "6"
      ]
     },
     "execution_count": 38,
     "metadata": {},
     "output_type": "execute_result"
    }
   ],
   "source": [
    "len(s3)"
   ]
  },
  {
   "cell_type": "code",
   "execution_count": 39,
   "id": "8137596d-7b91-44db-ba1d-4387b6206673",
   "metadata": {},
   "outputs": [],
   "source": [
    "s6={1,2,3}\n",
    "s7={3,2,6,8}"
   ]
  },
  {
   "cell_type": "code",
   "execution_count": 40,
   "id": "bf116fad-ef61-4d04-9f50-7e79239034c9",
   "metadata": {},
   "outputs": [
    {
     "data": {
      "text/plain": [
       "False"
      ]
     },
     "execution_count": 40,
     "metadata": {},
     "output_type": "execute_result"
    }
   ],
   "source": [
    "s6.issubset(s7)"
   ]
  },
  {
   "cell_type": "code",
   "execution_count": 41,
   "id": "138626fb-cf7c-44d7-aeba-a7ef185bebb4",
   "metadata": {},
   "outputs": [
    {
     "data": {
      "text/plain": [
       "{2, 3}"
      ]
     },
     "execution_count": 41,
     "metadata": {},
     "output_type": "execute_result"
    }
   ],
   "source": [
    "s6.intersection(s7)"
   ]
  },
  {
   "cell_type": "code",
   "execution_count": 42,
   "id": "80a37e15-f0ff-4f34-a506-a06916717747",
   "metadata": {},
   "outputs": [
    {
     "data": {
      "text/plain": [
       "{1, 2, 3, 6, 8}"
      ]
     },
     "execution_count": 42,
     "metadata": {},
     "output_type": "execute_result"
    }
   ],
   "source": [
    "s6.union(s7)"
   ]
  },
  {
   "cell_type": "code",
   "execution_count": 43,
   "id": "447e3dfa-6c1f-4fac-a0a6-f78a2f2b417e",
   "metadata": {},
   "outputs": [],
   "source": [
    "s1.clear()"
   ]
  },
  {
   "cell_type": "code",
   "execution_count": 44,
   "id": "5022ff40-5cfc-4a22-b394-2b9d16c745f1",
   "metadata": {},
   "outputs": [
    {
     "data": {
      "text/plain": [
       "set()"
      ]
     },
     "execution_count": 44,
     "metadata": {},
     "output_type": "execute_result"
    }
   ],
   "source": [
    "s1"
   ]
  },
  {
   "cell_type": "code",
   "execution_count": 45,
   "id": "f18d56af-3325-4006-9807-05887e8a8fbf",
   "metadata": {},
   "outputs": [
    {
     "data": {
      "text/plain": [
       "{1}"
      ]
     },
     "execution_count": 45,
     "metadata": {},
     "output_type": "execute_result"
    }
   ],
   "source": [
    "s6.difference(s7)"
   ]
  }
 ],
 "metadata": {
  "kernelspec": {
   "display_name": "Python 3 (ipykernel)",
   "language": "python",
   "name": "python3"
  },
  "language_info": {
   "codemirror_mode": {
    "name": "ipython",
    "version": 3
   },
   "file_extension": ".py",
   "mimetype": "text/x-python",
   "name": "python",
   "nbconvert_exporter": "python",
   "pygments_lexer": "ipython3",
   "version": "3.11.5"
  }
 },
 "nbformat": 4,
 "nbformat_minor": 5
}
