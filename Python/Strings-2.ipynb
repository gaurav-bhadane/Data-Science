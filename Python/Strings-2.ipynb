{
 "cells": [
  {
   "cell_type": "markdown",
   "id": "45724a26-7fa9-4ad0-80e3-191229ee5357",
   "metadata": {},
   "source": [
    "### Strings"
   ]
  },
  {
   "cell_type": "code",
   "execution_count": 6,
   "id": "eb9419a0-02ce-4c8d-8e8c-09b9297fe764",
   "metadata": {},
   "outputs": [],
   "source": [
    "name=\"Data Science\""
   ]
  },
  {
   "cell_type": "code",
   "execution_count": 7,
   "id": "cbb91bf0-8382-400a-a841-84ae7e6cd11c",
   "metadata": {},
   "outputs": [
    {
     "data": {
      "text/plain": [
       "'dATA sCIENCE'"
      ]
     },
     "execution_count": 7,
     "metadata": {},
     "output_type": "execute_result"
    }
   ],
   "source": [
    "name.swapcase()"
   ]
  },
  {
   "cell_type": "code",
   "execution_count": 8,
   "id": "cf9f52ab-363d-4dec-b50c-aa5d6af2cd5d",
   "metadata": {},
   "outputs": [
    {
     "data": {
      "text/plain": [
       "'Data Science'"
      ]
     },
     "execution_count": 8,
     "metadata": {},
     "output_type": "execute_result"
    }
   ],
   "source": [
    "name.title()"
   ]
  },
  {
   "cell_type": "code",
   "execution_count": 9,
   "id": "2911faaf-f789-4ec9-b02c-f8471c400039",
   "metadata": {},
   "outputs": [
    {
     "data": {
      "text/plain": [
       "'Data science'"
      ]
     },
     "execution_count": 9,
     "metadata": {},
     "output_type": "execute_result"
    }
   ],
   "source": [
    "name.capitalize()"
   ]
  },
  {
   "cell_type": "code",
   "execution_count": 10,
   "id": "5d715b02-2df2-4d54-b4c9-0cf3fc9d8822",
   "metadata": {},
   "outputs": [
    {
     "data": {
      "text/plain": [
       "'ecneicS ataD'"
      ]
     },
     "execution_count": 10,
     "metadata": {},
     "output_type": "execute_result"
    }
   ],
   "source": [
    "#Reversing a String\n",
    "name[::-1]"
   ]
  },
  {
   "cell_type": "code",
   "execution_count": 12,
   "id": "861cb2e4-0914-4477-a6f5-13da75d7522d",
   "metadata": {},
   "outputs": [
    {
     "data": {
      "text/plain": [
       "'ecneicS ataD'"
      ]
     },
     "execution_count": 12,
     "metadata": {},
     "output_type": "execute_result"
    }
   ],
   "source": [
    "''.join(reversed(name))"
   ]
  },
  {
   "cell_type": "code",
   "execution_count": 18,
   "id": "10a28e27-3198-4894-8286-db2e4f19d507",
   "metadata": {},
   "outputs": [
    {
     "data": {
      "text/plain": [
       "'ecneicS ataD'"
      ]
     },
     "execution_count": 18,
     "metadata": {},
     "output_type": "execute_result"
    }
   ],
   "source": [
    "''.join(reversed(name))"
   ]
  },
  {
   "cell_type": "code",
   "execution_count": 20,
   "id": "79359e54-50d1-4ce2-ba6a-2beb82eb5c6e",
   "metadata": {},
   "outputs": [
    {
     "data": {
      "text/plain": [
       "'d Gaurav c Gaurav b Gaurav a'"
      ]
     },
     "execution_count": 20,
     "metadata": {},
     "output_type": "execute_result"
    }
   ],
   "source": [
    "\" Gaurav \".join(reversed(\"abcd\"))"
   ]
  },
  {
   "cell_type": "code",
   "execution_count": 21,
   "id": "b4466612-bd78-45cf-b12b-6cf3e80124a0",
   "metadata": {},
   "outputs": [
    {
     "data": {
      "text/plain": [
       "['e', 'c', 'n', 'e', 'i', 'c', 'S', ' ', 'a', 't', 'a', 'D']"
      ]
     },
     "execution_count": 21,
     "metadata": {},
     "output_type": "execute_result"
    }
   ],
   "source": [
    "list(reversed(name))"
   ]
  },
  {
   "cell_type": "code",
   "execution_count": 25,
   "id": "775eb949-9e68-421d-89dc-e55820e35c53",
   "metadata": {},
   "outputs": [
    {
     "data": {
      "text/plain": [
       "'oMy name is Gaurav BhadanelMy name is Gaurav BhadanelMy name is Gaurav BhadaneeMy name is Gaurav BhadaneH'"
      ]
     },
     "execution_count": 25,
     "metadata": {},
     "output_type": "execute_result"
    }
   ],
   "source": [
    "str1=\"My name is Gaurav Bhadane\"\n",
    "str1.join(reversed(\"Hello\"))"
   ]
  },
  {
   "cell_type": "code",
   "execution_count": 26,
   "id": "d2b340ae-93f2-4305-8259-6f8e71848d4a",
   "metadata": {},
   "outputs": [
    {
     "name": "stdout",
     "output_type": "stream",
     "text": [
      "ecneicS ataD"
     ]
    }
   ],
   "source": [
    "for i in list(reversed(name)):\n",
    "    print(i,end=\"\")"
   ]
  },
  {
   "cell_type": "code",
   "execution_count": 29,
   "id": "e49f198d-9533-4536-941b-6a6869ced342",
   "metadata": {},
   "outputs": [
    {
     "data": {
      "text/plain": [
       "'Vivo Smartphone'"
      ]
     },
     "execution_count": 29,
     "metadata": {},
     "output_type": "execute_result"
    }
   ],
   "source": [
    "#Removing characters from the end of the string\n",
    "string_a=\"     Vivo Smartphone  \"\n",
    "string_a.strip(\" \")"
   ]
  },
  {
   "cell_type": "code",
   "execution_count": 32,
   "id": "6253887b-5021-4e85-8663-76b3e4cbebba",
   "metadata": {},
   "outputs": [
    {
     "data": {
      "text/plain": [
       "'Vivo Smartphone  '"
      ]
     },
     "execution_count": 32,
     "metadata": {},
     "output_type": "execute_result"
    }
   ],
   "source": [
    "string_a.lstrip(\" \")"
   ]
  },
  {
   "cell_type": "code",
   "execution_count": 36,
   "id": "c4b27d67-d603-45a7-a06d-20f5f2b468dc",
   "metadata": {},
   "outputs": [
    {
     "data": {
      "text/plain": [
       "'Vivo Smartphone'"
      ]
     },
     "execution_count": 36,
     "metadata": {},
     "output_type": "execute_result"
    }
   ],
   "source": [
    "string_a.rstrip(\" \")"
   ]
  },
  {
   "cell_type": "code",
   "execution_count": 37,
   "id": "39a90e57-1504-4f86-8bee-e38dc336966f",
   "metadata": {},
   "outputs": [
    {
     "data": {
      "text/plain": [
       "'Vivo Smartphone  '"
      ]
     },
     "execution_count": 37,
     "metadata": {},
     "output_type": "execute_result"
    }
   ],
   "source": [
    "string_a"
   ]
  },
  {
   "cell_type": "code",
   "execution_count": 38,
   "id": "0df8837b-eaab-4994-919d-e0dffc6de0f6",
   "metadata": {},
   "outputs": [
    {
     "data": {
      "text/plain": [
       "'Oppo Smartphone  '"
      ]
     },
     "execution_count": 38,
     "metadata": {},
     "output_type": "execute_result"
    }
   ],
   "source": [
    "string_a.replace(\"Vivo\",\"Oppo\")"
   ]
  },
  {
   "cell_type": "code",
   "execution_count": 39,
   "id": "d405eb5c-d4c4-4a03-92ed-a59880986f5e",
   "metadata": {},
   "outputs": [
    {
     "data": {
      "text/plain": [
       "'Vivo Smartphone  '"
      ]
     },
     "execution_count": 39,
     "metadata": {},
     "output_type": "execute_result"
    }
   ],
   "source": [
    "string_a"
   ]
  },
  {
   "cell_type": "code",
   "execution_count": 40,
   "id": "2d211fc1-4ad7-4d1e-9a2f-f3619c4b6197",
   "metadata": {},
   "outputs": [],
   "source": [
    "name=\"Raj\""
   ]
  },
  {
   "cell_type": "code",
   "execution_count": 41,
   "id": "7ac181bd-f5e6-47e5-a100-f4d4bde8e21a",
   "metadata": {},
   "outputs": [],
   "source": [
    "name=\"Vivo\""
   ]
  },
  {
   "cell_type": "code",
   "execution_count": 42,
   "id": "3707c0e8-f45c-4cae-aeba-9019264f8652",
   "metadata": {},
   "outputs": [
    {
     "data": {
      "text/plain": [
       "'Vivo'"
      ]
     },
     "execution_count": 42,
     "metadata": {},
     "output_type": "execute_result"
    }
   ],
   "source": [
    "name"
   ]
  },
  {
   "cell_type": "code",
   "execution_count": 47,
   "id": "24daa799-6a34-4553-a5a6-1f1b7efaa3b3",
   "metadata": {},
   "outputs": [
    {
     "data": {
      "text/plain": [
       "'hello   World'"
      ]
     },
     "execution_count": 47,
     "metadata": {},
     "output_type": "execute_result"
    }
   ],
   "source": [
    "'hello\\tWorld'.expandtabs()"
   ]
  },
  {
   "cell_type": "code",
   "execution_count": 49,
   "id": "66542b31-5a45-4f89-8505-b780f5e4c862",
   "metadata": {},
   "outputs": [],
   "source": [
    "str1=\"Welcome to GorakshaKrupa. Welcome to Dat cience World\""
   ]
  },
  {
   "cell_type": "code",
   "execution_count": 55,
   "id": "2cc41769-5dde-406e-ad26-b257504f1dc2",
   "metadata": {},
   "outputs": [
    {
     "data": {
      "text/plain": [
       "'Welcome to GorakshaKrupa. Welcome to Data Science World'"
      ]
     },
     "execution_count": 55,
     "metadata": {},
     "output_type": "execute_result"
    }
   ],
   "source": [
    "str1.replace(\"Dat\",\"Data\").replace(\"cience\",\"Science\")"
   ]
  },
  {
   "cell_type": "code",
   "execution_count": 57,
   "id": "0c14d32c-c436-4d27-ade8-da482001060d",
   "metadata": {},
   "outputs": [
    {
     "data": {
      "text/plain": [
       "False"
      ]
     },
     "execution_count": 57,
     "metadata": {},
     "output_type": "execute_result"
    }
   ],
   "source": [
    "str1.isupper()"
   ]
  },
  {
   "cell_type": "code",
   "execution_count": 58,
   "id": "fc7f4561-2a9b-465a-9d81-89a839f93734",
   "metadata": {},
   "outputs": [
    {
     "data": {
      "text/plain": [
       "False"
      ]
     },
     "execution_count": 58,
     "metadata": {},
     "output_type": "execute_result"
    }
   ],
   "source": [
    "str1.islower()"
   ]
  },
  {
   "cell_type": "code",
   "execution_count": 59,
   "id": "a1121467-05c3-403c-902c-e08a821e8a00",
   "metadata": {},
   "outputs": [],
   "source": [
    "str1=\"GB\""
   ]
  },
  {
   "cell_type": "code",
   "execution_count": 60,
   "id": "2bd31579-7cc5-4afc-8af5-c4450c202db8",
   "metadata": {},
   "outputs": [
    {
     "data": {
      "text/plain": [
       "True"
      ]
     },
     "execution_count": 60,
     "metadata": {},
     "output_type": "execute_result"
    }
   ],
   "source": [
    "str1.isupper()"
   ]
  },
  {
   "cell_type": "code",
   "execution_count": 61,
   "id": "5db53553-3f08-41bf-bb4d-ee3dece9c3d9",
   "metadata": {},
   "outputs": [
    {
     "data": {
      "text/plain": [
       "False"
      ]
     },
     "execution_count": 61,
     "metadata": {},
     "output_type": "execute_result"
    }
   ],
   "source": [
    "str1.islower()"
   ]
  },
  {
   "cell_type": "code",
   "execution_count": 62,
   "id": "06648420-c95f-45d4-8d00-bee0fcbcb2dc",
   "metadata": {},
   "outputs": [],
   "source": [
    "str2=\"Roshani\""
   ]
  },
  {
   "cell_type": "code",
   "execution_count": 63,
   "id": "1eea7d92-f0c3-4509-92a3-e07ed75b0f18",
   "metadata": {},
   "outputs": [
    {
     "data": {
      "text/plain": [
       "True"
      ]
     },
     "execution_count": 63,
     "metadata": {},
     "output_type": "execute_result"
    }
   ],
   "source": [
    "str2.endswith('i')"
   ]
  },
  {
   "cell_type": "code",
   "execution_count": 65,
   "id": "44f5719c-60fa-4192-adad-d9c9020fb690",
   "metadata": {},
   "outputs": [
    {
     "data": {
      "text/plain": [
       "True"
      ]
     },
     "execution_count": 65,
     "metadata": {},
     "output_type": "execute_result"
    }
   ],
   "source": [
    "str2.endswith('ani')"
   ]
  },
  {
   "cell_type": "code",
   "execution_count": 67,
   "id": "6dff96e7-f150-49a8-aed1-57172035f625",
   "metadata": {},
   "outputs": [
    {
     "data": {
      "text/plain": [
       "True"
      ]
     },
     "execution_count": 67,
     "metadata": {},
     "output_type": "execute_result"
    }
   ],
   "source": [
    "str2.startswith('R')"
   ]
  },
  {
   "cell_type": "code",
   "execution_count": 68,
   "id": "172acca6-b77e-4a00-bc32-aff07c8fa4ba",
   "metadata": {},
   "outputs": [
    {
     "data": {
      "text/plain": [
       "True"
      ]
     },
     "execution_count": 68,
     "metadata": {},
     "output_type": "execute_result"
    }
   ],
   "source": [
    "str2.isalpha()"
   ]
  },
  {
   "cell_type": "code",
   "execution_count": 70,
   "id": "8d7629f0-0b19-4152-9d39-68f26e88ac8c",
   "metadata": {},
   "outputs": [],
   "source": [
    "str3=\"1254\""
   ]
  },
  {
   "cell_type": "code",
   "execution_count": 71,
   "id": "ad487637-08e1-413d-8c10-25ddda7b727c",
   "metadata": {},
   "outputs": [
    {
     "data": {
      "text/plain": [
       "True"
      ]
     },
     "execution_count": 71,
     "metadata": {},
     "output_type": "execute_result"
    }
   ],
   "source": [
    "str3.isnumeric()"
   ]
  },
  {
   "cell_type": "code",
   "execution_count": 77,
   "id": "3087f093-ae18-4a48-91d3-634ddce0fb51",
   "metadata": {},
   "outputs": [],
   "source": [
    "str4=\"abcd1234\""
   ]
  },
  {
   "cell_type": "code",
   "execution_count": 78,
   "id": "1f7321a1-00b8-4e28-856e-1f8f8dee3aeb",
   "metadata": {},
   "outputs": [
    {
     "data": {
      "text/plain": [
       "True"
      ]
     },
     "execution_count": 78,
     "metadata": {},
     "output_type": "execute_result"
    }
   ],
   "source": [
    "str4.isalnum()"
   ]
  },
  {
   "cell_type": "code",
   "execution_count": 80,
   "id": "b81e24cb-b4cc-4e44-b59a-5f8a9839b50c",
   "metadata": {},
   "outputs": [],
   "source": [
    "# To count the number of character in the strings\n",
    "count=0;\n",
    "for i in range(len(str4)):\n",
    "    count+=1"
   ]
  },
  {
   "cell_type": "code",
   "execution_count": 81,
   "id": "408a766d-b098-406c-9e01-5b71247f09a7",
   "metadata": {},
   "outputs": [
    {
     "data": {
      "text/plain": [
       "8"
      ]
     },
     "execution_count": 81,
     "metadata": {},
     "output_type": "execute_result"
    }
   ],
   "source": [
    "count"
   ]
  },
  {
   "cell_type": "code",
   "execution_count": 82,
   "id": "9296d982-b26d-4baf-af4a-814350ab60af",
   "metadata": {},
   "outputs": [],
   "source": [
    "str=\"Gaurav Patilbhau Bhadane\""
   ]
  },
  {
   "cell_type": "code",
   "execution_count": 83,
   "id": "d6545950-d7ae-4125-8dee-45e9aace7daa",
   "metadata": {},
   "outputs": [
    {
     "name": "stdout",
     "output_type": "stream",
     "text": [
      "enadahB uahblitaP varuaG"
     ]
    }
   ],
   "source": [
    "#Reverse String using loop\n",
    "for i in range(len(str)):\n",
    "    print(str[len(str)-(i+1)],end=\"\")"
   ]
  },
  {
   "cell_type": "code",
   "execution_count": 84,
   "id": "a36f781f-1166-4a86-8b9a-0e90d71cac90",
   "metadata": {},
   "outputs": [],
   "source": [
    "name=\"bhadane\"\n",
    "vowels=\"aeiouAEIOU\""
   ]
  },
  {
   "cell_type": "code",
   "execution_count": 87,
   "id": "4abcbb24-8d78-4dca-91e6-60f94325a631",
   "metadata": {},
   "outputs": [
    {
     "name": "stdout",
     "output_type": "stream",
     "text": [
      "b is a Consonant\n",
      "h is a Consonant\n",
      "a is a Vowel\n",
      "d is a Consonant\n",
      "a is a Vowel\n",
      "n is a Consonant\n",
      "e is a Vowel\n"
     ]
    }
   ],
   "source": [
    "for i in name:\n",
    "    if i in vowels:\n",
    "        print(\"{} is a Vowel\".format(i))\n",
    "    else:\n",
    "        print(\"{} is a Consonant\".format(i))        "
   ]
  },
  {
   "cell_type": "markdown",
   "id": "7667d10a-6f7d-4379-9efa-da1880fdb252",
   "metadata": {},
   "source": [
    "### List"
   ]
  },
  {
   "cell_type": "code",
   "execution_count": 89,
   "id": "aaf31791-59ad-4c16-bebe-6a057cca6093",
   "metadata": {},
   "outputs": [
    {
     "data": {
      "text/plain": [
       "list"
      ]
     },
     "execution_count": 89,
     "metadata": {},
     "output_type": "execute_result"
    }
   ],
   "source": [
    "#Define\n",
    "list1=[\"Gaurav\",\"Roshani\",\"Bharati\",\"Patilbhau\"]\n",
    "type(list1)"
   ]
  },
  {
   "cell_type": "code",
   "execution_count": 90,
   "id": "0073711c-02aa-4e55-98f3-98d5edb24d72",
   "metadata": {},
   "outputs": [
    {
     "data": {
      "text/plain": [
       "['Gaurav', 'Roshani', 'Bharati', 'Patilbhau']"
      ]
     },
     "execution_count": 90,
     "metadata": {},
     "output_type": "execute_result"
    }
   ],
   "source": [
    "list1"
   ]
  },
  {
   "cell_type": "code",
   "execution_count": 91,
   "id": "0f99f662-2694-433d-b101-602018c36ae0",
   "metadata": {},
   "outputs": [
    {
     "data": {
      "text/plain": [
       "'Gaurav'"
      ]
     },
     "execution_count": 91,
     "metadata": {},
     "output_type": "execute_result"
    }
   ],
   "source": [
    "list1[0]"
   ]
  },
  {
   "cell_type": "code",
   "execution_count": 93,
   "id": "29327765-16a1-4703-a2da-c5a66f98085d",
   "metadata": {},
   "outputs": [
    {
     "data": {
      "text/plain": [
       "'a'"
      ]
     },
     "execution_count": 93,
     "metadata": {},
     "output_type": "execute_result"
    }
   ],
   "source": [
    "list1[0][1]"
   ]
  },
  {
   "cell_type": "code",
   "execution_count": 94,
   "id": "89a60f84-1834-46f7-8208-d2ad85391e1f",
   "metadata": {},
   "outputs": [],
   "source": [
    "str1=\"My name is Gaurav Bhadane\""
   ]
  },
  {
   "cell_type": "code",
   "execution_count": 98,
   "id": "4f613fa1-c11d-48ad-bda5-6c95740c38ed",
   "metadata": {},
   "outputs": [],
   "source": [
    "lst1=str1.split(\" \")   "
   ]
  },
  {
   "cell_type": "code",
   "execution_count": 99,
   "id": "88e91e47-48d3-49f1-9d27-d122c3389186",
   "metadata": {},
   "outputs": [
    {
     "data": {
      "text/plain": [
       "['My', 'name', 'is', 'Gaurav', 'Bhadane']"
      ]
     },
     "execution_count": 99,
     "metadata": {},
     "output_type": "execute_result"
    }
   ],
   "source": [
    "lst1"
   ]
  },
  {
   "cell_type": "code",
   "execution_count": 102,
   "id": "fc7571e5-c909-403f-99a2-f5bb997fdf3a",
   "metadata": {},
   "outputs": [
    {
     "data": {
      "text/plain": [
       "['Bhadane', 'Gaurav', 'is', 'name', 'My']"
      ]
     },
     "execution_count": 102,
     "metadata": {},
     "output_type": "execute_result"
    }
   ],
   "source": [
    "lst1[::-1]"
   ]
  },
  {
   "cell_type": "code",
   "execution_count": 105,
   "id": "f95673fa-3673-4170-bf71-e563a9bcdf9b",
   "metadata": {},
   "outputs": [],
   "source": [
    "lst1[3]=\"Raj\""
   ]
  },
  {
   "cell_type": "code",
   "execution_count": 106,
   "id": "255ce068-6d4a-418c-849c-4c3026431362",
   "metadata": {},
   "outputs": [
    {
     "data": {
      "text/plain": [
       "['My', 'name', 'is', 'Raj', 'Bhadane']"
      ]
     },
     "execution_count": 106,
     "metadata": {},
     "output_type": "execute_result"
    }
   ],
   "source": [
    "lst1"
   ]
  },
  {
   "cell_type": "code",
   "execution_count": 108,
   "id": "b700e7da-d578-4078-88c4-54c476cbe234",
   "metadata": {},
   "outputs": [
    {
     "data": {
      "text/plain": [
       "['My', 'name', 'is', 'Raj', 'Bhadane', 'Patil']"
      ]
     },
     "execution_count": 108,
     "metadata": {},
     "output_type": "execute_result"
    }
   ],
   "source": [
    "#Concatenation\n",
    "lst1 + [\"Patil\"]"
   ]
  },
  {
   "cell_type": "code",
   "execution_count": 109,
   "id": "f29f8e30-1d60-4ad6-9197-ab886156ce5b",
   "metadata": {},
   "outputs": [
    {
     "data": {
      "text/plain": [
       "['My', 'name', 'is', 'Raj', 'Bhadane', 'My', 'name', 'is', 'Raj', 'Bhadane']"
      ]
     },
     "execution_count": 109,
     "metadata": {},
     "output_type": "execute_result"
    }
   ],
   "source": [
    "lst1 * 2"
   ]
  },
  {
   "cell_type": "code",
   "execution_count": 117,
   "id": "8f405465-524c-4a7b-b581-0f0750d22692",
   "metadata": {},
   "outputs": [
    {
     "name": "stdout",
     "output_type": "stream",
     "text": [
      "Found\n"
     ]
    }
   ],
   "source": [
    "if \"Raj\" in lst1:\n",
    "    print(\"Found\")\n",
    "else:\n",
    "    print(\"Not Found\")"
   ]
  },
  {
   "cell_type": "code",
   "execution_count": 122,
   "id": "13b23f94-a082-45f9-95d2-cce732d2bed3",
   "metadata": {},
   "outputs": [],
   "source": [
    "lst2=[\"Dog\",\"Cat\",\"Lion\",\"Monkey\"]\n",
    "lst3=[5,10,9,35,100,452,74,1002,14]"
   ]
  },
  {
   "cell_type": "code",
   "execution_count": 123,
   "id": "06085a20-7b01-47af-a9cb-26921e511ff9",
   "metadata": {},
   "outputs": [
    {
     "data": {
      "text/plain": [
       "'Monkey'"
      ]
     },
     "execution_count": 123,
     "metadata": {},
     "output_type": "execute_result"
    }
   ],
   "source": [
    "max(lst2)"
   ]
  },
  {
   "cell_type": "code",
   "execution_count": 124,
   "id": "5d1d2ac0-90f5-4bac-b943-fcb53a025b27",
   "metadata": {},
   "outputs": [
    {
     "data": {
      "text/plain": [
       "'Cat'"
      ]
     },
     "execution_count": 124,
     "metadata": {},
     "output_type": "execute_result"
    }
   ],
   "source": [
    "min(lst2)"
   ]
  },
  {
   "cell_type": "code",
   "execution_count": 125,
   "id": "d6ffd68a-070b-4efd-972a-8a78f1a3b1a7",
   "metadata": {},
   "outputs": [
    {
     "data": {
      "text/plain": [
       "1002"
      ]
     },
     "execution_count": 125,
     "metadata": {},
     "output_type": "execute_result"
    }
   ],
   "source": [
    "max(lst3)"
   ]
  },
  {
   "cell_type": "code",
   "execution_count": 126,
   "id": "9442fe92-b263-44db-8b8a-93df72375909",
   "metadata": {},
   "outputs": [
    {
     "data": {
      "text/plain": [
       "5"
      ]
     },
     "execution_count": 126,
     "metadata": {},
     "output_type": "execute_result"
    }
   ],
   "source": [
    "min(lst3)"
   ]
  },
  {
   "cell_type": "code",
   "execution_count": 128,
   "id": "750e175f-e565-4308-90a4-d5b66a263f25",
   "metadata": {},
   "outputs": [],
   "source": [
    "#Append Element is list\n",
    "lst1.append(\"Maratha\")"
   ]
  },
  {
   "cell_type": "code",
   "execution_count": 129,
   "id": "7d847db4-bc4e-46f0-9b81-cd9181e1e705",
   "metadata": {},
   "outputs": [
    {
     "data": {
      "text/plain": [
       "['My', 'name', 'is', 'Raj', 'Bhadane', 'Maratha']"
      ]
     },
     "execution_count": 129,
     "metadata": {},
     "output_type": "execute_result"
    }
   ],
   "source": [
    "lst1"
   ]
  },
  {
   "cell_type": "code",
   "execution_count": 133,
   "id": "d0879d0e-2712-4bbe-93fd-449338ceb09a",
   "metadata": {},
   "outputs": [
    {
     "data": {
      "text/plain": [
       "['Gaurav', 'Roshani', 'Bharati', 'Patilbhau', 'Maratha']"
      ]
     },
     "execution_count": 133,
     "metadata": {},
     "output_type": "execute_result"
    }
   ],
   "source": [
    "list1"
   ]
  },
  {
   "cell_type": "code",
   "execution_count": 134,
   "id": "4b530fc0-b58f-4ce1-882f-ab731b6e4864",
   "metadata": {},
   "outputs": [
    {
     "data": {
      "text/plain": [
       "'Maratha'"
      ]
     },
     "execution_count": 134,
     "metadata": {},
     "output_type": "execute_result"
    }
   ],
   "source": [
    "lst1.pop()"
   ]
  },
  {
   "cell_type": "code",
   "execution_count": 135,
   "id": "9c0fd70a-bea8-49b1-bf43-b99d22575b13",
   "metadata": {},
   "outputs": [
    {
     "data": {
      "text/plain": [
       "['My', 'name', 'is', 'Raj', 'Bhadane']"
      ]
     },
     "execution_count": 135,
     "metadata": {},
     "output_type": "execute_result"
    }
   ],
   "source": [
    "lst1"
   ]
  },
  {
   "cell_type": "code",
   "execution_count": 136,
   "id": "a15f1fd6-af4b-4a63-8fe0-46ae75df480c",
   "metadata": {},
   "outputs": [],
   "source": [
    "## Sorting & Reverse Methods in the list"
   ]
  },
  {
   "cell_type": "code",
   "execution_count": 137,
   "id": "6243ddd4-64fd-448b-8828-b9c51b5bf5de",
   "metadata": {},
   "outputs": [],
   "source": [
    "new_list=['q','e','f']"
   ]
  },
  {
   "cell_type": "code",
   "execution_count": 138,
   "id": "99681fe6-a3e1-44ea-a875-be03e69d7089",
   "metadata": {},
   "outputs": [],
   "source": [
    "new_list.reverse()"
   ]
  },
  {
   "cell_type": "code",
   "execution_count": 139,
   "id": "296621fd-e852-436b-a4f1-d84ed03404e9",
   "metadata": {},
   "outputs": [
    {
     "data": {
      "text/plain": [
       "['f', 'e', 'q']"
      ]
     },
     "execution_count": 139,
     "metadata": {},
     "output_type": "execute_result"
    }
   ],
   "source": [
    "new_list"
   ]
  },
  {
   "cell_type": "code",
   "execution_count": 143,
   "id": "cd81c8f1-9ecd-4f84-b74a-4f0ca7c38af0",
   "metadata": {},
   "outputs": [],
   "source": [
    "new_list.sort(reverse=True)  #descending"
   ]
  },
  {
   "cell_type": "code",
   "execution_count": 144,
   "id": "c0a353ab-48f3-4bf4-a367-3d2227537cb5",
   "metadata": {},
   "outputs": [
    {
     "data": {
      "text/plain": [
       "['q', 'f', 'e']"
      ]
     },
     "execution_count": 144,
     "metadata": {},
     "output_type": "execute_result"
    }
   ],
   "source": [
    "new_list"
   ]
  },
  {
   "cell_type": "code",
   "execution_count": 145,
   "id": "b4e662b8-53e5-4b4e-8a96-ab2f9ebee371",
   "metadata": {},
   "outputs": [],
   "source": [
    "new_list.sort() #ascending"
   ]
  },
  {
   "cell_type": "code",
   "execution_count": 146,
   "id": "1a19651a-ec81-4ff9-b403-be61cdabe319",
   "metadata": {},
   "outputs": [
    {
     "data": {
      "text/plain": [
       "['e', 'f', 'q']"
      ]
     },
     "execution_count": 146,
     "metadata": {},
     "output_type": "execute_result"
    }
   ],
   "source": [
    "new_list"
   ]
  },
  {
   "cell_type": "markdown",
   "id": "f7ec1f4b-4604-4f4c-a1d4-37bfe04706ca",
   "metadata": {},
   "source": [
    "### Nested List"
   ]
  },
  {
   "cell_type": "code",
   "execution_count": 147,
   "id": "fc95e2a0-55f0-43e4-9a4c-f3af6805d203",
   "metadata": {},
   "outputs": [],
   "source": [
    "lst1=[1,2,3]\n",
    "lst2=[4,5,6]\n",
    "lst3=[7,8,9]\n",
    "\n",
    "matrix=[lst1,lst2,lst3]"
   ]
  },
  {
   "cell_type": "code",
   "execution_count": 148,
   "id": "06b971df-069d-482e-a4f2-e692bb85150f",
   "metadata": {},
   "outputs": [
    {
     "data": {
      "text/plain": [
       "[[1, 2, 3], [4, 5, 6], [7, 8, 9]]"
      ]
     },
     "execution_count": 148,
     "metadata": {},
     "output_type": "execute_result"
    }
   ],
   "source": [
    "matrix"
   ]
  },
  {
   "cell_type": "code",
   "execution_count": 149,
   "id": "f943264b-ef27-4dc6-8b7d-c1c002a5996b",
   "metadata": {},
   "outputs": [
    {
     "data": {
      "text/plain": [
       "1"
      ]
     },
     "execution_count": 149,
     "metadata": {},
     "output_type": "execute_result"
    }
   ],
   "source": [
    "matrix[0][0]"
   ]
  },
  {
   "cell_type": "code",
   "execution_count": 150,
   "id": "08c86714-3ec4-4739-9bcb-56a692b846a6",
   "metadata": {},
   "outputs": [
    {
     "data": {
      "text/plain": [
       "2"
      ]
     },
     "execution_count": 150,
     "metadata": {},
     "output_type": "execute_result"
    }
   ],
   "source": [
    "matrix[0][1]"
   ]
  },
  {
   "cell_type": "code",
   "execution_count": 152,
   "id": "99023a43-78bd-4cca-887f-72379a87501f",
   "metadata": {},
   "outputs": [
    {
     "data": {
      "text/plain": [
       "5"
      ]
     },
     "execution_count": 152,
     "metadata": {},
     "output_type": "execute_result"
    }
   ],
   "source": [
    "matrix[1][1]"
   ]
  },
  {
   "cell_type": "code",
   "execution_count": 153,
   "id": "9e6220b1-9ebd-43d4-93e0-d2a9aff31fa9",
   "metadata": {},
   "outputs": [
    {
     "data": {
      "text/plain": [
       "8"
      ]
     },
     "execution_count": 153,
     "metadata": {},
     "output_type": "execute_result"
    }
   ],
   "source": [
    "matrix[2][1]"
   ]
  },
  {
   "cell_type": "code",
   "execution_count": 154,
   "id": "1276db8c-d479-49bc-aa07-919e92f6a5e3",
   "metadata": {},
   "outputs": [
    {
     "data": {
      "text/plain": [
       "9"
      ]
     },
     "execution_count": 154,
     "metadata": {},
     "output_type": "execute_result"
    }
   ],
   "source": [
    "matrix[2][2]"
   ]
  },
  {
   "cell_type": "code",
   "execution_count": 164,
   "id": "9dc09bc8-9647-4b0c-acfa-3f4afa9d61d7",
   "metadata": {},
   "outputs": [
    {
     "data": {
      "text/plain": [
       "[1, 2, 3]"
      ]
     },
     "execution_count": 164,
     "metadata": {},
     "output_type": "execute_result"
    }
   ],
   "source": [
    "matrix[0:][0]"
   ]
  },
  {
   "cell_type": "code",
   "execution_count": 165,
   "id": "1b3c609a-f2ac-461a-acfe-e4f307b4b489",
   "metadata": {},
   "outputs": [
    {
     "data": {
      "text/plain": [
       "[0, 1, 2, 3, 4, 5, 6, 7, 8, 9, 10, 11, 12, 13, 14, 15, 16, 17, 18, 19]"
      ]
     },
     "execution_count": 165,
     "metadata": {},
     "output_type": "execute_result"
    }
   ],
   "source": [
    "# List Comprehension\n",
    "\n",
    "[i for i in range(20)]"
   ]
  },
  {
   "cell_type": "code",
   "execution_count": 179,
   "id": "18136e6a-9cec-4712-9ea9-09b8ab711d78",
   "metadata": {},
   "outputs": [
    {
     "data": {
      "text/plain": [
       "[0,\n",
       " ' ',\n",
       " 2,\n",
       " ' ',\n",
       " 4,\n",
       " ' ',\n",
       " 6,\n",
       " ' ',\n",
       " 8,\n",
       " ' ',\n",
       " 10,\n",
       " ' ',\n",
       " 12,\n",
       " ' ',\n",
       " 14,\n",
       " ' ',\n",
       " 16,\n",
       " ' ',\n",
       " 18,\n",
       " ' ']"
      ]
     },
     "execution_count": 179,
     "metadata": {},
     "output_type": "execute_result"
    }
   ],
   "source": [
    "[i if i%2==0 else \" \" for i in range(20)]"
   ]
  },
  {
   "cell_type": "code",
   "execution_count": 183,
   "id": "91f7b887-4982-488e-bd32-4d949a4ce646",
   "metadata": {},
   "outputs": [],
   "source": [
    "lst=[1,2,3,4,5,6,7,8]\n",
    "even=0\n",
    "odd=0\n",
    "for i in lst:\n",
    "    if i%2==0:\n",
    "        even+=i\n",
    "    else:\n",
    "        odd+=i"
   ]
  },
  {
   "cell_type": "code",
   "execution_count": 184,
   "id": "ef139e06-b6b6-4f9e-98fb-fd34ff31fd45",
   "metadata": {},
   "outputs": [
    {
     "data": {
      "text/plain": [
       "20"
      ]
     },
     "execution_count": 184,
     "metadata": {},
     "output_type": "execute_result"
    }
   ],
   "source": [
    "even"
   ]
  },
  {
   "cell_type": "code",
   "execution_count": 185,
   "id": "86918891-7100-4328-b663-361f7b87facb",
   "metadata": {},
   "outputs": [
    {
     "data": {
      "text/plain": [
       "16"
      ]
     },
     "execution_count": 185,
     "metadata": {},
     "output_type": "execute_result"
    }
   ],
   "source": [
    "odd"
   ]
  },
  {
   "cell_type": "code",
   "execution_count": 186,
   "id": "3a9872fc-d2e8-4f95-8a71-29d3aa937d86",
   "metadata": {},
   "outputs": [
    {
     "data": {
      "text/plain": [
       "[1, 4, 9, 16, 25, 36, 49, 64]"
      ]
     },
     "execution_count": 186,
     "metadata": {},
     "output_type": "execute_result"
    }
   ],
   "source": [
    "[i**2 for i in lst]"
   ]
  },
  {
   "cell_type": "code",
   "execution_count": 190,
   "id": "639daea2-d691-4360-88eb-eb6e7a3b6330",
   "metadata": {},
   "outputs": [
    {
     "data": {
      "text/plain": [
       "[1, 2, 3, 4]"
      ]
     },
     "execution_count": 190,
     "metadata": {},
     "output_type": "execute_result"
    }
   ],
   "source": [
    "numbers=[-2,-1,0,1,2,3,4]\n",
    "[i for i in numbers if i>0]"
   ]
  },
  {
   "cell_type": "code",
   "execution_count": 191,
   "id": "f649d7a4-3db8-44f2-b1c3-f645190aa620",
   "metadata": {},
   "outputs": [
    {
     "data": {
      "text/plain": [
       "[1, 2, 3, 4, 5, 6, 7, 8, 9]"
      ]
     },
     "execution_count": 191,
     "metadata": {},
     "output_type": "execute_result"
    }
   ],
   "source": [
    "lists= [[1,2,3],[4,5,6],[7,8,9]]\n",
    "[i for sublist in lists for i in sublist]"
   ]
  },
  {
   "cell_type": "code",
   "execution_count": 193,
   "id": "c9944e27-f4fa-40b7-93cf-2e6139f3f754",
   "metadata": {},
   "outputs": [
    {
     "data": {
      "text/plain": [
       "[1, 2, 3, 4, 5, 6, 7, 8, 9, 10]"
      ]
     },
     "execution_count": 193,
     "metadata": {},
     "output_type": "execute_result"
    }
   ],
   "source": [
    "lst +[9,10]"
   ]
  },
  {
   "cell_type": "code",
   "execution_count": 194,
   "id": "f98fb709-42aa-4a54-8f31-0227ff15294f",
   "metadata": {},
   "outputs": [
    {
     "data": {
      "text/plain": [
       "[1, 2, 3, 4, 5, 6, 7, 8]"
      ]
     },
     "execution_count": 194,
     "metadata": {},
     "output_type": "execute_result"
    }
   ],
   "source": [
    "lst"
   ]
  },
  {
   "cell_type": "code",
   "execution_count": 196,
   "id": "dd580a45-6f46-4da8-a16f-e612ba6d1ded",
   "metadata": {},
   "outputs": [],
   "source": [
    "lst.append(9)"
   ]
  },
  {
   "cell_type": "code",
   "execution_count": 197,
   "id": "6748d144-6561-42bf-8e6d-b4fd2d32a0ae",
   "metadata": {},
   "outputs": [],
   "source": [
    "lst.append(10)"
   ]
  },
  {
   "cell_type": "code",
   "execution_count": 198,
   "id": "37897088-369c-4fe1-b9ef-0d3afbdcd9a9",
   "metadata": {},
   "outputs": [
    {
     "data": {
      "text/plain": [
       "[1, 2, 3, 4, 5, 6, 7, 8, 9, 9, 10]"
      ]
     },
     "execution_count": 198,
     "metadata": {},
     "output_type": "execute_result"
    }
   ],
   "source": [
    "lst\n"
   ]
  },
  {
   "cell_type": "code",
   "execution_count": 202,
   "id": "0b1cb76e-0e1a-442e-9b65-53d8fa9c581a",
   "metadata": {},
   "outputs": [],
   "source": [
    "def is_prime(n):\n",
    "    if n<=1:\n",
    "        return False\n",
    "    for i in range(2,int(n**0.5)+1):\n",
    "        if n%i==0:\n",
    "            return False\n",
    "    return True"
   ]
  },
  {
   "cell_type": "code",
   "execution_count": 203,
   "id": "88bae307-39ee-4723-9c2e-8b8c5a351c1b",
   "metadata": {},
   "outputs": [
    {
     "data": {
      "text/plain": [
       "[2, 3, 5, 7]"
      ]
     },
     "execution_count": 203,
     "metadata": {},
     "output_type": "execute_result"
    }
   ],
   "source": [
    "[i for i in lst if is_prime(i)]"
   ]
  },
  {
   "cell_type": "code",
   "execution_count": 204,
   "id": "8fdca181-eecd-4d81-8a38-dee9e6c4ee3f",
   "metadata": {},
   "outputs": [
    {
     "data": {
      "text/plain": [
       "[1, 2, 3, 4, 5, 6, 7, 8, 9, 9, 10]"
      ]
     },
     "execution_count": 204,
     "metadata": {},
     "output_type": "execute_result"
    }
   ],
   "source": [
    "# Possible Combinations of 2 Elements from a list\n",
    "lst"
   ]
  },
  {
   "cell_type": "code",
   "execution_count": 211,
   "id": "dec0d0d5-58d1-4c1b-86d7-ee5dac1b24dd",
   "metadata": {},
   "outputs": [
    {
     "data": {
      "text/plain": [
       "[1, 2, 3, 4, 5, 6, 7, 8, 9, 9, 10]"
      ]
     },
     "execution_count": 211,
     "metadata": {},
     "output_type": "execute_result"
    }
   ],
   "source": [
    "[i for i in lst]"
   ]
  },
  {
   "cell_type": "code",
   "execution_count": 214,
   "id": "2bcccfe4-a456-499d-aef5-65ef370c46ef",
   "metadata": {},
   "outputs": [],
   "source": [
    "list5=[]\n",
    "for i in range (len(lst)):\n",
    "    for j in range(i+1,len(lst)):\n",
    "        list5.append((lst[i],lst[j]))"
   ]
  },
  {
   "cell_type": "code",
   "execution_count": 215,
   "id": "8c105deb-9260-49d8-89a5-219adf97a15f",
   "metadata": {},
   "outputs": [
    {
     "data": {
      "text/plain": [
       "[(1, 2),\n",
       " (1, 3),\n",
       " (1, 4),\n",
       " (1, 5),\n",
       " (1, 6),\n",
       " (1, 7),\n",
       " (1, 8),\n",
       " (1, 9),\n",
       " (1, 9),\n",
       " (1, 10),\n",
       " (2, 3),\n",
       " (2, 4),\n",
       " (2, 5),\n",
       " (2, 6),\n",
       " (2, 7),\n",
       " (2, 8),\n",
       " (2, 9),\n",
       " (2, 9),\n",
       " (2, 10),\n",
       " (3, 4),\n",
       " (3, 5),\n",
       " (3, 6),\n",
       " (3, 7),\n",
       " (3, 8),\n",
       " (3, 9),\n",
       " (3, 9),\n",
       " (3, 10),\n",
       " (4, 5),\n",
       " (4, 6),\n",
       " (4, 7),\n",
       " (4, 8),\n",
       " (4, 9),\n",
       " (4, 9),\n",
       " (4, 10),\n",
       " (5, 6),\n",
       " (5, 7),\n",
       " (5, 8),\n",
       " (5, 9),\n",
       " (5, 9),\n",
       " (5, 10),\n",
       " (6, 7),\n",
       " (6, 8),\n",
       " (6, 9),\n",
       " (6, 9),\n",
       " (6, 10),\n",
       " (7, 8),\n",
       " (7, 9),\n",
       " (7, 9),\n",
       " (7, 10),\n",
       " (8, 9),\n",
       " (8, 9),\n",
       " (8, 10),\n",
       " (9, 9),\n",
       " (9, 10),\n",
       " (9, 10)]"
      ]
     },
     "execution_count": 215,
     "metadata": {},
     "output_type": "execute_result"
    }
   ],
   "source": [
    "list5"
   ]
  },
  {
   "cell_type": "code",
   "execution_count": null,
   "id": "c9a41df0-67c8-44a8-88d1-ac935982f257",
   "metadata": {},
   "outputs": [],
   "source": []
  }
 ],
 "metadata": {
  "kernelspec": {
   "display_name": "Python 3 (ipykernel)",
   "language": "python",
   "name": "python3"
  },
  "language_info": {
   "codemirror_mode": {
    "name": "ipython",
    "version": 3
   },
   "file_extension": ".py",
   "mimetype": "text/x-python",
   "name": "python",
   "nbconvert_exporter": "python",
   "pygments_lexer": "ipython3",
   "version": "3.11.5"
  }
 },
 "nbformat": 4,
 "nbformat_minor": 5
}
