{
 "cells": [
  {
   "cell_type": "markdown",
   "id": "5d052b77-a914-4691-aef5-4c2024876a33",
   "metadata": {},
   "source": [
    "### Decorator"
   ]
  },
  {
   "cell_type": "code",
   "execution_count": 1,
   "id": "1ce167f8-06dc-417d-9e9a-b16db3bc787a",
   "metadata": {},
   "outputs": [],
   "source": [
    "def test():\n",
    "    print(\"This is Start of my Function\")\n",
    "    print(4+5)\n",
    "    print(\"This is end of my Function\")"
   ]
  },
  {
   "cell_type": "code",
   "execution_count": 2,
   "id": "71b8799d-6706-4006-8e8e-fef9ae85e8f1",
   "metadata": {},
   "outputs": [
    {
     "name": "stdout",
     "output_type": "stream",
     "text": [
      "This is Start of my Function\n",
      "9\n",
      "This is end of my Function\n"
     ]
    }
   ],
   "source": [
    "test()"
   ]
  },
  {
   "cell_type": "code",
   "execution_count": 3,
   "id": "af2d68a1-194d-4cb8-a478-d7c490fd39aa",
   "metadata": {},
   "outputs": [],
   "source": [
    "def deco(fun):\n",
    "    def inner_deco():\n",
    "        print(\"This is Start of my Function\")\n",
    "        fun()\n",
    "        print(\"This is end of my Function\")\n",
    "    return inner_deco"
   ]
  },
  {
   "cell_type": "code",
   "execution_count": 4,
   "id": "6259b806-c8e2-4481-a7a5-1fd58f4a5819",
   "metadata": {},
   "outputs": [],
   "source": [
    "@deco\n",
    "def test2():\n",
    "    print(4+5)"
   ]
  },
  {
   "cell_type": "code",
   "execution_count": 5,
   "id": "6da037bf-d30a-4c56-95e4-280d2e47ca9b",
   "metadata": {},
   "outputs": [
    {
     "name": "stdout",
     "output_type": "stream",
     "text": [
      "This is Start of my Function\n",
      "9\n",
      "This is end of my Function\n"
     ]
    }
   ],
   "source": [
    "test2()"
   ]
  },
  {
   "cell_type": "code",
   "execution_count": 6,
   "id": "5af0e7d0-a269-4771-88d7-566fd12b6699",
   "metadata": {},
   "outputs": [],
   "source": [
    "@deco\n",
    "def test3():\n",
    "    print(\"My name is Gaurav Bhadane\")"
   ]
  },
  {
   "cell_type": "code",
   "execution_count": 7,
   "id": "0e92f9e3-b68b-4683-96bd-a32d036b3fe1",
   "metadata": {},
   "outputs": [
    {
     "name": "stdout",
     "output_type": "stream",
     "text": [
      "This is Start of my Function\n",
      "My name is Gaurav Bhadane\n",
      "This is end of my Function\n"
     ]
    }
   ],
   "source": [
    "test3()"
   ]
  },
  {
   "cell_type": "code",
   "execution_count": 8,
   "id": "35518420-9d9e-4e80-a53c-59c096aec960",
   "metadata": {},
   "outputs": [],
   "source": [
    "import time\n",
    "def timer_test(fun):\n",
    "    def inner_timer():\n",
    "        start=time.time()\n",
    "        fun()\n",
    "        end=time.time()\n",
    "        print(end-start)\n",
    "    return inner_timer"
   ]
  },
  {
   "cell_type": "code",
   "execution_count": 9,
   "id": "6c3159f0-5370-43dc-9ace-7d6522a38f7e",
   "metadata": {},
   "outputs": [],
   "source": [
    "@timer_test\n",
    "def test4():\n",
    "    print(458+658)"
   ]
  },
  {
   "cell_type": "code",
   "execution_count": 10,
   "id": "7ec86692-47ee-41dd-8257-ee5ec590c265",
   "metadata": {},
   "outputs": [
    {
     "name": "stdout",
     "output_type": "stream",
     "text": [
      "1116\n",
      "0.0\n"
     ]
    }
   ],
   "source": [
    "test4()"
   ]
  },
  {
   "cell_type": "code",
   "execution_count": 11,
   "id": "1988df6c-fa57-4e81-a206-31b71d67de47",
   "metadata": {},
   "outputs": [],
   "source": [
    "@timer_test\n",
    "def test5():\n",
    "    for i in range(100000):\n",
    "        pass"
   ]
  },
  {
   "cell_type": "code",
   "execution_count": 12,
   "id": "b9b1338e-0f01-4697-b8f8-c391dc8fdec2",
   "metadata": {},
   "outputs": [
    {
     "name": "stdout",
     "output_type": "stream",
     "text": [
      "0.0015132427215576172\n"
     ]
    }
   ],
   "source": [
    "test5()"
   ]
  }
 ],
 "metadata": {
  "kernelspec": {
   "display_name": "Python 3 (ipykernel)",
   "language": "python",
   "name": "python3"
  },
  "language_info": {
   "codemirror_mode": {
    "name": "ipython",
    "version": 3
   },
   "file_extension": ".py",
   "mimetype": "text/x-python",
   "name": "python",
   "nbconvert_exporter": "python",
   "pygments_lexer": "ipython3",
   "version": "3.11.5"
  }
 },
 "nbformat": 4,
 "nbformat_minor": 5
}
