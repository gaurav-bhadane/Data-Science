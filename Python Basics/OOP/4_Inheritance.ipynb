{
 "cells": [
  {
   "cell_type": "markdown",
   "id": "cf20876d-4542-4062-8099-f1e218b56c91",
   "metadata": {},
   "source": [
    "### Inheritance: Acquiring the properties of Parent Class by Child Class"
   ]
  },
  {
   "cell_type": "code",
   "execution_count": 1,
   "id": "9d91f1ae-5d8c-4cd3-96f5-8f35fbfe94e3",
   "metadata": {},
   "outputs": [],
   "source": [
    "class parent:\n",
    "    def test_parent(self):\n",
    "        print(\"This is my Parent Class\")"
   ]
  },
  {
   "cell_type": "code",
   "execution_count": 3,
   "id": "3027cd15-5d66-4a08-82bd-8551cf72ba04",
   "metadata": {},
   "outputs": [],
   "source": [
    "class child(parent):\n",
    "    pass"
   ]
  },
  {
   "cell_type": "code",
   "execution_count": 4,
   "id": "74bb5d01-cb1e-4519-9a72-df914a2958a0",
   "metadata": {},
   "outputs": [],
   "source": [
    "child_obj=child()"
   ]
  },
  {
   "cell_type": "code",
   "execution_count": 6,
   "id": "d0d65650-9949-4691-8657-88204e2584cd",
   "metadata": {},
   "outputs": [
    {
     "name": "stdout",
     "output_type": "stream",
     "text": [
      "This is my Parent Class\n"
     ]
    }
   ],
   "source": [
    "child_obj.test_parent() #Properties of Parent class inherited by Child class"
   ]
  },
  {
   "cell_type": "code",
   "execution_count": null,
   "id": "6f255ce8-e867-4a90-9314-2ab59524a840",
   "metadata": {},
   "outputs": [],
   "source": []
  },
  {
   "cell_type": "markdown",
   "id": "85c54c41-73bc-4d5d-93d8-45939a9b07e8",
   "metadata": {},
   "source": [
    "### There are 2 types of Inheritance:\n",
    "1. Multiple   class1 -> class2 -> class3\n",
    "2. Multilevel   class1 -> class3 <-- class2"
   ]
  },
  {
   "cell_type": "markdown",
   "id": "a386aa4b-dd12-4a96-9521-41e2a3ef3aab",
   "metadata": {},
   "source": [
    "1. Multilevel Inheritance"
   ]
  },
  {
   "cell_type": "code",
   "execution_count": 8,
   "id": "5070429a-feed-4de6-86e4-0c81ef60f453",
   "metadata": {},
   "outputs": [],
   "source": [
    "class class1:\n",
    "    def test_class(self):\n",
    "        print(\"This is my class1\")"
   ]
  },
  {
   "cell_type": "code",
   "execution_count": 9,
   "id": "d6f9c3e4-1203-49b3-9785-74b05d7d5bc1",
   "metadata": {},
   "outputs": [],
   "source": [
    "class class2(class1):\n",
    "    def test_class2(self):\n",
    "        print(\"This is my class2\")"
   ]
  },
  {
   "cell_type": "code",
   "execution_count": 10,
   "id": "72dcff72-b854-4591-acc2-a35273a98675",
   "metadata": {},
   "outputs": [],
   "source": [
    "class class3(class2):\n",
    "    def test_class3(self):\n",
    "        print(\"This is my class3\")"
   ]
  },
  {
   "cell_type": "code",
   "execution_count": 22,
   "id": "e6d0271f-bbf3-4391-bef3-0d8efc0036ac",
   "metadata": {},
   "outputs": [],
   "source": [
    "class3_obj=class3()"
   ]
  },
  {
   "cell_type": "code",
   "execution_count": 23,
   "id": "ed214dae-747b-422a-8eec-3680e42e8008",
   "metadata": {},
   "outputs": [
    {
     "name": "stdout",
     "output_type": "stream",
     "text": [
      "This is my class1\n"
     ]
    }
   ],
   "source": [
    "class3_obj.test_class()"
   ]
  },
  {
   "cell_type": "code",
   "execution_count": 24,
   "id": "e122c1e5-3122-43ca-a8d9-b6655c5c398f",
   "metadata": {},
   "outputs": [
    {
     "name": "stdout",
     "output_type": "stream",
     "text": [
      "This is my class2\n"
     ]
    }
   ],
   "source": [
    "class3_obj.test_class2()"
   ]
  },
  {
   "cell_type": "code",
   "execution_count": 25,
   "id": "879dd101-e360-44ba-ae30-f184fc37c262",
   "metadata": {},
   "outputs": [
    {
     "name": "stdout",
     "output_type": "stream",
     "text": [
      "This is my class3\n"
     ]
    }
   ],
   "source": [
    "class3_obj.test_class3()"
   ]
  },
  {
   "cell_type": "code",
   "execution_count": 26,
   "id": "d7d0db69-3ad9-459c-8de7-82be8335b479",
   "metadata": {},
   "outputs": [],
   "source": [
    "class2_obj=class2()"
   ]
  },
  {
   "cell_type": "code",
   "execution_count": 27,
   "id": "03e6be3e-30df-419f-941c-5383c32056ab",
   "metadata": {},
   "outputs": [
    {
     "name": "stdout",
     "output_type": "stream",
     "text": [
      "This is my class1\n"
     ]
    }
   ],
   "source": [
    "class2_obj.test_class()"
   ]
  },
  {
   "cell_type": "code",
   "execution_count": 28,
   "id": "8e20cbeb-4adc-49ce-85ae-148be6a7b66f",
   "metadata": {},
   "outputs": [
    {
     "name": "stdout",
     "output_type": "stream",
     "text": [
      "This is my class2\n"
     ]
    }
   ],
   "source": [
    "class2_obj.test_class2()"
   ]
  },
  {
   "cell_type": "code",
   "execution_count": 20,
   "id": "6c23d17b-8bd6-46b7-8f34-1a1522bf53b0",
   "metadata": {},
   "outputs": [],
   "source": [
    "class1_obj=class1()"
   ]
  },
  {
   "cell_type": "code",
   "execution_count": 29,
   "id": "a51693d2-203e-4a05-9466-d69a3d333071",
   "metadata": {},
   "outputs": [
    {
     "name": "stdout",
     "output_type": "stream",
     "text": [
      "This is my class1\n"
     ]
    }
   ],
   "source": [
    "class1_obj.test_class()"
   ]
  },
  {
   "cell_type": "markdown",
   "id": "2f398b19-1f33-4294-95bb-898180314d52",
   "metadata": {},
   "source": [
    "2. Multiple Inheritance"
   ]
  },
  {
   "cell_type": "code",
   "execution_count": 30,
   "id": "2586d862-18ba-49ba-acc0-a44635bd5dab",
   "metadata": {},
   "outputs": [],
   "source": [
    "class base1:\n",
    "    def base1_test(self):\n",
    "        print(\"This is my Base 1\")"
   ]
  },
  {
   "cell_type": "code",
   "execution_count": 31,
   "id": "ce258f04-0394-47d6-bac8-69c539402af0",
   "metadata": {},
   "outputs": [],
   "source": [
    "class base2:\n",
    "    def base2_test(self):\n",
    "        print(\"This is my Base 2\")"
   ]
  },
  {
   "cell_type": "code",
   "execution_count": 35,
   "id": "f76be7c9-4931-48b4-b6c2-bd56123fd2ec",
   "metadata": {},
   "outputs": [],
   "source": [
    "class child(base1,base2):\n",
    "    def child_test(self):\n",
    "        print(\"This is my Child\")"
   ]
  },
  {
   "cell_type": "code",
   "execution_count": 36,
   "id": "23c597b9-fe39-4948-bfe3-9ab0251cf298",
   "metadata": {},
   "outputs": [],
   "source": [
    "obj_base1=base1()"
   ]
  },
  {
   "cell_type": "code",
   "execution_count": 37,
   "id": "ec60f9ef-8318-4ab9-9597-09817d36c261",
   "metadata": {},
   "outputs": [],
   "source": [
    "obj_base2=base2()"
   ]
  },
  {
   "cell_type": "code",
   "execution_count": 38,
   "id": "147f7511-9d06-4ab8-b2d5-bd6d6c14a5c0",
   "metadata": {},
   "outputs": [],
   "source": [
    "obj_child=child()"
   ]
  },
  {
   "cell_type": "code",
   "execution_count": 39,
   "id": "a2eb44ce-631e-4d27-88ef-d074ee81c50a",
   "metadata": {},
   "outputs": [
    {
     "name": "stdout",
     "output_type": "stream",
     "text": [
      "This is my Base 1\n"
     ]
    }
   ],
   "source": [
    "obj_base1.base1_test()"
   ]
  },
  {
   "cell_type": "code",
   "execution_count": 40,
   "id": "4232ad63-02bf-434e-9039-ecb8f16010c1",
   "metadata": {},
   "outputs": [
    {
     "name": "stdout",
     "output_type": "stream",
     "text": [
      "This is my Base 2\n"
     ]
    }
   ],
   "source": [
    "obj_base2.base2_test()"
   ]
  },
  {
   "cell_type": "code",
   "execution_count": 41,
   "id": "52c90edf-109e-4057-8217-d057b9a3338c",
   "metadata": {},
   "outputs": [
    {
     "name": "stdout",
     "output_type": "stream",
     "text": [
      "This is my Base 1\n"
     ]
    }
   ],
   "source": [
    "obj_child.base1_test()"
   ]
  },
  {
   "cell_type": "code",
   "execution_count": 42,
   "id": "4af2e1f3-8709-47f9-9f40-711e7fde4050",
   "metadata": {},
   "outputs": [
    {
     "name": "stdout",
     "output_type": "stream",
     "text": [
      "This is my Base 2\n"
     ]
    }
   ],
   "source": [
    "obj_child.base2_test()"
   ]
  },
  {
   "cell_type": "code",
   "execution_count": 43,
   "id": "1d04b961-9e38-47e6-8aab-7e38dde91aa1",
   "metadata": {},
   "outputs": [
    {
     "name": "stdout",
     "output_type": "stream",
     "text": [
      "This is my Child\n"
     ]
    }
   ],
   "source": [
    "obj_child.child_test()"
   ]
  }
 ],
 "metadata": {
  "kernelspec": {
   "display_name": "Python 3 (ipykernel)",
   "language": "python",
   "name": "python3"
  },
  "language_info": {
   "codemirror_mode": {
    "name": "ipython",
    "version": 3
   },
   "file_extension": ".py",
   "mimetype": "text/x-python",
   "name": "python",
   "nbconvert_exporter": "python",
   "pygments_lexer": "ipython3",
   "version": "3.11.5"
  }
 },
 "nbformat": 4,
 "nbformat_minor": 5
}
