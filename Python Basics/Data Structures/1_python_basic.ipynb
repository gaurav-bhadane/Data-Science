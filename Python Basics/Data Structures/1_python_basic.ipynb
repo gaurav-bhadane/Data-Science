{
 "cells": [
  {
   "cell_type": "code",
   "execution_count": 1,
   "id": "a0c2e589-4152-4c82-88de-1a5ac22f215c",
   "metadata": {},
   "outputs": [
    {
     "name": "stdout",
     "output_type": "stream",
     "text": [
      "Hello Welcome to the World of Data Science\n"
     ]
    }
   ],
   "source": [
    "print(\"Hello Welcome to the World of Data Science\")"
   ]
  },
  {
   "cell_type": "code",
   "execution_count": 2,
   "id": "8a59649c-eb15-4900-af63-246be48f6d25",
   "metadata": {},
   "outputs": [],
   "source": [
    "a=10"
   ]
  },
  {
   "cell_type": "code",
   "execution_count": 3,
   "id": "1e021528-3191-41c8-89f6-8e2cb1ad69db",
   "metadata": {},
   "outputs": [
    {
     "data": {
      "text/plain": [
       "10"
      ]
     },
     "execution_count": 3,
     "metadata": {},
     "output_type": "execute_result"
    }
   ],
   "source": [
    "a"
   ]
  },
  {
   "cell_type": "code",
   "execution_count": 5,
   "id": "2f8b0658-af18-4f9a-924b-1ac11d59a318",
   "metadata": {},
   "outputs": [
    {
     "data": {
      "text/plain": [
       "int"
      ]
     },
     "execution_count": 5,
     "metadata": {},
     "output_type": "execute_result"
    }
   ],
   "source": [
    "type(a)"
   ]
  },
  {
   "cell_type": "code",
   "execution_count": 6,
   "id": "d64e7358-9781-4763-8995-3827d06ee283",
   "metadata": {},
   "outputs": [],
   "source": [
    "b=12.74"
   ]
  },
  {
   "cell_type": "code",
   "execution_count": 7,
   "id": "fd3c88c8-b9fa-4ef5-ae4f-930ddf9ffe80",
   "metadata": {},
   "outputs": [
    {
     "data": {
      "text/plain": [
       "12.74"
      ]
     },
     "execution_count": 7,
     "metadata": {},
     "output_type": "execute_result"
    }
   ],
   "source": [
    "b"
   ]
  },
  {
   "cell_type": "code",
   "execution_count": 8,
   "id": "652a402a-7010-4a14-8f4c-1863fc8dbd30",
   "metadata": {},
   "outputs": [
    {
     "data": {
      "text/plain": [
       "float"
      ]
     },
     "execution_count": 8,
     "metadata": {},
     "output_type": "execute_result"
    }
   ],
   "source": [
    "type(b)"
   ]
  },
  {
   "cell_type": "code",
   "execution_count": 9,
   "id": "77df2ace-77c1-4d5f-afa7-3c73d59950f1",
   "metadata": {},
   "outputs": [],
   "source": [
    "name=\"Gaurav\""
   ]
  },
  {
   "cell_type": "code",
   "execution_count": 10,
   "id": "495585ae-ee3d-4fb2-b5e4-91157e463b44",
   "metadata": {},
   "outputs": [
    {
     "data": {
      "text/plain": [
       "'Gaurav'"
      ]
     },
     "execution_count": 10,
     "metadata": {},
     "output_type": "execute_result"
    }
   ],
   "source": [
    "name"
   ]
  },
  {
   "cell_type": "code",
   "execution_count": 11,
   "id": "09aa69b2-2090-4d05-9c45-038f94c0d9e4",
   "metadata": {},
   "outputs": [
    {
     "data": {
      "text/plain": [
       "str"
      ]
     },
     "execution_count": 11,
     "metadata": {},
     "output_type": "execute_result"
    }
   ],
   "source": [
    "type(name)"
   ]
  },
  {
   "cell_type": "code",
   "execution_count": 12,
   "id": "364d943f-6606-4c5d-b924-92ff9e8b6ca8",
   "metadata": {},
   "outputs": [],
   "source": [
    "d=True"
   ]
  },
  {
   "cell_type": "code",
   "execution_count": 13,
   "id": "76d17807-3036-4308-9e23-80f2bc67f83a",
   "metadata": {},
   "outputs": [
    {
     "data": {
      "text/plain": [
       "bool"
      ]
     },
     "execution_count": 13,
     "metadata": {},
     "output_type": "execute_result"
    }
   ],
   "source": [
    "type(d)"
   ]
  },
  {
   "cell_type": "code",
   "execution_count": 14,
   "id": "15e51add-d962-4f05-a267-8002e316d145",
   "metadata": {},
   "outputs": [],
   "source": [
    "d2=False"
   ]
  },
  {
   "cell_type": "code",
   "execution_count": 15,
   "id": "b1ef4841-c8d9-4f01-8590-e3772a868c00",
   "metadata": {},
   "outputs": [
    {
     "data": {
      "text/plain": [
       "bool"
      ]
     },
     "execution_count": 15,
     "metadata": {},
     "output_type": "execute_result"
    }
   ],
   "source": [
    "type(d2)"
   ]
  },
  {
   "cell_type": "code",
   "execution_count": 16,
   "id": "8c9fe7b5-1ed1-4820-b369-3ca3fae9e1d9",
   "metadata": {},
   "outputs": [
    {
     "data": {
      "text/plain": [
       "1"
      ]
     },
     "execution_count": 16,
     "metadata": {},
     "output_type": "execute_result"
    }
   ],
   "source": [
    "True - False"
   ]
  },
  {
   "cell_type": "code",
   "execution_count": 17,
   "id": "9c1c9b22-bfa1-48d1-84ea-92c5b59c2754",
   "metadata": {},
   "outputs": [
    {
     "data": {
      "text/plain": [
       "-1"
      ]
     },
     "execution_count": 17,
     "metadata": {},
     "output_type": "execute_result"
    }
   ],
   "source": [
    "False - True"
   ]
  },
  {
   "cell_type": "code",
   "execution_count": 18,
   "id": "871426b8-5087-4344-add3-b3553e5f0ddb",
   "metadata": {},
   "outputs": [
    {
     "data": {
      "text/plain": [
       "False"
      ]
     },
     "execution_count": 18,
     "metadata": {},
     "output_type": "execute_result"
    }
   ],
   "source": [
    "False"
   ]
  },
  {
   "cell_type": "code",
   "execution_count": 19,
   "id": "f4a70cf4-f2a7-44c2-8334-bf6d9a5be7e7",
   "metadata": {},
   "outputs": [
    {
     "data": {
      "text/plain": [
       "1"
      ]
     },
     "execution_count": 19,
     "metadata": {},
     "output_type": "execute_result"
    }
   ],
   "source": [
    "d-d2"
   ]
  },
  {
   "cell_type": "code",
   "execution_count": 20,
   "id": "80151594-23d8-4c01-8c37-8e301ae56019",
   "metadata": {},
   "outputs": [
    {
     "data": {
      "text/plain": [
       "1"
      ]
     },
     "execution_count": 20,
     "metadata": {},
     "output_type": "execute_result"
    }
   ],
   "source": [
    "True+False"
   ]
  },
  {
   "cell_type": "code",
   "execution_count": 21,
   "id": "d057f78d-b1ef-4964-be20-f80ef1a4cd26",
   "metadata": {},
   "outputs": [
    {
     "data": {
      "text/plain": [
       "0"
      ]
     },
     "execution_count": 21,
     "metadata": {},
     "output_type": "execute_result"
    }
   ],
   "source": [
    "True*False"
   ]
  },
  {
   "cell_type": "code",
   "execution_count": 22,
   "id": "c8351de6-253a-402a-a227-c6de3eb43421",
   "metadata": {},
   "outputs": [
    {
     "data": {
      "text/plain": [
       "0.0"
      ]
     },
     "execution_count": 22,
     "metadata": {},
     "output_type": "execute_result"
    }
   ],
   "source": [
    "False/True"
   ]
  },
  {
   "cell_type": "code",
   "execution_count": 24,
   "id": "3eefd855-e55e-472f-816e-fd6aebb4b6fc",
   "metadata": {},
   "outputs": [
    {
     "data": {
      "text/plain": [
       "0"
      ]
     },
     "execution_count": 24,
     "metadata": {},
     "output_type": "execute_result"
    }
   ],
   "source": [
    "True-True"
   ]
  },
  {
   "cell_type": "code",
   "execution_count": 25,
   "id": "4a479ac4-672e-4fbe-9c45-fe83c60a2f0e",
   "metadata": {},
   "outputs": [],
   "source": [
    "e=4+7j"
   ]
  },
  {
   "cell_type": "code",
   "execution_count": 26,
   "id": "141a8f68-3e9c-43c7-b94a-4922fafbbed9",
   "metadata": {},
   "outputs": [
    {
     "data": {
      "text/plain": [
       "complex"
      ]
     },
     "execution_count": 26,
     "metadata": {},
     "output_type": "execute_result"
    }
   ],
   "source": [
    "type(e)"
   ]
  },
  {
   "cell_type": "code",
   "execution_count": 27,
   "id": "6ac9c8b5-5ee5-45e5-949e-5486edd6784a",
   "metadata": {},
   "outputs": [
    {
     "data": {
      "text/plain": [
       "(4+7j)"
      ]
     },
     "execution_count": 27,
     "metadata": {},
     "output_type": "execute_result"
    }
   ],
   "source": [
    "e"
   ]
  },
  {
   "cell_type": "code",
   "execution_count": 28,
   "id": "94814e20-13a1-47a0-983c-aeac373de387",
   "metadata": {},
   "outputs": [
    {
     "data": {
      "text/plain": [
       "4.0"
      ]
     },
     "execution_count": 28,
     "metadata": {},
     "output_type": "execute_result"
    }
   ],
   "source": [
    "e.real"
   ]
  },
  {
   "cell_type": "code",
   "execution_count": 30,
   "id": "0a9b813b-a087-4b00-b5f3-05bb7106e071",
   "metadata": {},
   "outputs": [
    {
     "data": {
      "text/plain": [
       "7.0"
      ]
     },
     "execution_count": 30,
     "metadata": {},
     "output_type": "execute_result"
    }
   ],
   "source": [
    "e.imag"
   ]
  },
  {
   "cell_type": "code",
   "execution_count": 31,
   "id": "58f1c22e-51ce-411d-9d33-397d673729b7",
   "metadata": {},
   "outputs": [
    {
     "data": {
      "text/plain": [
       "<function complex.conjugate()>"
      ]
     },
     "execution_count": 31,
     "metadata": {},
     "output_type": "execute_result"
    }
   ],
   "source": [
    "e.conjugate"
   ]
  },
  {
   "cell_type": "code",
   "execution_count": 38,
   "id": "a7b95ffe-92c9-436f-be01-84a71f9e3646",
   "metadata": {},
   "outputs": [],
   "source": [
    "name=\"Gaurav\""
   ]
  },
  {
   "cell_type": "code",
   "execution_count": 32,
   "id": "106539d7-91b6-41d9-a98b-40e6d7da4724",
   "metadata": {},
   "outputs": [],
   "source": [
    "a=23"
   ]
  },
  {
   "cell_type": "code",
   "execution_count": 39,
   "id": "a45b7384-aa8a-4274-b398-6f6b575bf1ba",
   "metadata": {},
   "outputs": [
    {
     "data": {
      "text/plain": [
       "'Gaurav23'"
      ]
     },
     "execution_count": 39,
     "metadata": {},
     "output_type": "execute_result"
    }
   ],
   "source": [
    "name+ str(a)"
   ]
  },
  {
   "cell_type": "code",
   "execution_count": 42,
   "id": "54634321-b504-49b4-a75a-3c8cb42273fd",
   "metadata": {},
   "outputs": [
    {
     "name": "stdin",
     "output_type": "stream",
     "text": [
      "Enter your Age:  21\n"
     ]
    }
   ],
   "source": [
    "b=int(input(\"Enter your Age: \"))"
   ]
  },
  {
   "cell_type": "code",
   "execution_count": 43,
   "id": "be62ae83-5d68-4c1f-a1f5-36104b45453a",
   "metadata": {},
   "outputs": [
    {
     "data": {
      "text/plain": [
       "21"
      ]
     },
     "execution_count": 43,
     "metadata": {},
     "output_type": "execute_result"
    }
   ],
   "source": [
    "b"
   ]
  },
  {
   "cell_type": "code",
   "execution_count": 44,
   "id": "5625b463-147b-49de-a85f-d18d0d3446b3",
   "metadata": {},
   "outputs": [
    {
     "name": "stdin",
     "output_type": "stream",
     "text": [
      "Enter your Name:  Gaurav\n"
     ]
    }
   ],
   "source": [
    "my_name=input(\"Enter your Name: \")"
   ]
  },
  {
   "cell_type": "code",
   "execution_count": 45,
   "id": "76394e71-2105-4e19-89a6-0abbad949be2",
   "metadata": {},
   "outputs": [
    {
     "data": {
      "text/plain": [
       "'Gaurav'"
      ]
     },
     "execution_count": 45,
     "metadata": {},
     "output_type": "execute_result"
    }
   ],
   "source": [
    "my_name"
   ]
  },
  {
   "cell_type": "code",
   "execution_count": 1,
   "id": "26046be9-71a7-4ef8-91f9-36a545b9c721",
   "metadata": {},
   "outputs": [],
   "source": [
    "#Complex Operator\n",
    "c=4+2j"
   ]
  },
  {
   "cell_type": "code",
   "execution_count": 2,
   "id": "0b6f9e68-bd07-4373-9b76-b3cd8d502a6d",
   "metadata": {},
   "outputs": [
    {
     "data": {
      "text/plain": [
       "4.0"
      ]
     },
     "execution_count": 2,
     "metadata": {},
     "output_type": "execute_result"
    }
   ],
   "source": [
    "c.real"
   ]
  },
  {
   "cell_type": "code",
   "execution_count": 3,
   "id": "59973610-a0c8-48a1-87c7-de2f0a629e28",
   "metadata": {},
   "outputs": [
    {
     "data": {
      "text/plain": [
       "2.0"
      ]
     },
     "execution_count": 3,
     "metadata": {},
     "output_type": "execute_result"
    }
   ],
   "source": [
    "c.imag"
   ]
  },
  {
   "cell_type": "code",
   "execution_count": 5,
   "id": "93959d60-685e-4d74-8a51-0520ed78c81c",
   "metadata": {},
   "outputs": [
    {
     "data": {
      "text/plain": [
       "(4-2j)"
      ]
     },
     "execution_count": 5,
     "metadata": {},
     "output_type": "execute_result"
    }
   ],
   "source": [
    "c.conjugate()"
   ]
  },
  {
   "cell_type": "code",
   "execution_count": null,
   "id": "7d4b6af2-d3e2-4ce4-a24b-69703c65bc76",
   "metadata": {},
   "outputs": [],
   "source": []
  }
 ],
 "metadata": {
  "kernelspec": {
   "display_name": "Python 3 (ipykernel)",
   "language": "python",
   "name": "python3"
  },
  "language_info": {
   "codemirror_mode": {
    "name": "ipython",
    "version": 3
   },
   "file_extension": ".py",
   "mimetype": "text/x-python",
   "name": "python",
   "nbconvert_exporter": "python",
   "pygments_lexer": "ipython3",
   "version": "3.11.5"
  }
 },
 "nbformat": 4,
 "nbformat_minor": 5
}
