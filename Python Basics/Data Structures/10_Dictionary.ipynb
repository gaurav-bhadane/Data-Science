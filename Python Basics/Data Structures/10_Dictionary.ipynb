{
 "cells": [
  {
   "cell_type": "markdown",
   "id": "b4388b1e-d396-41e4-815f-8c403f6558f2",
   "metadata": {},
   "source": [
    "### Dictionary"
   ]
  },
  {
   "cell_type": "code",
   "execution_count": 1,
   "id": "2db42777-f113-42b2-be7c-62ce389b21d9",
   "metadata": {},
   "outputs": [],
   "source": [
    "d={}"
   ]
  },
  {
   "cell_type": "code",
   "execution_count": 2,
   "id": "ebb65004-7d7d-4a7e-a2f2-2745cc918edb",
   "metadata": {},
   "outputs": [
    {
     "data": {
      "text/plain": [
       "dict"
      ]
     },
     "execution_count": 2,
     "metadata": {},
     "output_type": "execute_result"
    }
   ],
   "source": [
    "type(d)"
   ]
  },
  {
   "cell_type": "code",
   "execution_count": 4,
   "id": "c70c6abc-52c6-4ca4-8ed1-518a5311d5e3",
   "metadata": {},
   "outputs": [],
   "source": [
    "d1={\"Name\":\"Gaurav\",\"email\":\"gaurav@gmail.com\"}"
   ]
  },
  {
   "cell_type": "code",
   "execution_count": 7,
   "id": "fc41eb1e-3d6e-44b7-8d4a-b67b170076a9",
   "metadata": {},
   "outputs": [
    {
     "data": {
      "text/plain": [
       "dict"
      ]
     },
     "execution_count": 7,
     "metadata": {},
     "output_type": "execute_result"
    }
   ],
   "source": [
    "type(d1)"
   ]
  },
  {
   "cell_type": "code",
   "execution_count": 8,
   "id": "57ea3931-cc64-41c8-83d6-fddbe246c698",
   "metadata": {},
   "outputs": [
    {
     "data": {
      "text/plain": [
       "{'Name': 'Gaurav', 'email': 'gaurav@gmail.com'}"
      ]
     },
     "execution_count": 8,
     "metadata": {},
     "output_type": "execute_result"
    }
   ],
   "source": [
    "d1"
   ]
  },
  {
   "cell_type": "code",
   "execution_count": 9,
   "id": "a56d14c8-3923-4a63-9597-28f8414948d7",
   "metadata": {},
   "outputs": [],
   "source": [
    " d2={\"name\":\"GB\",\"name\":\"raj\"}"
   ]
  },
  {
   "cell_type": "code",
   "execution_count": 10,
   "id": "ac1fc95b-9287-436d-b33c-9a6b31e84559",
   "metadata": {},
   "outputs": [
    {
     "data": {
      "text/plain": [
       "{'name': 'raj'}"
      ]
     },
     "execution_count": 10,
     "metadata": {},
     "output_type": "execute_result"
    }
   ],
   "source": [
    "d2"
   ]
  },
  {
   "cell_type": "code",
   "execution_count": 11,
   "id": "3eb6b75d-86d2-4961-a6ec-a1de5d1354b0",
   "metadata": {},
   "outputs": [],
   "source": [
    "d3={79463:\"abc\"}"
   ]
  },
  {
   "cell_type": "code",
   "execution_count": 12,
   "id": "c4775f98-091a-4901-99fd-84d4c9292983",
   "metadata": {},
   "outputs": [
    {
     "data": {
      "text/plain": [
       "{79463: 'abc'}"
      ]
     },
     "execution_count": 12,
     "metadata": {},
     "output_type": "execute_result"
    }
   ],
   "source": [
    "d3"
   ]
  },
  {
   "cell_type": "code",
   "execution_count": 13,
   "id": "8720b0c1-369a-4cd2-8a20-8f1ba999c5c6",
   "metadata": {},
   "outputs": [],
   "source": [
    "d4={True:\"abc\"}"
   ]
  },
  {
   "cell_type": "code",
   "execution_count": 14,
   "id": "64a605c7-2d82-4dc4-a938-aeca6b7873cd",
   "metadata": {},
   "outputs": [
    {
     "data": {
      "text/plain": [
       "{True: 'abc'}"
      ]
     },
     "execution_count": 14,
     "metadata": {},
     "output_type": "execute_result"
    }
   ],
   "source": [
    "d4"
   ]
  },
  {
   "cell_type": "markdown",
   "id": "ddad52fa-d3db-4512-98a3-450e53095c95",
   "metadata": {},
   "source": [
    "#### Can't take Special case Character as a key of Dictionary"
   ]
  },
  {
   "cell_type": "code",
   "execution_count": 15,
   "id": "7e4d399e-642e-4c80-b8c2-a0b8f05bfafd",
   "metadata": {},
   "outputs": [],
   "source": [
    "d5 = {(1,2,3):\"abc\"}"
   ]
  },
  {
   "cell_type": "code",
   "execution_count": 16,
   "id": "37f590d1-8d6d-4479-ad15-4813e8dea284",
   "metadata": {},
   "outputs": [
    {
     "ename": "TypeError",
     "evalue": "unhashable type: 'list'",
     "output_type": "error",
     "traceback": [
      "\u001b[1;31m---------------------------------------------------------------------------\u001b[0m",
      "\u001b[1;31mTypeError\u001b[0m                                 Traceback (most recent call last)",
      "Cell \u001b[1;32mIn[16], line 1\u001b[0m\n\u001b[1;32m----> 1\u001b[0m d6 \u001b[38;5;241m=\u001b[39m {[\u001b[38;5;241m1\u001b[39m,\u001b[38;5;241m2\u001b[39m,\u001b[38;5;241m3\u001b[39m]:\u001b[38;5;124m\"\u001b[39m\u001b[38;5;124mabc\u001b[39m\u001b[38;5;124m\"\u001b[39m}\n",
      "\u001b[1;31mTypeError\u001b[0m: unhashable type: 'list'"
     ]
    }
   ],
   "source": [
    "d6 = {[1,2,3]:\"abc\"}"
   ]
  },
  {
   "cell_type": "code",
   "execution_count": 17,
   "id": "2a06ecc1-3a9f-4a3f-8802-f25102fa1229",
   "metadata": {},
   "outputs": [
    {
     "ename": "TypeError",
     "evalue": "unhashable type: 'set'",
     "output_type": "error",
     "traceback": [
      "\u001b[1;31m---------------------------------------------------------------------------\u001b[0m",
      "\u001b[1;31mTypeError\u001b[0m                                 Traceback (most recent call last)",
      "Cell \u001b[1;32mIn[17], line 1\u001b[0m\n\u001b[1;32m----> 1\u001b[0m d7 \u001b[38;5;241m=\u001b[39m {{\u001b[38;5;241m1\u001b[39m,\u001b[38;5;241m2\u001b[39m,\u001b[38;5;241m3\u001b[39m}:\u001b[38;5;124m\"\u001b[39m\u001b[38;5;124mabc\u001b[39m\u001b[38;5;124m\"\u001b[39m}\n",
      "\u001b[1;31mTypeError\u001b[0m: unhashable type: 'set'"
     ]
    }
   ],
   "source": [
    "d7 = {{1,2,3}:\"abc\"}"
   ]
  },
  {
   "cell_type": "code",
   "execution_count": 18,
   "id": "5ecfa3c9-7afd-4a3e-9007-15945a2bc9a3",
   "metadata": {},
   "outputs": [
    {
     "ename": "TypeError",
     "evalue": "unhashable type: 'dict'",
     "output_type": "error",
     "traceback": [
      "\u001b[1;31m---------------------------------------------------------------------------\u001b[0m",
      "\u001b[1;31mTypeError\u001b[0m                                 Traceback (most recent call last)",
      "Cell \u001b[1;32mIn[18], line 1\u001b[0m\n\u001b[1;32m----> 1\u001b[0m d8 \u001b[38;5;241m=\u001b[39m {{\u001b[38;5;124m\"\u001b[39m\u001b[38;5;124mname\u001b[39m\u001b[38;5;124m\"\u001b[39m:\u001b[38;5;124m\"\u001b[39m\u001b[38;5;124mraj\u001b[39m\u001b[38;5;124m\"\u001b[39m}}\n",
      "\u001b[1;31mTypeError\u001b[0m: unhashable type: 'dict'"
     ]
    }
   ],
   "source": [
    "d8 = {{\"name\":\"raj\"}}"
   ]
  },
  {
   "cell_type": "code",
   "execution_count": 19,
   "id": "a11d8139-a248-47f9-b7e4-08a8719a59ed",
   "metadata": {},
   "outputs": [],
   "source": [
    "d9 = {\"course_name\": [\"DSA\",\"WEB_DEV\"]}"
   ]
  },
  {
   "cell_type": "code",
   "execution_count": 20,
   "id": "2d57e1e9-14b1-4546-9475-92acd275d08a",
   "metadata": {},
   "outputs": [
    {
     "data": {
      "text/plain": [
       "{'course_name': ['DSA', 'WEB_DEV']}"
      ]
     },
     "execution_count": 20,
     "metadata": {},
     "output_type": "execute_result"
    }
   ],
   "source": [
    "d9"
   ]
  },
  {
   "cell_type": "code",
   "execution_count": 21,
   "id": "c1069842-5454-46fa-91ce-9462b731cc06",
   "metadata": {},
   "outputs": [],
   "source": [
    "d10 = {\"course_name\": (\"DSA\",\"WEB_DEV\")}"
   ]
  },
  {
   "cell_type": "code",
   "execution_count": 22,
   "id": "9822ebc2-4fd1-484b-b2ac-e4bf11df0ad8",
   "metadata": {},
   "outputs": [
    {
     "data": {
      "text/plain": [
       "{'course_name': ('DSA', 'WEB_DEV')}"
      ]
     },
     "execution_count": 22,
     "metadata": {},
     "output_type": "execute_result"
    }
   ],
   "source": [
    "d10"
   ]
  },
  {
   "cell_type": "code",
   "execution_count": 23,
   "id": "b3b60df1-9674-436f-a0c1-6957fd3401c0",
   "metadata": {},
   "outputs": [],
   "source": [
    "d11 = {\"course_name\": {\"DSA\",\"WEB_DEV\"}}"
   ]
  },
  {
   "cell_type": "code",
   "execution_count": 24,
   "id": "94115850-2f87-4c76-be4d-1c906483ee67",
   "metadata": {},
   "outputs": [
    {
     "data": {
      "text/plain": [
       "{'course_name': {'DSA', 'WEB_DEV'}}"
      ]
     },
     "execution_count": 24,
     "metadata": {},
     "output_type": "execute_result"
    }
   ],
   "source": [
    "d11"
   ]
  },
  {
   "cell_type": "code",
   "execution_count": 25,
   "id": "07cc88c5-13ad-4710-88c1-2cc362c4035e",
   "metadata": {},
   "outputs": [],
   "source": [
    "d12 = {\"course_name\": {\"C++\":\"DSA\",\"crs:\":\"WEB_DEV\"}}"
   ]
  },
  {
   "cell_type": "code",
   "execution_count": 26,
   "id": "4c7af4f0-61e5-4a4c-bef6-e7073d321d27",
   "metadata": {},
   "outputs": [
    {
     "data": {
      "text/plain": [
       "{'course_name': {'C++': 'DSA', 'crs:': 'WEB_DEV'}}"
      ]
     },
     "execution_count": 26,
     "metadata": {},
     "output_type": "execute_result"
    }
   ],
   "source": [
    "d12"
   ]
  },
  {
   "cell_type": "code",
   "execution_count": 27,
   "id": "86f250a0-3bcf-4bd4-b508-40fbeb1646ca",
   "metadata": {},
   "outputs": [],
   "source": [
    "d13 = {\"batch\": [\"DSA\",\"MERN\"],\"Start\":(45,12,10,1),\"Student\":{\"GB\",\"Raj\",\"Patil\",\"Gaurav\"}}"
   ]
  },
  {
   "cell_type": "code",
   "execution_count": 28,
   "id": "b26884e7-7afe-4e7e-aafa-0de9eee157ec",
   "metadata": {},
   "outputs": [
    {
     "data": {
      "text/plain": [
       "{'batch': ['DSA', 'MERN'],\n",
       " 'Start': (45, 12, 10, 1),\n",
       " 'Student': {'GB', 'Gaurav', 'Patil', 'Raj'}}"
      ]
     },
     "execution_count": 28,
     "metadata": {},
     "output_type": "execute_result"
    }
   ],
   "source": [
    "d13"
   ]
  },
  {
   "cell_type": "markdown",
   "id": "394ceccc-f2db-4d65-917c-f7e13ec0d5a8",
   "metadata": {},
   "source": [
    "### Adding new Pair in Dictionary"
   ]
  },
  {
   "cell_type": "code",
   "execution_count": 29,
   "id": "cc3188c1-53c0-4d68-9e9c-a3920ac85cb6",
   "metadata": {},
   "outputs": [],
   "source": [
    "d13[\"timing\"]=(8,8,8)"
   ]
  },
  {
   "cell_type": "code",
   "execution_count": 30,
   "id": "6caaec79-ce3d-4faf-84e6-3600cbe23cf4",
   "metadata": {},
   "outputs": [
    {
     "data": {
      "text/plain": [
       "{'batch': ['DSA', 'MERN'],\n",
       " 'Start': (45, 12, 10, 1),\n",
       " 'Student': {'GB', 'Gaurav', 'Patil', 'Raj'},\n",
       " 'timing': (8, 8, 8)}"
      ]
     },
     "execution_count": 30,
     "metadata": {},
     "output_type": "execute_result"
    }
   ],
   "source": [
    "d13"
   ]
  },
  {
   "cell_type": "markdown",
   "id": "71c420c2-6c61-4f3b-b488-2d133ed48772",
   "metadata": {},
   "source": [
    "### Extract Data"
   ]
  },
  {
   "cell_type": "code",
   "execution_count": 32,
   "id": "d97eb6c0-5b8f-4ffc-81e0-727d1fd75d86",
   "metadata": {},
   "outputs": [
    {
     "data": {
      "text/plain": [
       "['DSA', 'MERN']"
      ]
     },
     "execution_count": 32,
     "metadata": {},
     "output_type": "execute_result"
    }
   ],
   "source": [
    "d13['batch']"
   ]
  },
  {
   "cell_type": "code",
   "execution_count": 34,
   "id": "879a87f8-e99b-4d72-ab3e-34ebc972fc05",
   "metadata": {},
   "outputs": [
    {
     "data": {
      "text/plain": [
       "(8, 8, 8)"
      ]
     },
     "execution_count": 34,
     "metadata": {},
     "output_type": "execute_result"
    }
   ],
   "source": [
    "d13['timing']"
   ]
  },
  {
   "cell_type": "code",
   "execution_count": 35,
   "id": "57f56dba-b292-47ef-86e3-e47ea79f53c4",
   "metadata": {},
   "outputs": [
    {
     "data": {
      "text/plain": [
       "tuple"
      ]
     },
     "execution_count": 35,
     "metadata": {},
     "output_type": "execute_result"
    }
   ],
   "source": [
    "type(d13['timing'])"
   ]
  },
  {
   "cell_type": "code",
   "execution_count": 36,
   "id": "94833e22-17d7-427d-a5e2-2f2f43c82c14",
   "metadata": {},
   "outputs": [
    {
     "data": {
      "text/plain": [
       "list"
      ]
     },
     "execution_count": 36,
     "metadata": {},
     "output_type": "execute_result"
    }
   ],
   "source": [
    "type(d13['batch'])"
   ]
  },
  {
   "cell_type": "code",
   "execution_count": 37,
   "id": "dc861546-d9d7-46e0-8b94-c477b72f01c2",
   "metadata": {},
   "outputs": [],
   "source": [
    "d13[\"name\"]=\"Gaurav\""
   ]
  },
  {
   "cell_type": "code",
   "execution_count": 38,
   "id": "1ba0092a-ff53-4cd1-a597-954dd8f1fc47",
   "metadata": {},
   "outputs": [
    {
     "data": {
      "text/plain": [
       "{'batch': ['DSA', 'MERN'],\n",
       " 'Start': (45, 12, 10, 1),\n",
       " 'Student': {'GB', 'Gaurav', 'Patil', 'Raj'},\n",
       " 'timing': (8, 8, 8),\n",
       " 'name': 'Gaurav'}"
      ]
     },
     "execution_count": 38,
     "metadata": {},
     "output_type": "execute_result"
    }
   ],
   "source": [
    "d13"
   ]
  },
  {
   "cell_type": "code",
   "execution_count": 40,
   "id": "664aa9a8-f05c-4177-baca-fa7a339de220",
   "metadata": {},
   "outputs": [
    {
     "data": {
      "text/plain": [
       "'GAURAV'"
      ]
     },
     "execution_count": 40,
     "metadata": {},
     "output_type": "execute_result"
    }
   ],
   "source": [
    "d13[\"name\"].upper()"
   ]
  },
  {
   "cell_type": "code",
   "execution_count": 41,
   "id": "53159d00-934c-4290-b639-04d0b2dc70f4",
   "metadata": {},
   "outputs": [
    {
     "data": {
      "text/plain": [
       "{'batch': ['DSA', 'MERN'],\n",
       " 'Start': (45, 12, 10, 1),\n",
       " 'Student': {'GB', 'Gaurav', 'Patil', 'Raj'},\n",
       " 'timing': (8, 8, 8),\n",
       " 'name': 'Gaurav'}"
      ]
     },
     "execution_count": 41,
     "metadata": {},
     "output_type": "execute_result"
    }
   ],
   "source": [
    " d13"
   ]
  },
  {
   "cell_type": "code",
   "execution_count": 42,
   "id": "a868e428-23e8-4b83-8424-f6c5c56c53f9",
   "metadata": {},
   "outputs": [
    {
     "data": {
      "text/plain": [
       "{'course_name': {'C++': 'DSA', 'crs:': 'WEB_DEV'}}"
      ]
     },
     "execution_count": 42,
     "metadata": {},
     "output_type": "execute_result"
    }
   ],
   "source": [
    "d12"
   ]
  },
  {
   "cell_type": "code",
   "execution_count": 45,
   "id": "3caed44e-fe20-44a9-b8d4-2aa554a8b533",
   "metadata": {},
   "outputs": [
    {
     "data": {
      "text/plain": [
       "{'C++': 'DSA', 'crs:': 'WEB_DEV'}"
      ]
     },
     "execution_count": 45,
     "metadata": {},
     "output_type": "execute_result"
    }
   ],
   "source": [
    "d12[\"course_name\"]"
   ]
  },
  {
   "cell_type": "code",
   "execution_count": 49,
   "id": "67d93e3c-3351-48d0-8555-f30591f29efa",
   "metadata": {},
   "outputs": [
    {
     "data": {
      "text/plain": [
       "'WEB_DEV'"
      ]
     },
     "execution_count": 49,
     "metadata": {},
     "output_type": "execute_result"
    }
   ],
   "source": [
    "d12[\"course_name\"][\"crs:\"]"
   ]
  },
  {
   "cell_type": "code",
   "execution_count": 50,
   "id": "bd629182-cfc5-45ea-b82f-e32f33218686",
   "metadata": {},
   "outputs": [],
   "source": [
    "d12[\"key1\"]=\"abc\""
   ]
  },
  {
   "cell_type": "code",
   "execution_count": 51,
   "id": "e048a1b3-3c64-4212-b835-76f7a38e173e",
   "metadata": {},
   "outputs": [
    {
     "data": {
      "text/plain": [
       "{'course_name': {'C++': 'DSA', 'crs:': 'WEB_DEV'}, 'key1': 'abc'}"
      ]
     },
     "execution_count": 51,
     "metadata": {},
     "output_type": "execute_result"
    }
   ],
   "source": [
    "d12"
   ]
  },
  {
   "cell_type": "code",
   "execution_count": 52,
   "id": "91f36072-52d4-495d-8f99-d3db88a12e64",
   "metadata": {},
   "outputs": [
    {
     "data": {
      "text/plain": [
       "'abc'"
      ]
     },
     "execution_count": 52,
     "metadata": {},
     "output_type": "execute_result"
    }
   ],
   "source": [
    "d12[\"key1\"]"
   ]
  },
  {
   "cell_type": "markdown",
   "id": "34fe358f-3da2-48a7-a63d-ff835d08065a",
   "metadata": {},
   "source": [
    "### Delete Entry"
   ]
  },
  {
   "cell_type": "code",
   "execution_count": 53,
   "id": "2e963d90-0061-4d67-ac37-fa4303d4b758",
   "metadata": {},
   "outputs": [
    {
     "data": {
      "text/plain": [
       "{'course_name': {'C++': 'DSA', 'crs:': 'WEB_DEV'}, 'key1': 'abc'}"
      ]
     },
     "execution_count": 53,
     "metadata": {},
     "output_type": "execute_result"
    }
   ],
   "source": [
    "d12"
   ]
  },
  {
   "cell_type": "code",
   "execution_count": 55,
   "id": "e2b08950-ac09-440b-93ef-c2c2ac7549c8",
   "metadata": {},
   "outputs": [],
   "source": [
    "del d12[\"key1\"]"
   ]
  },
  {
   "cell_type": "code",
   "execution_count": 56,
   "id": "8387ef3a-8368-410c-bc85-0409a1db5d68",
   "metadata": {},
   "outputs": [
    {
     "data": {
      "text/plain": [
       "{'course_name': {'C++': 'DSA', 'crs:': 'WEB_DEV'}}"
      ]
     },
     "execution_count": 56,
     "metadata": {},
     "output_type": "execute_result"
    }
   ],
   "source": [
    "d12"
   ]
  },
  {
   "cell_type": "code",
   "execution_count": 57,
   "id": "7f7fd954-450c-4365-aff5-22e50ca890ae",
   "metadata": {},
   "outputs": [],
   "source": [
    "d12.clear()"
   ]
  },
  {
   "cell_type": "code",
   "execution_count": 58,
   "id": "93fff8c8-21c7-49f2-8f76-03bb5860d465",
   "metadata": {},
   "outputs": [
    {
     "data": {
      "text/plain": [
       "{}"
      ]
     },
     "execution_count": 58,
     "metadata": {},
     "output_type": "execute_result"
    }
   ],
   "source": [
    "d12"
   ]
  },
  {
   "cell_type": "code",
   "execution_count": 59,
   "id": "de760b16-c8db-4bd5-a4be-ac10f8a0d0de",
   "metadata": {},
   "outputs": [
    {
     "data": {
      "text/plain": [
       "5"
      ]
     },
     "execution_count": 59,
     "metadata": {},
     "output_type": "execute_result"
    }
   ],
   "source": [
    "len(d13)"
   ]
  },
  {
   "cell_type": "code",
   "execution_count": 60,
   "id": "542fc046-e737-4fd0-93a9-019993a16abf",
   "metadata": {},
   "outputs": [
    {
     "data": {
      "text/plain": [
       "{'batch': ['DSA', 'MERN'],\n",
       " 'Start': (45, 12, 10, 1),\n",
       " 'Student': {'GB', 'Gaurav', 'Patil', 'Raj'},\n",
       " 'timing': (8, 8, 8),\n",
       " 'name': 'Gaurav'}"
      ]
     },
     "execution_count": 60,
     "metadata": {},
     "output_type": "execute_result"
    }
   ],
   "source": [
    "d13"
   ]
  },
  {
   "cell_type": "code",
   "execution_count": 61,
   "id": "ee22acf9-0111-4d81-98aa-101d20d0b5c5",
   "metadata": {},
   "outputs": [
    {
     "data": {
      "text/plain": [
       "dict_keys(['batch', 'Start', 'Student', 'timing', 'name'])"
      ]
     },
     "execution_count": 61,
     "metadata": {},
     "output_type": "execute_result"
    }
   ],
   "source": [
    "d13.keys()"
   ]
  },
  {
   "cell_type": "code",
   "execution_count": 63,
   "id": "90e7b109-d103-4721-a8f1-eb272f90a736",
   "metadata": {},
   "outputs": [
    {
     "data": {
      "text/plain": [
       "dict_values([['DSA', 'MERN'], (45, 12, 10, 1), {'Patil', 'Gaurav', 'GB', 'Raj'}, (8, 8, 8), 'Gaurav'])"
      ]
     },
     "execution_count": 63,
     "metadata": {},
     "output_type": "execute_result"
    }
   ],
   "source": [
    "d13.values()"
   ]
  },
  {
   "cell_type": "code",
   "execution_count": 64,
   "id": "ec560f95-5c2d-4e32-be61-ee8aa57757a4",
   "metadata": {},
   "outputs": [
    {
     "data": {
      "text/plain": [
       "[['DSA', 'MERN'],\n",
       " (45, 12, 10, 1),\n",
       " {'GB', 'Gaurav', 'Patil', 'Raj'},\n",
       " (8, 8, 8),\n",
       " 'Gaurav']"
      ]
     },
     "execution_count": 64,
     "metadata": {},
     "output_type": "execute_result"
    }
   ],
   "source": [
    "list(d13.values())"
   ]
  },
  {
   "cell_type": "code",
   "execution_count": 65,
   "id": "ea0406a8-9354-4f4a-8c21-66c4b807849a",
   "metadata": {},
   "outputs": [
    {
     "data": {
      "text/plain": [
       "['batch', 'Start', 'Student', 'timing', 'name']"
      ]
     },
     "execution_count": 65,
     "metadata": {},
     "output_type": "execute_result"
    }
   ],
   "source": [
    "list(d13.keys())"
   ]
  },
  {
   "cell_type": "code",
   "execution_count": 66,
   "id": "30def1e5-a775-4881-bc6a-a645fbb40cd7",
   "metadata": {},
   "outputs": [
    {
     "data": {
      "text/plain": [
       "['batch', 'Start', 'Student', 'timing', 'name']"
      ]
     },
     "execution_count": 66,
     "metadata": {},
     "output_type": "execute_result"
    }
   ],
   "source": [
    "list(d13)"
   ]
  },
  {
   "cell_type": "code",
   "execution_count": 68,
   "id": "52ea4433-80e9-4f10-a297-2f36ae799d66",
   "metadata": {},
   "outputs": [
    {
     "data": {
      "text/plain": [
       "[('batch', ['DSA', 'MERN']),\n",
       " ('Start', (45, 12, 10, 1)),\n",
       " ('Student', {'GB', 'Gaurav', 'Patil', 'Raj'}),\n",
       " ('timing', (8, 8, 8)),\n",
       " ('name', 'Gaurav')]"
      ]
     },
     "execution_count": 68,
     "metadata": {},
     "output_type": "execute_result"
    }
   ],
   "source": [
    "list(d13.items())   #Converting dict into list"
   ]
  },
  {
   "cell_type": "code",
   "execution_count": 76,
   "id": "e71b8044-6dca-4859-9154-679645537881",
   "metadata": {},
   "outputs": [],
   "source": [
    "d14=d13.copy()  # Aaquires New Space  #deep copy"
   ]
  },
  {
   "cell_type": "code",
   "execution_count": 70,
   "id": "afcf602f-5a59-401d-bff0-7f99f145e644",
   "metadata": {},
   "outputs": [
    {
     "data": {
      "text/plain": [
       "{'batch': ['DSA', 'MERN'],\n",
       " 'Start': (45, 12, 10, 1),\n",
       " 'Student': {'GB', 'Gaurav', 'Patil', 'Raj'},\n",
       " 'timing': (8, 8, 8),\n",
       " 'name': 'Gaurav'}"
      ]
     },
     "execution_count": 70,
     "metadata": {},
     "output_type": "execute_result"
    }
   ],
   "source": [
    "d14"
   ]
  },
  {
   "cell_type": "code",
   "execution_count": 71,
   "id": "53ca3e1a-c6a4-413e-a39b-1dcd722cfed2",
   "metadata": {},
   "outputs": [
    {
     "data": {
      "text/plain": [
       "{'batch': ['DSA', 'MERN'],\n",
       " 'Start': (45, 12, 10, 1),\n",
       " 'Student': {'GB', 'Gaurav', 'Patil', 'Raj'},\n",
       " 'timing': (8, 8, 8),\n",
       " 'name': 'Gaurav'}"
      ]
     },
     "execution_count": 71,
     "metadata": {},
     "output_type": "execute_result"
    }
   ],
   "source": [
    "d13"
   ]
  },
  {
   "cell_type": "code",
   "execution_count": 81,
   "id": "613328cc-ab62-4fa5-b1a6-ef171f4447e6",
   "metadata": {},
   "outputs": [],
   "source": [
    "d15=d13  #Swallo Copy ... one change other will also be changing  #Same memory"
   ]
  },
  {
   "cell_type": "code",
   "execution_count": 73,
   "id": "995bd0f7-4f1f-4358-adeb-1a99e6d3ccd3",
   "metadata": {},
   "outputs": [
    {
     "data": {
      "text/plain": [
       "{'batch': ['DSA', 'MERN'],\n",
       " 'Start': (45, 12, 10, 1),\n",
       " 'Student': {'GB', 'Gaurav', 'Patil', 'Raj'},\n",
       " 'timing': (8, 8, 8),\n",
       " 'name': 'Gaurav'}"
      ]
     },
     "execution_count": 73,
     "metadata": {},
     "output_type": "execute_result"
    }
   ],
   "source": [
    "d15"
   ]
  },
  {
   "cell_type": "code",
   "execution_count": 78,
   "id": "856efa20-fe51-4784-9028-a1b94de9539e",
   "metadata": {},
   "outputs": [],
   "source": [
    "del d13[\"name\"]"
   ]
  },
  {
   "cell_type": "code",
   "execution_count": 79,
   "id": "18225c4e-2f54-422f-8f7c-0e116df52688",
   "metadata": {},
   "outputs": [
    {
     "data": {
      "text/plain": [
       "{'batch': ['DSA', 'MERN'],\n",
       " 'Start': (45, 12, 10, 1),\n",
       " 'Student': {'GB', 'Gaurav', 'Patil', 'Raj'},\n",
       " 'timing': (8, 8, 8)}"
      ]
     },
     "execution_count": 79,
     "metadata": {},
     "output_type": "execute_result"
    }
   ],
   "source": [
    "d13"
   ]
  },
  {
   "cell_type": "code",
   "execution_count": 80,
   "id": "bdfc15be-d250-46b9-914b-8ea8d72947da",
   "metadata": {},
   "outputs": [
    {
     "data": {
      "text/plain": [
       "{'batch': ['DSA', 'MERN'],\n",
       " 'Start': (45, 12, 10, 1),\n",
       " 'Student': {'GB', 'Gaurav', 'Patil', 'Raj'},\n",
       " 'timing': (8, 8, 8)}"
      ]
     },
     "execution_count": 80,
     "metadata": {},
     "output_type": "execute_result"
    }
   ],
   "source": [
    "d15"
   ]
  },
  {
   "cell_type": "code",
   "execution_count": 83,
   "id": "b0c2bb3e-6168-40e6-a379-b16ab2db5415",
   "metadata": {},
   "outputs": [
    {
     "data": {
      "text/plain": [
       "('timing', (8, 8, 8))"
      ]
     },
     "execution_count": 83,
     "metadata": {},
     "output_type": "execute_result"
    }
   ],
   "source": [
    "d13.popitem()"
   ]
  },
  {
   "cell_type": "code",
   "execution_count": 84,
   "id": "5032d767-81c7-4056-873c-06a0a7cdbfb7",
   "metadata": {},
   "outputs": [
    {
     "data": {
      "text/plain": [
       "{'batch': ['DSA', 'MERN'],\n",
       " 'Start': (45, 12, 10, 1),\n",
       " 'Student': {'GB', 'Gaurav', 'Patil', 'Raj'}}"
      ]
     },
     "execution_count": 84,
     "metadata": {},
     "output_type": "execute_result"
    }
   ],
   "source": [
    "d13"
   ]
  },
  {
   "cell_type": "code",
   "execution_count": 86,
   "id": "9ddf762e-f660-4205-91c1-6527f84aaa81",
   "metadata": {},
   "outputs": [
    {
     "data": {
      "text/plain": [
       "(45, 12, 10, 1)"
      ]
     },
     "execution_count": 86,
     "metadata": {},
     "output_type": "execute_result"
    }
   ],
   "source": [
    "d13.pop('Start')"
   ]
  },
  {
   "cell_type": "code",
   "execution_count": 87,
   "id": "9ad50d30-bcd3-4de5-bfe0-3f6302db3d06",
   "metadata": {},
   "outputs": [
    {
     "data": {
      "text/plain": [
       "{'batch': ['DSA', 'MERN'], 'Student': {'GB', 'Gaurav', 'Patil', 'Raj'}}"
      ]
     },
     "execution_count": 87,
     "metadata": {},
     "output_type": "execute_result"
    }
   ],
   "source": [
    "d13"
   ]
  },
  {
   "cell_type": "code",
   "execution_count": 88,
   "id": "5bd73def-f960-4adc-a3de-e11d4ce4c998",
   "metadata": {},
   "outputs": [
    {
     "data": {
      "text/plain": [
       "{1: ('a', 'b', 'c'), 2: ('a', 'b', 'c'), 3: ('a', 'b', 'c')}"
      ]
     },
     "execution_count": 88,
     "metadata": {},
     "output_type": "execute_result"
    }
   ],
   "source": [
    "d.fromkeys((1,2,3),(\"a\",\"b\",\"c\"))"
   ]
  },
  {
   "cell_type": "code",
   "execution_count": 89,
   "id": "9d69e730-2025-45f2-8508-1eb78459bc30",
   "metadata": {},
   "outputs": [
    {
     "data": {
      "text/plain": [
       "{}"
      ]
     },
     "execution_count": 89,
     "metadata": {},
     "output_type": "execute_result"
    }
   ],
   "source": [
    "d"
   ]
  },
  {
   "cell_type": "code",
   "execution_count": 91,
   "id": "43a92db0-0c0d-4e18-a4b9-668fb0a6782f",
   "metadata": {},
   "outputs": [],
   "source": [
    "d16={\"key1\":\"value1\",\"key2\":\"value2\"}\n",
    "d17={\"key3\":\"value3\",\"key4\":\"value4\"}"
   ]
  },
  {
   "cell_type": "code",
   "execution_count": 92,
   "id": "1cccb97c-4b0e-4b06-80ce-c9fe70972f81",
   "metadata": {},
   "outputs": [
    {
     "data": {
      "text/plain": [
       "{'key1': 'value1', 'key2': 'value2'}"
      ]
     },
     "execution_count": 92,
     "metadata": {},
     "output_type": "execute_result"
    }
   ],
   "source": [
    "d16"
   ]
  },
  {
   "cell_type": "code",
   "execution_count": 93,
   "id": "64889f2c-4ed5-4d26-85bc-4d8a270879ca",
   "metadata": {},
   "outputs": [
    {
     "data": {
      "text/plain": [
       "{'key3': 'value3', 'key4': 'value4'}"
      ]
     },
     "execution_count": 93,
     "metadata": {},
     "output_type": "execute_result"
    }
   ],
   "source": [
    "d17"
   ]
  },
  {
   "cell_type": "code",
   "execution_count": 95,
   "id": "1124f455-7c69-4d7b-92eb-ef07d6365f50",
   "metadata": {},
   "outputs": [
    {
     "data": {
      "text/plain": [
       "({'key1': 'value1', 'key2': 'value2'}, {'key3': 'value3', 'key4': 'value4'})"
      ]
     },
     "execution_count": 95,
     "metadata": {},
     "output_type": "execute_result"
    }
   ],
   "source": [
    "(d16,d17)  #Dictionary Inside Tuple"
   ]
  },
  {
   "cell_type": "code",
   "execution_count": 96,
   "id": "da60bafd-0ad2-4a9d-82c1-52d7c5d597f3",
   "metadata": {},
   "outputs": [],
   "source": [
    "d16.update(d17)"
   ]
  },
  {
   "cell_type": "code",
   "execution_count": 97,
   "id": "be58c922-b016-4bf6-961b-a8667300b922",
   "metadata": {},
   "outputs": [
    {
     "data": {
      "text/plain": [
       "{'key1': 'value1', 'key2': 'value2', 'key3': 'value3', 'key4': 'value4'}"
      ]
     },
     "execution_count": 97,
     "metadata": {},
     "output_type": "execute_result"
    }
   ],
   "source": [
    "d16"
   ]
  },
  {
   "cell_type": "code",
   "execution_count": 98,
   "id": "27925bf5-6a2b-4285-afef-8785976085ef",
   "metadata": {},
   "outputs": [
    {
     "data": {
      "text/plain": [
       "{'key3': 'value3', 'key4': 'value4'}"
      ]
     },
     "execution_count": 98,
     "metadata": {},
     "output_type": "execute_result"
    }
   ],
   "source": [
    "d17"
   ]
  },
  {
   "cell_type": "code",
   "execution_count": 99,
   "id": "93070daf-6f65-455e-b836-33da76fb0dea",
   "metadata": {},
   "outputs": [],
   "source": [
    "d17.update(d16)"
   ]
  },
  {
   "cell_type": "code",
   "execution_count": 100,
   "id": "5fb479e1-cacd-41b7-b631-134fa1e34916",
   "metadata": {},
   "outputs": [
    {
     "data": {
      "text/plain": [
       "{'key3': 'value3', 'key4': 'value4', 'key1': 'value1', 'key2': 'value2'}"
      ]
     },
     "execution_count": 100,
     "metadata": {},
     "output_type": "execute_result"
    }
   ],
   "source": [
    "d17"
   ]
  },
  {
   "cell_type": "code",
   "execution_count": 104,
   "id": "a5a88ab9-c007-4d81-b4bc-348e048985ab",
   "metadata": {},
   "outputs": [
    {
     "data": {
      "text/plain": [
       "'value3'"
      ]
     },
     "execution_count": 104,
     "metadata": {},
     "output_type": "execute_result"
    }
   ],
   "source": [
    "d17.get('key3')"
   ]
  },
  {
   "cell_type": "code",
   "execution_count": 107,
   "id": "79521c78-f484-457f-a65e-b137a91712e7",
   "metadata": {},
   "outputs": [],
   "source": [
    "d17.get('gb')  #Default value as o/p as key is not present  #get never gives you error as indexing using keey gives error if not present"
   ]
  },
  {
   "cell_type": "markdown",
   "id": "12d4493a-059d-476e-8f4b-890de4e81953",
   "metadata": {},
   "source": [
    "### Dictionary Comprehensions "
   ]
  },
  {
   "cell_type": "code",
   "execution_count": 110,
   "id": "23264697-6eda-43ff-8d0a-02aaefc14a0c",
   "metadata": {},
   "outputs": [
    {
     "data": {
      "text/plain": [
       "[1, 2, 3, 4, 5, 6, 7, 8, 9, 10]"
      ]
     },
     "execution_count": 110,
     "metadata": {},
     "output_type": "execute_result"
    }
   ],
   "source": [
    "list(range(1,11))"
   ]
  },
  {
   "cell_type": "code",
   "execution_count": 112,
   "id": "bca14b4f-64a8-4161-8fdf-b8f9ca2ce473",
   "metadata": {},
   "outputs": [
    {
     "data": {
      "text/plain": [
       "{1: 1, 2: 4, 3: 9, 4: 16, 5: 25, 6: 36, 7: 49, 8: 64, 9: 81, 10: 100}"
      ]
     },
     "execution_count": 112,
     "metadata": {},
     "output_type": "execute_result"
    }
   ],
   "source": [
    "{i: i**2 for i in range(1,11)}   #Squares of keys"
   ]
  },
  {
   "cell_type": "code",
   "execution_count": 117,
   "id": "e5fbcac8-b85a-4b45-b4f2-2b17449ef8d6",
   "metadata": {},
   "outputs": [],
   "source": [
    "import math\n",
    "d_log={i: math.log10(i) for i in range(1,11)}  #Logarithmic Output"
   ]
  },
  {
   "cell_type": "code",
   "execution_count": 118,
   "id": "329f276a-16ae-43cf-a222-a2b02ed3567f",
   "metadata": {},
   "outputs": [
    {
     "data": {
      "text/plain": [
       "{1: 0.0,\n",
       " 2: 0.3010299956639812,\n",
       " 3: 0.47712125471966244,\n",
       " 4: 0.6020599913279624,\n",
       " 5: 0.6989700043360189,\n",
       " 6: 0.7781512503836436,\n",
       " 7: 0.8450980400142568,\n",
       " 8: 0.9030899869919435,\n",
       " 9: 0.9542425094393249,\n",
       " 10: 1.0}"
      ]
     },
     "execution_count": 118,
     "metadata": {},
     "output_type": "execute_result"
    }
   ],
   "source": [
    "d_log"
   ]
  },
  {
   "cell_type": "code",
   "execution_count": 115,
   "id": "149c8da0-b46f-4b16-9548-9153887fe818",
   "metadata": {},
   "outputs": [
    {
     "data": {
      "text/plain": [
       "{'batch': ['DSA', 'MERN'],\n",
       " 'Start': (45, 12, 10, 1),\n",
       " 'Student': {'GB', 'Gaurav', 'Patil', 'Raj'},\n",
       " 'timing': (8, 8, 8),\n",
       " 'name': 'Gaurav'}"
      ]
     },
     "execution_count": 115,
     "metadata": {},
     "output_type": "execute_result"
    }
   ],
   "source": [
    "d14"
   ]
  },
  {
   "cell_type": "code",
   "execution_count": 116,
   "id": "5313ca92-5e06-477a-bf00-a7fcc54df9d4",
   "metadata": {},
   "outputs": [
    {
     "data": {
      "text/plain": [
       "True"
      ]
     },
     "execution_count": 116,
     "metadata": {},
     "output_type": "execute_result"
    }
   ],
   "source": [
    "'batch' in d14"
   ]
  },
  {
   "cell_type": "code",
   "execution_count": 120,
   "id": "28862038-549f-498d-bcc9-6fc215ab4985",
   "metadata": {},
   "outputs": [
    {
     "data": {
      "text/plain": [
       "{1: 0.0,\n",
       " 2: 0.3010299956639812,\n",
       " 3: 0.47712125471966244,\n",
       " 4: 0.6020599913279624,\n",
       " 5: 0.6989700043360189,\n",
       " 6: 0.7781512503836436,\n",
       " 7: 0.8450980400142568,\n",
       " 8: 0.9030899869919435,\n",
       " 9: 0.9542425094393249,\n",
       " 10: 1.0}"
      ]
     },
     "execution_count": 120,
     "metadata": {},
     "output_type": "execute_result"
    }
   ],
   "source": [
    "d_log"
   ]
  },
  {
   "cell_type": "code",
   "execution_count": 123,
   "id": "c96557cf-cde3-4175-ad96-7b27f716e535",
   "metadata": {},
   "outputs": [
    {
     "name": "stdout",
     "output_type": "stream",
     "text": [
      "2 :  0.3010299956639812\n",
      "4 :  0.6020599913279624\n",
      "6 :  0.7781512503836436\n",
      "8 :  0.9030899869919435\n",
      "10 :  1.0\n"
     ]
    }
   ],
   "source": [
    "for i in d_log.keys():\n",
    "    if i%2==0:\n",
    "        print(i,\": \",d_log[i])"
   ]
  },
  {
   "cell_type": "code",
   "execution_count": null,
   "id": "3e361b65-b58a-4e6e-bb3a-6d210c986010",
   "metadata": {},
   "outputs": [],
   "source": []
  }
 ],
 "metadata": {
  "kernelspec": {
   "display_name": "Python 3 (ipykernel)",
   "language": "python",
   "name": "python3"
  },
  "language_info": {
   "codemirror_mode": {
    "name": "ipython",
    "version": 3
   },
   "file_extension": ".py",
   "mimetype": "text/x-python",
   "name": "python",
   "nbconvert_exporter": "python",
   "pygments_lexer": "ipython3",
   "version": "3.11.5"
  }
 },
 "nbformat": 4,
 "nbformat_minor": 5
}
